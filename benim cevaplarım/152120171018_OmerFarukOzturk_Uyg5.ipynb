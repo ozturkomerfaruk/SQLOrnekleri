{
    "metadata": {
        "kernelspec": {
            "name": "SQL",
            "display_name": "SQL",
            "language": "sql"
        },
        "language_info": {
            "name": "sql",
            "version": ""
        },
        "extensions": {
            "azuredatastudio": {
                "version": 1,
                "views": []
            }
        }
    },
    "nbformat_minor": 2,
    "nbformat": 4,
    "cells": [
        {
            "cell_type": "code",
            "source": [
                "/*\r\n",
                "(15p) Soru 8 : Yaşadığı bölgedeki mağazadan(stores), sipariş(orders) vermemiş olan müşteriler(customers) hariç tüm müşterileri listeleyiniz.\r\n",
                "               ** EXCEPT kullanarak iç içe sorgu gerçekleştirilmelidir!\r\n",
                "               * Müşteri adı çıktı olarak verilmelidir.\r\n",
                "*/\r\n",
                "\r\n",
                "\r\n",
                "/* \r\n",
                "YORUMLARINIZI YAZINIZ\r\n",
                ".\r\n",
                ".\r\n",
                ".\r\n",
                "*/"
            ],
            "metadata": {
                "azdata_cell_guid": "75ccffd6-df7f-41be-baf4-821039ca1be6"
            },
            "outputs": [],
            "execution_count": null
        },
        {
            "cell_type": "code",
            "source": [
                "/*\r\n",
                "(15p) Soru 7 : Stok(stocks) miktarı 20'den küçük olan ürünlerin(products), marka(brand) isimlerini listeleyiniz.\r\n",
                "               ** EXISTS kullanarak iç içe sorgu gerçekleştirilmelidir!\r\n",
                "               * Marka adı çıktı olarak verilmelidir.\r\n",
                "*/\r\n",
                "use BikeStores\r\n",
                "select brands.brand_name\r\n",
                "from products\r\n",
                "join brands on brands.brand_id = products.brand_id\r\n",
                "where exists\r\n",
                "(select * from stocks\r\n",
                "where stocks.quantity < 20)\r\n",
                "\r\n",
                "\r\n",
                "/* \r\n",
                "    use ile Veritabanı bağlantısı gerçekleştirildi.\r\n",
                "    select ile marka ismi getirildi. ancak bir koşul kullanılarak o koşulda:\r\n",
                "    deniliyor ki bizden stok miktarı 20'den küçük olsun. Bunu exists kullanarak yapın. Bu durumda\r\n",
                "    where exists yazıp parantez içerisinde stocksdan 20 den küçük olanları mevcut et ve getir demek \r\n",
                "    bizden ürünlerin stok miktarı derken ve ürünlerle markalar arasında bir bağ kurulması gerekmektedir\r\n",
                "    Bunu join on kullanımı ile gerçekleştirdim ancak exists kullanımında bir foreign key atamasına gerek duymadan\r\n",
                "    rahat bir şekilde direk stocks.quantity < 20 diyebildim.\r\n",
                "*/"
            ],
            "metadata": {
                "azdata_cell_guid": "d53cdf91-84e8-4ada-a8f5-5a27a80a05e5"
            },
            "outputs": [
                {
                    "output_type": "display_data",
                    "data": {
                        "text/html": "(321 rows affected)"
                    },
                    "metadata": {}
                },
                {
                    "output_type": "display_data",
                    "data": {
                        "text/html": "Total execution time: 00:00:00.049"
                    },
                    "metadata": {}
                },
                {
                    "output_type": "execute_result",
                    "metadata": {},
                    "execution_count": 23,
                    "data": {
                        "application/vnd.dataresource+json": {
                            "schema": {
                                "fields": [
                                    {
                                        "name": "brand_name"
                                    }
                                ]
                            },
                            "data": [
                                {
                                    "0": "Trek"
                                },
                                {
                                    "0": "Ritchey"
                                },
                                {
                                    "0": "Surly"
                                },
                                {
                                    "0": "Trek"
                                },
                                {
                                    "0": "Heller"
                                },
                                {
                                    "0": "Surly"
                                },
                                {
                                    "0": "Trek"
                                },
                                {
                                    "0": "Trek"
                                },
                                {
                                    "0": "Trek"
                                },
                                {
                                    "0": "Surly"
                                },
                                {
                                    "0": "Surly"
                                },
                                {
                                    "0": "Electra"
                                },
                                {
                                    "0": "Electra"
                                },
                                {
                                    "0": "Electra"
                                },
                                {
                                    "0": "Electra"
                                },
                                {
                                    "0": "Electra"
                                },
                                {
                                    "0": "Pure Cycles"
                                },
                                {
                                    "0": "Pure Cycles"
                                },
                                {
                                    "0": "Pure Cycles"
                                },
                                {
                                    "0": "Electra"
                                },
                                {
                                    "0": "Electra"
                                },
                                {
                                    "0": "Electra"
                                },
                                {
                                    "0": "Electra"
                                },
                                {
                                    "0": "Electra"
                                },
                                {
                                    "0": "Electra"
                                },
                                {
                                    "0": "Electra"
                                },
                                {
                                    "0": "Surly"
                                },
                                {
                                    "0": "Surly"
                                },
                                {
                                    "0": "Trek"
                                },
                                {
                                    "0": "Surly"
                                },
                                {
                                    "0": "Surly"
                                },
                                {
                                    "0": "Trek"
                                },
                                {
                                    "0": "Surly"
                                },
                                {
                                    "0": "Trek"
                                },
                                {
                                    "0": "Sun Bicycles"
                                },
                                {
                                    "0": "Surly"
                                },
                                {
                                    "0": "Haro"
                                },
                                {
                                    "0": "Haro"
                                },
                                {
                                    "0": "Trek"
                                },
                                {
                                    "0": "Trek"
                                },
                                {
                                    "0": "Haro"
                                },
                                {
                                    "0": "Trek"
                                },
                                {
                                    "0": "Trek"
                                },
                                {
                                    "0": "Haro"
                                },
                                {
                                    "0": "Haro"
                                },
                                {
                                    "0": "Haro"
                                },
                                {
                                    "0": "Trek"
                                },
                                {
                                    "0": "Trek"
                                },
                                {
                                    "0": "Trek"
                                },
                                {
                                    "0": "Trek"
                                },
                                {
                                    "0": "Trek"
                                },
                                {
                                    "0": "Surly"
                                },
                                {
                                    "0": "Surly"
                                },
                                {
                                    "0": "Trek"
                                },
                                {
                                    "0": "Trek"
                                },
                                {
                                    "0": "Trek"
                                },
                                {
                                    "0": "Trek"
                                },
                                {
                                    "0": "Trek"
                                },
                                {
                                    "0": "Trek"
                                },
                                {
                                    "0": "Sun Bicycles"
                                },
                                {
                                    "0": "Trek"
                                },
                                {
                                    "0": "Trek"
                                },
                                {
                                    "0": "Trek"
                                },
                                {
                                    "0": "Electra"
                                },
                                {
                                    "0": "Sun Bicycles"
                                },
                                {
                                    "0": "Sun Bicycles"
                                },
                                {
                                    "0": "Sun Bicycles"
                                },
                                {
                                    "0": "Sun Bicycles"
                                },
                                {
                                    "0": "Sun Bicycles"
                                },
                                {
                                    "0": "Electra"
                                },
                                {
                                    "0": "Sun Bicycles"
                                },
                                {
                                    "0": "Sun Bicycles"
                                },
                                {
                                    "0": "Sun Bicycles"
                                },
                                {
                                    "0": "Electra"
                                },
                                {
                                    "0": "Electra"
                                },
                                {
                                    "0": "Electra"
                                },
                                {
                                    "0": "Electra"
                                },
                                {
                                    "0": "Sun Bicycles"
                                },
                                {
                                    "0": "Sun Bicycles"
                                },
                                {
                                    "0": "Sun Bicycles"
                                },
                                {
                                    "0": "Electra"
                                },
                                {
                                    "0": "Electra"
                                },
                                {
                                    "0": "Trek"
                                },
                                {
                                    "0": "Sun Bicycles"
                                },
                                {
                                    "0": "Haro"
                                },
                                {
                                    "0": "Trek"
                                },
                                {
                                    "0": "Trek"
                                },
                                {
                                    "0": "Trek"
                                },
                                {
                                    "0": "Trek"
                                },
                                {
                                    "0": "Trek"
                                },
                                {
                                    "0": "Trek"
                                },
                                {
                                    "0": "Haro"
                                },
                                {
                                    "0": "Haro"
                                },
                                {
                                    "0": "Haro"
                                },
                                {
                                    "0": "Electra"
                                },
                                {
                                    "0": "Electra"
                                },
                                {
                                    "0": "Electra"
                                },
                                {
                                    "0": "Electra"
                                },
                                {
                                    "0": "Electra"
                                },
                                {
                                    "0": "Electra"
                                },
                                {
                                    "0": "Electra"
                                },
                                {
                                    "0": "Electra"
                                },
                                {
                                    "0": "Sun Bicycles"
                                },
                                {
                                    "0": "Sun Bicycles"
                                },
                                {
                                    "0": "Sun Bicycles"
                                },
                                {
                                    "0": "Sun Bicycles"
                                },
                                {
                                    "0": "Sun Bicycles"
                                },
                                {
                                    "0": "Sun Bicycles"
                                },
                                {
                                    "0": "Sun Bicycles"
                                },
                                {
                                    "0": "Sun Bicycles"
                                },
                                {
                                    "0": "Sun Bicycles"
                                },
                                {
                                    "0": "Trek"
                                },
                                {
                                    "0": "Trek"
                                },
                                {
                                    "0": "Trek"
                                },
                                {
                                    "0": "Trek"
                                },
                                {
                                    "0": "Trek"
                                },
                                {
                                    "0": "Trek"
                                },
                                {
                                    "0": "Trek"
                                },
                                {
                                    "0": "Trek"
                                },
                                {
                                    "0": "Trek"
                                },
                                {
                                    "0": "Surly"
                                },
                                {
                                    "0": "Surly"
                                },
                                {
                                    "0": "Trek"
                                },
                                {
                                    "0": "Surly"
                                },
                                {
                                    "0": "Trek"
                                },
                                {
                                    "0": "Surly"
                                },
                                {
                                    "0": "Surly"
                                },
                                {
                                    "0": "Surly"
                                },
                                {
                                    "0": "Trek"
                                },
                                {
                                    "0": "Trek"
                                },
                                {
                                    "0": "Heller"
                                },
                                {
                                    "0": "Trek"
                                },
                                {
                                    "0": "Trek"
                                },
                                {
                                    "0": "Trek"
                                },
                                {
                                    "0": "Trek"
                                },
                                {
                                    "0": "Trek"
                                },
                                {
                                    "0": "Heller"
                                },
                                {
                                    "0": "Trek"
                                },
                                {
                                    "0": "Trek"
                                },
                                {
                                    "0": "Trek"
                                },
                                {
                                    "0": "Trek"
                                },
                                {
                                    "0": "Trek"
                                },
                                {
                                    "0": "Trek"
                                },
                                {
                                    "0": "Trek"
                                },
                                {
                                    "0": "Trek"
                                },
                                {
                                    "0": "Trek"
                                },
                                {
                                    "0": "Trek"
                                },
                                {
                                    "0": "Trek"
                                },
                                {
                                    "0": "Trek"
                                },
                                {
                                    "0": "Trek"
                                },
                                {
                                    "0": "Trek"
                                },
                                {
                                    "0": "Trek"
                                },
                                {
                                    "0": "Trek"
                                },
                                {
                                    "0": "Trek"
                                },
                                {
                                    "0": "Trek"
                                },
                                {
                                    "0": "Trek"
                                },
                                {
                                    "0": "Trek"
                                },
                                {
                                    "0": "Trek"
                                },
                                {
                                    "0": "Trek"
                                },
                                {
                                    "0": "Trek"
                                },
                                {
                                    "0": "Surly"
                                },
                                {
                                    "0": "Trek"
                                },
                                {
                                    "0": "Surly"
                                },
                                {
                                    "0": "Surly"
                                },
                                {
                                    "0": "Trek"
                                },
                                {
                                    "0": "Trek"
                                },
                                {
                                    "0": "Surly"
                                },
                                {
                                    "0": "Surly"
                                },
                                {
                                    "0": "Trek"
                                },
                                {
                                    "0": "Trek"
                                },
                                {
                                    "0": "Trek"
                                },
                                {
                                    "0": "Trek"
                                },
                                {
                                    "0": "Trek"
                                },
                                {
                                    "0": "Trek"
                                },
                                {
                                    "0": "Trek"
                                },
                                {
                                    "0": "Trek"
                                },
                                {
                                    "0": "Trek"
                                },
                                {
                                    "0": "Trek"
                                },
                                {
                                    "0": "Trek"
                                },
                                {
                                    "0": "Trek"
                                },
                                {
                                    "0": "Trek"
                                },
                                {
                                    "0": "Trek"
                                },
                                {
                                    "0": "Trek"
                                },
                                {
                                    "0": "Trek"
                                },
                                {
                                    "0": "Trek"
                                },
                                {
                                    "0": "Trek"
                                },
                                {
                                    "0": "Trek"
                                },
                                {
                                    "0": "Trek"
                                },
                                {
                                    "0": "Trek"
                                },
                                {
                                    "0": "Trek"
                                },
                                {
                                    "0": "Electra"
                                },
                                {
                                    "0": "Electra"
                                },
                                {
                                    "0": "Trek"
                                },
                                {
                                    "0": "Trek"
                                },
                                {
                                    "0": "Electra"
                                },
                                {
                                    "0": "Trek"
                                },
                                {
                                    "0": "Trek"
                                },
                                {
                                    "0": "Electra"
                                },
                                {
                                    "0": "Electra"
                                },
                                {
                                    "0": "Trek"
                                },
                                {
                                    "0": "Trek"
                                },
                                {
                                    "0": "Trek"
                                },
                                {
                                    "0": "Trek"
                                },
                                {
                                    "0": "Trek"
                                },
                                {
                                    "0": "Trek"
                                },
                                {
                                    "0": "Trek"
                                },
                                {
                                    "0": "Trek"
                                },
                                {
                                    "0": "Trek"
                                },
                                {
                                    "0": "Trek"
                                },
                                {
                                    "0": "Surly"
                                },
                                {
                                    "0": "Surly"
                                },
                                {
                                    "0": "Electra"
                                },
                                {
                                    "0": "Electra"
                                },
                                {
                                    "0": "Electra"
                                },
                                {
                                    "0": "Electra"
                                },
                                {
                                    "0": "Electra"
                                },
                                {
                                    "0": "Electra"
                                },
                                {
                                    "0": "Electra"
                                },
                                {
                                    "0": "Electra"
                                },
                                {
                                    "0": "Electra"
                                },
                                {
                                    "0": "Electra"
                                },
                                {
                                    "0": "Electra"
                                },
                                {
                                    "0": "Electra"
                                },
                                {
                                    "0": "Electra"
                                },
                                {
                                    "0": "Electra"
                                },
                                {
                                    "0": "Electra"
                                },
                                {
                                    "0": "Electra"
                                },
                                {
                                    "0": "Electra"
                                },
                                {
                                    "0": "Electra"
                                },
                                {
                                    "0": "Electra"
                                },
                                {
                                    "0": "Electra"
                                },
                                {
                                    "0": "Electra"
                                },
                                {
                                    "0": "Electra"
                                },
                                {
                                    "0": "Electra"
                                },
                                {
                                    "0": "Electra"
                                },
                                {
                                    "0": "Electra"
                                },
                                {
                                    "0": "Electra"
                                },
                                {
                                    "0": "Electra"
                                },
                                {
                                    "0": "Electra"
                                },
                                {
                                    "0": "Electra"
                                },
                                {
                                    "0": "Electra"
                                },
                                {
                                    "0": "Electra"
                                },
                                {
                                    "0": "Electra"
                                },
                                {
                                    "0": "Electra"
                                },
                                {
                                    "0": "Electra"
                                },
                                {
                                    "0": "Electra"
                                },
                                {
                                    "0": "Electra"
                                },
                                {
                                    "0": "Electra"
                                },
                                {
                                    "0": "Electra"
                                },
                                {
                                    "0": "Electra"
                                },
                                {
                                    "0": "Electra"
                                },
                                {
                                    "0": "Electra"
                                },
                                {
                                    "0": "Electra"
                                },
                                {
                                    "0": "Electra"
                                },
                                {
                                    "0": "Electra"
                                },
                                {
                                    "0": "Electra"
                                },
                                {
                                    "0": "Electra"
                                },
                                {
                                    "0": "Electra"
                                },
                                {
                                    "0": "Electra"
                                },
                                {
                                    "0": "Electra"
                                },
                                {
                                    "0": "Electra"
                                },
                                {
                                    "0": "Trek"
                                },
                                {
                                    "0": "Strider"
                                },
                                {
                                    "0": "Strider"
                                },
                                {
                                    "0": "Strider"
                                },
                                {
                                    "0": "Trek"
                                },
                                {
                                    "0": "Trek"
                                },
                                {
                                    "0": "Trek"
                                },
                                {
                                    "0": "Trek"
                                },
                                {
                                    "0": "Trek"
                                },
                                {
                                    "0": "Trek"
                                },
                                {
                                    "0": "Trek"
                                },
                                {
                                    "0": "Trek"
                                },
                                {
                                    "0": "Trek"
                                },
                                {
                                    "0": "Trek"
                                },
                                {
                                    "0": "Trek"
                                },
                                {
                                    "0": "Trek"
                                },
                                {
                                    "0": "Trek"
                                },
                                {
                                    "0": "Trek"
                                },
                                {
                                    "0": "Trek"
                                },
                                {
                                    "0": "Electra"
                                },
                                {
                                    "0": "Electra"
                                },
                                {
                                    "0": "Electra"
                                },
                                {
                                    "0": "Electra"
                                },
                                {
                                    "0": "Electra"
                                },
                                {
                                    "0": "Electra"
                                },
                                {
                                    "0": "Electra"
                                },
                                {
                                    "0": "Electra"
                                },
                                {
                                    "0": "Electra"
                                },
                                {
                                    "0": "Electra"
                                },
                                {
                                    "0": "Electra"
                                },
                                {
                                    "0": "Electra"
                                },
                                {
                                    "0": "Electra"
                                },
                                {
                                    "0": "Electra"
                                },
                                {
                                    "0": "Electra"
                                },
                                {
                                    "0": "Electra"
                                },
                                {
                                    "0": "Electra"
                                },
                                {
                                    "0": "Electra"
                                },
                                {
                                    "0": "Electra"
                                },
                                {
                                    "0": "Electra"
                                },
                                {
                                    "0": "Electra"
                                },
                                {
                                    "0": "Electra"
                                },
                                {
                                    "0": "Electra"
                                },
                                {
                                    "0": "Electra"
                                },
                                {
                                    "0": "Electra"
                                },
                                {
                                    "0": "Electra"
                                },
                                {
                                    "0": "Electra"
                                },
                                {
                                    "0": "Electra"
                                },
                                {
                                    "0": "Electra"
                                },
                                {
                                    "0": "Electra"
                                },
                                {
                                    "0": "Electra"
                                },
                                {
                                    "0": "Electra"
                                },
                                {
                                    "0": "Electra"
                                },
                                {
                                    "0": "Electra"
                                },
                                {
                                    "0": "Electra"
                                },
                                {
                                    "0": "Trek"
                                },
                                {
                                    "0": "Trek"
                                },
                                {
                                    "0": "Trek"
                                },
                                {
                                    "0": "Trek"
                                },
                                {
                                    "0": "Trek"
                                },
                                {
                                    "0": "Trek"
                                }
                            ]
                        },
                        "text/html": [
                            "<table>",
                            "<tr><th>brand_name</th></tr>",
                            "<tr><td>Trek</td></tr>",
                            "<tr><td>Ritchey</td></tr>",
                            "<tr><td>Surly</td></tr>",
                            "<tr><td>Trek</td></tr>",
                            "<tr><td>Heller</td></tr>",
                            "<tr><td>Surly</td></tr>",
                            "<tr><td>Trek</td></tr>",
                            "<tr><td>Trek</td></tr>",
                            "<tr><td>Trek</td></tr>",
                            "<tr><td>Surly</td></tr>",
                            "<tr><td>Surly</td></tr>",
                            "<tr><td>Electra</td></tr>",
                            "<tr><td>Electra</td></tr>",
                            "<tr><td>Electra</td></tr>",
                            "<tr><td>Electra</td></tr>",
                            "<tr><td>Electra</td></tr>",
                            "<tr><td>Pure Cycles</td></tr>",
                            "<tr><td>Pure Cycles</td></tr>",
                            "<tr><td>Pure Cycles</td></tr>",
                            "<tr><td>Electra</td></tr>",
                            "<tr><td>Electra</td></tr>",
                            "<tr><td>Electra</td></tr>",
                            "<tr><td>Electra</td></tr>",
                            "<tr><td>Electra</td></tr>",
                            "<tr><td>Electra</td></tr>",
                            "<tr><td>Electra</td></tr>",
                            "<tr><td>Surly</td></tr>",
                            "<tr><td>Surly</td></tr>",
                            "<tr><td>Trek</td></tr>",
                            "<tr><td>Surly</td></tr>",
                            "<tr><td>Surly</td></tr>",
                            "<tr><td>Trek</td></tr>",
                            "<tr><td>Surly</td></tr>",
                            "<tr><td>Trek</td></tr>",
                            "<tr><td>Sun Bicycles</td></tr>",
                            "<tr><td>Surly</td></tr>",
                            "<tr><td>Haro</td></tr>",
                            "<tr><td>Haro</td></tr>",
                            "<tr><td>Trek</td></tr>",
                            "<tr><td>Trek</td></tr>",
                            "<tr><td>Haro</td></tr>",
                            "<tr><td>Trek</td></tr>",
                            "<tr><td>Trek</td></tr>",
                            "<tr><td>Haro</td></tr>",
                            "<tr><td>Haro</td></tr>",
                            "<tr><td>Haro</td></tr>",
                            "<tr><td>Trek</td></tr>",
                            "<tr><td>Trek</td></tr>",
                            "<tr><td>Trek</td></tr>",
                            "<tr><td>Trek</td></tr>",
                            "<tr><td>Trek</td></tr>",
                            "<tr><td>Surly</td></tr>",
                            "<tr><td>Surly</td></tr>",
                            "<tr><td>Trek</td></tr>",
                            "<tr><td>Trek</td></tr>",
                            "<tr><td>Trek</td></tr>",
                            "<tr><td>Trek</td></tr>",
                            "<tr><td>Trek</td></tr>",
                            "<tr><td>Trek</td></tr>",
                            "<tr><td>Sun Bicycles</td></tr>",
                            "<tr><td>Trek</td></tr>",
                            "<tr><td>Trek</td></tr>",
                            "<tr><td>Trek</td></tr>",
                            "<tr><td>Electra</td></tr>",
                            "<tr><td>Sun Bicycles</td></tr>",
                            "<tr><td>Sun Bicycles</td></tr>",
                            "<tr><td>Sun Bicycles</td></tr>",
                            "<tr><td>Sun Bicycles</td></tr>",
                            "<tr><td>Sun Bicycles</td></tr>",
                            "<tr><td>Electra</td></tr>",
                            "<tr><td>Sun Bicycles</td></tr>",
                            "<tr><td>Sun Bicycles</td></tr>",
                            "<tr><td>Sun Bicycles</td></tr>",
                            "<tr><td>Electra</td></tr>",
                            "<tr><td>Electra</td></tr>",
                            "<tr><td>Electra</td></tr>",
                            "<tr><td>Electra</td></tr>",
                            "<tr><td>Sun Bicycles</td></tr>",
                            "<tr><td>Sun Bicycles</td></tr>",
                            "<tr><td>Sun Bicycles</td></tr>",
                            "<tr><td>Electra</td></tr>",
                            "<tr><td>Electra</td></tr>",
                            "<tr><td>Trek</td></tr>",
                            "<tr><td>Sun Bicycles</td></tr>",
                            "<tr><td>Haro</td></tr>",
                            "<tr><td>Trek</td></tr>",
                            "<tr><td>Trek</td></tr>",
                            "<tr><td>Trek</td></tr>",
                            "<tr><td>Trek</td></tr>",
                            "<tr><td>Trek</td></tr>",
                            "<tr><td>Trek</td></tr>",
                            "<tr><td>Haro</td></tr>",
                            "<tr><td>Haro</td></tr>",
                            "<tr><td>Haro</td></tr>",
                            "<tr><td>Electra</td></tr>",
                            "<tr><td>Electra</td></tr>",
                            "<tr><td>Electra</td></tr>",
                            "<tr><td>Electra</td></tr>",
                            "<tr><td>Electra</td></tr>",
                            "<tr><td>Electra</td></tr>",
                            "<tr><td>Electra</td></tr>",
                            "<tr><td>Electra</td></tr>",
                            "<tr><td>Sun Bicycles</td></tr>",
                            "<tr><td>Sun Bicycles</td></tr>",
                            "<tr><td>Sun Bicycles</td></tr>",
                            "<tr><td>Sun Bicycles</td></tr>",
                            "<tr><td>Sun Bicycles</td></tr>",
                            "<tr><td>Sun Bicycles</td></tr>",
                            "<tr><td>Sun Bicycles</td></tr>",
                            "<tr><td>Sun Bicycles</td></tr>",
                            "<tr><td>Sun Bicycles</td></tr>",
                            "<tr><td>Trek</td></tr>",
                            "<tr><td>Trek</td></tr>",
                            "<tr><td>Trek</td></tr>",
                            "<tr><td>Trek</td></tr>",
                            "<tr><td>Trek</td></tr>",
                            "<tr><td>Trek</td></tr>",
                            "<tr><td>Trek</td></tr>",
                            "<tr><td>Trek</td></tr>",
                            "<tr><td>Trek</td></tr>",
                            "<tr><td>Surly</td></tr>",
                            "<tr><td>Surly</td></tr>",
                            "<tr><td>Trek</td></tr>",
                            "<tr><td>Surly</td></tr>",
                            "<tr><td>Trek</td></tr>",
                            "<tr><td>Surly</td></tr>",
                            "<tr><td>Surly</td></tr>",
                            "<tr><td>Surly</td></tr>",
                            "<tr><td>Trek</td></tr>",
                            "<tr><td>Trek</td></tr>",
                            "<tr><td>Heller</td></tr>",
                            "<tr><td>Trek</td></tr>",
                            "<tr><td>Trek</td></tr>",
                            "<tr><td>Trek</td></tr>",
                            "<tr><td>Trek</td></tr>",
                            "<tr><td>Trek</td></tr>",
                            "<tr><td>Heller</td></tr>",
                            "<tr><td>Trek</td></tr>",
                            "<tr><td>Trek</td></tr>",
                            "<tr><td>Trek</td></tr>",
                            "<tr><td>Trek</td></tr>",
                            "<tr><td>Trek</td></tr>",
                            "<tr><td>Trek</td></tr>",
                            "<tr><td>Trek</td></tr>",
                            "<tr><td>Trek</td></tr>",
                            "<tr><td>Trek</td></tr>",
                            "<tr><td>Trek</td></tr>",
                            "<tr><td>Trek</td></tr>",
                            "<tr><td>Trek</td></tr>",
                            "<tr><td>Trek</td></tr>",
                            "<tr><td>Trek</td></tr>",
                            "<tr><td>Trek</td></tr>",
                            "<tr><td>Trek</td></tr>",
                            "<tr><td>Trek</td></tr>",
                            "<tr><td>Trek</td></tr>",
                            "<tr><td>Trek</td></tr>",
                            "<tr><td>Trek</td></tr>",
                            "<tr><td>Trek</td></tr>",
                            "<tr><td>Trek</td></tr>",
                            "<tr><td>Trek</td></tr>",
                            "<tr><td>Surly</td></tr>",
                            "<tr><td>Trek</td></tr>",
                            "<tr><td>Surly</td></tr>",
                            "<tr><td>Surly</td></tr>",
                            "<tr><td>Trek</td></tr>",
                            "<tr><td>Trek</td></tr>",
                            "<tr><td>Surly</td></tr>",
                            "<tr><td>Surly</td></tr>",
                            "<tr><td>Trek</td></tr>",
                            "<tr><td>Trek</td></tr>",
                            "<tr><td>Trek</td></tr>",
                            "<tr><td>Trek</td></tr>",
                            "<tr><td>Trek</td></tr>",
                            "<tr><td>Trek</td></tr>",
                            "<tr><td>Trek</td></tr>",
                            "<tr><td>Trek</td></tr>",
                            "<tr><td>Trek</td></tr>",
                            "<tr><td>Trek</td></tr>",
                            "<tr><td>Trek</td></tr>",
                            "<tr><td>Trek</td></tr>",
                            "<tr><td>Trek</td></tr>",
                            "<tr><td>Trek</td></tr>",
                            "<tr><td>Trek</td></tr>",
                            "<tr><td>Trek</td></tr>",
                            "<tr><td>Trek</td></tr>",
                            "<tr><td>Trek</td></tr>",
                            "<tr><td>Trek</td></tr>",
                            "<tr><td>Trek</td></tr>",
                            "<tr><td>Trek</td></tr>",
                            "<tr><td>Trek</td></tr>",
                            "<tr><td>Electra</td></tr>",
                            "<tr><td>Electra</td></tr>",
                            "<tr><td>Trek</td></tr>",
                            "<tr><td>Trek</td></tr>",
                            "<tr><td>Electra</td></tr>",
                            "<tr><td>Trek</td></tr>",
                            "<tr><td>Trek</td></tr>",
                            "<tr><td>Electra</td></tr>",
                            "<tr><td>Electra</td></tr>",
                            "<tr><td>Trek</td></tr>",
                            "<tr><td>Trek</td></tr>",
                            "<tr><td>Trek</td></tr>",
                            "<tr><td>Trek</td></tr>",
                            "<tr><td>Trek</td></tr>",
                            "<tr><td>Trek</td></tr>",
                            "<tr><td>Trek</td></tr>",
                            "<tr><td>Trek</td></tr>",
                            "<tr><td>Trek</td></tr>",
                            "<tr><td>Trek</td></tr>",
                            "<tr><td>Surly</td></tr>",
                            "<tr><td>Surly</td></tr>",
                            "<tr><td>Electra</td></tr>",
                            "<tr><td>Electra</td></tr>",
                            "<tr><td>Electra</td></tr>",
                            "<tr><td>Electra</td></tr>",
                            "<tr><td>Electra</td></tr>",
                            "<tr><td>Electra</td></tr>",
                            "<tr><td>Electra</td></tr>",
                            "<tr><td>Electra</td></tr>",
                            "<tr><td>Electra</td></tr>",
                            "<tr><td>Electra</td></tr>",
                            "<tr><td>Electra</td></tr>",
                            "<tr><td>Electra</td></tr>",
                            "<tr><td>Electra</td></tr>",
                            "<tr><td>Electra</td></tr>",
                            "<tr><td>Electra</td></tr>",
                            "<tr><td>Electra</td></tr>",
                            "<tr><td>Electra</td></tr>",
                            "<tr><td>Electra</td></tr>",
                            "<tr><td>Electra</td></tr>",
                            "<tr><td>Electra</td></tr>",
                            "<tr><td>Electra</td></tr>",
                            "<tr><td>Electra</td></tr>",
                            "<tr><td>Electra</td></tr>",
                            "<tr><td>Electra</td></tr>",
                            "<tr><td>Electra</td></tr>",
                            "<tr><td>Electra</td></tr>",
                            "<tr><td>Electra</td></tr>",
                            "<tr><td>Electra</td></tr>",
                            "<tr><td>Electra</td></tr>",
                            "<tr><td>Electra</td></tr>",
                            "<tr><td>Electra</td></tr>",
                            "<tr><td>Electra</td></tr>",
                            "<tr><td>Electra</td></tr>",
                            "<tr><td>Electra</td></tr>",
                            "<tr><td>Electra</td></tr>",
                            "<tr><td>Electra</td></tr>",
                            "<tr><td>Electra</td></tr>",
                            "<tr><td>Electra</td></tr>",
                            "<tr><td>Electra</td></tr>",
                            "<tr><td>Electra</td></tr>",
                            "<tr><td>Electra</td></tr>",
                            "<tr><td>Electra</td></tr>",
                            "<tr><td>Electra</td></tr>",
                            "<tr><td>Electra</td></tr>",
                            "<tr><td>Electra</td></tr>",
                            "<tr><td>Electra</td></tr>",
                            "<tr><td>Electra</td></tr>",
                            "<tr><td>Electra</td></tr>",
                            "<tr><td>Electra</td></tr>",
                            "<tr><td>Electra</td></tr>",
                            "<tr><td>Trek</td></tr>",
                            "<tr><td>Strider</td></tr>",
                            "<tr><td>Strider</td></tr>",
                            "<tr><td>Strider</td></tr>",
                            "<tr><td>Trek</td></tr>",
                            "<tr><td>Trek</td></tr>",
                            "<tr><td>Trek</td></tr>",
                            "<tr><td>Trek</td></tr>",
                            "<tr><td>Trek</td></tr>",
                            "<tr><td>Trek</td></tr>",
                            "<tr><td>Trek</td></tr>",
                            "<tr><td>Trek</td></tr>",
                            "<tr><td>Trek</td></tr>",
                            "<tr><td>Trek</td></tr>",
                            "<tr><td>Trek</td></tr>",
                            "<tr><td>Trek</td></tr>",
                            "<tr><td>Trek</td></tr>",
                            "<tr><td>Trek</td></tr>",
                            "<tr><td>Trek</td></tr>",
                            "<tr><td>Electra</td></tr>",
                            "<tr><td>Electra</td></tr>",
                            "<tr><td>Electra</td></tr>",
                            "<tr><td>Electra</td></tr>",
                            "<tr><td>Electra</td></tr>",
                            "<tr><td>Electra</td></tr>",
                            "<tr><td>Electra</td></tr>",
                            "<tr><td>Electra</td></tr>",
                            "<tr><td>Electra</td></tr>",
                            "<tr><td>Electra</td></tr>",
                            "<tr><td>Electra</td></tr>",
                            "<tr><td>Electra</td></tr>",
                            "<tr><td>Electra</td></tr>",
                            "<tr><td>Electra</td></tr>",
                            "<tr><td>Electra</td></tr>",
                            "<tr><td>Electra</td></tr>",
                            "<tr><td>Electra</td></tr>",
                            "<tr><td>Electra</td></tr>",
                            "<tr><td>Electra</td></tr>",
                            "<tr><td>Electra</td></tr>",
                            "<tr><td>Electra</td></tr>",
                            "<tr><td>Electra</td></tr>",
                            "<tr><td>Electra</td></tr>",
                            "<tr><td>Electra</td></tr>",
                            "<tr><td>Electra</td></tr>",
                            "<tr><td>Electra</td></tr>",
                            "<tr><td>Electra</td></tr>",
                            "<tr><td>Electra</td></tr>",
                            "<tr><td>Electra</td></tr>",
                            "<tr><td>Electra</td></tr>",
                            "<tr><td>Electra</td></tr>",
                            "<tr><td>Electra</td></tr>",
                            "<tr><td>Electra</td></tr>",
                            "<tr><td>Electra</td></tr>",
                            "<tr><td>Electra</td></tr>",
                            "<tr><td>Trek</td></tr>",
                            "<tr><td>Trek</td></tr>",
                            "<tr><td>Trek</td></tr>",
                            "<tr><td>Trek</td></tr>",
                            "<tr><td>Trek</td></tr>",
                            "<tr><td>Trek</td></tr>",
                            "</table>"
                        ]
                    }
                }
            ],
            "execution_count": 23
        },
        {
            "cell_type": "code",
            "source": [
                "/*\r\n",
                "(10p) Soru 6 : Stok miktarı(stocks) 25 olan tüm ürünleri(products) listeleyiniz.\r\n",
                "               ** ALL kullanarak iç içe sorgu gerçekleştirilmelidir!\r\n",
                "               * Ürün adı çıktı olarak verilmelidir.\r\n",
                "*/\r\n",
                "use BikeStores\r\n",
                "select products.product_name from Products \r\n",
                "join stocks on stocks.product_id = products.product_id\r\n",
                "where stocks.quantity = ALL \r\n",
                "(select stocks.quantity from stocks\r\n",
                "where stocks.quantity = 25)\r\n",
                "\r\n",
                "/* \r\n",
                "    use BikeStores ile birlikte veritabanı bağlantısı gerçekleştirilmiştir.\r\n",
                "    select ile bizden istenen ürün adları bastırılmış ve products tablosundan from ile çekilmiştir.\r\n",
                "    Stok miktarı stocks farklı bir tabloda olduğu için foreign keyler arasında bir bağ kurulması gerekmektedir ve bunu join on ile yaptım.\r\n",
                "    ALL komutu ile şu demek istenilmiştir. Stocks.quantitiy'nin 25'e eşit olanların bastırılması demektir ve kullanımını bu şekilde yaptım.\r\n",
                "*/"
            ],
            "metadata": {
                "azdata_cell_guid": "684ac9fd-05f6-4881-aab9-cf63c8515666"
            },
            "outputs": [
                {
                    "output_type": "display_data",
                    "data": {
                        "text/html": "(26 rows affected)"
                    },
                    "metadata": {}
                },
                {
                    "output_type": "display_data",
                    "data": {
                        "text/html": "Total execution time: 00:00:00.030"
                    },
                    "metadata": {}
                },
                {
                    "output_type": "execute_result",
                    "metadata": {},
                    "execution_count": 25,
                    "data": {
                        "application/vnd.dataresource+json": {
                            "schema": {
                                "fields": [
                                    {
                                        "name": "product_name"
                                    }
                                ]
                            },
                            "data": [
                                {
                                    "0": "Surly Karate Monkey 27.5+ Frameset - 2017"
                                },
                                {
                                    "0": "Sun Bicycles Spider 3i - 2017"
                                },
                                {
                                    "0": "Haro Shift R3 - 2017"
                                },
                                {
                                    "0": "Trek Silque SLR 7 Women's - 2017"
                                },
                                {
                                    "0": "Sun Bicycles Atlas X-Type - 2017"
                                },
                                {
                                    "0": "Electra Glam Punk 3i Ladies' - 2017"
                                },
                                {
                                    "0": "Electra Amsterdam Fashion 7i Ladies' - 2017"
                                },
                                {
                                    "0": "Electra Girl's Hawaii 1 16\" - 2017"
                                },
                                {
                                    "0": "Sun Bicycles Streamway - 2017"
                                },
                                {
                                    "0": "Sun Bicycles Cruz 7 - Women's - 2017"
                                },
                                {
                                    "0": "Trek Fuel EX 8 29 - 2018"
                                },
                                {
                                    "0": "Trek X-Caliber 8 - 2018"
                                },
                                {
                                    "0": "Trek Fuel EX 7 29 - 2018"
                                },
                                {
                                    "0": "Trek Domane SL 7 Women's - 2018"
                                },
                                {
                                    "0": "Trek Domane SLR 9 Disc - 2018"
                                },
                                {
                                    "0": "Trek Domane SL Frameset Women's - 2018"
                                },
                                {
                                    "0": "Trek Emonda SLR 8 - 2018"
                                },
                                {
                                    "0": "Trek Verve+ - 2018"
                                },
                                {
                                    "0": "Trek Super Commuter+ 7 - 2018"
                                },
                                {
                                    "0": "Surly Straggler - 2018"
                                },
                                {
                                    "0": "Electra Cruiser 7D Ladies' - 2016/2018"
                                },
                                {
                                    "0": "Electra Cruiser Lux 1 Ladies' - 2018"
                                },
                                {
                                    "0": "Electra Cruiser Lux 3i Ladies' - 2018"
                                },
                                {
                                    "0": "Electra Cruiser Lux Fat Tire 7D - 2018"
                                },
                                {
                                    "0": "Electra Amsterdam Fashion 3i Ladies' - 2017/2018"
                                },
                                {
                                    "0": "Electra Amsterdam Royal 8i - 2017/2018"
                                }
                            ]
                        },
                        "text/html": [
                            "<table>",
                            "<tr><th>product_name</th></tr>",
                            "<tr><td>Surly Karate Monkey 27.5+ Frameset - 2017</td></tr>",
                            "<tr><td>Sun Bicycles Spider 3i - 2017</td></tr>",
                            "<tr><td>Haro Shift R3 - 2017</td></tr>",
                            "<tr><td>Trek Silque SLR 7 Women's - 2017</td></tr>",
                            "<tr><td>Sun Bicycles Atlas X-Type - 2017</td></tr>",
                            "<tr><td>Electra Glam Punk 3i Ladies' - 2017</td></tr>",
                            "<tr><td>Electra Amsterdam Fashion 7i Ladies' - 2017</td></tr>",
                            "<tr><td>Electra Girl's Hawaii 1 16&quot; - 2017</td></tr>",
                            "<tr><td>Sun Bicycles Streamway - 2017</td></tr>",
                            "<tr><td>Sun Bicycles Cruz 7 - Women's - 2017</td></tr>",
                            "<tr><td>Trek Fuel EX 8 29 - 2018</td></tr>",
                            "<tr><td>Trek X-Caliber 8 - 2018</td></tr>",
                            "<tr><td>Trek Fuel EX 7 29 - 2018</td></tr>",
                            "<tr><td>Trek Domane SL 7 Women's - 2018</td></tr>",
                            "<tr><td>Trek Domane SLR 9 Disc - 2018</td></tr>",
                            "<tr><td>Trek Domane SL Frameset Women's - 2018</td></tr>",
                            "<tr><td>Trek Emonda SLR 8 - 2018</td></tr>",
                            "<tr><td>Trek Verve+ - 2018</td></tr>",
                            "<tr><td>Trek Super Commuter+ 7 - 2018</td></tr>",
                            "<tr><td>Surly Straggler - 2018</td></tr>",
                            "<tr><td>Electra Cruiser 7D Ladies' - 2016/2018</td></tr>",
                            "<tr><td>Electra Cruiser Lux 1 Ladies' - 2018</td></tr>",
                            "<tr><td>Electra Cruiser Lux 3i Ladies' - 2018</td></tr>",
                            "<tr><td>Electra Cruiser Lux Fat Tire 7D - 2018</td></tr>",
                            "<tr><td>Electra Amsterdam Fashion 3i Ladies' - 2017/2018</td></tr>",
                            "<tr><td>Electra Amsterdam Royal 8i - 2017/2018</td></tr>",
                            "</table>"
                        ]
                    }
                }
            ],
            "execution_count": 25
        },
        {
            "cell_type": "code",
            "source": [
                "/*\r\n",
                "(10p) Soru 5 : Stok(stocks) miktarı 25'ten büyük olan ürünleri(products) listeleyiniz.\r\n",
                "               ** ANY kullanarak iç içe sorgu gerçekleştirilmelidir!\r\n",
                "               * Ürün adı ve stok miktarı çıktı olarak verilmelidir.\r\n",
                "*/\r\n",
                "use BikeStores\r\n",
                "select products.product_name , stocks.quantity from Products \r\n",
                "join stocks on stocks.product_id = products.product_id\r\n",
                "where stocks.quantity = ANY \r\n",
                "(select stocks.quantity\r\n",
                "from stocks\r\n",
                "where stocks.quantity > 25)\r\n",
                "\r\n",
                "/* \r\n",
                "Veritabanı bağlantısı use ile kullanıldı.\r\n",
                "select ile bizden istenen ürün adı ve stok miktarı çıktı olarka bastırıldı ve from ile Productstan çekmek istedim.\r\n",
                "ancak products ile stocks arasında bir bağ kurmam lazım ve join on kullanımı il gerçekleştirdim.\r\n",
                "where koşulu ile bizden istenen any kullanımı gerçekleştirilmiştir.\r\n",
                "any kelime olarak herhangi biri olarak SQL karşılığı bulunmaktadır ve bir operator ile birlikte kullanılması gerekmektedir. Bizden istenen:\r\n",
                "stocks.stock_quantity'nin 25'ten büyük olma durumudur ilk başta ben products dan çektiğim için select from ile parantez içerisinde çektikten sonra\r\n",
                "where ile operator kullanabilirim dedim. Böylece any kullanımını gerçekleştirip istediğim sonuca ulaştım.\r\n",
                "*/"
            ],
            "metadata": {
                "azdata_cell_guid": "31eadcb0-8673-4cbb-aa51-55904bd42c01"
            },
            "outputs": [
                {
                    "output_type": "display_data",
                    "data": {
                        "text/html": "(128 rows affected)"
                    },
                    "metadata": {}
                },
                {
                    "output_type": "display_data",
                    "data": {
                        "text/html": "Total execution time: 00:00:00.035"
                    },
                    "metadata": {}
                },
                {
                    "output_type": "execute_result",
                    "metadata": {},
                    "execution_count": 21,
                    "data": {
                        "application/vnd.dataresource+json": {
                            "schema": {
                                "fields": [
                                    {
                                        "name": "product_name"
                                    },
                                    {
                                        "name": "quantity"
                                    }
                                ]
                            },
                            "data": [
                                {
                                    "0": "Trek 820 - 2016",
                                    "1": "27"
                                },
                                {
                                    "0": "Surly Wednesday Frameset - 2016",
                                    "1": "28"
                                },
                                {
                                    "0": "Surly Ice Cream Truck Frameset - 2016",
                                    "1": "27"
                                },
                                {
                                    "0": "Surly Straggler 650b - 2016",
                                    "1": "30"
                                },
                                {
                                    "0": "Electra Townie Original 21D - 2016",
                                    "1": "30"
                                },
                                {
                                    "0": "Electra Townie Original 7D EQ - Women's - 2016",
                                    "1": "26"
                                },
                                {
                                    "0": "Electra Girl's Hawaii 1 (16-inch) - 2015/2016",
                                    "1": "29"
                                },
                                {
                                    "0": "Electra Townie Original 7D EQ - 2016",
                                    "1": "27"
                                },
                                {
                                    "0": "Trek X-Caliber 8 - 2017",
                                    "1": "29"
                                },
                                {
                                    "0": "Surly Ice Cream Truck Frameset - 2017",
                                    "1": "30"
                                },
                                {
                                    "0": "Surly Troll Frameset - 2017",
                                    "1": "26"
                                },
                                {
                                    "0": "Surly Troll Frameset - 2017",
                                    "1": "28"
                                },
                                {
                                    "0": "Haro Flightline One ST - 2017",
                                    "1": "30"
                                },
                                {
                                    "0": "Trek Stache 5 - 2017",
                                    "1": "28"
                                },
                                {
                                    "0": "Trek Fuel EX 9.8 27.5 Plus - 2017",
                                    "1": "26"
                                },
                                {
                                    "0": "Haro SR 1.1 - 2017",
                                    "1": "26"
                                },
                                {
                                    "0": "Trek Silque SLR 7 Women's - 2017",
                                    "1": "29"
                                },
                                {
                                    "0": "Trek Emonda S 5 - 2017",
                                    "1": "27"
                                },
                                {
                                    "0": "Trek Madone 9.2 - 2017",
                                    "1": "27"
                                },
                                {
                                    "0": "Trek Powerfly 8 FS Plus - 2017",
                                    "1": "28"
                                },
                                {
                                    "0": "Trek Powerfly 8 FS Plus - 2017",
                                    "1": "30"
                                },
                                {
                                    "0": "Electra Townie Original 7D - 2017",
                                    "1": "30"
                                },
                                {
                                    "0": "Electra Townie Original 7D - 2017",
                                    "1": "30"
                                },
                                {
                                    "0": "Sun Bicycles Cruz 3 - 2017",
                                    "1": "30"
                                },
                                {
                                    "0": "Sun Bicycles Cruz 7 - 2017",
                                    "1": "29"
                                },
                                {
                                    "0": "Sun Bicycles Atlas X-Type - 2017",
                                    "1": "30"
                                },
                                {
                                    "0": "Electra Cruiser Lux Fat Tire 1 Ladies - 2017",
                                    "1": "29"
                                },
                                {
                                    "0": "Sun Bicycles Boardwalk (24-inch Wheels) - 2017",
                                    "1": "29"
                                },
                                {
                                    "0": "Sun Bicycles Boardwalk (24-inch Wheels) - 2017",
                                    "1": "29"
                                },
                                {
                                    "0": "Sun Bicycles Brickell Tandem CB - 2017",
                                    "1": "27"
                                },
                                {
                                    "0": "Trek Girl's Kickster - 2017",
                                    "1": "27"
                                },
                                {
                                    "0": "Trek Precaliber 12 Boys - 2017",
                                    "1": "27"
                                },
                                {
                                    "0": "Trek Precaliber 12 Girls - 2017",
                                    "1": "28"
                                },
                                {
                                    "0": "Trek Precaliber 16 Girls - 2017",
                                    "1": "26"
                                },
                                {
                                    "0": "Haro Shredder 20 - 2017",
                                    "1": "28"
                                },
                                {
                                    "0": "Electra Savannah 3i (20-inch) - Girl's - 2017",
                                    "1": "28"
                                },
                                {
                                    "0": "Electra Straight 8 3i (20-inch) - Boy's - 2017",
                                    "1": "28"
                                },
                                {
                                    "0": "Electra Sugar Skulls 1 (20-inch) - Girl's - 2017",
                                    "1": "28"
                                },
                                {
                                    "0": "Electra Townie 3i EQ (20-inch) - Boys' - 2017",
                                    "1": "28"
                                },
                                {
                                    "0": "Sun Bicycles Streamway - 2017",
                                    "1": "26"
                                },
                                {
                                    "0": "Sun Bicycles Cruz 3 - 2017",
                                    "1": "30"
                                },
                                {
                                    "0": "Sun Bicycles Cruz 7 - 2017",
                                    "1": "29"
                                },
                                {
                                    "0": "Sun Bicycles Cruz 3 - Women's - 2017",
                                    "1": "29"
                                },
                                {
                                    "0": "Sun Bicycles Cruz 7 - Women's - 2017",
                                    "1": "30"
                                },
                                {
                                    "0": "Sun Bicycles Drifter 7 - Women's - 2017",
                                    "1": "29"
                                },
                                {
                                    "0": "Trek Marlin 7 - 2017/2018",
                                    "1": "30"
                                },
                                {
                                    "0": "Trek Kids' Neko - 2018",
                                    "1": "29"
                                },
                                {
                                    "0": "Surly Big Fat Dummy Frameset - 2018",
                                    "1": "28"
                                },
                                {
                                    "0": "Surly ECR 27.5 - 2018",
                                    "1": "28"
                                },
                                {
                                    "0": "Trek Procaliber Frameset - 2018",
                                    "1": "28"
                                },
                                {
                                    "0": "Trek Remedy 27.5 C Frameset - 2018",
                                    "1": "26"
                                },
                                {
                                    "0": "Trek X-Caliber Frameset - 2018",
                                    "1": "30"
                                },
                                {
                                    "0": "Trek Stache 5 - 2018",
                                    "1": "28"
                                },
                                {
                                    "0": "Trek Fuel EX 8 29 XT - 2018",
                                    "1": "29"
                                },
                                {
                                    "0": "Trek Domane SL 8 Disc - 2018",
                                    "1": "27"
                                },
                                {
                                    "0": "Trek Domane SL Frameset Women's - 2018",
                                    "1": "28"
                                },
                                {
                                    "0": "Trek Emonda ALR 6 - 2018",
                                    "1": "30"
                                },
                                {
                                    "0": "Trek Emonda SLR 6 - 2018",
                                    "1": "27"
                                },
                                {
                                    "0": "Surly Pack Rat - 2018",
                                    "1": "30"
                                },
                                {
                                    "0": "Trek Domane AL 2 Women's - 2018",
                                    "1": "27"
                                },
                                {
                                    "0": "Trek Domane AL 2 Women's - 2018",
                                    "1": "27"
                                },
                                {
                                    "0": "Surly ECR Frameset - 2018",
                                    "1": "28"
                                },
                                {
                                    "0": "Surly Straggler - 2018",
                                    "1": "29"
                                },
                                {
                                    "0": "Trek Domane SL 6 - 2018",
                                    "1": "28"
                                },
                                {
                                    "0": "Trek Domane SLR Disc Frameset - 2018",
                                    "1": "26"
                                },
                                {
                                    "0": "Trek Madone 9 Frameset - 2018",
                                    "1": "26"
                                },
                                {
                                    "0": "Trek Domane SL 5 - 2018",
                                    "1": "29"
                                },
                                {
                                    "0": "Trek Domane SL 5 Disc - 2018",
                                    "1": "28"
                                },
                                {
                                    "0": "Trek Domane SL 5 Disc - 2018",
                                    "1": "28"
                                },
                                {
                                    "0": "Trek Domane SL 5 Women's - 2018",
                                    "1": "26"
                                },
                                {
                                    "0": "Trek Domane SL 5 Women's - 2018",
                                    "1": "26"
                                },
                                {
                                    "0": "Trek CrossRip+ - 2018",
                                    "1": "30"
                                },
                                {
                                    "0": "Trek XM700+ Lowstep - 2018",
                                    "1": "29"
                                },
                                {
                                    "0": "Trek XM700+ Lowstep - 2018",
                                    "1": "27"
                                },
                                {
                                    "0": "Trek XM700+ Lowstep - 2018",
                                    "1": "30"
                                },
                                {
                                    "0": "Trek Lift+ - 2018",
                                    "1": "30"
                                },
                                {
                                    "0": "Trek Verve+ - 2018",
                                    "1": "26"
                                },
                                {
                                    "0": "Trek Verve+ - 2018",
                                    "1": "28"
                                },
                                {
                                    "0": "Electra Townie Commute Go! - 2018",
                                    "1": "27"
                                },
                                {
                                    "0": "Trek Powerfly 5 - 2018",
                                    "1": "29"
                                },
                                {
                                    "0": "Trek Powerfly 5 - 2018",
                                    "1": "27"
                                },
                                {
                                    "0": "Trek Powerfly 5 FS - 2018",
                                    "1": "30"
                                },
                                {
                                    "0": "Trek Boone 5 Disc - 2018",
                                    "1": "29"
                                },
                                {
                                    "0": "Trek Boone 7 Disc - 2018",
                                    "1": "29"
                                },
                                {
                                    "0": "Trek Boone 7 Disc - 2018",
                                    "1": "27"
                                },
                                {
                                    "0": "Electra Tiger Shark 3i - 2018",
                                    "1": "30"
                                },
                                {
                                    "0": "Electra Cruiser 7D - 2016/2017/2018",
                                    "1": "27"
                                },
                                {
                                    "0": "Electra Cruiser 7D - 2016/2017/2018",
                                    "1": "26"
                                },
                                {
                                    "0": "Electra Moto 3i - 2018",
                                    "1": "30"
                                },
                                {
                                    "0": "Electra Moto 3i - 2018",
                                    "1": "29"
                                },
                                {
                                    "0": "Electra Cruiser 1 Tall - 2016/2018",
                                    "1": "30"
                                },
                                {
                                    "0": "Electra Cruiser Lux 3i - 2018",
                                    "1": "29"
                                },
                                {
                                    "0": "Electra Cruiser 7D Tall - 2016/2018",
                                    "1": "29"
                                },
                                {
                                    "0": "Electra Cruiser Lux 1 - 2016/2018",
                                    "1": "29"
                                },
                                {
                                    "0": "Electra Cruiser Lux 1 - 2016/2018",
                                    "1": "27"
                                },
                                {
                                    "0": "Electra Cruiser Lux 1 Ladies' - 2018",
                                    "1": "29"
                                },
                                {
                                    "0": "Electra Relic 3i - 2018",
                                    "1": "26"
                                },
                                {
                                    "0": "Electra Relic 3i - 2018",
                                    "1": "30"
                                },
                                {
                                    "0": "Electra Townie Balloon 8D EQ Ladies' - 2016/2017/2018",
                                    "1": "28"
                                },
                                {
                                    "0": "Electra Townie Balloon 8D EQ Ladies' - 2016/2017/2018",
                                    "1": "29"
                                },
                                {
                                    "0": "Electra Townie Commute 27D Ladies - 2018",
                                    "1": "26"
                                },
                                {
                                    "0": "Electra Townie Original 7D EQ Ladies' - 2017/2018",
                                    "1": "26"
                                },
                                {
                                    "0": "Electra White Water 3i - 2018",
                                    "1": "27"
                                },
                                {
                                    "0": "Electra Townie Commute Go! Ladies' - 2018",
                                    "1": "28"
                                },
                                {
                                    "0": "Electra Townie Commute Go! Ladies' - 2018",
                                    "1": "27"
                                },
                                {
                                    "0": "Electra Townie Go! 8i Ladies' - 2018",
                                    "1": "29"
                                },
                                {
                                    "0": "Trek MT 201 - 2018",
                                    "1": "29"
                                },
                                {
                                    "0": "Strider Strider 20 Sport - 2018",
                                    "1": "28"
                                },
                                {
                                    "0": "Trek Precaliber 12 Girl's - 2018",
                                    "1": "27"
                                },
                                {
                                    "0": "Trek Precaliber 12 Boy's - 2018",
                                    "1": "26"
                                },
                                {
                                    "0": "Trek Precaliber 16 Girl's - 2018",
                                    "1": "26"
                                },
                                {
                                    "0": "Trek Precaliber 20 6-speed Girl's - 2018",
                                    "1": "28"
                                },
                                {
                                    "0": "Trek Precaliber 20 Girl's - 2018",
                                    "1": "28"
                                },
                                {
                                    "0": "Trek Precaliber 24 21-speed Boy's - 2018",
                                    "1": "26"
                                },
                                {
                                    "0": "Electra Heartchya 1 (20-inch) - Girl's - 2018",
                                    "1": "28"
                                },
                                {
                                    "0": "Electra Savannah 1 (20-inch) - Girl's - 2018",
                                    "1": "27"
                                },
                                {
                                    "0": "Electra Savannah 1 (20-inch) - Girl's - 2018",
                                    "1": "26"
                                },
                                {
                                    "0": "Electra Starship 1 16\" - 2018",
                                    "1": "28"
                                },
                                {
                                    "0": "Electra Straight 8 1 (16-inch) - Boy's - 2018",
                                    "1": "26"
                                },
                                {
                                    "0": "Electra Superbolt 3i 20\" - 2018",
                                    "1": "29"
                                },
                                {
                                    "0": "Electra Sweet Ride 3i (20-inch) - Girls' - 2018",
                                    "1": "30"
                                },
                                {
                                    "0": "Electra Water Lily 1 (16-inch) - Girl's - 2018",
                                    "1": "26"
                                },
                                {
                                    "0": "Electra Water Lily 1 (16-inch) - Girl's - 2018",
                                    "1": "27"
                                },
                                {
                                    "0": "Electra Townie Original 21D - 2018",
                                    "1": "29"
                                },
                                {
                                    "0": "Electra Townie Balloon 7i EQ - 2018",
                                    "1": "29"
                                },
                                {
                                    "0": "Electra Townie Balloon 7i EQ - 2018",
                                    "1": "26"
                                },
                                {
                                    "0": "Electra Townie Commute 27D - 2018",
                                    "1": "30"
                                },
                                {
                                    "0": "Electra Townie Commute 8D - 2018",
                                    "1": "27"
                                }
                            ]
                        },
                        "text/html": [
                            "<table>",
                            "<tr><th>product_name</th><th>quantity</th></tr>",
                            "<tr><td>Trek 820 - 2016</td><td>27</td></tr>",
                            "<tr><td>Surly Wednesday Frameset - 2016</td><td>28</td></tr>",
                            "<tr><td>Surly Ice Cream Truck Frameset - 2016</td><td>27</td></tr>",
                            "<tr><td>Surly Straggler 650b - 2016</td><td>30</td></tr>",
                            "<tr><td>Electra Townie Original 21D - 2016</td><td>30</td></tr>",
                            "<tr><td>Electra Townie Original 7D EQ - Women's - 2016</td><td>26</td></tr>",
                            "<tr><td>Electra Girl's Hawaii 1 (16-inch) - 2015/2016</td><td>29</td></tr>",
                            "<tr><td>Electra Townie Original 7D EQ - 2016</td><td>27</td></tr>",
                            "<tr><td>Trek X-Caliber 8 - 2017</td><td>29</td></tr>",
                            "<tr><td>Surly Ice Cream Truck Frameset - 2017</td><td>30</td></tr>",
                            "<tr><td>Surly Troll Frameset - 2017</td><td>26</td></tr>",
                            "<tr><td>Surly Troll Frameset - 2017</td><td>28</td></tr>",
                            "<tr><td>Haro Flightline One ST - 2017</td><td>30</td></tr>",
                            "<tr><td>Trek Stache 5 - 2017</td><td>28</td></tr>",
                            "<tr><td>Trek Fuel EX 9.8 27.5 Plus - 2017</td><td>26</td></tr>",
                            "<tr><td>Haro SR 1.1 - 2017</td><td>26</td></tr>",
                            "<tr><td>Trek Silque SLR 7 Women's - 2017</td><td>29</td></tr>",
                            "<tr><td>Trek Emonda S 5 - 2017</td><td>27</td></tr>",
                            "<tr><td>Trek Madone 9.2 - 2017</td><td>27</td></tr>",
                            "<tr><td>Trek Powerfly 8 FS Plus - 2017</td><td>28</td></tr>",
                            "<tr><td>Trek Powerfly 8 FS Plus - 2017</td><td>30</td></tr>",
                            "<tr><td>Electra Townie Original 7D - 2017</td><td>30</td></tr>",
                            "<tr><td>Electra Townie Original 7D - 2017</td><td>30</td></tr>",
                            "<tr><td>Sun Bicycles Cruz 3 - 2017</td><td>30</td></tr>",
                            "<tr><td>Sun Bicycles Cruz 7 - 2017</td><td>29</td></tr>",
                            "<tr><td>Sun Bicycles Atlas X-Type - 2017</td><td>30</td></tr>",
                            "<tr><td>Electra Cruiser Lux Fat Tire 1 Ladies - 2017</td><td>29</td></tr>",
                            "<tr><td>Sun Bicycles Boardwalk (24-inch Wheels) - 2017</td><td>29</td></tr>",
                            "<tr><td>Sun Bicycles Boardwalk (24-inch Wheels) - 2017</td><td>29</td></tr>",
                            "<tr><td>Sun Bicycles Brickell Tandem CB - 2017</td><td>27</td></tr>",
                            "<tr><td>Trek Girl's Kickster - 2017</td><td>27</td></tr>",
                            "<tr><td>Trek Precaliber 12 Boys - 2017</td><td>27</td></tr>",
                            "<tr><td>Trek Precaliber 12 Girls - 2017</td><td>28</td></tr>",
                            "<tr><td>Trek Precaliber 16 Girls - 2017</td><td>26</td></tr>",
                            "<tr><td>Haro Shredder 20 - 2017</td><td>28</td></tr>",
                            "<tr><td>Electra Savannah 3i (20-inch) - Girl's - 2017</td><td>28</td></tr>",
                            "<tr><td>Electra Straight 8 3i (20-inch) - Boy's - 2017</td><td>28</td></tr>",
                            "<tr><td>Electra Sugar Skulls 1 (20-inch) - Girl's - 2017</td><td>28</td></tr>",
                            "<tr><td>Electra Townie 3i EQ (20-inch) - Boys' - 2017</td><td>28</td></tr>",
                            "<tr><td>Sun Bicycles Streamway - 2017</td><td>26</td></tr>",
                            "<tr><td>Sun Bicycles Cruz 3 - 2017</td><td>30</td></tr>",
                            "<tr><td>Sun Bicycles Cruz 7 - 2017</td><td>29</td></tr>",
                            "<tr><td>Sun Bicycles Cruz 3 - Women's - 2017</td><td>29</td></tr>",
                            "<tr><td>Sun Bicycles Cruz 7 - Women's - 2017</td><td>30</td></tr>",
                            "<tr><td>Sun Bicycles Drifter 7 - Women's - 2017</td><td>29</td></tr>",
                            "<tr><td>Trek Marlin 7 - 2017/2018</td><td>30</td></tr>",
                            "<tr><td>Trek Kids' Neko - 2018</td><td>29</td></tr>",
                            "<tr><td>Surly Big Fat Dummy Frameset - 2018</td><td>28</td></tr>",
                            "<tr><td>Surly ECR 27.5 - 2018</td><td>28</td></tr>",
                            "<tr><td>Trek Procaliber Frameset - 2018</td><td>28</td></tr>",
                            "<tr><td>Trek Remedy 27.5 C Frameset - 2018</td><td>26</td></tr>",
                            "<tr><td>Trek X-Caliber Frameset - 2018</td><td>30</td></tr>",
                            "<tr><td>Trek Stache 5 - 2018</td><td>28</td></tr>",
                            "<tr><td>Trek Fuel EX 8 29 XT - 2018</td><td>29</td></tr>",
                            "<tr><td>Trek Domane SL 8 Disc - 2018</td><td>27</td></tr>",
                            "<tr><td>Trek Domane SL Frameset Women's - 2018</td><td>28</td></tr>",
                            "<tr><td>Trek Emonda ALR 6 - 2018</td><td>30</td></tr>",
                            "<tr><td>Trek Emonda SLR 6 - 2018</td><td>27</td></tr>",
                            "<tr><td>Surly Pack Rat - 2018</td><td>30</td></tr>",
                            "<tr><td>Trek Domane AL 2 Women's - 2018</td><td>27</td></tr>",
                            "<tr><td>Trek Domane AL 2 Women's - 2018</td><td>27</td></tr>",
                            "<tr><td>Surly ECR Frameset - 2018</td><td>28</td></tr>",
                            "<tr><td>Surly Straggler - 2018</td><td>29</td></tr>",
                            "<tr><td>Trek Domane SL 6 - 2018</td><td>28</td></tr>",
                            "<tr><td>Trek Domane SLR Disc Frameset - 2018</td><td>26</td></tr>",
                            "<tr><td>Trek Madone 9 Frameset - 2018</td><td>26</td></tr>",
                            "<tr><td>Trek Domane SL 5 - 2018</td><td>29</td></tr>",
                            "<tr><td>Trek Domane SL 5 Disc - 2018</td><td>28</td></tr>",
                            "<tr><td>Trek Domane SL 5 Disc - 2018</td><td>28</td></tr>",
                            "<tr><td>Trek Domane SL 5 Women's - 2018</td><td>26</td></tr>",
                            "<tr><td>Trek Domane SL 5 Women's - 2018</td><td>26</td></tr>",
                            "<tr><td>Trek CrossRip+ - 2018</td><td>30</td></tr>",
                            "<tr><td>Trek XM700+ Lowstep - 2018</td><td>29</td></tr>",
                            "<tr><td>Trek XM700+ Lowstep - 2018</td><td>27</td></tr>",
                            "<tr><td>Trek XM700+ Lowstep - 2018</td><td>30</td></tr>",
                            "<tr><td>Trek Lift+ - 2018</td><td>30</td></tr>",
                            "<tr><td>Trek Verve+ - 2018</td><td>26</td></tr>",
                            "<tr><td>Trek Verve+ - 2018</td><td>28</td></tr>",
                            "<tr><td>Electra Townie Commute Go! - 2018</td><td>27</td></tr>",
                            "<tr><td>Trek Powerfly 5 - 2018</td><td>29</td></tr>",
                            "<tr><td>Trek Powerfly 5 - 2018</td><td>27</td></tr>",
                            "<tr><td>Trek Powerfly 5 FS - 2018</td><td>30</td></tr>",
                            "<tr><td>Trek Boone 5 Disc - 2018</td><td>29</td></tr>",
                            "<tr><td>Trek Boone 7 Disc - 2018</td><td>29</td></tr>",
                            "<tr><td>Trek Boone 7 Disc - 2018</td><td>27</td></tr>",
                            "<tr><td>Electra Tiger Shark 3i - 2018</td><td>30</td></tr>",
                            "<tr><td>Electra Cruiser 7D - 2016/2017/2018</td><td>27</td></tr>",
                            "<tr><td>Electra Cruiser 7D - 2016/2017/2018</td><td>26</td></tr>",
                            "<tr><td>Electra Moto 3i - 2018</td><td>30</td></tr>",
                            "<tr><td>Electra Moto 3i - 2018</td><td>29</td></tr>",
                            "<tr><td>Electra Cruiser 1 Tall - 2016/2018</td><td>30</td></tr>",
                            "<tr><td>Electra Cruiser Lux 3i - 2018</td><td>29</td></tr>",
                            "<tr><td>Electra Cruiser 7D Tall - 2016/2018</td><td>29</td></tr>",
                            "<tr><td>Electra Cruiser Lux 1 - 2016/2018</td><td>29</td></tr>",
                            "<tr><td>Electra Cruiser Lux 1 - 2016/2018</td><td>27</td></tr>",
                            "<tr><td>Electra Cruiser Lux 1 Ladies' - 2018</td><td>29</td></tr>",
                            "<tr><td>Electra Relic 3i - 2018</td><td>26</td></tr>",
                            "<tr><td>Electra Relic 3i - 2018</td><td>30</td></tr>",
                            "<tr><td>Electra Townie Balloon 8D EQ Ladies' - 2016/2017/2018</td><td>28</td></tr>",
                            "<tr><td>Electra Townie Balloon 8D EQ Ladies' - 2016/2017/2018</td><td>29</td></tr>",
                            "<tr><td>Electra Townie Commute 27D Ladies - 2018</td><td>26</td></tr>",
                            "<tr><td>Electra Townie Original 7D EQ Ladies' - 2017/2018</td><td>26</td></tr>",
                            "<tr><td>Electra White Water 3i - 2018</td><td>27</td></tr>",
                            "<tr><td>Electra Townie Commute Go! Ladies' - 2018</td><td>28</td></tr>",
                            "<tr><td>Electra Townie Commute Go! Ladies' - 2018</td><td>27</td></tr>",
                            "<tr><td>Electra Townie Go! 8i Ladies' - 2018</td><td>29</td></tr>",
                            "<tr><td>Trek MT 201 - 2018</td><td>29</td></tr>",
                            "<tr><td>Strider Strider 20 Sport - 2018</td><td>28</td></tr>",
                            "<tr><td>Trek Precaliber 12 Girl's - 2018</td><td>27</td></tr>",
                            "<tr><td>Trek Precaliber 12 Boy's - 2018</td><td>26</td></tr>",
                            "<tr><td>Trek Precaliber 16 Girl's - 2018</td><td>26</td></tr>",
                            "<tr><td>Trek Precaliber 20 6-speed Girl's - 2018</td><td>28</td></tr>",
                            "<tr><td>Trek Precaliber 20 Girl's - 2018</td><td>28</td></tr>",
                            "<tr><td>Trek Precaliber 24 21-speed Boy's - 2018</td><td>26</td></tr>",
                            "<tr><td>Electra Heartchya 1 (20-inch) - Girl's - 2018</td><td>28</td></tr>",
                            "<tr><td>Electra Savannah 1 (20-inch) - Girl's - 2018</td><td>27</td></tr>",
                            "<tr><td>Electra Savannah 1 (20-inch) - Girl's - 2018</td><td>26</td></tr>",
                            "<tr><td>Electra Starship 1 16&quot; - 2018</td><td>28</td></tr>",
                            "<tr><td>Electra Straight 8 1 (16-inch) - Boy's - 2018</td><td>26</td></tr>",
                            "<tr><td>Electra Superbolt 3i 20&quot; - 2018</td><td>29</td></tr>",
                            "<tr><td>Electra Sweet Ride 3i (20-inch) - Girls' - 2018</td><td>30</td></tr>",
                            "<tr><td>Electra Water Lily 1 (16-inch) - Girl's - 2018</td><td>26</td></tr>",
                            "<tr><td>Electra Water Lily 1 (16-inch) - Girl's - 2018</td><td>27</td></tr>",
                            "<tr><td>Electra Townie Original 21D - 2018</td><td>29</td></tr>",
                            "<tr><td>Electra Townie Balloon 7i EQ - 2018</td><td>29</td></tr>",
                            "<tr><td>Electra Townie Balloon 7i EQ - 2018</td><td>26</td></tr>",
                            "<tr><td>Electra Townie Commute 27D - 2018</td><td>30</td></tr>",
                            "<tr><td>Electra Townie Commute 8D - 2018</td><td>27</td></tr>",
                            "</table>"
                        ]
                    }
                }
            ],
            "execution_count": 21
        },
        {
            "cell_type": "code",
            "source": [
                "/*\r\n",
                "(15p) Soru 4 : Yaşadığı bölgedeki mağazadan(stores), sipariş(orders) vermiş olan müşterilerin(customers) bilgilerini listeleyiniz.\r\n",
                "               ** IN kullanarak iç içe sorgu gerçekleştirilmelidir!\r\n",
                "*/\r\n",
                "use BikeStores\r\n",
                "select * from customers\r\n",
                "where customers.zip_code IN \r\n",
                "(select customers.zip_code from customers\r\n",
                "join orders on orders.customer_id = customers.customer_id\r\n",
                "join stores on stores.store_id = orders.store_id\r\n",
                "where customers.zip_code = stores.zip_code)\r\n",
                "\r\n",
                "/* \r\n",
                "    use ile veritabanı bağlantısı gerçekleştirildi. \r\n",
                "    müşteri bilgilerinde bir sütun belirtmeden direk hepsi listelenmesi istenmiş ancak bir şarta bakılarak\r\n",
                "    öncelikli olarak in kullanımı şu demektir: iç sorgudan elde edilen sonuçlardan herhangi birine eşit olan kayıtları getirir.\r\n",
                "    yani parantez içerisinde koşulların sağlanması durumunda getirilen iç sorgudur. yaşadığı bölge zip.code ile getirildiğine göre \r\n",
                "    in kullanımı da şu şekildedir:\r\n",
                "    müşteriler tablosunda ki zip codu u getir ancak müşteriler ile mağazalar arasında ki zip_code bağlantısı kurulsun\r\n",
                "    siparişler ile müşteriler arasında foreign key ve mağazalar ile siparişler arasında foreign keyler arsında bağlantı kurularak\r\n",
                "    iç içe in sorgusu gerçekleştirilmiştir.\r\n",
                "*/"
            ],
            "metadata": {
                "azdata_cell_guid": "2a60c27c-bfd5-43b0-bece-3ed24ad8e407"
            },
            "outputs": [
                {
                    "output_type": "display_data",
                    "data": {
                        "text/html": "(24 rows affected)"
                    },
                    "metadata": {}
                },
                {
                    "output_type": "display_data",
                    "data": {
                        "text/html": "Total execution time: 00:00:00.203"
                    },
                    "metadata": {}
                },
                {
                    "output_type": "execute_result",
                    "metadata": {},
                    "execution_count": 24,
                    "data": {
                        "application/vnd.dataresource+json": {
                            "schema": {
                                "fields": [
                                    {
                                        "name": "customer_id"
                                    },
                                    {
                                        "name": "first_name"
                                    },
                                    {
                                        "name": "last_name"
                                    },
                                    {
                                        "name": "phone"
                                    },
                                    {
                                        "name": "email"
                                    },
                                    {
                                        "name": "street"
                                    },
                                    {
                                        "name": "city"
                                    },
                                    {
                                        "name": "state"
                                    },
                                    {
                                        "name": "zip_code"
                                    }
                                ]
                            },
                            "data": [
                                {
                                    "0": "68",
                                    "1": "Jayne",
                                    "2": "Kirkland",
                                    "3": "NULL",
                                    "4": "jayne.kirkland@hotmail.com",
                                    "5": "7800 Second Lane ",
                                    "6": "Rowlett",
                                    "7": "TX",
                                    "8": "75088"
                                },
                                {
                                    "0": "160",
                                    "1": "Omer",
                                    "2": "Estrada",
                                    "3": "NULL",
                                    "4": "omer.estrada@gmail.com",
                                    "5": "9 Honey Creek Street ",
                                    "6": "Rowlett",
                                    "7": "TX",
                                    "8": "75088"
                                },
                                {
                                    "0": "194",
                                    "1": "Dorine",
                                    "2": "Roberson",
                                    "3": "NULL",
                                    "4": "dorine.roberson@msn.com",
                                    "5": "396 Meadowbrook Lane ",
                                    "6": "Santa Cruz",
                                    "7": "CA",
                                    "8": "95060"
                                },
                                {
                                    "0": "205",
                                    "1": "Harris",
                                    "2": "Pittman",
                                    "3": "NULL",
                                    "4": "harris.pittman@yahoo.com",
                                    "5": "404 Cherry Hill Road ",
                                    "6": "Jamaica",
                                    "7": "NY",
                                    "8": "11432"
                                },
                                {
                                    "0": "272",
                                    "1": "Deja",
                                    "2": "Chaney",
                                    "3": "NULL",
                                    "4": "deja.chaney@hotmail.com",
                                    "5": "52 Woodside Ave. ",
                                    "6": "Jamaica",
                                    "7": "NY",
                                    "8": "11432"
                                },
                                {
                                    "0": "314",
                                    "1": "Javier",
                                    "2": "Nichols",
                                    "3": "NULL",
                                    "4": "javier.nichols@msn.com",
                                    "5": "8944 Marconi St. ",
                                    "6": "Rowlett",
                                    "7": "TX",
                                    "8": "75088"
                                },
                                {
                                    "0": "352",
                                    "1": "Josef",
                                    "2": "Greer",
                                    "3": "NULL",
                                    "4": "josef.greer@gmail.com",
                                    "5": "92 Summer Court ",
                                    "6": "Jamaica",
                                    "7": "NY",
                                    "8": "11432"
                                },
                                {
                                    "0": "439",
                                    "1": "Sunshine",
                                    "2": "Rosario",
                                    "3": "NULL",
                                    "4": "sunshine.rosario@aol.com",
                                    "5": "1 Chestnut Lane ",
                                    "6": "Jamaica",
                                    "7": "NY",
                                    "8": "11432"
                                },
                                {
                                    "0": "451",
                                    "1": "Jennette",
                                    "2": "Wooten",
                                    "3": "NULL",
                                    "4": "jennette.wooten@msn.com",
                                    "5": "8221 Bow Ridge Lane ",
                                    "6": "Rowlett",
                                    "7": "TX",
                                    "8": "75088"
                                },
                                {
                                    "0": "456",
                                    "1": "Serina",
                                    "2": "Hensley",
                                    "3": "NULL",
                                    "4": "serina.hensley@yahoo.com",
                                    "5": "53 Proctor Drive ",
                                    "6": "Jamaica",
                                    "7": "NY",
                                    "8": "11432"
                                },
                                {
                                    "0": "476",
                                    "1": "Christopher",
                                    "2": "Richardson",
                                    "3": "NULL",
                                    "4": "christopher.richardson@gmail.com",
                                    "5": "7846 Windfall Dr. ",
                                    "6": "Santa Cruz",
                                    "7": "CA",
                                    "8": "95060"
                                },
                                {
                                    "0": "505",
                                    "1": "Wilda",
                                    "2": "Petersen",
                                    "3": "NULL",
                                    "4": "wilda.petersen@aol.com",
                                    "5": "899 Helen St. ",
                                    "6": "Jamaica",
                                    "7": "NY",
                                    "8": "11432"
                                },
                                {
                                    "0": "575",
                                    "1": "Laurence",
                                    "2": "Christian",
                                    "3": "NULL",
                                    "4": "laurence.christian@gmail.com",
                                    "5": "2 Maple St. ",
                                    "6": "Jamaica",
                                    "7": "NY",
                                    "8": "11432"
                                },
                                {
                                    "0": "620",
                                    "1": "Eric",
                                    "2": "Hardin",
                                    "3": "NULL",
                                    "4": "eric.hardin@gmail.com",
                                    "5": "39 S. Parker Drive ",
                                    "6": "Jamaica",
                                    "7": "NY",
                                    "8": "11432"
                                },
                                {
                                    "0": "712",
                                    "1": "Kecia",
                                    "2": "Olsen",
                                    "3": "NULL",
                                    "4": "kecia.olsen@msn.com",
                                    "5": "8389 Central St. ",
                                    "6": "Santa Cruz",
                                    "7": "CA",
                                    "8": "95060"
                                },
                                {
                                    "0": "808",
                                    "1": "Vallie",
                                    "2": "Dixon",
                                    "3": "NULL",
                                    "4": "vallie.dixon@yahoo.com",
                                    "5": "85 E. Ann Drive ",
                                    "6": "Rowlett",
                                    "7": "TX",
                                    "8": "75088"
                                },
                                {
                                    "0": "850",
                                    "1": "Stephanie",
                                    "2": "Browning",
                                    "3": "NULL",
                                    "4": "stephanie.browning@yahoo.com",
                                    "5": "9156 Lantern St. ",
                                    "6": "Rowlett",
                                    "7": "TX",
                                    "8": "75088"
                                },
                                {
                                    "0": "1029",
                                    "1": "Ping",
                                    "2": "Quinn",
                                    "3": "NULL",
                                    "4": "ping.quinn@gmail.com",
                                    "5": "9051 Hanover Dr. ",
                                    "6": "Rowlett",
                                    "7": "TX",
                                    "8": "75088"
                                },
                                {
                                    "0": "1064",
                                    "1": "Patsy",
                                    "2": "Russo",
                                    "3": "NULL",
                                    "4": "patsy.russo@gmail.com",
                                    "5": "8438 Fairway Avenue ",
                                    "6": "Rowlett",
                                    "7": "TX",
                                    "8": "75088"
                                },
                                {
                                    "0": "1086",
                                    "1": "Cori",
                                    "2": "Schwartz",
                                    "3": "NULL",
                                    "4": "cori.schwartz@msn.com",
                                    "5": "43 Lancaster Lane ",
                                    "6": "Jamaica",
                                    "7": "NY",
                                    "8": "11432"
                                },
                                {
                                    "0": "1375",
                                    "1": "Carlena",
                                    "2": "Salinas",
                                    "3": "NULL",
                                    "4": "carlena.salinas@gmail.com",
                                    "5": "1 Wagon Street ",
                                    "6": "Jamaica",
                                    "7": "NY",
                                    "8": "11432"
                                },
                                {
                                    "0": "1393",
                                    "1": "Vivian",
                                    "2": "Deleon",
                                    "3": "NULL",
                                    "4": "vivian.deleon@msn.com",
                                    "5": "9925 Hamilton Street ",
                                    "6": "Jamaica",
                                    "7": "NY",
                                    "8": "11432"
                                },
                                {
                                    "0": "1415",
                                    "1": "Harold",
                                    "2": "O'connor",
                                    "3": "NULL",
                                    "4": "harold.o'connor@gmail.com",
                                    "5": "9530 Summerhouse Street ",
                                    "6": "Santa Cruz",
                                    "7": "CA",
                                    "8": "95060"
                                },
                                {
                                    "0": "1428",
                                    "1": "Carola",
                                    "2": "Johns",
                                    "3": "NULL",
                                    "4": "carola.johns@msn.com",
                                    "5": "7077 Fordham Rd. ",
                                    "6": "Santa Cruz",
                                    "7": "CA",
                                    "8": "95060"
                                }
                            ]
                        },
                        "text/html": [
                            "<table>",
                            "<tr><th>customer_id</th><th>first_name</th><th>last_name</th><th>phone</th><th>email</th><th>street</th><th>city</th><th>state</th><th>zip_code</th></tr>",
                            "<tr><td>68</td><td>Jayne</td><td>Kirkland</td><td>NULL</td><td>jayne.kirkland@hotmail.com</td><td>7800 Second Lane </td><td>Rowlett</td><td>TX</td><td>75088</td></tr>",
                            "<tr><td>160</td><td>Omer</td><td>Estrada</td><td>NULL</td><td>omer.estrada@gmail.com</td><td>9 Honey Creek Street </td><td>Rowlett</td><td>TX</td><td>75088</td></tr>",
                            "<tr><td>194</td><td>Dorine</td><td>Roberson</td><td>NULL</td><td>dorine.roberson@msn.com</td><td>396 Meadowbrook Lane </td><td>Santa Cruz</td><td>CA</td><td>95060</td></tr>",
                            "<tr><td>205</td><td>Harris</td><td>Pittman</td><td>NULL</td><td>harris.pittman@yahoo.com</td><td>404 Cherry Hill Road </td><td>Jamaica</td><td>NY</td><td>11432</td></tr>",
                            "<tr><td>272</td><td>Deja</td><td>Chaney</td><td>NULL</td><td>deja.chaney@hotmail.com</td><td>52 Woodside Ave. </td><td>Jamaica</td><td>NY</td><td>11432</td></tr>",
                            "<tr><td>314</td><td>Javier</td><td>Nichols</td><td>NULL</td><td>javier.nichols@msn.com</td><td>8944 Marconi St. </td><td>Rowlett</td><td>TX</td><td>75088</td></tr>",
                            "<tr><td>352</td><td>Josef</td><td>Greer</td><td>NULL</td><td>josef.greer@gmail.com</td><td>92 Summer Court </td><td>Jamaica</td><td>NY</td><td>11432</td></tr>",
                            "<tr><td>439</td><td>Sunshine</td><td>Rosario</td><td>NULL</td><td>sunshine.rosario@aol.com</td><td>1 Chestnut Lane </td><td>Jamaica</td><td>NY</td><td>11432</td></tr>",
                            "<tr><td>451</td><td>Jennette</td><td>Wooten</td><td>NULL</td><td>jennette.wooten@msn.com</td><td>8221 Bow Ridge Lane </td><td>Rowlett</td><td>TX</td><td>75088</td></tr>",
                            "<tr><td>456</td><td>Serina</td><td>Hensley</td><td>NULL</td><td>serina.hensley@yahoo.com</td><td>53 Proctor Drive </td><td>Jamaica</td><td>NY</td><td>11432</td></tr>",
                            "<tr><td>476</td><td>Christopher</td><td>Richardson</td><td>NULL</td><td>christopher.richardson@gmail.com</td><td>7846 Windfall Dr. </td><td>Santa Cruz</td><td>CA</td><td>95060</td></tr>",
                            "<tr><td>505</td><td>Wilda</td><td>Petersen</td><td>NULL</td><td>wilda.petersen@aol.com</td><td>899 Helen St. </td><td>Jamaica</td><td>NY</td><td>11432</td></tr>",
                            "<tr><td>575</td><td>Laurence</td><td>Christian</td><td>NULL</td><td>laurence.christian@gmail.com</td><td>2 Maple St. </td><td>Jamaica</td><td>NY</td><td>11432</td></tr>",
                            "<tr><td>620</td><td>Eric</td><td>Hardin</td><td>NULL</td><td>eric.hardin@gmail.com</td><td>39 S. Parker Drive </td><td>Jamaica</td><td>NY</td><td>11432</td></tr>",
                            "<tr><td>712</td><td>Kecia</td><td>Olsen</td><td>NULL</td><td>kecia.olsen@msn.com</td><td>8389 Central St. </td><td>Santa Cruz</td><td>CA</td><td>95060</td></tr>",
                            "<tr><td>808</td><td>Vallie</td><td>Dixon</td><td>NULL</td><td>vallie.dixon@yahoo.com</td><td>85 E. Ann Drive </td><td>Rowlett</td><td>TX</td><td>75088</td></tr>",
                            "<tr><td>850</td><td>Stephanie</td><td>Browning</td><td>NULL</td><td>stephanie.browning@yahoo.com</td><td>9156 Lantern St. </td><td>Rowlett</td><td>TX</td><td>75088</td></tr>",
                            "<tr><td>1029</td><td>Ping</td><td>Quinn</td><td>NULL</td><td>ping.quinn@gmail.com</td><td>9051 Hanover Dr. </td><td>Rowlett</td><td>TX</td><td>75088</td></tr>",
                            "<tr><td>1064</td><td>Patsy</td><td>Russo</td><td>NULL</td><td>patsy.russo@gmail.com</td><td>8438 Fairway Avenue </td><td>Rowlett</td><td>TX</td><td>75088</td></tr>",
                            "<tr><td>1086</td><td>Cori</td><td>Schwartz</td><td>NULL</td><td>cori.schwartz@msn.com</td><td>43 Lancaster Lane </td><td>Jamaica</td><td>NY</td><td>11432</td></tr>",
                            "<tr><td>1375</td><td>Carlena</td><td>Salinas</td><td>NULL</td><td>carlena.salinas@gmail.com</td><td>1 Wagon Street </td><td>Jamaica</td><td>NY</td><td>11432</td></tr>",
                            "<tr><td>1393</td><td>Vivian</td><td>Deleon</td><td>NULL</td><td>vivian.deleon@msn.com</td><td>9925 Hamilton Street </td><td>Jamaica</td><td>NY</td><td>11432</td></tr>",
                            "<tr><td>1415</td><td>Harold</td><td>O'connor</td><td>NULL</td><td>harold.o'connor@gmail.com</td><td>9530 Summerhouse Street </td><td>Santa Cruz</td><td>CA</td><td>95060</td></tr>",
                            "<tr><td>1428</td><td>Carola</td><td>Johns</td><td>NULL</td><td>carola.johns@msn.com</td><td>7077 Fordham Rd. </td><td>Santa Cruz</td><td>CA</td><td>95060</td></tr>",
                            "</table>"
                        ]
                    }
                }
            ],
            "execution_count": 24
        },
        {
            "cell_type": "code",
            "source": [
                "/*\r\n",
                "(15p) Soru 3 : Mağazalardaki(stores) yer alan ürünlerden(products), stok(stocks) miktarı 15'ten büyük olanların sayısını, maksimum fiyatını, minimum fiyatını listeleyiniz.\r\n",
                "               * Mağaza adı, ürün sayısı, maksimum fiyatı, minimum fiyatı çıktı olarak verilmelidir.\r\n",
                "*/\r\n",
                "use BikeStores\r\n",
                "select stores.store_name, COUNT(stocks.quantity) as miktar, max(products.list_price) as maxFiyat, min(products.list_price) as minFiyat\r\n",
                "from stores, stocks, products\r\n",
                "where stocks.quantity > 15 and stores.store_id = stocks.store_id and stocks.product_id = products.product_id\r\n",
                "group by stores.store_name\r\n",
                "\r\n",
                "/* \r\n",
                "Veri tabanına bağlantı kurulması için use komutu kullanıldı.\r\n",
                "select ile bizden istenen sütunlar seçildi. mağaza adı ürün sayısı max ve min fiyatlar çekildi ve from ile 3 tablodan veri çekildi.\r\n",
                "where komutunda ilk başta miktarı 15'ten fazla olanlar belirlendi daha sonra ise stores ile stocks ve stocks ile products arasında foreign keyler ile bağlantı kuruldu\r\n",
                "group by ile store_name isminde gruplandırma yapıldı.\r\n",
                "*/"
            ],
            "metadata": {
                "azdata_cell_guid": "58f01615-3beb-4786-945a-2464c99a15f0",
                "tags": []
            },
            "outputs": [
                {
                    "output_type": "display_data",
                    "data": {
                        "text/html": "(3 rows affected)"
                    },
                    "metadata": {}
                },
                {
                    "output_type": "display_data",
                    "data": {
                        "text/html": "Total execution time: 00:00:00.007"
                    },
                    "metadata": {}
                },
                {
                    "output_type": "execute_result",
                    "metadata": {},
                    "execution_count": 19,
                    "data": {
                        "application/vnd.dataresource+json": {
                            "schema": {
                                "fields": [
                                    {
                                        "name": "store_name"
                                    },
                                    {
                                        "name": "miktar"
                                    },
                                    {
                                        "name": "maxFiyat"
                                    },
                                    {
                                        "name": "minFiyat"
                                    }
                                ]
                            },
                            "data": [
                                {
                                    "0": "Baldwin Bikes",
                                    "1": "136",
                                    "2": "11999.99",
                                    "3": "109.99"
                                },
                                {
                                    "0": "Rowlett Bikes",
                                    "1": "145",
                                    "2": "11999.99",
                                    "3": "89.99"
                                },
                                {
                                    "0": "Santa Cruz Bikes",
                                    "1": "147",
                                    "2": "6499.99",
                                    "3": "89.99"
                                }
                            ]
                        },
                        "text/html": [
                            "<table>",
                            "<tr><th>store_name</th><th>miktar</th><th>maxFiyat</th><th>minFiyat</th></tr>",
                            "<tr><td>Baldwin Bikes</td><td>136</td><td>11999.99</td><td>109.99</td></tr>",
                            "<tr><td>Rowlett Bikes</td><td>145</td><td>11999.99</td><td>89.99</td></tr>",
                            "<tr><td>Santa Cruz Bikes</td><td>147</td><td>6499.99</td><td>89.99</td></tr>",
                            "</table>"
                        ]
                    }
                }
            ],
            "execution_count": 19
        },
        {
            "cell_type": "code",
            "source": [
                "/*\r\n",
                "(10p) Soru 2 : Hangi mağazadan(stores) toplamda kaç müşteri(customers) sipariş(orders) vermiş sayılarını listeleyiniz. \r\n",
                "               * Mağaza adı ve toplam müşteri sipariş sayısı çıktı olarak verilmelidir!\r\n",
                "*/\r\n",
                "\r\n",
                "use BikeStores\r\n",
                "select stores.store_name, count(customers.customer_id) as musteriSayisi from stores, orders, customers\r\n",
                "where orders.store_id = stores.store_id and customers.customer_id = orders.customer_id\r\n",
                "group by stores.store_name\r\n",
                "\r\n",
                "/* \r\n",
                "    veritabanına bağlamak için use BikeStores kullanıldı\r\n",
                "    bizden istenen mağaza ismi (store_name) ve müşteri sayısı (count) select ile bastırıldı.\r\n",
                "    from ile 3 farklı tablodan veri çekişi yapıldı. stores -> store_name, customers -> customer_id, orders ise sipariş sayısını getirecek\r\n",
                "    where and yani join on ile iki tablo arasında bağ kuruldu foreign key ler arasında. Böylelikle customers ile orders arasında bir müşteri sipariş sayısı belirlendi\r\n",
                "    group by ile de veri tekrarı önlenerek store_name isimleri ekrana bastırılmış olundu.\r\n",
                "*/"
            ],
            "metadata": {
                "azdata_cell_guid": "2c436aab-259e-4f76-aa8b-0bfb7b4caa71"
            },
            "outputs": [
                {
                    "output_type": "display_data",
                    "data": {
                        "text/html": "(3 rows affected)"
                    },
                    "metadata": {}
                },
                {
                    "output_type": "display_data",
                    "data": {
                        "text/html": "Total execution time: 00:00:00.017"
                    },
                    "metadata": {}
                },
                {
                    "output_type": "execute_result",
                    "metadata": {},
                    "execution_count": 17,
                    "data": {
                        "application/vnd.dataresource+json": {
                            "schema": {
                                "fields": [
                                    {
                                        "name": "store_name"
                                    },
                                    {
                                        "name": "musteriSayisi"
                                    }
                                ]
                            },
                            "data": [
                                {
                                    "0": "Baldwin Bikes",
                                    "1": "1093"
                                },
                                {
                                    "0": "Santa Cruz Bikes",
                                    "1": "348"
                                },
                                {
                                    "0": "Rowlett Bikes",
                                    "1": "174"
                                }
                            ]
                        },
                        "text/html": [
                            "<table>",
                            "<tr><th>store_name</th><th>musteriSayisi</th></tr>",
                            "<tr><td>Baldwin Bikes</td><td>1093</td></tr>",
                            "<tr><td>Santa Cruz Bikes</td><td>348</td></tr>",
                            "<tr><td>Rowlett Bikes</td><td>174</td></tr>",
                            "</table>"
                        ]
                    }
                }
            ],
            "execution_count": 17
        },
        {
            "cell_type": "code",
            "source": [
                "/*\r\n",
                "(10p) Soru 1 : Rowlett Bikes mağazasındaki(stores) stoklarda(stocks) bulunan ürünlerden(products) isminin ikinci harfi 'a' olan ürünleri listeleyiniz.\r\n",
                "               * Mağaza adı, stok miktarı, ürün adı ve fiyatı sayısı çıktı olarak verilmelidir!\r\n",
                "*/\r\n",
                "\r\n",
                "USE BikeStores\r\n",
                "select stores.store_name, stocks.quantity, products.product_name, products.list_price from products, stores, stocks\r\n",
                "where stores.store_name = 'Rowlett Bikes'\r\n",
                "and stocks.store_id = stores.store_id\r\n",
                "and products.product_name like '_a%'\r\n",
                "and stocks.product_id = products.product_id\r\n",
                "\r\n",
                "/* \r\n",
                "Veritabanını sorguya bağlayabilmek için use kullanılır.\r\n",
                "Mağazı adı, stok miktarı, ürün adı, fiyat sayısı çıktı olarak verilmesi için select komutu kullanıldı. from ile tüm tablolar seçildi\r\n",
                "4 tane koşul belirlendi.\r\n",
                "Rowlett Bikes ismine ait mağazaların çekilmesi birinci koşul.\r\n",
                "Ürünlerde ikinci harfinin a olan ürünlerin listelenmesi ikinci koşul. Bunu like komutu kullanılarak yapıldı. Eğer alt çizgi olmasaydı ilk harfi a olan diye bakacaktı.\r\n",
                "Alt çizgi ilk harfi geç sadece ikinci harfi a olanlara bak denildi.\r\n",
                "3. ve 4. koşullar daha ziyade iki tablo arasında bağlantı kurulmasını sağlamaktadır. foreign keyler arasında bir bağ kurulmuştur.\r\n",
                "*/"
            ],
            "metadata": {
                "azdata_cell_guid": "a7750806-5543-4bd3-8acb-362746625385"
            },
            "outputs": [
                {
                    "output_type": "display_data",
                    "data": {
                        "text/html": "(10 rows affected)"
                    },
                    "metadata": {}
                },
                {
                    "output_type": "display_data",
                    "data": {
                        "text/html": "Total execution time: 00:00:00.012"
                    },
                    "metadata": {}
                },
                {
                    "output_type": "execute_result",
                    "metadata": {},
                    "execution_count": 7,
                    "data": {
                        "application/vnd.dataresource+json": {
                            "schema": {
                                "fields": [
                                    {
                                        "name": "store_name"
                                    },
                                    {
                                        "name": "quantity"
                                    },
                                    {
                                        "name": "product_name"
                                    },
                                    {
                                        "name": "list_price"
                                    }
                                ]
                            },
                            "data": [
                                {
                                    "0": "Rowlett Bikes",
                                    "1": "30",
                                    "2": "Haro Flightline One ST - 2017",
                                    "3": "379.99"
                                },
                                {
                                    "0": "Rowlett Bikes",
                                    "1": "23",
                                    "2": "Haro Flightline Two 26 Plus - 2017",
                                    "3": "549.99"
                                },
                                {
                                    "0": "Rowlett Bikes",
                                    "1": "25",
                                    "2": "Haro Shift R3 - 2017",
                                    "3": "1469.99"
                                },
                                {
                                    "0": "Rowlett Bikes",
                                    "1": "26",
                                    "2": "Haro SR 1.1 - 2017",
                                    "3": "539.99"
                                },
                                {
                                    "0": "Rowlett Bikes",
                                    "1": "1",
                                    "2": "Haro SR 1.2 - 2017",
                                    "3": "869.99"
                                },
                                {
                                    "0": "Rowlett Bikes",
                                    "1": "16",
                                    "2": "Haro SR 1.3 - 2017",
                                    "3": "1409.99"
                                },
                                {
                                    "0": "Rowlett Bikes",
                                    "1": "15",
                                    "2": "Haro Downtown 16 - 2017",
                                    "3": "329.99"
                                },
                                {
                                    "0": "Rowlett Bikes",
                                    "1": "28",
                                    "2": "Haro Shredder 20 - 2017",
                                    "3": "209.99"
                                },
                                {
                                    "0": "Rowlett Bikes",
                                    "1": "18",
                                    "2": "Haro Shredder 20 Girls - 2017",
                                    "3": "209.99"
                                },
                                {
                                    "0": "Rowlett Bikes",
                                    "1": "15",
                                    "2": "Haro Shredder Pro 20 - 2017",
                                    "3": "249.99"
                                }
                            ]
                        },
                        "text/html": [
                            "<table>",
                            "<tr><th>store_name</th><th>quantity</th><th>product_name</th><th>list_price</th></tr>",
                            "<tr><td>Rowlett Bikes</td><td>30</td><td>Haro Flightline One ST - 2017</td><td>379.99</td></tr>",
                            "<tr><td>Rowlett Bikes</td><td>23</td><td>Haro Flightline Two 26 Plus - 2017</td><td>549.99</td></tr>",
                            "<tr><td>Rowlett Bikes</td><td>25</td><td>Haro Shift R3 - 2017</td><td>1469.99</td></tr>",
                            "<tr><td>Rowlett Bikes</td><td>26</td><td>Haro SR 1.1 - 2017</td><td>539.99</td></tr>",
                            "<tr><td>Rowlett Bikes</td><td>1</td><td>Haro SR 1.2 - 2017</td><td>869.99</td></tr>",
                            "<tr><td>Rowlett Bikes</td><td>16</td><td>Haro SR 1.3 - 2017</td><td>1409.99</td></tr>",
                            "<tr><td>Rowlett Bikes</td><td>15</td><td>Haro Downtown 16 - 2017</td><td>329.99</td></tr>",
                            "<tr><td>Rowlett Bikes</td><td>28</td><td>Haro Shredder 20 - 2017</td><td>209.99</td></tr>",
                            "<tr><td>Rowlett Bikes</td><td>18</td><td>Haro Shredder 20 Girls - 2017</td><td>209.99</td></tr>",
                            "<tr><td>Rowlett Bikes</td><td>15</td><td>Haro Shredder Pro 20 - 2017</td><td>249.99</td></tr>",
                            "</table>"
                        ]
                    }
                }
            ],
            "execution_count": 7
        }
    ]
}