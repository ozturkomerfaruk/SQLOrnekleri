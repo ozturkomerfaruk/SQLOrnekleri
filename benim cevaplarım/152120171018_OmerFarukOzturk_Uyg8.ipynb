{
    "metadata": {
        "kernelspec": {
            "name": "SQL",
            "display_name": "SQL",
            "language": "sql"
        },
        "language_info": {
            "name": "sql",
            "version": ""
        },
        "extensions": {
            "azuredatastudio": {
                "version": 1,
                "views": []
            }
        }
    },
    "nbformat_minor": 2,
    "nbformat": 4,
    "cells": [
        {
            "cell_type": "markdown",
            "source": [
                "**VERİ TABANI YÖNETİM SİSTEMLERİ LAB UYGULAMA 8**\n",
                "\n",
                "**Not**: Prelab dokümanında verilen veri tabanını oluşturduktan sonra aşağıda verilen sorulara uygun SQL kodlarını yazınız.  \n",
                "Yazdığınız kodları <u>yorumlarınızla</u> açıklayınız. \n",
                "\n",
                "ESUZEM'de açılan yere bu dosyayı \"OgrNo\\_AdSoyad\\_UygNo.ipynb\" dosya adı ile beraber yükleyiniz.\n",
                "\n",
                "Örnek dosya adı : <span style=\"color: red; font-size: 14pt;\">152120181000_ZekeriyyaDemirci_Uyg8.ipynb</span>"
            ],
            "metadata": {
                "azdata_cell_guid": "57161e9c-4158-450a-8a9b-e55e14e1b033",
                "extensions": {
                    "azuredatastudio": {
                        "views": []
                    }
                }
            },
            "attachments": {}
        },
        {
            "cell_type": "code",
            "source": [
                "/*\r\n",
                "(5p) Soru 1 : \"VtysLabDB\" adıyla yeni bir veri tabanı oluşturunuz. Bundan sonraki aşamalarda bu tablo KULLANILACAKTIR.\r\n",
                "*/  \r\n",
                "\r\n",
                "create database VtysLabDB\r\n",
                "\r\n",
                "\r\n",
                "/* \r\n",
                "YORUMLARINIZI YAZINIZ\r\n",
                "create database ile yeni bir veritabanı oluşturulur.\r\n",
                ".\r\n",
                ".\r\n",
                "*/"
            ],
            "metadata": {
                "azdata_cell_guid": "b15b0e6d-8835-40bf-a82f-d60a37039944",
                "extensions": {
                    "azuredatastudio": {
                        "views": []
                    }
                }
            },
            "outputs": [
                {
                    "output_type": "error",
                    "evalue": "Msg 1801, Level 16, State 3, Line 5\r\nDatabase 'VtysLabDB' already exists. Choose a different database name.",
                    "ename": "",
                    "traceback": []
                },
                {
                    "output_type": "display_data",
                    "data": {
                        "text/html": "Total execution time: 00:00:00.022"
                    },
                    "metadata": {}
                }
            ],
            "execution_count": 3
        },
        {
            "cell_type": "code",
            "source": [
                "/*\r\n",
                "(10p) Soru 2 : Aşağıda verilen şekilde tabloyu oluşturunuz.\r\n",
                "         - Tablo adı : tblCustomer\r\n",
                "         - Kolonlar  :\r\n",
                "                        - customerID : Integer veri tipindedir. Primary KEY olarak kullanılacaktır. 100'den başlar ve otomatik olarak 1'er 1'er artış gösterir.\r\n",
                "                        - first_name : Varchar(255) veri tipindedir. NULL olmasına izin verilmez.\r\n",
                "                        - last_name  : Varchar(255) veri tipindedir. DEFAULT değeri \"NotSpecified\" olarak kullanılaraktır.\r\n",
                "                        - age        : Integer veri tipindedir. NULL olmasına izin verilmez. 18'den büyük olmalıdır. Kullandığınız kısıta \"CHC_CustomerAge\" adını veriniz !\r\n",
                "*/  \r\n",
                "\r\n",
                "use VtysLabDB\r\n",
                "\r\n",
                "create table tblCustomer (\r\n",
                "    customerID int identity(100, 1),\r\n",
                "    first_name varchar(255) not null,\r\n",
                "    last_name varchar(255) default 'NotSpecified',\r\n",
                "    age int not null,\r\n",
                "    CONSTRAINT CHC_CustomerAge check (age > 18),\r\n",
                "\r\n",
                "    constraint PK_Customer primary key(customerID),\r\n",
                "\r\n",
                "\r\n",
                ")\r\n",
                "\r\n",
                "/* \r\n",
                "YORUMLARINIZI YAZINIZ\r\n",
                "create table komutu ile bir tablo oluşturulur. sütunları oluşturan customerID vs belirli kıstaslara göre oluşmuştur.\r\n",
                "örneğin customerID integer veri tipini int koyarak. ve 100'den başlayıp 1-1 artmasını da identity(100,1) yazılarak yapıldı.\r\n",
                "firt_name ve last_name de varchar(255) tipinde oluşturup firt_name null olmasına izin vermemek için not null yazılırken\r\n",
                "default olarak bir değerin atanmasında da default '' yazılır.\r\n",
                "age integer veri tipinde ve aynı şekilde not null, ile null olmasına izin verilmez.\r\n",
                "age integer tipinde özel bir isim constraint ile verilir ve koşul durumu sağlanabilir. parantez içerisinde ifade ettim.\r\n",
                "aynı şekilde constaint ile primary key olarak kullandırıp özel bir isim tanımladım.\r\n",
                ".\r\n",
                ".\r\n",
                "*/"
            ],
            "metadata": {
                "azdata_cell_guid": "18c32d38-9eb3-4144-a3ee-a5c29e61cb52",
                "extensions": {
                    "azuredatastudio": {
                        "views": []
                    }
                }
            },
            "outputs": [
                {
                    "output_type": "error",
                    "evalue": "Msg 2714, Level 16, State 6, Line 13\r\nThere is already an object named 'tblCustomer' in the database.",
                    "ename": "",
                    "traceback": []
                },
                {
                    "output_type": "display_data",
                    "data": {
                        "text/html": "Total execution time: 00:00:00.002"
                    },
                    "metadata": {}
                }
            ],
            "execution_count": 26
        },
        {
            "cell_type": "code",
            "source": [
                "/* SORU 2 İLE BAĞIMLIDIR. SORU 2 YAPILMADIĞI TAKTİRDE PUANLAMA OLMAYACAKTIR.\r\n",
                "(5p) Soru 3 : Aşağıda verilen kayıtları tblCustomer tablosuna ekleyiniz. Bu süreçte karşınıza çıkan hatalara uygun çözümler üreterek tabloya 3 kaydı da EKLEYİN. \r\n",
                "              Aldığınız hatayı, nedenini ve çözümünüzü MUTLAKA yorumda yazınız. Aksi halde puan verilmeyecektir.\r\n",
                "\r\n",
                "kayıtlar :  => 'Debra','Burks',24\r\n",
                "            => 'Kasha','Todd',36\r\n",
                "            => 'Robby','Sykes',12\r\n",
                "\r\n",
                "*/  \r\n",
                "\r\n",
                "use VtysLabDB\r\n",
                "\r\n",
                "insert into tblCustomer(first_name, last_name, age)\r\n",
                "values ('Debra', 'Burks', 24)\r\n",
                "\r\n",
                "insert into tblCustomer(first_name, last_name, age)\r\n",
                "values ('Kasha', 'Todd', 36)\r\n",
                "\r\n",
                "insert into tblCustomer(first_name, last_name, age)\r\n",
                "values ('Robby', 'Sykes', 12)\r\n",
                "\r\n",
                "select * from tblCustomer\r\n",
                "\r\n",
                "/* \r\n",
                "YORUMLARINIZI YAZINIZ\r\n",
                "bizden istenen bilgileri yazmak istediğimde Debra ve Kasha'yı yazdırabildiğimi gördüm ancak Robby'i göremedim. Bunun sebebi Robby'nin yaşı 18'den küçük olmasıdır. Ben tabloyu kurarken\r\n",
                "yaş sınırı ekledim ve 18 yaş üstü diye ayarladım. Bu durumda sadece Debra ve Kasha bastırılmıştır. Eğer Robby'nin yaşını 18'den büyük yaparsam oda bastırılır.\r\n",
                ".\r\n",
                ".\r\n",
                "*/"
            ],
            "metadata": {
                "azdata_cell_guid": "f8c04ef9-7360-4ab3-86e0-68936089dfae",
                "extensions": {
                    "azuredatastudio": {
                        "views": []
                    }
                }
            },
            "outputs": [
                {
                    "output_type": "display_data",
                    "data": {
                        "text/html": "(1 row affected)"
                    },
                    "metadata": {}
                },
                {
                    "output_type": "display_data",
                    "data": {
                        "text/html": "(1 row affected)"
                    },
                    "metadata": {}
                },
                {
                    "output_type": "display_data",
                    "data": {
                        "text/html": "The statement has been terminated."
                    },
                    "metadata": {}
                },
                {
                    "output_type": "display_data",
                    "data": {
                        "text/html": "(2 rows affected)"
                    },
                    "metadata": {}
                },
                {
                    "output_type": "display_data",
                    "data": {
                        "text/html": "Total execution time: 00:00:00.022"
                    },
                    "metadata": {}
                },
                {
                    "output_type": "execute_result",
                    "metadata": {},
                    "execution_count": 28,
                    "data": {
                        "application/vnd.dataresource+json": {
                            "schema": {
                                "fields": [
                                    {
                                        "name": "customerID"
                                    },
                                    {
                                        "name": "first_name"
                                    },
                                    {
                                        "name": "last_name"
                                    },
                                    {
                                        "name": "age"
                                    }
                                ]
                            },
                            "data": [
                                {
                                    "0": "100",
                                    "1": "Debra",
                                    "2": "Burks",
                                    "3": "24"
                                },
                                {
                                    "0": "101",
                                    "1": "Kasha",
                                    "2": "Todd",
                                    "3": "36"
                                }
                            ]
                        },
                        "text/html": [
                            "<table>",
                            "<tr><th>customerID</th><th>first_name</th><th>last_name</th><th>age</th></tr>",
                            "<tr><td>100</td><td>Debra</td><td>Burks</td><td>24</td></tr>",
                            "<tr><td>101</td><td>Kasha</td><td>Todd</td><td>36</td></tr>",
                            "</table>"
                        ]
                    }
                },
                {
                    "output_type": "error",
                    "evalue": "Msg 547, Level 16, State 0, Line 19\r\nThe INSERT statement conflicted with the CHECK constraint \"CHC_CustomerAge\". The conflict occurred in database \"VtysLabDB\", table \"dbo.tblCustomer\", column 'age'.",
                    "ename": "",
                    "traceback": []
                }
            ],
            "execution_count": 28
        },
        {
            "cell_type": "code",
            "source": [
                "/* SORU 2 İLE BAĞIMLIDIR. SORU 2 YAPILMADIĞI TAKTİRDE PUANLAMA OLMAYACAKTIR.\r\n",
                "(5p) Soru 4 : Aşağıda first_name ve age bilgileri verilen kaydı tblCustomer tablosuna ekleyiniz. Bu süreçte karşınıza çıkan hatalara uygun çözümler üreterek tabloya kaydı da EKLEYİN. \r\n",
                "              Aldığınız hatayı, nedenini ve çözümünüzü MUTLAKA yorumda yazınız. Aksi halde puan verilmeyecektir.\r\n",
                "\r\n",
                "kayıt :  => 'Melia',42 \r\n",
                "*/  \r\n",
                "\r\n",
                "use VtysLabDB\r\n",
                "insert into tblCustomer(first_name,age) values ('Melia',42);\r\n",
                "select * from tblCustomer\r\n",
                "\r\n",
                "/* \r\n",
                "YORUMLARINIZI YAZINIZ\r\n",
                "Bizden isteneni dikkatli baktığımızda first_name ve age dir. last_name default olarka NotSpecified olarak atanmıştı. Dolayısıyla bu kod hatasız çalışması beklenmektedir.\r\n",
                "select*from ile kontrol etmek istediğimde görüyorum ki soru 2 ve soru 4 doğru bir şekilde çalışmaktadır.\r\n",
                ".\r\n",
                ".\r\n",
                "*/"
            ],
            "metadata": {
                "azdata_cell_guid": "14b75733-0f43-4ac4-b441-3afc060a1990",
                "extensions": {
                    "azuredatastudio": {
                        "views": []
                    }
                }
            },
            "outputs": [
                {
                    "output_type": "display_data",
                    "data": {
                        "text/html": "(3 rows affected)"
                    },
                    "metadata": {}
                },
                {
                    "output_type": "display_data",
                    "data": {
                        "text/html": "Total execution time: 00:00:00.006"
                    },
                    "metadata": {}
                },
                {
                    "output_type": "execute_result",
                    "metadata": {},
                    "execution_count": 32,
                    "data": {
                        "application/vnd.dataresource+json": {
                            "schema": {
                                "fields": [
                                    {
                                        "name": "customerID"
                                    },
                                    {
                                        "name": "first_name"
                                    },
                                    {
                                        "name": "last_name"
                                    },
                                    {
                                        "name": "age"
                                    }
                                ]
                            },
                            "data": [
                                {
                                    "0": "100",
                                    "1": "Debra",
                                    "2": "Burks",
                                    "3": "24"
                                },
                                {
                                    "0": "101",
                                    "1": "Kasha",
                                    "2": "Todd",
                                    "3": "36"
                                },
                                {
                                    "0": "103",
                                    "1": "Melia",
                                    "2": "NotSpecified",
                                    "3": "42"
                                }
                            ]
                        },
                        "text/html": [
                            "<table>",
                            "<tr><th>customerID</th><th>first_name</th><th>last_name</th><th>age</th></tr>",
                            "<tr><td>100</td><td>Debra</td><td>Burks</td><td>24</td></tr>",
                            "<tr><td>101</td><td>Kasha</td><td>Todd</td><td>36</td></tr>",
                            "<tr><td>103</td><td>Melia</td><td>NotSpecified</td><td>42</td></tr>",
                            "</table>"
                        ]
                    }
                }
            ],
            "execution_count": 32
        },
        {
            "cell_type": "code",
            "source": [
                "/*\r\n",
                "(10p) Soru 5 : Aşağıda verilen şekilde tabloyu oluşturunuz.\r\n",
                "         - Tablo adı : tblProduct\r\n",
                "         - Kolonlar  :\r\n",
                "                        - productID    : Integer veri tipindedir. Primary KEY olarak kullanılacaktır. 200'den başlar ve otomatik olarak 1'er 1'er artış gösterir.\r\n",
                "                        - product_name : Varchar(255) veri tipindedir. NULL olmasına izin verilmez.\r\n",
                "                        - price        : Float veri tipindedir. NULL olmasına izin verilmez.\r\n",
                "*/  \r\n",
                "\r\n",
                "use VtysLabDB\r\n",
                "create table tblProduct (\r\n",
                "    productID int identity(200, 1),\r\n",
                "    product_name varchar(255) not null,\r\n",
                "    price float not null,\r\n",
                "\r\n",
                "    constraint PK_product primary key(productID),\r\n",
                ")\r\n",
                "\r\n",
                "\r\n",
                "/* \r\n",
                "YORUMLARINIZI YAZINIZ\r\n",
                "Soru 2 de olduğu gibi tablonun sütunları belirli şartlara göre yazılmaktadır. \r\n",
                "productID'nin 200'den başlayıp 1-1 artması için identity(200,1) yazılması gerekmektedir. integer için int yazılması lazım.\r\n",
                "product_name için konuşacak olursam varchar veri tipi için varchar yazıldı. null olmaması için not null yazıldı.\r\n",
                "float veri tipi için price da float yazıld.\r\n",
                "\r\n",
                "productID'nin primary key olarak olması için constraint yazıldı 2. soruda ki gibi ve bir isimle özdeşti bağ.\r\n",
                ".\r\n",
                "*/"
            ],
            "metadata": {
                "azdata_cell_guid": "d55b9e75-45a3-4e2f-937e-187b3fe7225a",
                "tags": [],
                "extensions": {
                    "azuredatastudio": {
                        "views": []
                    }
                }
            },
            "outputs": [
                {
                    "output_type": "display_data",
                    "data": {
                        "text/html": "Commands completed successfully."
                    },
                    "metadata": {}
                },
                {
                    "output_type": "display_data",
                    "data": {
                        "text/html": "Total execution time: 00:00:00.009"
                    },
                    "metadata": {}
                }
            ],
            "execution_count": 33
        },
        {
            "cell_type": "code",
            "source": [
                "/* SORU 5 İLE BAĞIMLIDIR. SORU 5 YAPILMADIĞI TAKTİRDE PUANLAMA OLMAYACAKTIR.\r\n",
                "(5p) Soru 6 : Aşağıda verilen kayıtları \"tblProduct\" tablosuna ekleyiniz.\r\n",
                "\r\n",
                "kayıtlar : => 'Surly Straggler',12.5\r\n",
                "           => 'Electra Townie Original',10\r\n",
                "           => 'Pure Cycles William',5\r\n",
                "*/  \r\n",
                "\r\n",
                "use VtysLabDB\r\n",
                "\r\n",
                "insert into tblProduct(product_name,price) values ('Surly Straggler',12.5);\r\n",
                "insert into tblProduct(product_name,price) values ('Electra Townie Original',10);\r\n",
                "insert into tblProduct(product_name,price) values ('Pure Cycles William',5);\r\n",
                "\r\n",
                "select*from tblProduct\r\n",
                "\r\n",
                "/* \r\n",
                "YORUMLARINIZI YAZINIZ\r\n",
                "insert into ile table'a ekleme yaplır. önce sütunlar sonra values ile değerler girilir. Değerler girilirken bir şart belirtilmediği içi direk eklendi sütunlar.\r\n",
                "eklendi mi diye kontrol edilmesi için select * from yazıldı.\r\n",
                ".\r\n",
                ".\r\n",
                "*/"
            ],
            "metadata": {
                "azdata_cell_guid": "39c458ce-f3e7-4fe9-88ee-d8ceb4724c2e",
                "extensions": {
                    "azuredatastudio": {
                        "views": []
                    }
                }
            },
            "outputs": [
                {
                    "output_type": "display_data",
                    "data": {
                        "text/html": "(3 rows affected)"
                    },
                    "metadata": {}
                },
                {
                    "output_type": "display_data",
                    "data": {
                        "text/html": "Total execution time: 00:00:00.010"
                    },
                    "metadata": {}
                },
                {
                    "output_type": "execute_result",
                    "metadata": {},
                    "execution_count": 35,
                    "data": {
                        "application/vnd.dataresource+json": {
                            "schema": {
                                "fields": [
                                    {
                                        "name": "productID"
                                    },
                                    {
                                        "name": "product_name"
                                    },
                                    {
                                        "name": "price"
                                    }
                                ]
                            },
                            "data": [
                                {
                                    "0": "200",
                                    "1": "Surly Straggler",
                                    "2": "12.5"
                                },
                                {
                                    "0": "201",
                                    "1": "Electra Townie Original",
                                    "2": "10"
                                },
                                {
                                    "0": "202",
                                    "1": "Pure Cycles William",
                                    "2": "5"
                                }
                            ]
                        },
                        "text/html": [
                            "<table>",
                            "<tr><th>productID</th><th>product_name</th><th>price</th></tr>",
                            "<tr><td>200</td><td>Surly Straggler</td><td>12.5</td></tr>",
                            "<tr><td>201</td><td>Electra Townie Original</td><td>10</td></tr>",
                            "<tr><td>202</td><td>Pure Cycles William</td><td>5</td></tr>",
                            "</table>"
                        ]
                    }
                }
            ],
            "execution_count": 35
        },
        {
            "cell_type": "code",
            "source": [
                "/* SORU 5 İLE BAĞIMLIDIR. SORU 5 YAPILMADIĞI TAKTİRDE PUANLAMA OLMAYACAKTIR.\r\n",
                "(5p) Soru 7 : Aşağıda verilen şekilde \"tblProduct\" tablosunda güncelleme yapınız.\r\n",
                "        - \"price\" değerinin 0'dan büyük olmasını garanti edecek şekilde \"CHC_ProductPrice\" adıyla bir CONSTRAINT 'i tabloya ekleyiniz.\r\n",
                "*/  \r\n",
                "\r\n",
                "use VtysLabDB\r\n",
                "alter table tblProduct add constraint CHC_ProductPrice check (price>0)\r\n",
                "\r\n",
                "\r\n",
                "/* \r\n",
                "YORUMLARINIZI YAZINIZ\r\n",
                "burada alter komutu kullanılması gerekmektedir. bu komut sayesinde table'da update yapabilir demektir.\r\n",
                "bizden istenen price'ın 0'dan büyük olduğunu garanti altına almaktır ve buna bir isimle yapılması istenmektedir. bunun için add constraint yazılarak yapılır ve check komutu ile koşul sağlanır.\r\n",
                ".\r\n",
                ".\r\n",
                "*/"
            ],
            "metadata": {
                "azdata_cell_guid": "6ba6404b-dc6d-4d88-a1e4-53c35f4d6fc8",
                "extensions": {
                    "azuredatastudio": {
                        "views": []
                    }
                }
            },
            "outputs": [
                {
                    "output_type": "display_data",
                    "data": {
                        "text/html": "Commands completed successfully."
                    },
                    "metadata": {}
                },
                {
                    "output_type": "display_data",
                    "data": {
                        "text/html": "Total execution time: 00:00:00.017"
                    },
                    "metadata": {}
                }
            ],
            "execution_count": 36
        },
        {
            "cell_type": "code",
            "source": [
                "/* SORU 5 İLE BAĞIMLIDIR. SORU 5 YAPILMADIĞI TAKTİRDE PUANLAMA OLMAYACAKTIR.\r\n",
                "(5p) Soru 8 : Aşağıda verilen kaydı tblProduct tablosuna ekleyiniz. Bu süreçte karşınıza çıkan hatalara uygun çözümler üreterek tabloya kaydı da EKLEYİN. \r\n",
                "              Aldığınız hatayı, nedenini ve çözümünüzü MUTLAKA yorumda yazınız. Aksi halde puan verilmeyecektir.\r\n",
                "\r\n",
                "kayıt : => 'Pure Cycles William',0\r\n",
                "*/  \r\n",
                "\r\n",
                "use VtysLabDB\r\n",
                "\r\n",
                "--insert into tblProduct(product_name,price) values ('Pure Cycles William',0);\r\n",
                "insert into tblProduct(product_name,price) values ('Pure Cycles William',1);\r\n",
                "select * from tblProduct\r\n",
                "\r\n",
                "\r\n",
                "/* \r\n",
                "YORUMLARINIZI YAZINIZ\r\n",
                "bir hata aldım. Aldığım hatayı dikkatli incelediğimde fiyatı 0 görmekteyim. Tablo alter table edilirken 0'dan büyük olması koşulu verilmişti. Ekleme işlemi doğru çalışıyor mu test etmek için\r\n",
                "aynı komutu tekrar eklicem ve bu sefer 1 ve 5 yap eklicem. select * from yaptığımda doğru çalıştıklarını görmekteyim. Öyleyse sorun yok demektir.\r\n",
                ".\r\n",
                ".\r\n",
                "*/"
            ],
            "metadata": {
                "azdata_cell_guid": "99ad59c6-e76d-4098-bd27-20676079776c",
                "extensions": {
                    "azuredatastudio": {
                        "views": []
                    }
                }
            },
            "outputs": [
                {
                    "output_type": "display_data",
                    "data": {
                        "text/html": "(4 rows affected)"
                    },
                    "metadata": {}
                },
                {
                    "output_type": "display_data",
                    "data": {
                        "text/html": "Total execution time: 00:00:00.016"
                    },
                    "metadata": {}
                },
                {
                    "output_type": "execute_result",
                    "metadata": {},
                    "execution_count": 39,
                    "data": {
                        "application/vnd.dataresource+json": {
                            "schema": {
                                "fields": [
                                    {
                                        "name": "productID"
                                    },
                                    {
                                        "name": "product_name"
                                    },
                                    {
                                        "name": "price"
                                    }
                                ]
                            },
                            "data": [
                                {
                                    "0": "200",
                                    "1": "Surly Straggler",
                                    "2": "12.5"
                                },
                                {
                                    "0": "201",
                                    "1": "Electra Townie Original",
                                    "2": "10"
                                },
                                {
                                    "0": "202",
                                    "1": "Pure Cycles William",
                                    "2": "5"
                                },
                                {
                                    "0": "204",
                                    "1": "Pure Cycles William",
                                    "2": "1"
                                }
                            ]
                        },
                        "text/html": [
                            "<table>",
                            "<tr><th>productID</th><th>product_name</th><th>price</th></tr>",
                            "<tr><td>200</td><td>Surly Straggler</td><td>12.5</td></tr>",
                            "<tr><td>201</td><td>Electra Townie Original</td><td>10</td></tr>",
                            "<tr><td>202</td><td>Pure Cycles William</td><td>5</td></tr>",
                            "<tr><td>204</td><td>Pure Cycles William</td><td>1</td></tr>",
                            "</table>"
                        ]
                    }
                }
            ],
            "execution_count": 39
        },
        {
            "cell_type": "code",
            "source": [
                "/*\r\n",
                "(10p) Soru 9 : Aşağıda verilen şekilde tabloyu oluşturunuz.\r\n",
                "         - Tablo adı : tblOrder\r\n",
                "         - Kolonlar  :\r\n",
                "                        - orderID    : Integer veri tipindedir. Primary KEY olarak kullanılacaktır. Otomatik olarak artış gösterir.\r\n",
                "                        - productID  : Integer veri tipindedir. \"FK_ProductOrder\" adında tanımlı bir CONSTRAINT ile tblProduct(productID)'a FOREING KEY olarak bağlıdır.\r\n",
                "*/  \r\n",
                "\r\n",
                "use VtysLabDB\r\n",
                "create table tblOrder\r\n",
                "(\r\n",
                "    orderID int IDENTITY(1,1),\r\n",
                "    productID int not null,\r\n",
                "\r\n",
                "    constraint FK_ProductOrder foreign key (productID) REFERENCES tblProduct (productID),\r\n",
                "    constraint PK_Order primary key(orderID)\r\n",
                ")\r\n",
                "\r\n",
                "/* \r\n",
                "YORUMLARINIZI YAZINIZ\r\n",
                "Order table'ı oluşturulurken orderID int ile ve identity 1,1 olarak oluşturuldu. Böylece 1'den başlayıp otomatik olarka 1-1 artacaktır.\r\n",
                "productID oluşturulurken null olmasın denildi çünkü bir sıkıntı çıkarmaması için foreign key ile bağlantı kurulurken\r\n",
                "primary key de yine aynı şekilde oluşturuldu. bir isim ile tanımlandırılarak\r\n",
                "Burada asıl husus foreign key kımıdır. İlk başta constraint ile bir isim verildi. Daha sonra foregin key kulllanılması için gerekli olan ID yani productID girildi.\r\n",
                "referans olarak bağlantı kurulacağı yer ise tblProduct'da ki productID olacak şekilde ayarlandı.\r\n",
                "Komutlar başarılı bir şekilde çalıştı.\r\n",
                ".\r\n",
                ".\r\n",
                "*/"
            ],
            "metadata": {
                "azdata_cell_guid": "0d20a1af-4f75-4ceb-8211-af50e5edcac0",
                "extensions": {
                    "azuredatastudio": {
                        "views": []
                    }
                }
            },
            "outputs": [
                {
                    "output_type": "display_data",
                    "data": {
                        "text/html": "Commands completed successfully."
                    },
                    "metadata": {}
                },
                {
                    "output_type": "display_data",
                    "data": {
                        "text/html": "Total execution time: 00:00:00.009"
                    },
                    "metadata": {}
                }
            ],
            "execution_count": 42
        },
        {
            "cell_type": "code",
            "source": [
                "/* SORU 9 İLE BAĞIMLIDIR. SORU 9 YAPILMADIĞI TAKTİRDE PUANLAMA OLMAYACAKTIR.\r\n",
                "(10p) Soru 10 : Aşağıda verilen şekilde tblOrder tablosunda güncelleme yapınız. TEK BİR SORGU YAZINIZ !\r\n",
                "            - tabloya aşağıdaki özelliklerde \"customerID\" adında yeni bir kolon ekleyiniz.\r\n",
                "                    - customerID : Integer veri tipindedir. \"FK_CustomertOrder\" adında tanımlı bir CONSTRAINT ile tblCustomer(customerID)'a FOREING KEY olarak bağlıdır.\r\n",
                "*/  \r\n",
                "\r\n",
                "use VtysLabDB\r\n",
                "alter table tblOrder\r\n",
                "add customerID int constraint FK_CustomertOrder \r\n",
                "foreign key (customerID) references tblCustomer (customerID)\r\n",
                "\r\n",
                "/* \r\n",
                "YORUMLARINIZI YAZINIZ\r\n",
                "burada alter table kullanmam gerekmektedir. Tabloda bir güncelleme yapılması istenmektedir.\r\n",
                "integer veri tipinde özel bir isimle tanımlanması gerektiği için customerID int ve constraint yazıldı. Bunun foregin key'i ise\r\n",
                "9.soru da olduğu gibi ilk önce burada ki customerID daha sonra tblCustomer table'ında ki customerID ile bağ kurduruldu.\r\n",
                ".\r\n",
                ".\r\n",
                "*/"
            ],
            "metadata": {
                "azdata_cell_guid": "1cee972b-f83b-4540-a967-6aaa537873b0",
                "extensions": {
                    "azuredatastudio": {
                        "views": []
                    }
                }
            },
            "outputs": [
                {
                    "output_type": "display_data",
                    "data": {
                        "text/html": "Commands completed successfully."
                    },
                    "metadata": {}
                },
                {
                    "output_type": "display_data",
                    "data": {
                        "text/html": "Total execution time: 00:00:00.011"
                    },
                    "metadata": {}
                }
            ],
            "execution_count": 43
        },
        {
            "cell_type": "code",
            "source": [
                "/* SORU 9 İLE BAĞIMLIDIR. SORU 9 YAPILMADIĞI TAKTİRDE PUANLAMA OLMAYACAKTIR.\r\n",
                "(10p) Soru 11 : tblOrder tablosuna kendi belirlediğiniz 5 adet kayıt ekleyiniz. Bu süreçte karşınıza çıkan hatalara uygun çözümler üreterek tabloya en az 5 kaydı da EKLEYİN. \r\n",
                "                Aldığınız hatayı, nedenini ve çözümünüzü MUTLAKA yorumda yazınız. Aksi halde puan verilmeyecektir.\r\n",
                "*/  \r\n",
                "use VtysLabDB\r\n",
                "\r\n",
                "insert into tblOrder(productID, customerID) values (200,100)\r\n",
                "\r\n",
                "insert into tblOrder(productID, customerID) values (201,101)\r\n",
                "\r\n",
                "insert into tblOrder(productID, customerID) values (201,103)\r\n",
                "\r\n",
                "insert into tblOrder(productID, customerID) values (204,103)\r\n",
                "\r\n",
                "insert into tblOrder(productID, customerID) values (205,103)\r\n",
                "\r\n",
                "\r\n",
                "select * from tblProduct\r\n",
                "\r\n",
                "select * from tblCustomer\r\n",
                "\r\n",
                "insert into tblOrder(productID, customerID) values (200,103)\r\n",
                "/* \r\n",
                "YORUMLARINIZI YAZINIZ\r\n",
                "\r\n",
                "5 tane ekleme işlemi yaptım ancak 1 tanesinde ekleme yapılmadığını bilerek görmek istedim. İlk başta tblProduct ve tblCustomer tablolarını komple getirmek\r\n",
                "istedim. Çünkü iki tablo arasında bağ kurulacağı için ID'lerin tabloda bulunması gerekir. Bende 4 tane işlemde ID'lerin tabloda olmasını bilerek ekledim.\r\n",
                "5. ekleme işleminde ie productID'de 205 olarak girdim. Oysa ki 205 hiç yok. Böylece bu soru çözülmüştür. Şimdi en son olarak 5. yi de listeye ekleyim.\r\n",
                "Böylece 5 farklı insert komutu eklenmiş olunmaktadır.\r\n",
                ".\r\n",
                ".\r\n",
                ".\r\n",
                "*/"
            ],
            "metadata": {
                "azdata_cell_guid": "cf4a730b-a8cb-40fb-ac78-addfe17f4137",
                "extensions": {
                    "azuredatastudio": {
                        "views": []
                    }
                }
            },
            "outputs": [
                {
                    "output_type": "display_data",
                    "data": {
                        "text/html": "(1 row affected)"
                    },
                    "metadata": {}
                },
                {
                    "output_type": "display_data",
                    "data": {
                        "text/html": "Total execution time: 00:00:00.010"
                    },
                    "metadata": {}
                }
            ],
            "execution_count": 46
        },
        {
            "cell_type": "code",
            "source": [
                "/*\r\n",
                "(15p) Soru 12 : Aşağıda verilen şekilde bir VIEW tablosu oluşturunuz. Bu tabloda mevcut siparişlere ait müşteri ve ürün bilgileri bulunacaktır.\r\n",
                "         - Tablo adı : tblView\r\n",
                "         - Kolonlar  :\r\n",
                "                        - orderID     : \r\n",
                "                        - customerID  : \r\n",
                "                        - firs_name   : \r\n",
                "                        - last_name   : \r\n",
                "                        - age         : \r\n",
                "                        - productID   : \r\n",
                "                        - product_name: \r\n",
                "                        - price       : \r\n",
                "*/    \r\n",
                "\r\n",
                "create view tblView\r\n",
                "as \r\n",
                "select tblOrder.orderID, tblOrder.customerID, tblCustomer.first_name, tblCustomer.last_name, tblCustomer.age,\r\n",
                "tblProduct.productID, tblProduct.product_name, tblProduct.price from tblOrder\r\n",
                "join tblCustomer on tblCustomer.customerID = tblOrder.customerID\r\n",
                "join tblProduct on tblProduct.productID = tblOrder.productID\r\n",
                "\r\n",
                "/* \r\n",
                "YORUMLARINIZI YAZINIZ\r\n",
                "create view komutu ile tblView oluşturuldu. as ile devamında ki satırlar eklenmiş oldu.\r\n",
                "Kolonların isimleri bize verilen soruda, istenildiği gibi sırasıyla tek tek yazıldı. Bunlar tblOrder tablosundan çekildi.\r\n",
                "devamında tblCustoer ile tblOrder ve tblProduct ile tblOrder tabloları bağlandı.\r\n",
                ".\r\n",
                ".\r\n",
                "*/"
            ],
            "metadata": {
                "azdata_cell_guid": "b5efc443-4008-48c6-827f-d959607789ff",
                "tags": [],
                "extensions": {
                    "azuredatastudio": {
                        "views": []
                    }
                }
            },
            "outputs": [
                {
                    "output_type": "display_data",
                    "data": {
                        "text/html": "Commands completed successfully."
                    },
                    "metadata": {}
                },
                {
                    "output_type": "display_data",
                    "data": {
                        "text/html": "Total execution time: 00:00:00.011"
                    },
                    "metadata": {}
                }
            ],
            "execution_count": 49
        },
        {
            "cell_type": "code",
            "source": [
                "/* SORU 12 İLE BAĞIMLIDIR. SORU 12 YAPILMADIĞI TAKTİRDE PUANLAMA OLMAYACAKTIR.\r\n",
                "(5p) Soru 13 : tblView adıyla oluşturduğunuz VIEW tablosundaki tüm kayıtları listeleyen kodu yazınız.\r\n",
                "*/    \r\n",
                "\r\n",
                "select * from tblView\r\n",
                "\r\n",
                "\r\n",
                "/* \r\n",
                "YORUMLARINIZI YAZINIZ\r\n",
                "select * from ile tıp ki table için yaptığımız gibi View içinde aynısı yapıldı ve tüm hepsi bastırıldı.\r\n",
                ".\r\n",
                ".\r\n",
                "*/"
            ],
            "metadata": {
                "azdata_cell_guid": "1ce36a4b-0900-43a7-9260-2b67d570a281",
                "extensions": {
                    "azuredatastudio": {
                        "views": []
                    }
                }
            },
            "outputs": [
                {
                    "output_type": "display_data",
                    "data": {
                        "text/html": "(5 rows affected)"
                    },
                    "metadata": {}
                },
                {
                    "output_type": "display_data",
                    "data": {
                        "text/html": "Total execution time: 00:00:00.009"
                    },
                    "metadata": {}
                },
                {
                    "output_type": "execute_result",
                    "metadata": {},
                    "execution_count": 50,
                    "data": {
                        "application/vnd.dataresource+json": {
                            "schema": {
                                "fields": [
                                    {
                                        "name": "orderID"
                                    },
                                    {
                                        "name": "customerID"
                                    },
                                    {
                                        "name": "first_name"
                                    },
                                    {
                                        "name": "last_name"
                                    },
                                    {
                                        "name": "age"
                                    },
                                    {
                                        "name": "productID"
                                    },
                                    {
                                        "name": "product_name"
                                    },
                                    {
                                        "name": "price"
                                    }
                                ]
                            },
                            "data": [
                                {
                                    "0": "1",
                                    "1": "100",
                                    "2": "Debra",
                                    "3": "Burks",
                                    "4": "24",
                                    "5": "200",
                                    "6": "Surly Straggler",
                                    "7": "12.5"
                                },
                                {
                                    "0": "2",
                                    "1": "101",
                                    "2": "Kasha",
                                    "3": "Todd",
                                    "4": "36",
                                    "5": "201",
                                    "6": "Electra Townie Original",
                                    "7": "10"
                                },
                                {
                                    "0": "3",
                                    "1": "103",
                                    "2": "Melia",
                                    "3": "NotSpecified",
                                    "4": "42",
                                    "5": "201",
                                    "6": "Electra Townie Original",
                                    "7": "10"
                                },
                                {
                                    "0": "4",
                                    "1": "103",
                                    "2": "Melia",
                                    "3": "NotSpecified",
                                    "4": "42",
                                    "5": "204",
                                    "6": "Pure Cycles William",
                                    "7": "1"
                                },
                                {
                                    "0": "6",
                                    "1": "103",
                                    "2": "Melia",
                                    "3": "NotSpecified",
                                    "4": "42",
                                    "5": "200",
                                    "6": "Surly Straggler",
                                    "7": "12.5"
                                }
                            ]
                        },
                        "text/html": [
                            "<table>",
                            "<tr><th>orderID</th><th>customerID</th><th>first_name</th><th>last_name</th><th>age</th><th>productID</th><th>product_name</th><th>price</th></tr>",
                            "<tr><td>1</td><td>100</td><td>Debra</td><td>Burks</td><td>24</td><td>200</td><td>Surly Straggler</td><td>12.5</td></tr>",
                            "<tr><td>2</td><td>101</td><td>Kasha</td><td>Todd</td><td>36</td><td>201</td><td>Electra Townie Original</td><td>10</td></tr>",
                            "<tr><td>3</td><td>103</td><td>Melia</td><td>NotSpecified</td><td>42</td><td>201</td><td>Electra Townie Original</td><td>10</td></tr>",
                            "<tr><td>4</td><td>103</td><td>Melia</td><td>NotSpecified</td><td>42</td><td>204</td><td>Pure Cycles William</td><td>1</td></tr>",
                            "<tr><td>6</td><td>103</td><td>Melia</td><td>NotSpecified</td><td>42</td><td>200</td><td>Surly Straggler</td><td>12.5</td></tr>",
                            "</table>"
                        ]
                    }
                }
            ],
            "execution_count": 50
        }
    ]
}