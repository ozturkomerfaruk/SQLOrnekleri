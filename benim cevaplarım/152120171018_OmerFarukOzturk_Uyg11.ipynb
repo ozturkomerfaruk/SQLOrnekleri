{
    "metadata": {
        "kernelspec": {
            "name": "SQL",
            "display_name": "SQL",
            "language": "sql"
        },
        "language_info": {
            "name": "sql",
            "version": ""
        },
        "extensions": {
            "azuredatastudio": {
                "version": 1,
                "views": []
            }
        }
    },
    "nbformat_minor": 2,
    "nbformat": 4,
    "cells": [
        {
            "cell_type": "markdown",
            "source": [
                "**VERİ TABANI YÖNETİM SİSTEMLERİ LAB. UYGULAMA 11**\n",
                "\n",
                "**Not**: Prelab dokümanında verilen veri tabanını oluşturduktan sonra aşağıda verilen sorulara uygun SQL kodlarını yazınız.  \n",
                "Yazdığınız kodları <u>yorumlarınızla</u> açıklayınız.  \n",
                "Yazdığınız kodun <u>çıktısı</u>, göndereceğiniz dosyada listeleyiniz.\n",
                "\n",
                "**NOT:** <u>ÇALIŞMAYAN KOD, DEĞERLENDİRMEYE GİRMEYECEKTİR!</u>\n",
                "\n",
                "ESUZEM'de açılan yere bu dosyayı \"OgrNo\\_AdSoyad\\_UygNo.ipynb\" dosya adı ile beraber yükleyiniz.\n",
                "\n",
                "Örnek dosya adı : <span style=\"color: red; font-size: 14pt;\">152120181000_SergenAsik_Uyg11.ipynb</span>"
            ],
            "metadata": {
                "azdata_cell_guid": "46252499-2a53-41fe-9f7a-81725c6d0aa0",
                "extensions": {
                    "azuredatastudio": {
                        "views": []
                    }
                }
            },
            "attachments": {}
        },
        {
            "cell_type": "code",
            "source": [
                "/*\r\n",
                "(25p) Soru 1: Belirli bir mağazadaki(stores) çalışanlara(staffs) email gönderilmek istenmektedir. Aşağıdaki koşullara göre fonksiyon kodunu yazınız.\r\n",
                "            - Mağazanın adı parametre olarak fonksiyona verildiğinde o mağazadaki çalışanların email adresleri listelenmelidir.\r\n",
                "            - Hiç kayıt bulunamıyorsa 'Value cannot be found!' uyarısını listelemelidir.\r\n",
                "            - Parametre değeri olarak 'Rowlett Bikes' kullanılacaktır. (Parametre değeri çalışmayan uygulamalar değerlendirilmeyecektir!)\r\n",
                "*/\r\n",
                "use BikeStores\r\n",
                "go\r\n",
                "create function StaffsMail(@store_name nvarchar(50))\r\n",
                "returns @table table(email nvarchar(50))\r\n",
                "as \r\n",
                "begin\r\n",
                "    insert into @table\r\n",
                "    select staffs.email from staffs\r\n",
                "    join stores on stores.store_id=staffs.store_id\r\n",
                "    where stores.store_name = @store_name\r\n",
                "    if (select COUNT(*) from @table) = 0\r\n",
                "    begin\r\n",
                "        insert into @table(email) values ('Value cannot be found!')\r\n",
                "    end\r\n",
                "    return\r\n",
                "end\r\n",
                "go\r\n",
                "select * from StaffsMail('Rowlett Bikes1')\r\n",
                "/*\r\n",
                "YORUMLARINIZI YAZINIZ\r\n",
                "Use BikeStore ile ilk başta veri tabanına bağlandı.\r\n",
                "Bağlanıldıktan sonra fonksiyon çalışsın diye Go yazıldı\r\n",
                "Ardından fonksiyon oluşturuldu. Uygun isim verildi ve parametre olarak bir nvarchar tipinde bir değişken tanımlandı.\r\n",
                "Ardından bu return edecek table için email oluşturuldu nvarchar tipinde ve as begin diyerek fonksiyonun içi doldurulmaya başlandı.\r\n",
                "Ardından tablonun içi doldurulmaya başlandı. select ile staffs'da ki email çekildi.\r\n",
                "Daha sonra stores ile staffs arasında ki bağ kurulması için bir join on yazıldı. Ve ardından olması gereken where şartı yazıldı. Where şartı ile\r\n",
                "Rowlett Bikes'dan çekilmesi gereken yer yazıldı.\r\n",
                "\r\n",
                "Daha sonra if koşulu yazılmaya başlandı. If ile soruda verilen koşul belirtildi. Yani eğer tablodan gelen sayı 0'a eşitse cannot be found begin-end arasında yazılacak dendi\r\n",
                "eğer if e girmezse de return etsin tablo denildi.\r\n",
                "\r\n",
                "Daha sonra go yazılmasının sebebi önceki yazılanlar bir dursun sonra ki satır çalışsın denilerek select * from yazıldı ve kod doğru bir şekilde çalışılıyor.\r\n",
                "\r\n",
                "\r\n",
                "*/"
            ],
            "metadata": {
                "azdata_cell_guid": "3fa359aa-6dff-41b3-ae98-34ef73675797",
                "extensions": {
                    "azuredatastudio": {
                        "views": []
                    }
                }
            },
            "outputs": [
                {
                    "output_type": "display_data",
                    "data": {
                        "text/html": "Commands completed successfully."
                    },
                    "metadata": {}
                },
                {
                    "output_type": "error",
                    "evalue": "Msg 2714, Level 16, State 3, Procedure StaffsMail, Line 1\r\nThere is already an object named 'StaffsMail' in the database.",
                    "ename": "",
                    "traceback": []
                },
                {
                    "output_type": "display_data",
                    "data": {
                        "text/html": "(1 row affected)"
                    },
                    "metadata": {}
                },
                {
                    "output_type": "display_data",
                    "data": {
                        "text/html": "Total execution time: 00:00:00.014"
                    },
                    "metadata": {}
                },
                {
                    "output_type": "execute_result",
                    "metadata": {},
                    "execution_count": 16,
                    "data": {
                        "application/vnd.dataresource+json": {
                            "schema": {
                                "fields": [
                                    {
                                        "name": "email"
                                    }
                                ]
                            },
                            "data": [
                                {
                                    "0": "Value cannot be found!"
                                }
                            ]
                        },
                        "text/html": [
                            "<table>",
                            "<tr><th>email</th></tr>",
                            "<tr><td>Value cannot be found!</td></tr>",
                            "</table>"
                        ]
                    }
                }
            ],
            "execution_count": 16
        },
        {
            "cell_type": "code",
            "source": [
                "/*\r\n",
                "(25p) Soru 2: Belirli bir müşterinin(customers), sipariş(orders) vermiş olduğu order_date listelenmek istenmektedir.\r\n",
                "                 Aşağıdaki koşullara göre fonksiyon kodunu yazınız.\r\n",
                "            - Müşterinin adı parametre olarak fonksiyona verildiğinde o müşteriye ait siparişlerin tarihleri listelenmelidir.\r\n",
                "            - Hiç kayıt bulunamıyorsa 'Value cannot be found!' uyarısını listelemelidir.\r\n",
                "            - Parametre değeri olarak 'Debra Burks' kullanılacaktır. (Parametre değeri çalışmayan uygulamalar değerlendirilmeyecektir!)\r\n",
                "            NOT: Parametre değerinin iki ayrı sütunu (first_name, last_name) temsil ettiğini unutmayınız!\r\n",
                "*/\r\n",
                "\r\n",
                "use BikeStores\r\n",
                "go\r\n",
                "create function CustomersOrders(@namef nvarchar(50),@names nvarchar(50))\r\n",
                "returns @name table(order_date DATE)\r\n",
                "as \r\n",
                "begin\r\n",
                "    insert into @name\r\n",
                "    select orders.order_date from orders\r\n",
                "    join customers on customers.customer_id=orders.customer_id\r\n",
                "    where customers.first_name = @namef\r\n",
                "    and customers.last_name=@names\r\n",
                "    return\r\n",
                "end\r\n",
                "go\r\n",
                "select * from CustomersOrders('Debra','Burks')\r\n",
                "\r\n",
                "\r\n",
                "/*\r\n",
                "YORUMLARINIZI YAZINIZ\r\n",
                "use ile ilk önce veri tabanı bağlandı.\r\n",
                "Bağlandıktan sonra fonksiyon oluşturulsun denildiği için Go yazıldı.\r\n",
                "Uygun isim verildikten sonra parametreler için nvarchar tipinde 2 tane parametre değeri girildi. first name'in f'si last name'in l'si için ilk harfleri alınarak 2 tane parametre oluşturuldu.\r\n",
                "Daha sonra as begin ile başlanıldı fonksiyonun içi\r\n",
                "select ile ilk önce orders tablosundan order_date çekildi. Daha sonra customers ile bağlantı kuruldu join on ile\r\n",
                "ardından where şartı ile parametrelerin şartları belirtildi.\r\n",
                "if koşulunu yazmadım çünkü Date tipinde bir değişkenin tip dönüşüm hatasını aldığım için ve derste de hocamın if şartını yazmaya gerek yok o zaman\r\n",
                "demesinden dolayı yazmaktan vazgeçtim.\r\n",
                "ardından return edilerek fonksiyon döndürüldü.\r\n",
                "ardından go ile buraya kadar yazılıp dursun bundan sonraki satır çalışsın denilerek fonksiyonun çalışması test edildi. ve soru doğru çalışıyor\r\n",
                "*/"
            ],
            "metadata": {
                "azdata_cell_guid": "b896c547-64cf-4f2a-b407-458fc1b30a37",
                "extensions": {
                    "azuredatastudio": {
                        "views": []
                    }
                }
            },
            "outputs": [
                {
                    "output_type": "display_data",
                    "data": {
                        "text/html": "Commands completed successfully."
                    },
                    "metadata": {}
                },
                {
                    "output_type": "error",
                    "evalue": "Msg 2714, Level 16, State 3, Procedure CustomersOrders, Line 1\r\nThere is already an object named 'CustomersOrders' in the database.",
                    "ename": "",
                    "traceback": []
                },
                {
                    "output_type": "display_data",
                    "data": {
                        "text/html": "(3 rows affected)"
                    },
                    "metadata": {}
                },
                {
                    "output_type": "display_data",
                    "data": {
                        "text/html": "Total execution time: 00:00:00.008"
                    },
                    "metadata": {}
                },
                {
                    "output_type": "execute_result",
                    "metadata": {},
                    "execution_count": 25,
                    "data": {
                        "application/vnd.dataresource+json": {
                            "schema": {
                                "fields": [
                                    {
                                        "name": "order_date"
                                    }
                                ]
                            },
                            "data": [
                                {
                                    "0": "2016-12-09"
                                },
                                {
                                    "0": "2018-04-18"
                                },
                                {
                                    "0": "2018-11-18"
                                }
                            ]
                        },
                        "text/html": [
                            "<table>",
                            "<tr><th>order_date</th></tr>",
                            "<tr><td>2016-12-09</td></tr>",
                            "<tr><td>2018-04-18</td></tr>",
                            "<tr><td>2018-11-18</td></tr>",
                            "</table>"
                        ]
                    }
                }
            ],
            "execution_count": 25
        },
        {
            "cell_type": "code",
            "source": [
                "/*\r\n",
                "(25p) Soru 3: Belirli bir mağazadaki(stores) stoklarda(stocks) bulunan ürünlerin(products) stok adet miktarı görüntülenmek istenmektedir. \r\n",
                "                Aşağıdaki koşullara göre fonksiyon kodunu yazınız.\r\n",
                "            - Mağazanın adı parametre olarak fonksiyona verildiğinde o mağazadaki bulunan ürünlerin adı ve stok miktarı listelenmelidir.\r\n",
                "            - Hiç kayıt bulunamıyorsa 'Value cannot be found!' uyarısını listelemelidir.\r\n",
                "            - Parametre değeri olarak 'Santa Cruz Bikes' kullanılacaktır. (Parametre değeri çalışmayan uygulamalar değerlendirilmeyecektir!)\r\n",
                "*/\r\n",
                "\r\n",
                "use BikeStores\r\n",
                "go\r\n",
                "create function StoresStocksProducts (@parameter varchar(50))\r\n",
                "returns @table TABLE(product_name varchar(255), quantity varchar(50))\r\n",
                "as \r\n",
                "begin\r\n",
                "    insert into @table\r\n",
                "    select products.product_name, convert(varchar(50), stocks.quantity) from products\r\n",
                "    join stocks on stocks.product_id = products.product_id\r\n",
                "    join stores on stores.store_id = stocks.store_id\r\n",
                "    where stores.store_name = @parameter\r\n",
                "    if (select count(*) from @table) = 0\r\n",
                "        begin\r\n",
                "        insert into @table(product_name, quantity) values ('Value cannot be found!', 'Value cannot be found!')\r\n",
                "        end\r\n",
                "    return\r\n",
                "end\r\n",
                "go\r\n",
                "select * from StoresStocksProducts('Omer Faruk Ozturk')\r\n",
                "\r\n",
                "/*\r\n",
                "YORUMLARINIZI YAZINIZ\r\n",
                "use go kullanımı yukarıda ki soruların mantığınd yazılmıştır.\r\n",
                "fonksiyon ismi uygun isimle oluşturulmuştur.\r\n",
                "tablo oluşturulurken fonksiyon içi varchar tipinde oluşturulmuştur.\r\n",
                "Ardından as begin ile fonksiyonun için oluşturulmaya başlanılmıştır.\r\n",
                "ARdından select ile gösterilmesi gerekiilen yerler girdirilmeye başlanılmıştır.\r\n",
                "Products dan stocks.quantity çekildi. Ancak int den varchara dönüşmesi için convert kullanıldı. Ardından product_name çekildi.\r\n",
                "products un stocks ile, stocks'un sotres ile bağ kurulması için join on kullanıldı.\r\n",
                "Ardındam where koşulu ile parametre değeri doğrulaması yapıldı.\r\n",
                "\r\n",
                "if ile tablonun sayısı kontrol edildi eğer 0 ise begin end arasında insert into ile product name ve quantity'e cannot be found eklendi.\r\n",
                "\r\n",
                "eğer 0'a eşit değilse return edilsin denildi. ardından go yazılıp (ilk 2 soruda ki çalışma mantığıyla aynı)\r\n",
                "select * from yazıldı ve sorunun doğru çalışıldığı gözlemlendi.\r\n",
                "*/"
            ],
            "metadata": {
                "azdata_cell_guid": "e6c79517-317d-464d-a69c-cf464c942be9",
                "tags": [],
                "extensions": {
                    "azuredatastudio": {
                        "views": []
                    }
                }
            },
            "outputs": [
                {
                    "output_type": "display_data",
                    "data": {
                        "text/html": "Commands completed successfully."
                    },
                    "metadata": {}
                },
                {
                    "output_type": "error",
                    "evalue": "Msg 2714, Level 16, State 3, Procedure StoresStocksProducts, Line 1\r\nThere is already an object named 'StoresStocksProducts' in the database.",
                    "ename": "",
                    "traceback": []
                },
                {
                    "output_type": "display_data",
                    "data": {
                        "text/html": "(1 row affected)"
                    },
                    "metadata": {}
                },
                {
                    "output_type": "display_data",
                    "data": {
                        "text/html": "Total execution time: 00:00:00.011"
                    },
                    "metadata": {}
                },
                {
                    "output_type": "execute_result",
                    "metadata": {},
                    "execution_count": 29,
                    "data": {
                        "application/vnd.dataresource+json": {
                            "schema": {
                                "fields": [
                                    {
                                        "name": "product_name"
                                    },
                                    {
                                        "name": "quantity"
                                    }
                                ]
                            },
                            "data": [
                                {
                                    "0": "Value cannot be found!",
                                    "1": "Value cannot be found!"
                                }
                            ]
                        },
                        "text/html": [
                            "<table>",
                            "<tr><th>product_name</th><th>quantity</th></tr>",
                            "<tr><td>Value cannot be found!</td><td>Value cannot be found!</td></tr>",
                            "</table>"
                        ]
                    }
                }
            ],
            "execution_count": 29
        },
        {
            "cell_type": "code",
            "source": [
                "/*\r\n",
                "(25p) Soru 4: Marka(brands) adına ve kategori(categories) adına göre gruplandırılma yapıldığında ürünlerin(products) toplam sayıları görüntülenmek istenmektedir.\r\n",
                "                 Aşağıdaki koşullara göre fonksiyon kodunu yazınız.\r\n",
                "            - Fonksiyon çalıştırıldığında marka adı, kategori adı ve toplam ürün sayısı listelenmelidir.\r\n",
                "            - Hiç kayıt bulunamıyorsa 'Value cannot be found!' uyarısını listelemelidir.\r\n",
                "            - Parametre değeri bulunmamaktadır.\r\n",
                "*/\r\n",
                "\r\n",
                "use BikeStores\r\n",
                "go\r\n",
                "create function BrandsCategoriesProducts ()\r\n",
                "RETURNS @table TABLE(brand_name varchar(255), categories_name varchar(50), sum_product INT)\r\n",
                "as \r\n",
                "BEGIN\r\n",
                "    INSERT INTO @table\r\n",
                "    SELECT brands.brand_name, categories.category_name, COUNT(*) FROM brands\r\n",
                "    JOIN categories ON categories.category_id=brands.brand_id\r\n",
                "    JOIN products ON products.product_id=brands.brand_id\r\n",
                "    GROUP BY categories.category_name , brands.brand_name\r\n",
                "    IF (select count(*) from @table) = 0\r\n",
                "    BEGIN\r\n",
                "    INSERT INTO @table(brand_name, categories_name,sum_product) VALUES ('Value cannot be found!', 'Value cannot be found!', 'Value cannot be found!')\r\n",
                "END\r\n",
                "RETURN\r\n",
                "END\r\n",
                "GO\r\n",
                "SELECT * FROM BrandsCategoriesProducts()\r\n",
                "\r\n",
                "/*\r\n",
                "YORUMLARINIZI YAZINIZ\r\n",
                "zaman yok diye yorum yazamadım\r\n",
                "*/"
            ],
            "metadata": {
                "azdata_cell_guid": "fb49b939-838c-4843-8344-9e995a373ab6",
                "tags": [],
                "extensions": {
                    "azuredatastudio": {
                        "views": []
                    }
                }
            },
            "outputs": [
                {
                    "output_type": "display_data",
                    "data": {
                        "text/html": "Commands completed successfully."
                    },
                    "metadata": {}
                },
                {
                    "output_type": "display_data",
                    "data": {
                        "text/html": "Commands completed successfully."
                    },
                    "metadata": {}
                },
                {
                    "output_type": "display_data",
                    "data": {
                        "text/html": "(7 rows affected)"
                    },
                    "metadata": {}
                },
                {
                    "output_type": "display_data",
                    "data": {
                        "text/html": "Total execution time: 00:00:00.037"
                    },
                    "metadata": {}
                },
                {
                    "output_type": "execute_result",
                    "metadata": {},
                    "execution_count": 31,
                    "data": {
                        "application/vnd.dataresource+json": {
                            "schema": {
                                "fields": [
                                    {
                                        "name": "brand_name"
                                    },
                                    {
                                        "name": "categories_name"
                                    },
                                    {
                                        "name": "sum_product"
                                    }
                                ]
                            },
                            "data": [
                                {
                                    "0": "Electra",
                                    "1": "Children Bicycles",
                                    "2": "1"
                                },
                                {
                                    "0": "Haro",
                                    "1": "Comfort Bicycles",
                                    "2": "1"
                                },
                                {
                                    "0": "Heller",
                                    "1": "Cruisers Bicycles",
                                    "2": "1"
                                },
                                {
                                    "0": "Pure Cycles",
                                    "1": "Cyclocross Bicycles",
                                    "2": "1"
                                },
                                {
                                    "0": "Ritchey",
                                    "1": "Electric Bikes",
                                    "2": "1"
                                },
                                {
                                    "0": "Strider",
                                    "1": "Mountain Bikes",
                                    "2": "1"
                                },
                                {
                                    "0": "Sun Bicycles",
                                    "1": "Road Bikes",
                                    "2": "1"
                                }
                            ]
                        },
                        "text/html": [
                            "<table>",
                            "<tr><th>brand_name</th><th>categories_name</th><th>sum_product</th></tr>",
                            "<tr><td>Electra</td><td>Children Bicycles</td><td>1</td></tr>",
                            "<tr><td>Haro</td><td>Comfort Bicycles</td><td>1</td></tr>",
                            "<tr><td>Heller</td><td>Cruisers Bicycles</td><td>1</td></tr>",
                            "<tr><td>Pure Cycles</td><td>Cyclocross Bicycles</td><td>1</td></tr>",
                            "<tr><td>Ritchey</td><td>Electric Bikes</td><td>1</td></tr>",
                            "<tr><td>Strider</td><td>Mountain Bikes</td><td>1</td></tr>",
                            "<tr><td>Sun Bicycles</td><td>Road Bikes</td><td>1</td></tr>",
                            "</table>"
                        ]
                    }
                }
            ],
            "execution_count": 31
        }
    ]
}