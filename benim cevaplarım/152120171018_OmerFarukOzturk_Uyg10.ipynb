{
    "metadata": {
        "kernelspec": {
            "name": "SQL",
            "display_name": "SQL",
            "language": "sql"
        },
        "language_info": {
            "name": "sql",
            "version": ""
        },
        "extensions": {
            "azuredatastudio": {
                "version": 1,
                "views": []
            }
        }
    },
    "nbformat_minor": 2,
    "nbformat": 4,
    "cells": [
        {
            "cell_type": "code",
            "source": [
                "/*\r\n",
                "(10p) Soru 1: Fiyatı en yüksek 26 ürünü(products) aşağıdaki şekilde listeleyen saklı yordam kodunu yazınız.\r\n",
                "            - Ürün adı ve ürün fiyatı çıktı olarak verilmelidir.\r\n",
                "            - Ürün fiyatına göre büyükten küçüğe sıralanmalıdır.\r\n",
                "            - Parametre değeri olarak 26 kullanılacaktır. (Parametre değeri çalışmayan uygulamalar değerlendirilmeyecektir!)\r\n",
                "*/\r\n",
                "create procedure ListMostExpensive26Products\r\n",
                "(@KacTane int)\r\n",
                "as\r\n",
                "begin\r\n",
                "select top (@KacTane) products.product_name , products.list_price\r\n",
                "from products\r\n",
                "order by products.list_price desc\r\n",
                "end\r\n",
                "\r\n",
                "--EXEC ListMostExpensive26Products @KacTane = 26 \r\n",
                "\r\n",
                "/*\r\n",
                "YORUMLARINIZI YAZINIZ\r\n",
                "create procedure dan sonra bir isim girilmesi gerekmektedir. Daha sonra yazdığım bu procedure'nın kullanılabildiği uygun bir isim vermem gerekmektedir.\r\n",
                "En yüksek 26 ürünün listelendiğini gösteren bir isim verdim.\r\n",
                "parametre olarak KacTane verdiğim bir isim oldu. Integer veri tipinde.  Daha sonra parametre 26 değeri kullanılacaktır.\r\n",
                "as begin ile sql sorgusunu yazmaya başladım.\r\n",
                "top ifadesinden sonra parametre değeri yazılmıştır. products.name ve products.list_price çekilmektedir. order by ile gruplama yapılarak basılmaktadır. end ile sorgu bitmektedir.\r\n",
                "\r\n",
                "yazılan procedure nin test edilmesi için EXEC olarak çağırdım ve çalıştı.\r\n",
                "*/"
            ],
            "metadata": {
                "azdata_cell_guid": "58bba8c6-d45b-4f52-9fc6-6ba8fbcb492f",
                "extensions": {
                    "azuredatastudio": {
                        "views": []
                    }
                }
            },
            "outputs": [
                {
                    "output_type": "error",
                    "evalue": "Msg 2714, Level 16, State 3, Procedure ListMostExpensive26Products, Line 7\r\nThere is already an object named 'ListMostExpensive26Products' in the database.",
                    "ename": "",
                    "traceback": []
                },
                {
                    "output_type": "display_data",
                    "data": {
                        "text/html": "Total execution time: 00:00:00.003"
                    },
                    "metadata": {}
                }
            ],
            "execution_count": 20
        },
        {
            "cell_type": "code",
            "source": [
                "/*\r\n",
                "(10p) Soru 2: Toplam indirim(discount) miktarı, 2'den fazla olan ürünleri(product) aşağıdaki şekilde listeleyen saklı yordam kodunu yazınız.\r\n",
                "            - Ürün ID ve toplam indirim bilgisi (as sumOfDiscount) çıktı olarak verilmelidir.\r\n",
                "            - Ürün ID'ye göre küçükten büyüğe sıralanmalıdır.\r\n",
                "            - Parametre değeri olarak 2 kullanılacaktır. (Parametre değeri çalışmayan uygulamalar değerlendirilmeyecektir!)\r\n",
                "*/\r\n",
                "\r\n",
                "create procedure Indırımı2denFazlaOlanlar\r\n",
                "(@param int)\r\n",
                "as begin\r\n",
                "select products.product_id, sum(order_items.discount) as sumOfDiscount from products \r\n",
                "join order_items on order_items.product_id = products.product_id\r\n",
                "group by products.product_id\r\n",
                "having sum(order_items.discount) > @param\r\n",
                "order by products.product_id asc\r\n",
                "end \r\n",
                "\r\n",
                "--exec Indırımı2denFazlaOlanlar 2\r\n",
                "\r\n",
                "\r\n",
                "/*\r\n",
                "YORUMLARINIZI YAZINIZ\r\n",
                "Yapılan işlemlere uygun bir isim verilerek procedure oluşturuldu. as begin ile sql sorguları başladı.\r\n",
                "order_itemsda ki discount'ların toplamını sum ile verdim. products'da ki id leri bastırdım. Bunları products tablosundan çektim\r\n",
                "products ile order_items arasında ki bağı kurmak için join on kullandım. Bunları product_id lerini eşitleyerek yaptım.\r\n",
                "product_id leri bastırırken group by kullandım. Gruplama yaparak tekrarı önledim.\r\n",
                "order by ile küçükten büyüğe bir sıralama yaptım.\r\n",
                "şart koşulunu having ile yaptım. Böylece indirim miktarının 2'den fazla olan ürünleri > @param ile göstererek yaptım.\r\n",
                "\r\n",
                "kodun çalıştığını görmek için exec ile çalıştırdım ve çalıştığını gördüm.\r\n",
                "*/"
            ],
            "metadata": {
                "azdata_cell_guid": "003599c2-8298-4edd-88d2-5bb7a1bc16f9",
                "extensions": {
                    "azuredatastudio": {
                        "views": []
                    }
                }
            },
            "outputs": [
                {
                    "output_type": "display_data",
                    "data": {
                        "text/html": "(84 rows affected)"
                    },
                    "metadata": {}
                },
                {
                    "output_type": "display_data",
                    "data": {
                        "text/html": "Total execution time: 00:00:00.025"
                    },
                    "metadata": {}
                },
                {
                    "output_type": "execute_result",
                    "metadata": {},
                    "execution_count": 18,
                    "data": {
                        "application/vnd.dataresource+json": {
                            "schema": {
                                "fields": [
                                    {
                                        "name": "product_id"
                                    },
                                    {
                                        "name": "sumOfDiscount"
                                    }
                                ]
                            },
                            "data": [
                                {
                                    "0": "2",
                                    "1": "8.30"
                                },
                                {
                                    "0": "3",
                                    "1": "9.08"
                                },
                                {
                                    "0": "4",
                                    "1": "10.92"
                                },
                                {
                                    "0": "5",
                                    "1": "10.22"
                                },
                                {
                                    "0": "6",
                                    "1": "11.33"
                                },
                                {
                                    "0": "7",
                                    "1": "10.02"
                                },
                                {
                                    "0": "8",
                                    "1": "8.37"
                                },
                                {
                                    "0": "9",
                                    "1": "10.52"
                                },
                                {
                                    "0": "10",
                                    "1": "10.43"
                                },
                                {
                                    "0": "11",
                                    "1": "10.77"
                                },
                                {
                                    "0": "12",
                                    "1": "10.43"
                                },
                                {
                                    "0": "13",
                                    "1": "10.70"
                                },
                                {
                                    "0": "14",
                                    "1": "9.60"
                                },
                                {
                                    "0": "15",
                                    "1": "9.24"
                                },
                                {
                                    "0": "16",
                                    "1": "10.69"
                                },
                                {
                                    "0": "17",
                                    "1": "8.74"
                                },
                                {
                                    "0": "18",
                                    "1": "9.00"
                                },
                                {
                                    "0": "19",
                                    "1": "8.33"
                                },
                                {
                                    "0": "20",
                                    "1": "9.54"
                                },
                                {
                                    "0": "21",
                                    "1": "8.38"
                                },
                                {
                                    "0": "22",
                                    "1": "10.29"
                                },
                                {
                                    "0": "23",
                                    "1": "11.05"
                                },
                                {
                                    "0": "24",
                                    "1": "8.64"
                                },
                                {
                                    "0": "25",
                                    "1": "9.94"
                                },
                                {
                                    "0": "26",
                                    "1": "8.72"
                                },
                                {
                                    "0": "27",
                                    "1": "2.11"
                                },
                                {
                                    "0": "28",
                                    "1": "2.65"
                                },
                                {
                                    "0": "29",
                                    "1": "2.80"
                                },
                                {
                                    "0": "30",
                                    "1": "2.01"
                                },
                                {
                                    "0": "32",
                                    "1": "2.01"
                                },
                                {
                                    "0": "33",
                                    "1": "2.81"
                                },
                                {
                                    "0": "36",
                                    "1": "2.90"
                                },
                                {
                                    "0": "37",
                                    "1": "2.24"
                                },
                                {
                                    "0": "40",
                                    "1": "2.25"
                                },
                                {
                                    "0": "41",
                                    "1": "2.20"
                                },
                                {
                                    "0": "42",
                                    "1": "3.03"
                                },
                                {
                                    "0": "43",
                                    "1": "2.28"
                                },
                                {
                                    "0": "45",
                                    "1": "3.93"
                                },
                                {
                                    "0": "48",
                                    "1": "2.77"
                                },
                                {
                                    "0": "49",
                                    "1": "2.70"
                                },
                                {
                                    "0": "50",
                                    "1": "2.04"
                                },
                                {
                                    "0": "52",
                                    "1": "2.47"
                                },
                                {
                                    "0": "55",
                                    "1": "3.02"
                                },
                                {
                                    "0": "56",
                                    "1": "3.01"
                                },
                                {
                                    "0": "58",
                                    "1": "2.62"
                                },
                                {
                                    "0": "59",
                                    "1": "2.09"
                                },
                                {
                                    "0": "60",
                                    "1": "2.65"
                                },
                                {
                                    "0": "61",
                                    "1": "2.19"
                                },
                                {
                                    "0": "62",
                                    "1": "3.28"
                                },
                                {
                                    "0": "63",
                                    "1": "2.24"
                                },
                                {
                                    "0": "64",
                                    "1": "2.41"
                                },
                                {
                                    "0": "65",
                                    "1": "3.61"
                                },
                                {
                                    "0": "66",
                                    "1": "2.91"
                                },
                                {
                                    "0": "67",
                                    "1": "2.12"
                                },
                                {
                                    "0": "70",
                                    "1": "2.17"
                                },
                                {
                                    "0": "71",
                                    "1": "2.25"
                                },
                                {
                                    "0": "72",
                                    "1": "2.31"
                                },
                                {
                                    "0": "73",
                                    "1": "2.05"
                                },
                                {
                                    "0": "78",
                                    "1": "2.57"
                                },
                                {
                                    "0": "79",
                                    "1": "2.08"
                                },
                                {
                                    "0": "81",
                                    "1": "2.39"
                                },
                                {
                                    "0": "82",
                                    "1": "2.92"
                                },
                                {
                                    "0": "85",
                                    "1": "2.75"
                                },
                                {
                                    "0": "87",
                                    "1": "2.32"
                                },
                                {
                                    "0": "88",
                                    "1": "2.68"
                                },
                                {
                                    "0": "90",
                                    "1": "2.23"
                                },
                                {
                                    "0": "91",
                                    "1": "3.12"
                                },
                                {
                                    "0": "92",
                                    "1": "3.16"
                                },
                                {
                                    "0": "93",
                                    "1": "2.52"
                                },
                                {
                                    "0": "94",
                                    "1": "2.02"
                                },
                                {
                                    "0": "95",
                                    "1": "2.84"
                                },
                                {
                                    "0": "96",
                                    "1": "2.14"
                                },
                                {
                                    "0": "97",
                                    "1": "2.43"
                                },
                                {
                                    "0": "99",
                                    "1": "2.56"
                                },
                                {
                                    "0": "100",
                                    "1": "2.94"
                                },
                                {
                                    "0": "101",
                                    "1": "2.79"
                                },
                                {
                                    "0": "102",
                                    "1": "2.14"
                                },
                                {
                                    "0": "103",
                                    "1": "2.83"
                                },
                                {
                                    "0": "104",
                                    "1": "2.33"
                                },
                                {
                                    "0": "105",
                                    "1": "2.64"
                                },
                                {
                                    "0": "106",
                                    "1": "2.70"
                                },
                                {
                                    "0": "108",
                                    "1": "2.53"
                                },
                                {
                                    "0": "109",
                                    "1": "2.27"
                                },
                                {
                                    "0": "111",
                                    "1": "2.11"
                                }
                            ]
                        },
                        "text/html": [
                            "<table>",
                            "<tr><th>product_id</th><th>sumOfDiscount</th></tr>",
                            "<tr><td>2</td><td>8.30</td></tr>",
                            "<tr><td>3</td><td>9.08</td></tr>",
                            "<tr><td>4</td><td>10.92</td></tr>",
                            "<tr><td>5</td><td>10.22</td></tr>",
                            "<tr><td>6</td><td>11.33</td></tr>",
                            "<tr><td>7</td><td>10.02</td></tr>",
                            "<tr><td>8</td><td>8.37</td></tr>",
                            "<tr><td>9</td><td>10.52</td></tr>",
                            "<tr><td>10</td><td>10.43</td></tr>",
                            "<tr><td>11</td><td>10.77</td></tr>",
                            "<tr><td>12</td><td>10.43</td></tr>",
                            "<tr><td>13</td><td>10.70</td></tr>",
                            "<tr><td>14</td><td>9.60</td></tr>",
                            "<tr><td>15</td><td>9.24</td></tr>",
                            "<tr><td>16</td><td>10.69</td></tr>",
                            "<tr><td>17</td><td>8.74</td></tr>",
                            "<tr><td>18</td><td>9.00</td></tr>",
                            "<tr><td>19</td><td>8.33</td></tr>",
                            "<tr><td>20</td><td>9.54</td></tr>",
                            "<tr><td>21</td><td>8.38</td></tr>",
                            "<tr><td>22</td><td>10.29</td></tr>",
                            "<tr><td>23</td><td>11.05</td></tr>",
                            "<tr><td>24</td><td>8.64</td></tr>",
                            "<tr><td>25</td><td>9.94</td></tr>",
                            "<tr><td>26</td><td>8.72</td></tr>",
                            "<tr><td>27</td><td>2.11</td></tr>",
                            "<tr><td>28</td><td>2.65</td></tr>",
                            "<tr><td>29</td><td>2.80</td></tr>",
                            "<tr><td>30</td><td>2.01</td></tr>",
                            "<tr><td>32</td><td>2.01</td></tr>",
                            "<tr><td>33</td><td>2.81</td></tr>",
                            "<tr><td>36</td><td>2.90</td></tr>",
                            "<tr><td>37</td><td>2.24</td></tr>",
                            "<tr><td>40</td><td>2.25</td></tr>",
                            "<tr><td>41</td><td>2.20</td></tr>",
                            "<tr><td>42</td><td>3.03</td></tr>",
                            "<tr><td>43</td><td>2.28</td></tr>",
                            "<tr><td>45</td><td>3.93</td></tr>",
                            "<tr><td>48</td><td>2.77</td></tr>",
                            "<tr><td>49</td><td>2.70</td></tr>",
                            "<tr><td>50</td><td>2.04</td></tr>",
                            "<tr><td>52</td><td>2.47</td></tr>",
                            "<tr><td>55</td><td>3.02</td></tr>",
                            "<tr><td>56</td><td>3.01</td></tr>",
                            "<tr><td>58</td><td>2.62</td></tr>",
                            "<tr><td>59</td><td>2.09</td></tr>",
                            "<tr><td>60</td><td>2.65</td></tr>",
                            "<tr><td>61</td><td>2.19</td></tr>",
                            "<tr><td>62</td><td>3.28</td></tr>",
                            "<tr><td>63</td><td>2.24</td></tr>",
                            "<tr><td>64</td><td>2.41</td></tr>",
                            "<tr><td>65</td><td>3.61</td></tr>",
                            "<tr><td>66</td><td>2.91</td></tr>",
                            "<tr><td>67</td><td>2.12</td></tr>",
                            "<tr><td>70</td><td>2.17</td></tr>",
                            "<tr><td>71</td><td>2.25</td></tr>",
                            "<tr><td>72</td><td>2.31</td></tr>",
                            "<tr><td>73</td><td>2.05</td></tr>",
                            "<tr><td>78</td><td>2.57</td></tr>",
                            "<tr><td>79</td><td>2.08</td></tr>",
                            "<tr><td>81</td><td>2.39</td></tr>",
                            "<tr><td>82</td><td>2.92</td></tr>",
                            "<tr><td>85</td><td>2.75</td></tr>",
                            "<tr><td>87</td><td>2.32</td></tr>",
                            "<tr><td>88</td><td>2.68</td></tr>",
                            "<tr><td>90</td><td>2.23</td></tr>",
                            "<tr><td>91</td><td>3.12</td></tr>",
                            "<tr><td>92</td><td>3.16</td></tr>",
                            "<tr><td>93</td><td>2.52</td></tr>",
                            "<tr><td>94</td><td>2.02</td></tr>",
                            "<tr><td>95</td><td>2.84</td></tr>",
                            "<tr><td>96</td><td>2.14</td></tr>",
                            "<tr><td>97</td><td>2.43</td></tr>",
                            "<tr><td>99</td><td>2.56</td></tr>",
                            "<tr><td>100</td><td>2.94</td></tr>",
                            "<tr><td>101</td><td>2.79</td></tr>",
                            "<tr><td>102</td><td>2.14</td></tr>",
                            "<tr><td>103</td><td>2.83</td></tr>",
                            "<tr><td>104</td><td>2.33</td></tr>",
                            "<tr><td>105</td><td>2.64</td></tr>",
                            "<tr><td>106</td><td>2.70</td></tr>",
                            "<tr><td>108</td><td>2.53</td></tr>",
                            "<tr><td>109</td><td>2.27</td></tr>",
                            "<tr><td>111</td><td>2.11</td></tr>",
                            "</table>"
                        ]
                    }
                }
            ],
            "execution_count": 18
        },
        {
            "cell_type": "code",
            "source": [
                "/*\r\n",
                "(10p) Soru 3: Aldığı sipariş(orders) sayısı, 100'den fazla olan personelleri(staff) aşağıdaki şekilde listeleyen saklı yordam kodunu yazınız.\r\n",
                "            - Personel ID ve sipariş sayısı(as countOfOrder) çıktı olarak verilmelidir.\r\n",
                "            - Satılan toplam ürün sayısına göre büyükten küçüğe sıralanmalıdır.\r\n",
                "            - Uygun JOIN yöntemleri kullanılmalıdır.\r\n",
                "            - Parametre değeri olarak 100 kullanılacaktır. (Parametre değeri çalışmayan uygulamalar değerlendirilmeyecektir!)\r\n",
                "*/\r\n",
                "\r\n",
                "create procedure siparisVePersonelListesi\r\n",
                "(@param int)\r\n",
                "as\r\n",
                "begin\r\n",
                "    select staffs.staff_id, COUNT(orders.\"staff_id\") as \"countOfOrder\" \r\n",
                "    from staffs\r\n",
                "    join orders on orders.staff_id=staffs.staff_id\r\n",
                "    group by staffs.staff_id\r\n",
                "    having count(orders.\"staff_id\") > @param\r\n",
                "    order by countOfOrder desc\r\n",
                "END\r\n",
                "\r\n",
                "--exec siparisVePersonelListesi 100\r\n",
                "\r\n",
                "/*\r\n",
                "YORUMLARINIZI YAZINIZ\r\n",
                "siparis ve personelleri listelemeye uygun bir isim bularak procedure oluşturdum.\r\n",
                "as begin diyerek sql sorgularını yazmaya başladım.\r\n",
                "select ile persenol id, sipariş sayısını as countOfOrder diyerek yaptım.\r\n",
                "ancak staffs ile orders arasında ki bağı kurmak için staff_id leri eşitledim.\r\n",
                "ardından group by diyerek gruplama yaparak listeledim.\r\n",
                "ardından büyükten küçüğe dediği için order by ifadesini kullandım.\r\n",
                "100 den fazla olanları listelemek içinde tıpki 2. soruda olduğu gibi having kullanarak yaptım.\r\n",
                "\r\n",
                "doğru çalıştığını test etmek için exec olarak çalıştırdım. parametre olarak da 100 verdim.\r\n",
                "*/"
            ],
            "metadata": {
                "azdata_cell_guid": "a6161525-d210-4c0e-a6ca-b67658df5803",
                "extensions": {
                    "azuredatastudio": {
                        "views": []
                    }
                }
            },
            "outputs": [
                {
                    "output_type": "display_data",
                    "data": {
                        "text/html": "(4 rows affected)"
                    },
                    "metadata": {}
                },
                {
                    "output_type": "display_data",
                    "data": {
                        "text/html": "Total execution time: 00:00:00.020"
                    },
                    "metadata": {}
                },
                {
                    "output_type": "execute_result",
                    "metadata": {},
                    "execution_count": 24,
                    "data": {
                        "application/vnd.dataresource+json": {
                            "schema": {
                                "fields": [
                                    {
                                        "name": "staff_id"
                                    },
                                    {
                                        "name": "countOfOrder"
                                    }
                                ]
                            },
                            "data": [
                                {
                                    "0": "3",
                                    "1": "184"
                                },
                                {
                                    "0": "6",
                                    "1": "553"
                                },
                                {
                                    "0": "7",
                                    "1": "540"
                                },
                                {
                                    "0": "2",
                                    "1": "164"
                                }
                            ]
                        },
                        "text/html": [
                            "<table>",
                            "<tr><th>staff_id</th><th>countOfOrder</th></tr>",
                            "<tr><td>3</td><td>184</td></tr>",
                            "<tr><td>6</td><td>553</td></tr>",
                            "<tr><td>7</td><td>540</td></tr>",
                            "<tr><td>2</td><td>164</td></tr>",
                            "</table>"
                        ]
                    }
                }
            ],
            "execution_count": 24
        },
        {
            "cell_type": "code",
            "source": [
                "/*\r\n",
                "(10p) Soru 4: Toplam stok sayısı(quantity), 25'ten fazla olan ürünleri(product) aşağıdaki şekilde listeleyen saklı yordam kodunu yazınız.\r\n",
                "            - Ürün ID, ürün adı, marka ID, model yılı ve stok sayısı(as sumOfQuantity) çıktı olarak verilmelidir.\r\n",
                "            - Ürün adına göre küçükten büyüğe sıralanmalıdır.\r\n",
                "            - Uygun JOIN yöntemleri kullanılmalıdır.\r\n",
                "            - Parametre değeri olarak 25 kullanılacaktır. (Parametre değeri çalışmayan uygulamalar değerlendirilmeyecektir!)\r\n",
                "*/\r\n",
                "create procedure ToplamStokSayisiUrunListesi \r\n",
                "(@parametre int)\r\n",
                "as begin\r\n",
                "select products.product_id, products.product_name, products.brand_id, products.model_year, sum(stocks.quantity) as sumOfQuantity from products\r\n",
                "join stocks on stocks.product_id = products.product_id\r\n",
                "group by products.product_id, products.product_name, products.brand_id, products.model_year\r\n",
                "having sum(stocks.quantity) > @parametre\r\n",
                "order by products.product_name asc\r\n",
                "end\r\n",
                "\r\n",
                "--exec ToplamStokSayisiUrunListesi 25\r\n",
                "/*\r\n",
                "YORUMLARINIZI YAZINIZ\r\n",
                "create procedure ile uygun isimli bir procedure oluşturdum.\r\n",
                "daha sonra as begin ile sql sorgularını yazmaya başladım.\r\n",
                "burada select ile ürün ID, ürün Adı, marka ID, model yılı ve stok sayısını as sumOfQuantity ile tanımlayarak yazdım.\r\n",
                "ancak bunları yaparken join on  ile stocks ile products'ı product_id ile birbirine bağlayarak yaptım.\r\n",
                "group by ile select ile yazdıklarımı çağırdım ve gruplayarak yazdım.\r\n",
                "order by ile küçükten büyüğe sıralama işlemini yaptım.\r\n",
                "having ile 25'ten fazla olan ürünleri listeledim. Ancak bu 25 parametre olarak gelen sayıya göre listeledim.\r\n",
                "\r\n",
                "doğru çalışıp çalışmadığını exec ile çağırarak test ettim.\r\n",
                "*/"
            ],
            "metadata": {
                "azdata_cell_guid": "ffeb6265-4980-4e4e-87ed-0279f8fc8cf6",
                "extensions": {
                    "azuredatastudio": {
                        "views": []
                    }
                }
            },
            "outputs": [
                {
                    "output_type": "error",
                    "evalue": "Msg 2714, Level 16, State 3, Procedure ToplamStokSayisiUrunListesi, Line 8\r\nThere is already an object named 'ToplamStokSayisiUrunListesi' in the database.",
                    "ename": "",
                    "traceback": []
                },
                {
                    "output_type": "display_data",
                    "data": {
                        "text/html": "Total execution time: 00:00:00.010"
                    },
                    "metadata": {}
                }
            ],
            "execution_count": 30
        },
        {
            "cell_type": "code",
            "source": [
                "/*\r\n",
                "(10p) Soru 5: Rowlett Bikes mağazasındaki(stores) stoklarda(stocks) bulunan ürünlerden(products) isminin ikinci harfi 'a' olan ürünleri aşağıdaki şekilde listeleyen saklı yordam kodunu yazınız.\r\n",
                "            - Mağaza adı, stok miktarı, ürün adı ve fiyatı sayısı çıktı olarak verilmelidir.\r\n",
                "            - Parametre değeri olarak Rowlett Bikes kullanılacaktır. (Parametre değeri çalışmayan uygulamalar değerlendirilmeyecektir!)\r\n",
                "*/\r\n",
                "create procedure magazayaGoreStocks\r\n",
                "(@param nvarchar(max))\r\n",
                "AS BEGIN\r\n",
                "    select stores.store_name, stocks.quantity, products.product_name, products.list_price \r\n",
                "    from stores\r\n",
                "    join stocks ON stocks.store_id=stores.store_id\r\n",
                "    JOIN products ON stocks.product_id=products.product_id\r\n",
                "    where (products.product_name LIKE '_a%') \r\n",
                "    and (stores.store_name = @param)\r\n",
                "end\r\n",
                "\r\n",
                "--exec magazayaGoreStocks 'Rowlett Bikes'   \r\n",
                "/*\r\n",
                "YORUMLARINIZI YAZINIZ\r\n",
                "burada ilk önce uygun procedure ismi verdim. ardından param değişkenine gelen parametrede nvarchar ile bir string tanımladım. as begin dedikten sonra sql sorgularını yazmaya başladım\r\n",
                "ilk önce select ile istenen değişkenleri girdim\r\n",
                "ardından from ile stores dan çektikten sonra bilgileri stocks ile products arasında ki bağı kurdum stores ile. join on kullanarak\r\n",
                "ardından where şartı ile 2. harfi a olan ürünleri listeledim. ve diyerek de store.name ismini kullandım Daha sonra çalıştığını görmek için exec sorgusunu çağırdım.\r\n",
                "*/"
            ],
            "metadata": {
                "azdata_cell_guid": "511881ff-baf4-4291-9acd-d844e7f5b35a",
                "extensions": {
                    "azuredatastudio": {
                        "views": []
                    }
                },
                "tags": []
            },
            "outputs": [
                {
                    "output_type": "display_data",
                    "data": {
                        "text/html": "(10 rows affected)"
                    },
                    "metadata": {}
                },
                {
                    "output_type": "display_data",
                    "data": {
                        "text/html": "Total execution time: 00:00:00.023"
                    },
                    "metadata": {}
                },
                {
                    "output_type": "execute_result",
                    "metadata": {},
                    "execution_count": 33,
                    "data": {
                        "application/vnd.dataresource+json": {
                            "schema": {
                                "fields": [
                                    {
                                        "name": "store_name"
                                    },
                                    {
                                        "name": "quantity"
                                    },
                                    {
                                        "name": "product_name"
                                    },
                                    {
                                        "name": "list_price"
                                    }
                                ]
                            },
                            "data": [
                                {
                                    "0": "Rowlett Bikes",
                                    "1": "30",
                                    "2": "Haro Flightline One ST - 2017",
                                    "3": "379.99"
                                },
                                {
                                    "0": "Rowlett Bikes",
                                    "1": "23",
                                    "2": "Haro Flightline Two 26 Plus - 2017",
                                    "3": "549.99"
                                },
                                {
                                    "0": "Rowlett Bikes",
                                    "1": "25",
                                    "2": "Haro Shift R3 - 2017",
                                    "3": "1469.99"
                                },
                                {
                                    "0": "Rowlett Bikes",
                                    "1": "26",
                                    "2": "Haro SR 1.1 - 2017",
                                    "3": "539.99"
                                },
                                {
                                    "0": "Rowlett Bikes",
                                    "1": "1",
                                    "2": "Haro SR 1.2 - 2017",
                                    "3": "869.99"
                                },
                                {
                                    "0": "Rowlett Bikes",
                                    "1": "16",
                                    "2": "Haro SR 1.3 - 2017",
                                    "3": "1409.99"
                                },
                                {
                                    "0": "Rowlett Bikes",
                                    "1": "15",
                                    "2": "Haro Downtown 16 - 2017",
                                    "3": "329.99"
                                },
                                {
                                    "0": "Rowlett Bikes",
                                    "1": "28",
                                    "2": "Haro Shredder 20 - 2017",
                                    "3": "209.99"
                                },
                                {
                                    "0": "Rowlett Bikes",
                                    "1": "18",
                                    "2": "Haro Shredder 20 Girls - 2017",
                                    "3": "209.99"
                                },
                                {
                                    "0": "Rowlett Bikes",
                                    "1": "15",
                                    "2": "Haro Shredder Pro 20 - 2017",
                                    "3": "249.99"
                                }
                            ]
                        },
                        "text/html": [
                            "<table>",
                            "<tr><th>store_name</th><th>quantity</th><th>product_name</th><th>list_price</th></tr>",
                            "<tr><td>Rowlett Bikes</td><td>30</td><td>Haro Flightline One ST - 2017</td><td>379.99</td></tr>",
                            "<tr><td>Rowlett Bikes</td><td>23</td><td>Haro Flightline Two 26 Plus - 2017</td><td>549.99</td></tr>",
                            "<tr><td>Rowlett Bikes</td><td>25</td><td>Haro Shift R3 - 2017</td><td>1469.99</td></tr>",
                            "<tr><td>Rowlett Bikes</td><td>26</td><td>Haro SR 1.1 - 2017</td><td>539.99</td></tr>",
                            "<tr><td>Rowlett Bikes</td><td>1</td><td>Haro SR 1.2 - 2017</td><td>869.99</td></tr>",
                            "<tr><td>Rowlett Bikes</td><td>16</td><td>Haro SR 1.3 - 2017</td><td>1409.99</td></tr>",
                            "<tr><td>Rowlett Bikes</td><td>15</td><td>Haro Downtown 16 - 2017</td><td>329.99</td></tr>",
                            "<tr><td>Rowlett Bikes</td><td>28</td><td>Haro Shredder 20 - 2017</td><td>209.99</td></tr>",
                            "<tr><td>Rowlett Bikes</td><td>18</td><td>Haro Shredder 20 Girls - 2017</td><td>209.99</td></tr>",
                            "<tr><td>Rowlett Bikes</td><td>15</td><td>Haro Shredder Pro 20 - 2017</td><td>249.99</td></tr>",
                            "</table>"
                        ]
                    }
                }
            ],
            "execution_count": 33
        },
        {
            "cell_type": "code",
            "source": [
                "/*\r\n",
                "(10p) Soru 6: Mağazalardaki(stores) bulunan ürünlerden(products), stok(stocks) miktarı 15'ten büyük olanların stok sayısını, maksimum fiyatını ve minimum fiyatını aşağıdaki şekilde listeleyen saklı yordam kodunu yazınız.\r\n",
                "            - Mağaza adı, toplam ürün sayısı as (totalCount), maksimum fiyat değeri as (maxPrice) ve minimum fiyat as (minPrice) değeri çıktı olarak verilmelidir.\r\n",
                "            - Parametre değeri olarak 15 kullanılacaktır. (Parametre değeri çalışmayan uygulamalar değerlendirilmeyecektir!)\r\n",
                "*/\r\n",
                "\r\n",
                "create procedure MagazaveStocks (@param int)\r\n",
                "as begin\r\n",
                "select stores.store_name, sum(stocks.quantity) as totalCount, max(products.list_price) as maxPrice, min(products.list_price) as minPrice \r\n",
                "from products\r\n",
                "join stocks on stocks.product_id = products.product_id\r\n",
                "join stores on stores.store_id = stocks.store_id\r\n",
                "group by stores.store_name\r\n",
                "having sum(stocks.quantity) > @param\r\n",
                "end\r\n",
                "\r\n",
                "--exec MagazaveStocks 15\r\n",
                "/*\r\n",
                "YORUMLARINIZI YAZINIZ\r\n",
                "Burada ilk önce uygun isim vererek procedure oluşturdum\r\n",
                "ardından select ile istenen bilgileri vermesini sağladım. Bunları from ile productsdan çektim. Ancak çekebilmem için products'ı stocks ve stores ile bağ kurdutmam gerekiyordu.\r\n",
                "store_id ile product_id yi kullandım.\r\n",
                "group by ile name'i gruplayarak yazdırdım. diğerleri fonksiyon olduğu için gruplama da ismi yazılmadı.\r\n",
                "hardından having ile istenen param şartını yaptım. doğruluğunu test etmek için exec komutunu çalıştırdım. \r\n",
                "*/"
            ],
            "metadata": {
                "azdata_cell_guid": "c61597af-9eb5-4bba-8106-a5df1092d260",
                "extensions": {
                    "azuredatastudio": {
                        "views": []
                    }
                }
            },
            "outputs": [
                {
                    "output_type": "display_data",
                    "data": {
                        "text/html": "Commands completed successfully."
                    },
                    "metadata": {}
                },
                {
                    "output_type": "display_data",
                    "data": {
                        "text/html": "Total execution time: 00:00:00.003"
                    },
                    "metadata": {}
                }
            ],
            "execution_count": 34
        },
        {
            "cell_type": "code",
            "source": [
                "/*\r\n",
                "(10p) Soru 7: Baldwin Bikes mağazasında(store) çalışan personel(staffs) sayısını aşağıdaki şekilde listeleyen saklı yordam kodunu yazınız.\r\n",
                "            - Çalışan sayısı as (countofStaffs) çıktı olarak verilmelidir.\r\n",
                "            - Parametre değeri olarak Baldwin Bikes kullanılacaktır. (Parametre değeri çalışmayan uygulamalar değerlendirilmeyecektir!)\r\n",
                "*/\r\n",
                "\r\n",
                "\r\n",
                "/*\r\n",
                "YORUMLARINIZI YAZINIZ\r\n",
                ".\r\n",
                ".\r\n",
                ".\r\n",
                "*/"
            ],
            "metadata": {
                "azdata_cell_guid": "7806b393-f895-45f5-866b-79c03b57fd87",
                "extensions": {
                    "azuredatastudio": {
                        "views": []
                    }
                }
            },
            "outputs": [],
            "execution_count": null
        },
        {
            "cell_type": "code",
            "source": [
                "/*\r\n",
                "(10p) Soru 8: Markası(brand), Trek olan ürünlerin(product) toplam liste fiyatını(list_price) aşağıdaki şekilde listeleyen saklı yordam kodunu yazınız.\r\n",
                "            - Liste fiyatının toplamı as (sumofListPrices) çıktı olarak verilmelidir.\r\n",
                "            - Parametre değeri olarak Trek kullanılacaktır. (Parametre değeri çalışmayan uygulamalar değerlendirilmeyecektir!)\r\n",
                "*/\r\n",
                "\r\n",
                "create PROCEDURE markaTrek \r\n",
                "(@param varchar(50))\r\n",
                "as BEGIN\r\n",
                "select sum(products.list_price) as sumOfListPrices from products\r\n",
                "join brands on brands.brand_id = products.brand_id\r\n",
                "where brands.brand_name = @param\r\n",
                "END\r\n",
                "\r\n",
                "--exec markaTrek 'Trek'\r\n",
                "/*\r\n",
                "YORUMLARINIZI YAZINIZ\r\n",
                "ilk önce uygun isim verilerek procedure oluşturuldu.\r\n",
                "ardından parametre olarak varchar verildi. Böylece string bir değişken parametre olarak atanmış oldu.\r\n",
                "ardından select komutları girilmeye başlandı. select ile istenilenler yazdırıldı.\r\n",
                "join ile fromdan çektiğim products ile brands arasında bağ kurulup brands dan brand_name çekildi parametre koşulu olarak\r\n",
                "en sonda da exec ile doğruluğu test edildi.\r\n",
                "*/"
            ],
            "metadata": {
                "azdata_cell_guid": "b04fb583-37d2-4039-b768-6aee54560076",
                "extensions": {
                    "azuredatastudio": {
                        "views": []
                    }
                }
            },
            "outputs": [
                {
                    "output_type": "display_data",
                    "data": {
                        "text/html": "Commands completed successfully."
                    },
                    "metadata": {}
                },
                {
                    "output_type": "display_data",
                    "data": {
                        "text/html": "Total execution time: 00:00:00.008"
                    },
                    "metadata": {}
                }
            ],
            "execution_count": 35
        },
        {
            "cell_type": "code",
            "source": [
                "/*\r\n",
                "(10p) Soru 9: Adı Jone olan müşteriye(customer) ait tüm siparişler için sipariş(orders) tarihini aşağıdaki şekilde listeleyen saklı yordam kodunu yazınız.\r\n",
                "            - Müşteri Adı, müşteri soyadı ve sipariş tarihi çıktı olarak verilmelidir.\r\n",
                "            - Parametre değeri olarak Jone kullanılacaktır. (Parametre değeri çalışmayan uygulamalar değerlendirilmeyecektir!)\r\n",
                "*/\r\n",
                "\r\n",
                "\r\n",
                "\r\n",
                "/*\r\n",
                "YORUMLARINIZI YAZINIZ\r\n",
                ".\r\n",
                ".\r\n",
                ".\r\n",
                "*/"
            ],
            "metadata": {
                "azdata_cell_guid": "183c44fe-3687-41cf-bb0d-4108f7144632",
                "extensions": {
                    "azuredatastudio": {
                        "views": []
                    }
                }
            },
            "outputs": [],
            "execution_count": null
        },
        {
            "cell_type": "code",
            "source": [
                "/*\r\n",
                "(10p) Soru 10: Stok(stocks) miktarı 19'dan az ve liste fiyatı 2500'den fazla olan ürünleri(products) aşağıdaki şekilde listeleyen saklı yordam kodunu yazınız.\r\n",
                "             - Mağaza ID, ürün ID, ürün adı, stok miktarı ve liste fiyatı çıktı olarak verilmelidir.\r\n",
                "             - Parametre değeri olarak 19 ve 2500 kullanılacaktır. (Parametre değeri çalışmayan uygulamalar değerlendirilmeyecektir!)\r\n",
                "*/\r\n",
                "\r\n",
                "create PROCEDURE miktarı19dankucukOlanStoklar (@param int, @secondParam int)\r\n",
                "as BEGIN\r\n",
                "select stores.store_id, products.product_id, stocks.quantity, products.list_price\r\n",
                "FROM products\r\n",
                "join stocks on stocks.product_id = products.product_id\r\n",
                "JOIN stores on stores.store_id = stocks.store_id\r\n",
                "where stocks.quantity < @param and products.list_price > @secondParam\r\n",
                "END\r\n",
                "\r\n",
                "--exec miktarı19dankucukOlanStoklar @param = 19, @secondParam = 2500\r\n",
                "/*\r\n",
                "YORUMLARINIZI YAZINIZ\r\n",
                "uygun procedure ismi girilerek oluşturuldu. select ile soruda verilen isterler girdirildi. ardından from ile productsdan veriler çekildi.\r\n",
                "çekilmesi için productsın join on ile stocks ve stores ile bağlantı kurulması sağlandı. 2 tane parametre olduğu için where şartında and ile bağlanarak bu 2 parametre\r\n",
                "uygun şekilde şekildi.\r\n",
                "en sonda da doğruluğu test edilmesi için exec çalıştırıldı.\r\n",
                "*/"
            ],
            "metadata": {
                "azdata_cell_guid": "10db3cc1-b203-47b4-be84-6b50a7f3db26",
                "extensions": {
                    "azuredatastudio": {
                        "views": []
                    }
                }
            },
            "outputs": [
                {
                    "output_type": "display_data",
                    "data": {
                        "text/html": "Commands completed successfully."
                    },
                    "metadata": {}
                },
                {
                    "output_type": "display_data",
                    "data": {
                        "text/html": "Total execution time: 00:00:00.010"
                    },
                    "metadata": {}
                }
            ],
            "execution_count": 37
        }
    ]
}