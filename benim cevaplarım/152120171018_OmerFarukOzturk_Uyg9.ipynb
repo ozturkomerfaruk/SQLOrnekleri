{
    "metadata": {
        "kernelspec": {
            "name": "SQL",
            "display_name": "SQL",
            "language": "sql"
        },
        "language_info": {
            "name": "sql",
            "version": ""
        },
        "extensions": {
            "azuredatastudio": {
                "version": 1,
                "views": []
            }
        }
    },
    "nbformat_minor": 2,
    "nbformat": 4,
    "cells": [
        {
            "cell_type": "markdown",
            "source": [
                "**VERİ TABANI YÖNETİM SİSTEMLERİ LAB UYGULAMA 9**\n",
                "\n",
                "**Not**: Prelab dokümanında verilen veri tabanını oluşturduktan sonra aşağıda verilen sorulara uygun SQL kodlarını yazınız.  \n",
                "Yazdığınız kodları <u>yorumlarınızla</u> açıklayınız. \n",
                "\n",
                "ESUZEM'de açılan yere bu dosyayı \"OgrNo\\_AdSoyad\\_UygNo.ipynb\" dosya adı ile beraber yükleyiniz.\n",
                "\n",
                "Örnek dosya adı : <span style=\"color:red;font-size:14pt;\">152120181000_ZekeriyyaDemirci_Uyg9.ipynb</span>"
            ],
            "metadata": {
                "azdata_cell_guid": "57161e9c-4158-450a-8a9b-e55e14e1b033",
                "extensions": {
                    "azuredatastudio": {
                        "views": []
                    }
                }
            },
            "attachments": {}
        },
        {
            "cell_type": "code",
            "source": [
                "/*\r\n",
                "-- SORUYA HAZIRLIK --\r\n",
                "Uygulama 8'de oluşturulan \"VtysLabDB\" veritabanı mevcutta veri tabanınınzda yoksa aşağıdaki gibi oluşturunuz.\r\n",
                "*/\r\n",
                "CREATE DATABASE VtysLabDB"
            ],
            "metadata": {
                "azdata_cell_guid": "55aea5cd-0aab-4276-8ae9-ade2c6811e48",
                "tags": [],
                "extensions": {
                    "azuredatastudio": {
                        "views": []
                    }
                }
            },
            "outputs": [
                {
                    "output_type": "display_data",
                    "data": {
                        "text/html": "Commands completed successfully."
                    },
                    "metadata": {}
                },
                {
                    "output_type": "display_data",
                    "data": {
                        "text/html": "Total execution time: 00:00:00.356"
                    },
                    "metadata": {}
                }
            ],
            "execution_count": 3
        },
        {
            "cell_type": "code",
            "source": [
                "/*\r\n",
                "-- SORUYA HAZIRLIK --\r\n",
                "VtysLabDB veri tabanında ilgili tabloları oluşturmak için kullanınız.\r\n",
                "*/\r\n",
                "USE VtysLabDB\r\n",
                "\r\n",
                "CREATE TABLE tblCustomer\r\n",
                "(\r\n",
                "    customerID INT IDENTITY PRIMARY KEY,\r\n",
                "    firs_name VARCHAR(20) NOT NULL,\r\n",
                "    last_name VARCHAR(20) DEFAULT 'NotSpecified',\r\n",
                "    age INT NOT NULL,\r\n",
                "    CONSTRAINT CHC_CustomerAge CHECK (age>=18)\r\n",
                ")\r\n",
                "\r\n",
                "INSERT INTO tblCustomer(firs_name,last_name,age) \r\n",
                "VALUES\r\n",
                "('Debra','Burks',24),\r\n",
                "('Kasha','Todd',36),\r\n",
                "('Robby','Sykes',22)\r\n",
                "\r\n",
                "\r\n",
                "CREATE TABLE tblProduct\r\n",
                "(\r\n",
                "    productID INT IDENTITY PRIMARY KEY,\r\n",
                "    product_name VARCHAR(255) NOT NULL,\r\n",
                "    price FLOAT NOT NULL,\r\n",
                "    CONSTRAINT CHC_ProductPrice CHECK (price>0)\r\n",
                ")\r\n",
                "\r\n",
                "INSERT INTO tblProduct (product_name,price)\r\n",
                "VALUES\r\n",
                "('Surly Straggler',12.5),\r\n",
                "('Electra Townie Original',10),\r\n",
                "('Pure Cycles William',5)\r\n",
                "\r\n",
                "\r\n",
                "CREATE TABLE tblOrder\r\n",
                "(\r\n",
                "    orderID INT IDENTITY PRIMARY KEY,\r\n",
                "    productID INT,\r\n",
                "    customerID INT,\r\n",
                "    CONSTRAINT FK_ProductOrder FOREIGN KEY (productID) REFERENCES tblProduct(productID),\r\n",
                "    CONSTRAINT FK_CustomertOrder FOREIGN KEY (customerID) REFERENCES tblCustomer(customerID)\r\n",
                ")\r\n",
                "\r\n",
                ""
            ],
            "metadata": {
                "azdata_cell_guid": "53075f9d-f3a1-4e15-abbb-73d880086e08",
                "extensions": {
                    "azuredatastudio": {
                        "views": []
                    }
                }
            },
            "outputs": [
                {
                    "output_type": "display_data",
                    "data": {
                        "text/html": "(3 rows affected)"
                    },
                    "metadata": {}
                },
                {
                    "output_type": "display_data",
                    "data": {
                        "text/html": "(3 rows affected)"
                    },
                    "metadata": {}
                },
                {
                    "output_type": "display_data",
                    "data": {
                        "text/html": "Total execution time: 00:00:00.036"
                    },
                    "metadata": {}
                }
            ],
            "execution_count": 4
        },
        {
            "cell_type": "code",
            "source": [
                "/*\r\n",
                "-- SORUYA HAZIRLIK --\r\n",
                "\"tblOrder\" tablosuna aşağıdaki 5 adet kayıt ekleyiniz. \r\n",
                "*/  \r\n",
                "use VtysLabDB\r\n",
                "\r\n",
                "INSERT INTO tblOrder (customerID,productID)\r\n",
                "VALUES\r\n",
                "(1,1),\r\n",
                "(1,2),\r\n",
                "(1,3),\r\n",
                "(2,1),\r\n",
                "(2,2),\r\n",
                "(2,3),\r\n",
                "(3,1),\r\n",
                "(3,2),\r\n",
                "(3,3)"
            ],
            "metadata": {
                "azdata_cell_guid": "8d83caf4-a680-44e0-9560-5072970519b4",
                "extensions": {
                    "azuredatastudio": {
                        "views": []
                    }
                }
            },
            "outputs": [
                {
                    "output_type": "display_data",
                    "data": {
                        "text/html": "(9 rows affected)"
                    },
                    "metadata": {}
                },
                {
                    "output_type": "display_data",
                    "data": {
                        "text/html": "Total execution time: 00:00:00.027"
                    },
                    "metadata": {}
                }
            ],
            "execution_count": 5
        },
        {
            "cell_type": "code",
            "source": [
                "/*\r\n",
                "(15p) Soru 1 : \"TRG_CustomerCount\" adında bir trigger oluşturunuz. Bu trigger \"tblcustomer\" tablosuna kayıt eklendikten sonra toplam müşteri(customer) sayısı \"countOfCustomer\" adıyla ekrana yazdırsın.\r\n",
                "*/  \r\n",
                "\r\n",
                "use VtysLabDB\r\n",
                "go\r\n",
                "create TRIGGER TRG_CustomerCount \r\n",
                "on tblCustomer\r\n",
                "after insert as \r\n",
                "(SELECT COUNT(*) AS countOfCustomer \r\n",
                "FROM tblCustomer)\r\n",
                "\r\n",
                "/* \r\n",
                "Burada use VtysLabDB den sonra create trigger oluşturmaya çalıştığımda hata aldığımı gördüm. araya GO eklediğim zaman hatanın çözüldüğünü gördüm. USE kaldırdığım zaman da hatanın çözüldüğünü gördüm.\r\n",
                "Trigger oluşturmada isim verirken create trigger yazdıktan sonra direk isim girdirilir.\r\n",
                "hangi table'da çalışmamız gerekiyorsa on'dan sonra tablo adı eklenir.\r\n",
                "after terimi => işlem yapıldıktan sonra anlamı katar\r\n",
                "insert => tabloda hangi sql işlemi sırasında çalıştırılacağını belirtiriz.\r\n",
                "sql sorgusunda ise tblCustomer'dan çekileceğini ve count işlemi için as ile isim girdirilmiştir.\r\n",
                "*/"
            ],
            "metadata": {
                "azdata_cell_guid": "c6303b08-0c5f-4796-9edc-e2dca5d45be9",
                "extensions": {
                    "azuredatastudio": {
                        "views": []
                    }
                }
            },
            "outputs": [
                {
                    "output_type": "display_data",
                    "data": {
                        "text/html": "Commands completed successfully."
                    },
                    "metadata": {}
                },
                {
                    "output_type": "display_data",
                    "data": {
                        "text/html": "Total execution time: 00:00:00.009"
                    },
                    "metadata": {}
                }
            ],
            "execution_count": 14
        },
        {
            "cell_type": "code",
            "source": [
                "/* SORU 1 İLE BAĞIMLIDIR. SORU 1 YAPILMADIĞI TAKTİRDE PUANLAMA OLMAYACAKTIR.\r\n",
                "(5p) Soru 2 : Aşağıda verilen kaydı \"tblCustomer\" tablosuna ekleyiniz. Aldığınız sonucu MUTLAKA açıklayınız.\r\n",
                "\r\n",
                "kayıtlar :  => 'Melia','Korly',42\r\n",
                "\r\n",
                "*/  \r\n",
                "\r\n",
                "use VtysLabDB\r\n",
                "insert into tblCustomer(firs_name, last_name, age)\r\n",
                "values ('Melia', 'Korly', 42)\r\n",
                "\r\n",
                "\r\n",
                "/* \r\n",
                "bir insert into sorgusu yazılacaktır.isim eklendiği zaman sonuca baktığımda ise görmüş olduğum şey countOfCustomer adı altında 4 kişinin gözükmesi.\r\n",
                "Neden ekleme işleminden sonra böyle bir sonuç çıktı? Çünkü Trigger ile yaptığımız fonksiyonel işlemden dolayı.\r\n",
                "*/"
            ],
            "metadata": {
                "azdata_cell_guid": "d00a828e-a80d-4682-b4bb-c969d64344ce",
                "extensions": {
                    "azuredatastudio": {
                        "views": []
                    }
                }
            },
            "outputs": [
                {
                    "output_type": "display_data",
                    "data": {
                        "text/html": "(1 row affected)"
                    },
                    "metadata": {}
                },
                {
                    "output_type": "display_data",
                    "data": {
                        "text/html": "(1 row affected)"
                    },
                    "metadata": {}
                },
                {
                    "output_type": "display_data",
                    "data": {
                        "text/html": "Total execution time: 00:00:00.062"
                    },
                    "metadata": {}
                },
                {
                    "output_type": "execute_result",
                    "metadata": {},
                    "execution_count": 17,
                    "data": {
                        "application/vnd.dataresource+json": {
                            "schema": {
                                "fields": [
                                    {
                                        "name": "countOfCustomer"
                                    }
                                ]
                            },
                            "data": [
                                {
                                    "0": "4"
                                }
                            ]
                        },
                        "text/html": [
                            "<table>",
                            "<tr><th>countOfCustomer</th></tr>",
                            "<tr><td>4</td></tr>",
                            "</table>"
                        ]
                    }
                }
            ],
            "execution_count": 17
        },
        {
            "cell_type": "code",
            "source": [
                "/*\r\n",
                "(15p) Soru 3 : \"TRG_DeletedProduct\" adında bir trigger oluşturunuz. Bu trigger \"tblProduct\" tablosundan bir kayıt silindikten sonra silinen kaydı ekrana yazdırsın.\r\n",
                "*/  \r\n",
                "use VtysLabDB\r\n",
                "go\r\n",
                "create TRIGGER TRG_DeletedProduct \r\n",
                "on tblProduct\r\n",
                "after delete as \r\n",
                "begin\r\n",
                "    declare @ProductID int\r\n",
                "    declare @ProductName varchar(255)\r\n",
                "    declare @Price float\r\n",
                "\r\n",
                "    select @ProductID = deleted.productID , @ProductName = deleted.product_name , @Price = deleted.price\r\n",
                "    from deleted\r\n",
                "end\r\n",
                "\r\n",
                "\r\n",
                "/* \r\n",
                "    1. soruda ki gibi GO kullanımı yapılmıştır. GO kullanılmaması için use komutunu da silmek gerekmektedir.\r\n",
                "    create trigger ile verilen isimle bir trigger oluşturulmuştur.\r\n",
                "    on ile Product tablosunda oluşturulmuştur.\r\n",
                "    after ile soruda ki bir kayıt silindikten 'sonra' ifadesi yerine getirilmiştir.\r\n",
                "    begin ile end arasında ise sql ifadesi yapılacaktır.\r\n",
                "    ilk başta declare ile değişkenler tanındı. Bunlar Product tablosunda ki değişkenlerdir. Ardından\r\n",
                "    silindikten sonra ekrana bastıralacaklar için select komutları yazıldı. from deleted ile silinen ifadesi yerine getirildi.\r\n",
                "*/"
            ],
            "metadata": {
                "azdata_cell_guid": "bc1c12a0-6562-4295-9b1e-83fd8efa503b",
                "extensions": {
                    "azuredatastudio": {
                        "views": []
                    }
                }
            },
            "outputs": [
                {
                    "output_type": "display_data",
                    "data": {
                        "text/html": "Commands completed successfully."
                    },
                    "metadata": {}
                },
                {
                    "output_type": "error",
                    "evalue": "Msg 2714, Level 16, State 2, Procedure TRG_DeletedProduct, Line 1\r\nThere is already an object named 'TRG_DeletedProduct' in the database.",
                    "ename": "",
                    "traceback": []
                },
                {
                    "output_type": "display_data",
                    "data": {
                        "text/html": "Total execution time: 00:00:00.002"
                    },
                    "metadata": {}
                }
            ],
            "execution_count": 19
        },
        {
            "cell_type": "code",
            "source": [
                "/* SORU 3 İLE BAĞIMLIDIR. SORU 3 YAPILMADIĞI TAKTİRDE PUANLAMA OLMAYACAKTIR.\r\n",
                "(25p) Soru 4 : \"tblProduct\" tablosundan sizin belirlediğiniz bir kaydı siliniz. Bu süreçte karşınıza çıkan hatalara uygun çözümler üreterek tablodan kaydı silin. \r\n",
                "                Aldığınız hatayı, nedenini ve çözümünüzü MUTLAKA yorumda yazınız. Aksi halde puan verilmeyecektir.\r\n",
                "\r\n",
                "*/  \r\n",
                "\r\n",
                "use VtysLabDB\r\n",
                "alter table tblOrder drop constraint fk_ProductOrder\r\n",
                "alter table tblOrder add constraint fk_ProductOrder \r\n",
                "foreign key (productID)\r\n",
                "references tblProduct(productID)\r\n",
                "on delete cascade\r\n",
                "delete from tblProduct \r\n",
                "where productID >1\r\n",
                "\r\n",
                "\r\n",
                "/* \r\n",
                "    use ile veritabanı bağlantısı kuruldu.\r\n",
                "    alter table komut satırları ile constraint i düşürmeyi hedeflenmiştir. Çünkü bir hata ile karşılaştım. Karşılaştığım hatayı şöyle yorumluyorum\r\n",
                "    tblProduct tablonun primay keyi order tablosunun foreign key ile bağı olduğu için silinemiyordu. Ardından constraint oluşturduktan sonra\r\n",
                "    foreign key oluşturdum. References ile referans alındığı ID yapıldı ve arasında ki bağ kuruldu.\r\n",
                "    on delete cascade ile  tablodan kayıtı silme işlemi yapıldı.\r\n",
                "    cascade'in çalışma mantığı şöyledir => references ile belirtilen sütunda bir eylem olduğunda foreign key ile belirtilen ilişki sütununda benzer eylemi yapar.\r\n",
                "    Ardındna benim istediğim şartları şöyle belirttim. where ile productID'si 1 den büyük olan hepsini sil dedim. Böylelikle hatayı çözdüm ve istenilen şartı sağlayan kodu yazmış oldum.\r\n",
                "*/"
            ],
            "metadata": {
                "azdata_cell_guid": "151fd782-f2c7-4d0e-a485-59e82d8374dc",
                "extensions": {
                    "azuredatastudio": {
                        "views": []
                    }
                }
            },
            "outputs": [
                {
                    "output_type": "display_data",
                    "data": {
                        "text/html": "(1 row affected)"
                    },
                    "metadata": {}
                },
                {
                    "output_type": "display_data",
                    "data": {
                        "text/html": "Total execution time: 00:00:00.013"
                    },
                    "metadata": {}
                }
            ],
            "execution_count": 23
        },
        {
            "cell_type": "code",
            "source": [
                "/*\r\n",
                "-- SORUYA HAZIRLIK --\r\n",
                "Aşağıda verilen şekilde tabloyu oluşturunuz. Bu tabloyu bir sonraki soruda \"silinen siparişleri(order) saklamak için kullanacağız.\"\r\n",
                "         - Tablo adı : tblLoss\r\n",
                "         - Kolonlar  :\r\n",
                "                        - lossID       : Integer veri tipindedir. Primary KEY olarak kullanılacaktır. Otomatik olarak artış gösterir.\r\n",
                "                        - orderID      : Integer veri tipindedir. \r\n",
                "                        - productID    : Integer veri tipindedir.\r\n",
                "                        - product_name : Varchar(255) veri tipindedir. NULL olmasına izin verilmez.\r\n",
                "                        - price        : Float veri tipindedir. NULL olmasına izin verilmez.\r\n",
                "*/  \r\n",
                "\r\n",
                "CREATE TABLE tblLoss\r\n",
                "(\r\n",
                "    lossID INT IDENTITY PRIMARY KEY,\r\n",
                "    orderID INT,\r\n",
                "    productID INT,\r\n",
                "    product_name VARCHAR(255) NOT NULL,\r\n",
                "    price FLOAT NOT NULL\r\n",
                ")"
            ],
            "metadata": {
                "azdata_cell_guid": "1f8a5357-4118-4ef2-aeb8-d8594a743466",
                "extensions": {
                    "azuredatastudio": {
                        "views": []
                    }
                }
            },
            "outputs": [
                {
                    "output_type": "display_data",
                    "data": {
                        "text/html": "Commands completed successfully."
                    },
                    "metadata": {}
                },
                {
                    "output_type": "display_data",
                    "data": {
                        "text/html": "Total execution time: 00:00:00.011"
                    },
                    "metadata": {}
                }
            ],
            "execution_count": 20
        },
        {
            "cell_type": "code",
            "source": [
                "/*\r\n",
                "(35p) Soru 5 : \"TRG_DeletedOrder\" adında bir trigger oluşturunuz. Bu trigger \"tblOrder\" tablosundan bir kayıt silindikten sonra aşağıda belirtilen görevleri yerine getirmelidir.\r\n",
                "                - \"tblOrder\" tablosundan silinen kaydı \"tblLoss\" tablosuna kaydedecektir. \"tblLoss\" tablosundaki kolonlara dikkat ediniz.\r\n",
                "                - \"tblLoss\"  tablosundaki kayıtların ürün bazında toplam fiyatını(price) \"totalPriceLoss\" adıyla ekrana yazdıracaktır. (Hangi üründen kaç liralık sipariş silinmiştir? )\r\n",
                "*/  \r\n",
                "\r\n",
                "use VtysLabDB\r\n",
                "go \r\n",
                "create trigger TRG_DeletedOrder\r\n",
                "on tblOrder\r\n",
                "after delete as\r\n",
                "begin\r\n",
                "    declare @orderID int\r\n",
                "    declare @productID int \r\n",
                "    declare @product_name varchar(255)\r\n",
                "    declare @price float \r\n",
                "    \r\n",
                "    select @orderID = deleted.orderID , @productID = deleted.productID, @product_name = deleted.product_name , @price = deleted.price\r\n",
                "    join tblProduct on tblProduct.productID = deleted.productID\r\n",
                "    insert into tblLoss(orderID, productID, product_name, price)\r\n",
                "    values (@orderID, @productID, @product_name, @price)\r\n",
                "\r\n",
                "    select tblLoss.productID as productID, sum(price) as totalPriceLoss\r\n",
                "    from tblLoss\r\n",
                "    group by tblLoss.productID\r\n",
                "end\r\n",
                "\r\n",
                "/* \r\n",
                "Go kullanımı use kullanıldığı için yapılmıştır diğer sorularda olduğu gibi.\r\n",
                "create trigger ile soruda verilen isim ile trigger oluşturulmuştur.\r\n",
                "on ile istenilen tabloda oluşturulmuştur trigger.\r\n",
                "after ile 'sonra' ifadesinin karşılığından dolayı kullanılarak yazılıştır.\r\n",
                "delete ile silme işlemi ifade edilmiştir. as den sonra begin ile end arasında yazılan sql komutları yazılmıştır. bunlar şöyledir.\r\n",
                "\r\n",
                "tblOrder tablosundan silinen kaydı tblLoss tablosuna kaydedebilmem için insert into kullanılacaktır. ancak ondan da önce select ile deleted kısmını yapmam gerekmektedir.\r\n",
                "select ile declare ile tanımlamış olduğum tblLoss tablosunda ki veriledir. Bu verileri ise productID ile tablosu ile bağlayabilmem gerekmektedir.\r\n",
                "Bunu da join on ile yaptım. Join on ile silinen product ile ile tblProduct id yi birleştirdim. Böylelikle productID, product name ve price i çekebilmem sağlanmıştır.\r\n",
                "insert into ile silinen bilgileri tblLoss'a ekleyebiliyor oluyorum.\r\n",
                "\r\n",
                "ardından select silinen hangi üründen kaç liralık sipariş edildiğini ile yaptım. group by ile de en son gruplama yaparak yaptım.\r\n",
                "*/"
            ],
            "metadata": {
                "azdata_cell_guid": "288c04e8-a19a-4cee-a9ec-a04510bf4b0a",
                "extensions": {
                    "azuredatastudio": {
                        "views": []
                    }
                }
            },
            "outputs": [],
            "execution_count": null
        },
        {
            "cell_type": "code",
            "source": [
                "/* SORU 5 İLE BAĞIMLIDIR. SORU 5 YAPILMADIĞI TAKTİRDE PUANLAMA OLMAYACAKTIR.\r\n",
                "(5p) Soru 6 : \"tblOrder\" tablosundan sizin belirlediğiniz en az 2 farklı siparişi siliniz. Bu siparişler farklı ürünler için olmalıdır. Sonucu yorumda açıklayınız. \r\n",
                "\r\n",
                "*/\r\n",
                "\r\n",
                "\r\n",
                "\r\n",
                "/* \r\n",
                "YORUMLARINIZI YAZINIZ\r\n",
                ".\r\n",
                ".\r\n",
                ".\r\n",
                "*/\r\n",
                ""
            ],
            "metadata": {
                "azdata_cell_guid": "9bf059a7-26db-4820-833b-0e57d4dd1e75",
                "extensions": {
                    "azuredatastudio": {
                        "views": []
                    }
                }
            },
            "outputs": [],
            "execution_count": null
        }
    ]
}