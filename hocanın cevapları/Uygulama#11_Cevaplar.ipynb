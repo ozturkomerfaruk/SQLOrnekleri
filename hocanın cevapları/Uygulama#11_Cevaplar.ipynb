{
    "metadata": {
        "kernelspec": {
            "name": "SQL",
            "display_name": "SQL",
            "language": "sql"
        },
        "language_info": {
            "name": "sql",
            "version": ""
        }
    },
    "nbformat_minor": 2,
    "nbformat": 4,
    "cells": [
        {
            "cell_type": "markdown",
            "source": [
                "**VERİ TABANI YÖNETİM SİSTEMLERİ LAB. UYGULAMA 11**\n",
                "\n",
                "**Not**: Prelab dokümanında verilen veri tabanını oluşturduktan sonra aşağıda verilen sorulara uygun SQL kodlarını yazınız.  \n",
                "Yazdığınız kodları <u>yorumlarınızla</u> açıklayınız.  \n",
                "Yazdığınız kodun <u>çıktısı</u>, göndereceğiniz dosyada listeleyiniz.\n",
                "\n",
                "**NOT:** <u>ÇALIŞMAYAN KOD, DEĞERLENDİRMEYE GİRMEYECEKTİR!</u>\n",
                "\n",
                "ESUZEM'de açılan yere bu dosyayı \"OgrNo\\_AdSoyad\\_UygNo.ipynb\" dosya adı ile beraber yükleyiniz.\n",
                "\n",
                "Örnek dosya adı : <span style=\"color: red; font-size: 14pt;\">152120181000_SergenAsik_Uyg11.ipynb</span>"
            ],
            "metadata": {
                "azdata_cell_guid": "dffce7c0-99ef-4f0a-90c7-924acd443499"
            },
            "attachments": {}
        },
        {
            "cell_type": "code",
            "source": [
                "/*\r\n",
                "(25p) Soru 1: Belirli bir mağazadaki(stores) çalışanlara(staffs) email gönderilmek istenmektedir. Aşağıdaki koşullara göre fonksiyon kodunu yazınız.\r\n",
                "            - Mağazanın adı parametre olarak fonksiyona verildiğinde o mağazadaki çalışanların email adresleri listelenmelidir.\r\n",
                "            - Hiç kayıt bulunamıyorsa 'Value cannot be found!' uyarısını listelemelidir.\r\n",
                "            - Parametre değeri olarak 'Rowlett Bikes' kullanılacaktır. (Parametre değeri çalışmayan uygulamalar değerlendirilmeyecektir!)\r\n",
                "*/\r\n",
                "\r\n",
                "CREATE FUNCTION storeMailGroup (@store_name nvarchar(50))\r\n",
                "    RETURNS @staffsMail TABLE (email nvarchar(50))\r\n",
                "AS\r\n",
                "BEGIN\r\n",
                "    INSERT INTO @staffsMail\r\n",
                "    SELECT staffs.email FROM stores INNER JOIN staffs ON stores.store_id = staffs.store_id AND store_name LIKE @store_name\r\n",
                "DECLARE @count INTEGER\r\n",
                "    SELECT @count = COUNT(*) FROM @staffsMail\r\n",
                "IF @count = 0\r\n",
                "    INSERT INTO @staffsMail VALUES ('Value cannot be found!')\r\n",
                "    RETURN\r\n",
                "END\r\n",
                "GO\r\n",
                "\r\n",
                "SELECT * FROM storeMailGroup('Rowlett Bikes')\r\n",
                "\r\n",
                "/*\r\n",
                "YORUMLARINIZI YAZINIZ\r\n",
                ".\r\n",
                ".\r\n",
                ".\r\n",
                "*/"
            ],
            "metadata": {
                "azdata_cell_guid": "3fa359aa-6dff-41b3-ae98-34ef73675797"
            },
            "outputs": [
                {
                    "output_type": "display_data",
                    "data": {
                        "text/html": "Commands completed successfully."
                    },
                    "metadata": {}
                },
                {
                    "output_type": "display_data",
                    "data": {
                        "text/html": "(3 rows affected)"
                    },
                    "metadata": {}
                },
                {
                    "output_type": "display_data",
                    "data": {
                        "text/html": "Total execution time: 00:00:00.020"
                    },
                    "metadata": {}
                },
                {
                    "output_type": "execute_result",
                    "execution_count": 57,
                    "data": {
                        "application/vnd.dataresource+json": {
                            "schema": {
                                "fields": [
                                    {
                                        "name": "email"
                                    }
                                ]
                            },
                            "data": [
                                {
                                    "0": "kali.vargas@bikes.shop"
                                },
                                {
                                    "0": "layla.terrell@bikes.shop"
                                },
                                {
                                    "0": "bernardine.houston@bikes.shop"
                                }
                            ]
                        },
                        "text/html": "<table><tr><th>email</th></tr><tr><td>kali.vargas@bikes.shop</td></tr><tr><td>layla.terrell@bikes.shop</td></tr><tr><td>bernardine.houston@bikes.shop</td></tr></table>"
                    },
                    "metadata": {}
                }
            ],
            "execution_count": 57
        },
        {
            "cell_type": "code",
            "source": [
                "/*\r\n",
                "(25p) Soru 2: Belirli bir müşterinin(customers), sipariş(orders) vermiş olduğu order_date listelenmek istenmektedir. Aşağıdaki koşullara göre fonksiyon kodunu yazınız.\r\n",
                "            - Müşterinin adı parametre olarak fonksiyona verildiğinde o müşteriye ait siparişlerin tarihleri listelenmelidir.\r\n",
                "            - Hiç kayıt bulunamıyorsa 'Value cannot be found!' uyarısını listelemelidir.\r\n",
                "            - Parametre değeri olarak 'Debra Burks' kullanılacaktır. (Parametre değeri çalışmayan uygulamalar değerlendirilmeyecektir!)\r\n",
                "            NOT: Parametre değerinin iki ayrı sütunu (first_name, last_name) temsil ettiğini unutmayınız!\r\n",
                "*/\r\n",
                "\r\n",
                "CREATE FUNCTION customerOrderDate (@customers_name nvarchar(50), @customers_surname nvarchar(50))\r\n",
                "    RETURNS @customerOrdersDate TABLE (order_date DATE)\r\n",
                "AS\r\n",
                "BEGIN\r\n",
                "    INSERT INTO @customerOrdersDate\r\n",
                "    SELECT orders.order_date FROM customers INNER JOIN orders ON customers.customer_id = orders.customer_id AND (customers.first_name LIKE @customers_name AND customers.last_name LIKE @customers_surname)\r\n",
                "DECLARE @count INTEGER\r\n",
                "    SELECT @count = COUNT(*) FROM @customerOrdersDate\r\n",
                "IF @count = 0\r\n",
                "    INSERT INTO @customerOrdersDate VALUES ('Value cannot be found!')\r\n",
                "    RETURN\r\n",
                "END\r\n",
                "GO\r\n",
                "\r\n",
                "SELECT * FROM customerOrderDate('Debra', 'Burks')\r\n",
                "\r\n",
                "/*\r\n",
                "YORUMLARINIZI YAZINIZ\r\n",
                ".\r\n",
                ".\r\n",
                ".\r\n",
                "*/"
            ],
            "metadata": {
                "azdata_cell_guid": "b896c547-64cf-4f2a-b407-458fc1b30a37"
            },
            "outputs": [
                {
                    "output_type": "display_data",
                    "data": {
                        "text/html": "Commands completed successfully."
                    },
                    "metadata": {}
                },
                {
                    "output_type": "display_data",
                    "data": {
                        "text/html": "(3 rows affected)"
                    },
                    "metadata": {}
                },
                {
                    "output_type": "display_data",
                    "data": {
                        "text/html": "Total execution time: 00:00:00.018"
                    },
                    "metadata": {}
                },
                {
                    "output_type": "execute_result",
                    "execution_count": 58,
                    "data": {
                        "application/vnd.dataresource+json": {
                            "schema": {
                                "fields": [
                                    {
                                        "name": "order_date"
                                    }
                                ]
                            },
                            "data": [
                                {
                                    "0": "2016-12-09"
                                },
                                {
                                    "0": "2018-04-18"
                                },
                                {
                                    "0": "2018-11-18"
                                }
                            ]
                        },
                        "text/html": "<table><tr><th>order_date</th></tr><tr><td>2016-12-09</td></tr><tr><td>2018-04-18</td></tr><tr><td>2018-11-18</td></tr></table>"
                    },
                    "metadata": {}
                }
            ],
            "execution_count": 58
        },
        {
            "cell_type": "code",
            "source": [
                "/*\r\n",
                "(25p) Soru 3: Belirli bir mağazadaki(stores) stoklarda(stocks) bulunan ürünlerin(products) stok adet miktarı görüntülenmek istenmektedir. Aşağıdaki koşullara göre fonksiyon kodunu yazınız.\r\n",
                "            - Mağazanın adı parametre olarak fonksiyona verildiğinde o mağazadaki bulunan ürünlerin adı ve stok miktarı listelenmelidir.\r\n",
                "            - Hiç kayıt bulunamıyorsa 'Value cannot be found!' uyarısını listelemelidir.\r\n",
                "            - Parametre değeri olarak 'Santa Cruz Bikes' kullanılacaktır. (Parametre değeri çalışmayan uygulamalar değerlendirilmeyecektir!)\r\n",
                "*/\r\n",
                "\r\n",
                "CREATE FUNCTION storeProductStocks8 (@store_name nvarchar(50))\r\n",
                "    RETURNS @productStocks TABLE (product_name nvarchar(255), quantity INTEGER)\r\n",
                "AS\r\n",
                "BEGIN\r\n",
                "    INSERT INTO @productStocks\r\n",
                "    SELECT products.product_name, stocks.quantity FROM ((stocks INNER JOIN products ON stocks.product_id = products.product_id) INNER JOIN stores ON stocks.store_id = stores.store_id AND store_name LIKE @store_name)\r\n",
                "DECLARE @count INTEGER\r\n",
                "    SELECT @count = COUNT(*) FROM @productStocks\r\n",
                "IF @count = 0\r\n",
                "    INSERT INTO @productStocks VALUES ('Value cannot be found!', 0)\r\n",
                "    RETURN\r\n",
                "END\r\n",
                "GO\r\n",
                "\r\n",
                "SELECT * FROM storeProductStocks8('Santa Cruz Bikes')\r\n",
                "\r\n",
                "/*\r\n",
                "YORUMLARINIZI YAZINIZ\r\n",
                ".\r\n",
                ".\r\n",
                ".\r\n",
                "*/"
            ],
            "metadata": {
                "azdata_cell_guid": "e6c79517-317d-464d-a69c-cf464c942be9",
                "tags": []
            },
            "outputs": [
                {
                    "output_type": "display_data",
                    "data": {
                        "text/html": "Commands completed successfully."
                    },
                    "metadata": {}
                },
                {
                    "output_type": "display_data",
                    "data": {
                        "text/html": "(313 rows affected)"
                    },
                    "metadata": {}
                },
                {
                    "output_type": "display_data",
                    "data": {
                        "text/html": "Total execution time: 00:00:00.018"
                    },
                    "metadata": {}
                },
                {
                    "output_type": "execute_result",
                    "execution_count": 59,
                    "data": {
                        "application/vnd.dataresource+json": {
                            "schema": {
                                "fields": [
                                    {
                                        "name": "product_name"
                                    },
                                    {
                                        "name": "quantity"
                                    }
                                ]
                            },
                            "data": [
                                {
                                    "0": "Trek 820 - 2016",
                                    "1": "27"
                                },
                                {
                                    "0": "Ritchey Timberwolf Frameset - 2016",
                                    "1": "5"
                                },
                                {
                                    "0": "Surly Wednesday Frameset - 2016",
                                    "1": "6"
                                },
                                {
                                    "0": "Trek Fuel EX 8 29 - 2016",
                                    "1": "23"
                                },
                                {
                                    "0": "Heller Shagamaw Frame - 2016",
                                    "1": "22"
                                },
                                {
                                    "0": "Surly Ice Cream Truck Frameset - 2016",
                                    "1": "0"
                                },
                                {
                                    "0": "Trek Slash 8 27.5 - 2016",
                                    "1": "8"
                                },
                                {
                                    "0": "Trek Remedy 29 Carbon Frameset - 2016",
                                    "1": "0"
                                },
                                {
                                    "0": "Trek Conduit+ - 2016",
                                    "1": "11"
                                },
                                {
                                    "0": "Surly Straggler - 2016",
                                    "1": "15"
                                },
                                {
                                    "0": "Surly Straggler 650b - 2016",
                                    "1": "8"
                                },
                                {
                                    "0": "Electra Townie Original 21D - 2016",
                                    "1": "16"
                                },
                                {
                                    "0": "Electra Cruiser 1 (24-Inch) - 2016",
                                    "1": "13"
                                },
                                {
                                    "0": "Electra Girl's Hawaii 1 (16-inch) - 2015/2016",
                                    "1": "8"
                                },
                                {
                                    "0": "Electra Moto 1 - 2016",
                                    "1": "3"
                                },
                                {
                                    "0": "Electra Townie Original 7D EQ - 2016",
                                    "1": "4"
                                },
                                {
                                    "0": "Pure Cycles Vine 8-Speed - 2016",
                                    "1": "2"
                                },
                                {
                                    "0": "Pure Cycles Western 3-Speed - Women's - 2015/2016",
                                    "1": "16"
                                },
                                {
                                    "0": "Pure Cycles William 3-Speed - 2016",
                                    "1": "4"
                                },
                                {
                                    "0": "Electra Townie Original 7D EQ - Women's - 2016",
                                    "1": "26"
                                },
                                {
                                    "0": "Electra Cruiser 1 (24-Inch) - 2016",
                                    "1": "24"
                                },
                                {
                                    "0": "Electra Girl's Hawaii 1 (16-inch) - 2015/2016",
                                    "1": "29"
                                },
                                {
                                    "0": "Electra Girl's Hawaii 1 (20-inch) - 2015/2016",
                                    "1": "9"
                                },
                                {
                                    "0": "Electra Townie Original 21D - 2016",
                                    "1": "10"
                                },
                                {
                                    "0": "Electra Townie Original 7D - 2015/2016",
                                    "1": "10"
                                },
                                {
                                    "0": "Electra Townie Original 7D EQ - 2016",
                                    "1": "16"
                                },
                                {
                                    "0": "Surly Big Dummy Frameset - 2017",
                                    "1": "21"
                                },
                                {
                                    "0": "Surly Karate Monkey 27.5+ Frameset - 2017",
                                    "1": "20"
                                },
                                {
                                    "0": "Trek X-Caliber 8 - 2017",
                                    "1": "13"
                                },
                                {
                                    "0": "Surly Ice Cream Truck Frameset - 2017",
                                    "1": "30"
                                },
                                {
                                    "0": "Surly Wednesday - 2017",
                                    "1": "2"
                                },
                                {
                                    "0": "Trek Farley Alloy Frameset - 2017",
                                    "1": "0"
                                },
                                {
                                    "0": "Surly Wednesday Frameset - 2017",
                                    "1": "10"
                                },
                                {
                                    "0": "Trek Session DH 27.5 Carbon Frameset - 2017",
                                    "1": "2"
                                },
                                {
                                    "0": "Sun Bicycles Spider 3i - 2017",
                                    "1": "18"
                                },
                                {
                                    "0": "Surly Troll Frameset - 2017",
                                    "1": "26"
                                },
                                {
                                    "0": "Haro Flightline One ST - 2017",
                                    "1": "12"
                                },
                                {
                                    "0": "Haro Flightline Two 26 Plus - 2017",
                                    "1": "13"
                                },
                                {
                                    "0": "Trek Stache 5 - 2017",
                                    "1": "2"
                                },
                                {
                                    "0": "Trek Fuel EX 9.8 29 - 2017",
                                    "1": "24"
                                },
                                {
                                    "0": "Haro Shift R3 - 2017",
                                    "1": "10"
                                },
                                {
                                    "0": "Trek Fuel EX 5 27.5 Plus - 2017",
                                    "1": "0"
                                },
                                {
                                    "0": "Trek Fuel EX 9.8 27.5 Plus - 2017",
                                    "1": "2"
                                },
                                {
                                    "0": "Haro SR 1.1 - 2017",
                                    "1": "1"
                                },
                                {
                                    "0": "Haro SR 1.2 - 2017",
                                    "1": "15"
                                },
                                {
                                    "0": "Haro SR 1.3 - 2017",
                                    "1": "19"
                                },
                                {
                                    "0": "Trek Remedy 9.8 - 2017",
                                    "1": "21"
                                },
                                {
                                    "0": "Trek Emonda S 4 - 2017",
                                    "1": "5"
                                },
                                {
                                    "0": "Trek Domane SL 6 - 2017",
                                    "1": "8"
                                },
                                {
                                    "0": "Trek Silque SLR 7 Women's - 2017",
                                    "1": "29"
                                },
                                {
                                    "0": "Trek Silque SLR 8 Women's - 2017",
                                    "1": "2"
                                },
                                {
                                    "0": "Surly Steamroller - 2017",
                                    "1": "18"
                                },
                                {
                                    "0": "Surly Ogre Frameset - 2017",
                                    "1": "17"
                                },
                                {
                                    "0": "Trek Domane SL Disc Frameset - 2017",
                                    "1": "11"
                                },
                                {
                                    "0": "Trek Domane S 6 - 2017",
                                    "1": "11"
                                },
                                {
                                    "0": "Trek Domane SLR 6 Disc - 2017",
                                    "1": "15"
                                },
                                {
                                    "0": "Trek Emonda S 5 - 2017",
                                    "1": "1"
                                },
                                {
                                    "0": "Trek Madone 9.2 - 2017",
                                    "1": "1"
                                },
                                {
                                    "0": "Trek Domane S 5 Disc - 2017",
                                    "1": "22"
                                },
                                {
                                    "0": "Sun Bicycles ElectroLite - 2017",
                                    "1": "19"
                                },
                                {
                                    "0": "Trek Powerfly 8 FS Plus - 2017",
                                    "1": "30"
                                },
                                {
                                    "0": "Trek Boone 7 - 2017",
                                    "1": "21"
                                },
                                {
                                    "0": "Trek Boone Race Shop Limited - 2017",
                                    "1": "4"
                                },
                                {
                                    "0": "Electra Townie Original 7D - 2017",
                                    "1": "30"
                                },
                                {
                                    "0": "Sun Bicycles Lil Bolt Type-R - 2017",
                                    "1": "10"
                                },
                                {
                                    "0": "Sun Bicycles Revolutions 24 - 2017",
                                    "1": "12"
                                },
                                {
                                    "0": "Sun Bicycles Revolutions 24 - Girl's - 2017",
                                    "1": "19"
                                },
                                {
                                    "0": "Sun Bicycles Cruz 3 - 2017",
                                    "1": "30"
                                },
                                {
                                    "0": "Sun Bicycles Cruz 7 - 2017",
                                    "1": "4"
                                },
                                {
                                    "0": "Electra Amsterdam Original 3i - 2015/2017",
                                    "1": "3"
                                },
                                {
                                    "0": "Sun Bicycles Atlas X-Type - 2017",
                                    "1": "25"
                                },
                                {
                                    "0": "Sun Bicycles Biscayne Tandem 7 - 2017",
                                    "1": "9"
                                },
                                {
                                    "0": "Sun Bicycles Brickell Tandem 7 - 2017",
                                    "1": "7"
                                },
                                {
                                    "0": "Electra Cruiser Lux 1 - 2017",
                                    "1": "9"
                                },
                                {
                                    "0": "Electra Cruiser Lux Fat Tire 1 Ladies - 2017",
                                    "1": "23"
                                },
                                {
                                    "0": "Electra Girl's Hawaii 1 16\" - 2017",
                                    "1": "15"
                                },
                                {
                                    "0": "Electra Glam Punk 3i Ladies' - 2017",
                                    "1": "16"
                                },
                                {
                                    "0": "Sun Bicycles Biscayne Tandem CB - 2017",
                                    "1": "13"
                                },
                                {
                                    "0": "Sun Bicycles Boardwalk (24-inch Wheels) - 2017",
                                    "1": "13"
                                },
                                {
                                    "0": "Sun Bicycles Brickell Tandem CB - 2017",
                                    "1": "11"
                                },
                                {
                                    "0": "Electra Amsterdam Fashion 7i Ladies' - 2017",
                                    "1": "25"
                                },
                                {
                                    "0": "Electra Amsterdam Original 3i Ladies' - 2017",
                                    "1": "1"
                                },
                                {
                                    "0": "Trek Boy's Kickster - 2015/2017",
                                    "1": "13"
                                },
                                {
                                    "0": "Sun Bicycles Lil Kitt'n - 2017",
                                    "1": "11"
                                },
                                {
                                    "0": "Haro Downtown 16 - 2017",
                                    "1": "23"
                                },
                                {
                                    "0": "Trek Girl's Kickster - 2017",
                                    "1": "19"
                                },
                                {
                                    "0": "Trek Precaliber 12 Boys - 2017",
                                    "1": "27"
                                },
                                {
                                    "0": "Trek Precaliber 12 Girls - 2017",
                                    "1": "7"
                                },
                                {
                                    "0": "Trek Precaliber 16 Boys - 2017",
                                    "1": "9"
                                },
                                {
                                    "0": "Trek Precaliber 16 Girls - 2017",
                                    "1": "4"
                                },
                                {
                                    "0": "Trek Precaliber 24 (21-Speed) - Girls - 2017",
                                    "1": "8"
                                },
                                {
                                    "0": "Haro Shredder 20 - 2017",
                                    "1": "0"
                                },
                                {
                                    "0": "Haro Shredder 20 Girls - 2017",
                                    "1": "22"
                                },
                                {
                                    "0": "Haro Shredder Pro 20 - 2017",
                                    "1": "6"
                                },
                                {
                                    "0": "Electra Girl's Hawaii 1 16\" - 2017",
                                    "1": "25"
                                },
                                {
                                    "0": "Electra Moto 3i (20-inch) - Boy's - 2017",
                                    "1": "20"
                                },
                                {
                                    "0": "Electra Savannah 3i (20-inch) - Girl's - 2017",
                                    "1": "20"
                                },
                                {
                                    "0": "Electra Straight 8 3i (20-inch) - Boy's - 2017",
                                    "1": "28"
                                },
                                {
                                    "0": "Electra Sugar Skulls 1 (20-inch) - Girl's - 2017",
                                    "1": "28"
                                },
                                {
                                    "0": "Electra Townie 3i EQ (20-inch) - Boys' - 2017",
                                    "1": "15"
                                },
                                {
                                    "0": "Electra Townie 7D (20-inch) - Boys' - 2017",
                                    "1": "17"
                                },
                                {
                                    "0": "Electra Townie Original 7D - 2017",
                                    "1": "9"
                                },
                                {
                                    "0": "Sun Bicycles Streamway 3 - 2017",
                                    "1": "13"
                                },
                                {
                                    "0": "Sun Bicycles Streamway - 2017",
                                    "1": "25"
                                },
                                {
                                    "0": "Sun Bicycles Streamway 7 - 2017",
                                    "1": "7"
                                },
                                {
                                    "0": "Sun Bicycles Cruz 3 - 2017",
                                    "1": "30"
                                },
                                {
                                    "0": "Sun Bicycles Cruz 7 - 2017",
                                    "1": "20"
                                },
                                {
                                    "0": "Sun Bicycles Cruz 3 - Women's - 2017",
                                    "1": "15"
                                },
                                {
                                    "0": "Sun Bicycles Cruz 7 - Women's - 2017",
                                    "1": "30"
                                },
                                {
                                    "0": "Sun Bicycles Drifter 7 - 2017",
                                    "1": "1"
                                },
                                {
                                    "0": "Sun Bicycles Drifter 7 - Women's - 2017",
                                    "1": "11"
                                },
                                {
                                    "0": "Trek 820 - 2018",
                                    "1": "17"
                                },
                                {
                                    "0": "Trek Marlin 5 - 2018",
                                    "1": "24"
                                },
                                {
                                    "0": "Trek Marlin 6 - 2018",
                                    "1": "3"
                                },
                                {
                                    "0": "Trek Fuel EX 8 29 - 2018",
                                    "1": "10"
                                },
                                {
                                    "0": "Trek Marlin 7 - 2017/2018",
                                    "1": "24"
                                },
                                {
                                    "0": "Trek Ticket S Frame - 2018",
                                    "1": "15"
                                },
                                {
                                    "0": "Trek X-Caliber 8 - 2018",
                                    "1": "12"
                                },
                                {
                                    "0": "Trek Kids' Neko - 2018",
                                    "1": "17"
                                },
                                {
                                    "0": "Trek Fuel EX 7 29 - 2018",
                                    "1": "23"
                                },
                                {
                                    "0": "Surly Krampus Frameset - 2018",
                                    "1": "19"
                                },
                                {
                                    "0": "Surly Troll Frameset - 2018",
                                    "1": "22"
                                },
                                {
                                    "0": "Trek Farley Carbon Frameset - 2018",
                                    "1": "8"
                                },
                                {
                                    "0": "Surly Krampus - 2018",
                                    "1": "23"
                                },
                                {
                                    "0": "Trek Kids' Dual Sport - 2018",
                                    "1": "22"
                                },
                                {
                                    "0": "Surly Big Fat Dummy Frameset - 2018",
                                    "1": "28"
                                },
                                {
                                    "0": "Surly Pack Rat Frameset - 2018",
                                    "1": "12"
                                },
                                {
                                    "0": "Surly ECR 27.5 - 2018",
                                    "1": "11"
                                },
                                {
                                    "0": "Trek X-Caliber 7 - 2018",
                                    "1": "21"
                                },
                                {
                                    "0": "Trek Stache Carbon Frameset - 2018",
                                    "1": "22"
                                },
                                {
                                    "0": "Heller Bloodhound Trail - 2018",
                                    "1": "20"
                                },
                                {
                                    "0": "Trek Procal AL Frameset - 2018",
                                    "1": "1"
                                },
                                {
                                    "0": "Trek Procaliber Frameset - 2018",
                                    "1": "9"
                                },
                                {
                                    "0": "Trek Remedy 27.5 C Frameset - 2018",
                                    "1": "26"
                                },
                                {
                                    "0": "Trek X-Caliber Frameset - 2018",
                                    "1": "15"
                                },
                                {
                                    "0": "Trek Procaliber 6 - 2018",
                                    "1": "12"
                                },
                                {
                                    "0": "Heller Shagamaw GX1 - 2018",
                                    "1": "12"
                                },
                                {
                                    "0": "Trek Fuel EX 5 Plus - 2018",
                                    "1": "6"
                                },
                                {
                                    "0": "Trek Remedy 7 27.5 - 2018",
                                    "1": "17"
                                },
                                {
                                    "0": "Trek Remedy 9.8 27.5 - 2018",
                                    "1": "3"
                                },
                                {
                                    "0": "Trek Stache 5 - 2018",
                                    "1": "21"
                                },
                                {
                                    "0": "Trek Fuel EX 8 29 XT - 2018",
                                    "1": "22"
                                },
                                {
                                    "0": "Trek Domane ALR 3 - 2018",
                                    "1": "19"
                                },
                                {
                                    "0": "Trek Domane ALR 4 Disc - 2018",
                                    "1": "7"
                                },
                                {
                                    "0": "Trek Domane ALR 5 Disc - 2018",
                                    "1": "5"
                                },
                                {
                                    "0": "Trek Domane SLR 6 - 2018",
                                    "1": "6"
                                },
                                {
                                    "0": "Trek Domane ALR 5 Gravel - 2018",
                                    "1": "8"
                                },
                                {
                                    "0": "Trek Domane SL 8 Disc - 2018",
                                    "1": "6"
                                },
                                {
                                    "0": "Trek Domane SLR 8 Disc - 2018",
                                    "1": "1"
                                },
                                {
                                    "0": "Trek Emonda SL 7 - 2018",
                                    "1": "22"
                                },
                                {
                                    "0": "Trek Domane ALR 4 Disc Women's - 2018",
                                    "1": "24"
                                },
                                {
                                    "0": "Trek Domane SL 5 Disc Women's - 2018",
                                    "1": "12"
                                },
                                {
                                    "0": "Trek Domane SL 7 Women's - 2018",
                                    "1": "25"
                                },
                                {
                                    "0": "Trek Domane SLR 6 Disc Women's - 2018",
                                    "1": "13"
                                },
                                {
                                    "0": "Trek Domane SLR 9 Disc - 2018",
                                    "1": "8"
                                },
                                {
                                    "0": "Trek Domane SL Frameset - 2018",
                                    "1": "13"
                                },
                                {
                                    "0": "Trek Domane SL Frameset Women's - 2018",
                                    "1": "25"
                                },
                                {
                                    "0": "Trek CrossRip 1 - 2018",
                                    "1": "11"
                                },
                                {
                                    "0": "Trek Emonda ALR 6 - 2018",
                                    "1": "18"
                                },
                                {
                                    "0": "Trek Emonda SLR 6 - 2018",
                                    "1": "0"
                                },
                                {
                                    "0": "Surly ECR - 2018",
                                    "1": "17"
                                },
                                {
                                    "0": "Trek Emonda SL 6 Disc - 2018",
                                    "1": "14"
                                },
                                {
                                    "0": "Surly Pack Rat - 2018",
                                    "1": "0"
                                },
                                {
                                    "0": "Surly Straggler 650b - 2018",
                                    "1": "15"
                                },
                                {
                                    "0": "Trek 1120 - 2018",
                                    "1": "16"
                                },
                                {
                                    "0": "Trek Domane AL 2 Women's - 2018",
                                    "1": "23"
                                },
                                {
                                    "0": "Surly ECR Frameset - 2018",
                                    "1": "28"
                                },
                                {
                                    "0": "Surly Straggler - 2018",
                                    "1": "0"
                                },
                                {
                                    "0": "Trek Emonda SLR 8 - 2018",
                                    "1": "25"
                                },
                                {
                                    "0": "Trek CrossRip 2 - 2018",
                                    "1": "14"
                                },
                                {
                                    "0": "Trek Domane SL 6 - 2018",
                                    "1": "3"
                                },
                                {
                                    "0": "Trek Domane ALR Disc Frameset - 2018",
                                    "1": "3"
                                },
                                {
                                    "0": "Trek Domane ALR Frameset - 2018",
                                    "1": "2"
                                },
                                {
                                    "0": "Trek Domane SLR Disc Frameset - 2018",
                                    "1": "26"
                                },
                                {
                                    "0": "Trek Domane SLR Frameset - 2018",
                                    "1": "2"
                                },
                                {
                                    "0": "Trek Madone 9 Frameset - 2018",
                                    "1": "11"
                                },
                                {
                                    "0": "Trek Domane SLR 6 Disc - 2018",
                                    "1": "19"
                                },
                                {
                                    "0": "Trek Domane AL 2 - 2018",
                                    "1": "23"
                                },
                                {
                                    "0": "Trek Domane AL 3 - 2018",
                                    "1": "16"
                                },
                                {
                                    "0": "Trek Domane AL 3 Women's - 2018",
                                    "1": "5"
                                },
                                {
                                    "0": "Trek Domane SL 5 - 2018",
                                    "1": "19"
                                },
                                {
                                    "0": "Trek Domane SL 5 Disc - 2018",
                                    "1": "28"
                                },
                                {
                                    "0": "Trek Domane SL 5 Women's - 2018",
                                    "1": "11"
                                },
                                {
                                    "0": "Trek Domane SL 6 Disc - 2018",
                                    "1": "4"
                                },
                                {
                                    "0": "Trek Conduit+ - 2018",
                                    "1": "3"
                                },
                                {
                                    "0": "Trek CrossRip+ - 2018",
                                    "1": "1"
                                },
                                {
                                    "0": "Trek Neko+ - 2018",
                                    "1": "16"
                                },
                                {
                                    "0": "Trek XM700+ Lowstep - 2018",
                                    "1": "30"
                                },
                                {
                                    "0": "Trek Lift+ Lowstep - 2018",
                                    "1": "6"
                                },
                                {
                                    "0": "Trek Dual Sport+ - 2018",
                                    "1": "21"
                                },
                                {
                                    "0": "Electra Loft Go! 8i - 2018",
                                    "1": "21"
                                },
                                {
                                    "0": "Electra Townie Go! 8i - 2017/2018",
                                    "1": "20"
                                },
                                {
                                    "0": "Trek Lift+ - 2018",
                                    "1": "30"
                                },
                                {
                                    "0": "Trek XM700+ - 2018",
                                    "1": "24"
                                },
                                {
                                    "0": "Electra Townie Go! 8i Ladies' - 2018",
                                    "1": "1"
                                },
                                {
                                    "0": "Trek Verve+ - 2018",
                                    "1": "26"
                                },
                                {
                                    "0": "Trek Verve+ Lowstep - 2018",
                                    "1": "22"
                                },
                                {
                                    "0": "Electra Townie Commute Go! - 2018",
                                    "1": "1"
                                },
                                {
                                    "0": "Electra Townie Commute Go! Ladies' - 2018",
                                    "1": "2"
                                },
                                {
                                    "0": "Trek Powerfly 5 - 2018",
                                    "1": "27"
                                },
                                {
                                    "0": "Trek Powerfly 5 FS - 2018",
                                    "1": "16"
                                },
                                {
                                    "0": "Trek Powerfly 5 Women's - 2018",
                                    "1": "5"
                                },
                                {
                                    "0": "Trek Powerfly 7 FS - 2018",
                                    "1": "4"
                                },
                                {
                                    "0": "Trek Super Commuter+ 7 - 2018",
                                    "1": "23"
                                },
                                {
                                    "0": "Trek Super Commuter+ 8S - 2018",
                                    "1": "9"
                                },
                                {
                                    "0": "Trek Boone 5 Disc - 2018",
                                    "1": "10"
                                },
                                {
                                    "0": "Trek Boone 7 Disc - 2018",
                                    "1": "27"
                                },
                                {
                                    "0": "Trek Crockett 5 Disc - 2018",
                                    "1": "13"
                                },
                                {
                                    "0": "Trek Crockett 7 Disc - 2018",
                                    "1": "22"
                                },
                                {
                                    "0": "Surly Straggler - 2018",
                                    "1": "25"
                                },
                                {
                                    "0": "Surly Straggler 650b - 2018",
                                    "1": "13"
                                },
                                {
                                    "0": "Electra Townie Original 21D - 2018",
                                    "1": "17"
                                },
                                {
                                    "0": "Electra Cruiser 1 - 2016/2017/2018",
                                    "1": "14"
                                },
                                {
                                    "0": "Electra Tiger Shark 3i - 2018",
                                    "1": "4"
                                },
                                {
                                    "0": "Electra Queen of Hearts 3i - 2018",
                                    "1": "1"
                                },
                                {
                                    "0": "Electra Super Moto 8i - 2018",
                                    "1": "11"
                                },
                                {
                                    "0": "Electra Straight 8 3i - 2018",
                                    "1": "11"
                                },
                                {
                                    "0": "Electra Cruiser 7D - 2016/2017/2018",
                                    "1": "27"
                                },
                                {
                                    "0": "Electra Moto 3i - 2018",
                                    "1": "30"
                                },
                                {
                                    "0": "Electra Cruiser 1 Ladies' - 2018",
                                    "1": "4"
                                },
                                {
                                    "0": "Electra Cruiser 7D Ladies' - 2016/2018",
                                    "1": "7"
                                },
                                {
                                    "0": "Electra Cruiser 1 Tall - 2016/2018",
                                    "1": "12"
                                },
                                {
                                    "0": "Electra Cruiser Lux 3i - 2018",
                                    "1": "3"
                                },
                                {
                                    "0": "Electra Cruiser Lux 7D - 2018",
                                    "1": "16"
                                },
                                {
                                    "0": "Electra Delivery 3i - 2016/2017/2018",
                                    "1": "24"
                                },
                                {
                                    "0": "Electra Townie Original 21D EQ - 2017/2018",
                                    "1": "18"
                                },
                                {
                                    "0": "Electra Cruiser 7D (24-Inch) Ladies' - 2016/2018",
                                    "1": "19"
                                },
                                {
                                    "0": "Electra Cruiser 7D Tall - 2016/2018",
                                    "1": "22"
                                },
                                {
                                    "0": "Electra Cruiser Lux 1 - 2016/2018",
                                    "1": "27"
                                },
                                {
                                    "0": "Electra Cruiser Lux 1 Ladies' - 2018",
                                    "1": "7"
                                },
                                {
                                    "0": "Electra Cruiser Lux 3i Ladies' - 2018",
                                    "1": "25"
                                },
                                {
                                    "0": "Electra Cruiser Lux 7D Ladies' - 2018",
                                    "1": "5"
                                },
                                {
                                    "0": "Electra Cruiser Lux Fat Tire 7D - 2018",
                                    "1": "5"
                                },
                                {
                                    "0": "Electra Daydreamer 3i Ladies' - 2018",
                                    "1": "13"
                                },
                                {
                                    "0": "Electra Koa 3i Ladies' - 2018",
                                    "1": "7"
                                },
                                {
                                    "0": "Electra Morningstar 3i Ladies' - 2018",
                                    "1": "18"
                                },
                                {
                                    "0": "Electra Relic 3i - 2018",
                                    "1": "26"
                                },
                                {
                                    "0": "Electra Townie Balloon 8D EQ - 2016/2017/2018",
                                    "1": "20"
                                },
                                {
                                    "0": "Electra Townie Balloon 8D EQ Ladies' - 2016/2017/2018",
                                    "1": "28"
                                },
                                {
                                    "0": "Electra Townie Commute 27D Ladies - 2018",
                                    "1": "17"
                                },
                                {
                                    "0": "Electra Townie Commute 8D - 2018",
                                    "1": "17"
                                },
                                {
                                    "0": "Electra Townie Commute 8D Ladies' - 2018",
                                    "1": "10"
                                },
                                {
                                    "0": "Electra Townie Original 21D EQ Ladies' - 2018",
                                    "1": "11"
                                },
                                {
                                    "0": "Electra Townie Original 21D Ladies' - 2018",
                                    "1": "10"
                                },
                                {
                                    "0": "Electra Townie Original 3i EQ - 2017/2018",
                                    "1": "3"
                                },
                                {
                                    "0": "Electra Townie Original 3i EQ Ladies' - 2018",
                                    "1": "0"
                                },
                                {
                                    "0": "Electra Townie Original 7D EQ - 2018",
                                    "1": "15"
                                },
                                {
                                    "0": "Electra Townie Original 7D EQ Ladies' - 2017/2018",
                                    "1": "14"
                                },
                                {
                                    "0": "Electra White Water 3i - 2018",
                                    "1": "27"
                                },
                                {
                                    "0": "Electra Townie Go! 8i - 2017/2018",
                                    "1": "3"
                                },
                                {
                                    "0": "Electra Townie Commute Go! - 2018",
                                    "1": "2"
                                },
                                {
                                    "0": "Electra Townie Commute Go! Ladies' - 2018",
                                    "1": "28"
                                },
                                {
                                    "0": "Electra Townie Go! 8i Ladies' - 2018",
                                    "1": "16"
                                },
                                {
                                    "0": "Electra Townie Balloon 3i EQ - 2017/2018",
                                    "1": "24"
                                },
                                {
                                    "0": "Electra Townie Balloon 7i EQ Ladies' - 2017/2018",
                                    "1": "13"
                                },
                                {
                                    "0": "Electra Townie Commute 27D - 2018",
                                    "1": "20"
                                },
                                {
                                    "0": "Electra Amsterdam Fashion 3i Ladies' - 2017/2018",
                                    "1": "17"
                                },
                                {
                                    "0": "Electra Amsterdam Royal 8i - 2017/2018",
                                    "1": "25"
                                },
                                {
                                    "0": "Electra Amsterdam Royal 8i Ladies - 2018",
                                    "1": "10"
                                },
                                {
                                    "0": "Electra Townie Balloon 3i EQ Ladies' - 2018",
                                    "1": "20"
                                },
                                {
                                    "0": "Electra Townie Balloon 7i EQ - 2018",
                                    "1": "3"
                                },
                                {
                                    "0": "Trek MT 201 - 2018",
                                    "1": "6"
                                },
                                {
                                    "0": "Strider Classic 12 Balance Bike - 2018",
                                    "1": "21"
                                },
                                {
                                    "0": "Strider Sport 16 - 2018",
                                    "1": "16"
                                },
                                {
                                    "0": "Strider Strider 20 Sport - 2018",
                                    "1": "28"
                                },
                                {
                                    "0": "Trek Superfly 20 - 2018",
                                    "1": "1"
                                },
                                {
                                    "0": "Trek Precaliber 12 Girl's - 2018",
                                    "1": "27"
                                },
                                {
                                    "0": "Trek Kickster - 2018",
                                    "1": "23"
                                },
                                {
                                    "0": "Trek Precaliber 12 Boy's - 2018",
                                    "1": "22"
                                },
                                {
                                    "0": "Trek Precaliber 16 Boy's - 2018",
                                    "1": "16"
                                },
                                {
                                    "0": "Trek Precaliber 16 Girl's - 2018",
                                    "1": "6"
                                },
                                {
                                    "0": "Trek Precaliber 20 6-speed Boy's - 2018",
                                    "1": "14"
                                },
                                {
                                    "0": "Trek Precaliber 20 6-speed Girl's - 2018",
                                    "1": "20"
                                },
                                {
                                    "0": "Trek Precaliber 20 Boy's - 2018",
                                    "1": "19"
                                },
                                {
                                    "0": "Trek Precaliber 20 Girl's - 2018",
                                    "1": "28"
                                },
                                {
                                    "0": "Trek Precaliber 24 (7-Speed) - Boys - 2018",
                                    "1": "7"
                                },
                                {
                                    "0": "Trek Precaliber 24 21-speed Boy's - 2018",
                                    "1": "13"
                                },
                                {
                                    "0": "Trek Precaliber 24 21-speed Girl's - 2018",
                                    "1": "17"
                                },
                                {
                                    "0": "Trek Precaliber 24 7-speed Girl's - 2018",
                                    "1": "17"
                                },
                                {
                                    "0": "Trek Superfly 24 - 2017/2018",
                                    "1": "23"
                                },
                                {
                                    "0": "Electra Cruiser 7D (24-Inch) Ladies' - 2016/2018",
                                    "1": "11"
                                },
                                {
                                    "0": "Electra Cyclosaurus 1 (16-inch) - Boy's - 2018",
                                    "1": "6"
                                },
                                {
                                    "0": "Electra Heartchya 1 (20-inch) - Girl's - 2018",
                                    "1": "10"
                                },
                                {
                                    "0": "Electra Savannah 1 (20-inch) - Girl's - 2018",
                                    "1": "27"
                                },
                                {
                                    "0": "Electra Soft Serve 1 (16-inch) - Girl's - 2018",
                                    "1": "20"
                                },
                                {
                                    "0": "Electra Starship 1 16\" - 2018",
                                    "1": "28"
                                },
                                {
                                    "0": "Electra Straight 8 1 (16-inch) - Boy's - 2018",
                                    "1": "2"
                                },
                                {
                                    "0": "Electra Straight 8 1 (20-inch) - Boy's - 2018",
                                    "1": "9"
                                },
                                {
                                    "0": "Electra Superbolt 1 20\" - 2018",
                                    "1": "2"
                                },
                                {
                                    "0": "Electra Superbolt 3i 20\" - 2018",
                                    "1": "8"
                                },
                                {
                                    "0": "Electra Sweet Ride 1 (20-inch) - Girl's - 2018",
                                    "1": "9"
                                },
                                {
                                    "0": "Electra Sweet Ride 3i (20-inch) - Girls' - 2018",
                                    "1": "30"
                                },
                                {
                                    "0": "Electra Tiger Shark 1 (20-inch) - Boys' - 2018",
                                    "1": "18"
                                },
                                {
                                    "0": "Electra Tiger Shark 3i (20-inch) - Boys' - 2018",
                                    "1": "3"
                                },
                                {
                                    "0": "Electra Treasure 1 20\" - 2018",
                                    "1": "24"
                                },
                                {
                                    "0": "Electra Treasure 3i 20\" - 2018",
                                    "1": "9"
                                },
                                {
                                    "0": "Electra Under-The-Sea 1 16\" - 2018",
                                    "1": "22"
                                },
                                {
                                    "0": "Electra Water Lily 1 (16-inch) - Girl's - 2018",
                                    "1": "26"
                                },
                                {
                                    "0": "Electra Townie Original 21D - 2018",
                                    "1": "18"
                                },
                                {
                                    "0": "Electra Townie Balloon 3i EQ Ladies' - 2018",
                                    "1": "7"
                                },
                                {
                                    "0": "Electra Townie Balloon 7i EQ - 2018",
                                    "1": "10"
                                },
                                {
                                    "0": "Electra Townie Original 1 - 2018",
                                    "1": "0"
                                },
                                {
                                    "0": "Electra Townie Go! 8i - 2017/2018",
                                    "1": "12"
                                },
                                {
                                    "0": "Electra Townie Original 21D EQ - 2017/2018",
                                    "1": "15"
                                },
                                {
                                    "0": "Electra Townie Balloon 3i EQ - 2017/2018",
                                    "1": "23"
                                },
                                {
                                    "0": "Electra Townie Balloon 7i EQ Ladies' - 2017/2018",
                                    "1": "21"
                                },
                                {
                                    "0": "Electra Townie Balloon 8D EQ - 2016/2017/2018",
                                    "1": "17"
                                },
                                {
                                    "0": "Electra Townie Balloon 8D EQ Ladies' - 2016/2017/2018",
                                    "1": "23"
                                },
                                {
                                    "0": "Electra Townie Commute 27D - 2018",
                                    "1": "7"
                                },
                                {
                                    "0": "Electra Townie Commute 27D Ladies - 2018",
                                    "1": "18"
                                },
                                {
                                    "0": "Electra Townie Commute 8D - 2018",
                                    "1": "20"
                                },
                                {
                                    "0": "Electra Townie Commute 8D Ladies' - 2018",
                                    "1": "23"
                                },
                                {
                                    "0": "Electra Townie Original 1 Ladies' - 2018",
                                    "1": "14"
                                }
                            ]
                        },
                        "text/html": "<table><tr><th>product_name</th><th>quantity</th></tr><tr><td>Trek 820 - 2016</td><td>27</td></tr><tr><td>Ritchey Timberwolf Frameset - 2016</td><td>5</td></tr><tr><td>Surly Wednesday Frameset - 2016</td><td>6</td></tr><tr><td>Trek Fuel EX 8 29 - 2016</td><td>23</td></tr><tr><td>Heller Shagamaw Frame - 2016</td><td>22</td></tr><tr><td>Surly Ice Cream Truck Frameset - 2016</td><td>0</td></tr><tr><td>Trek Slash 8 27.5 - 2016</td><td>8</td></tr><tr><td>Trek Remedy 29 Carbon Frameset - 2016</td><td>0</td></tr><tr><td>Trek Conduit+ - 2016</td><td>11</td></tr><tr><td>Surly Straggler - 2016</td><td>15</td></tr><tr><td>Surly Straggler 650b - 2016</td><td>8</td></tr><tr><td>Electra Townie Original 21D - 2016</td><td>16</td></tr><tr><td>Electra Cruiser 1 (24-Inch) - 2016</td><td>13</td></tr><tr><td>Electra Girl's Hawaii 1 (16-inch) - 2015/2016</td><td>8</td></tr><tr><td>Electra Moto 1 - 2016</td><td>3</td></tr><tr><td>Electra Townie Original 7D EQ - 2016</td><td>4</td></tr><tr><td>Pure Cycles Vine 8-Speed - 2016</td><td>2</td></tr><tr><td>Pure Cycles Western 3-Speed - Women's - 2015/2016</td><td>16</td></tr><tr><td>Pure Cycles William 3-Speed - 2016</td><td>4</td></tr><tr><td>Electra Townie Original 7D EQ - Women's - 2016</td><td>26</td></tr><tr><td>Electra Cruiser 1 (24-Inch) - 2016</td><td>24</td></tr><tr><td>Electra Girl's Hawaii 1 (16-inch) - 2015/2016</td><td>29</td></tr><tr><td>Electra Girl's Hawaii 1 (20-inch) - 2015/2016</td><td>9</td></tr><tr><td>Electra Townie Original 21D - 2016</td><td>10</td></tr><tr><td>Electra Townie Original 7D - 2015/2016</td><td>10</td></tr><tr><td>Electra Townie Original 7D EQ - 2016</td><td>16</td></tr><tr><td>Surly Big Dummy Frameset - 2017</td><td>21</td></tr><tr><td>Surly Karate Monkey 27.5+ Frameset - 2017</td><td>20</td></tr><tr><td>Trek X-Caliber 8 - 2017</td><td>13</td></tr><tr><td>Surly Ice Cream Truck Frameset - 2017</td><td>30</td></tr><tr><td>Surly Wednesday - 2017</td><td>2</td></tr><tr><td>Trek Farley Alloy Frameset - 2017</td><td>0</td></tr><tr><td>Surly Wednesday Frameset - 2017</td><td>10</td></tr><tr><td>Trek Session DH 27.5 Carbon Frameset - 2017</td><td>2</td></tr><tr><td>Sun Bicycles Spider 3i - 2017</td><td>18</td></tr><tr><td>Surly Troll Frameset - 2017</td><td>26</td></tr><tr><td>Haro Flightline One ST - 2017</td><td>12</td></tr><tr><td>Haro Flightline Two 26 Plus - 2017</td><td>13</td></tr><tr><td>Trek Stache 5 - 2017</td><td>2</td></tr><tr><td>Trek Fuel EX 9.8 29 - 2017</td><td>24</td></tr><tr><td>Haro Shift R3 - 2017</td><td>10</td></tr><tr><td>Trek Fuel EX 5 27.5 Plus - 2017</td><td>0</td></tr><tr><td>Trek Fuel EX 9.8 27.5 Plus - 2017</td><td>2</td></tr><tr><td>Haro SR 1.1 - 2017</td><td>1</td></tr><tr><td>Haro SR 1.2 - 2017</td><td>15</td></tr><tr><td>Haro SR 1.3 - 2017</td><td>19</td></tr><tr><td>Trek Remedy 9.8 - 2017</td><td>21</td></tr><tr><td>Trek Emonda S 4 - 2017</td><td>5</td></tr><tr><td>Trek Domane SL 6 - 2017</td><td>8</td></tr><tr><td>Trek Silque SLR 7 Women's - 2017</td><td>29</td></tr><tr><td>Trek Silque SLR 8 Women's - 2017</td><td>2</td></tr><tr><td>Surly Steamroller - 2017</td><td>18</td></tr><tr><td>Surly Ogre Frameset - 2017</td><td>17</td></tr><tr><td>Trek Domane SL Disc Frameset - 2017</td><td>11</td></tr><tr><td>Trek Domane S 6 - 2017</td><td>11</td></tr><tr><td>Trek Domane SLR 6 Disc - 2017</td><td>15</td></tr><tr><td>Trek Emonda S 5 - 2017</td><td>1</td></tr><tr><td>Trek Madone 9.2 - 2017</td><td>1</td></tr><tr><td>Trek Domane S 5 Disc - 2017</td><td>22</td></tr><tr><td>Sun Bicycles ElectroLite - 2017</td><td>19</td></tr><tr><td>Trek Powerfly 8 FS Plus - 2017</td><td>30</td></tr><tr><td>Trek Boone 7 - 2017</td><td>21</td></tr><tr><td>Trek Boone Race Shop Limited - 2017</td><td>4</td></tr><tr><td>Electra Townie Original 7D - 2017</td><td>30</td></tr><tr><td>Sun Bicycles Lil Bolt Type-R - 2017</td><td>10</td></tr><tr><td>Sun Bicycles Revolutions 24 - 2017</td><td>12</td></tr><tr><td>Sun Bicycles Revolutions 24 - Girl's - 2017</td><td>19</td></tr><tr><td>Sun Bicycles Cruz 3 - 2017</td><td>30</td></tr><tr><td>Sun Bicycles Cruz 7 - 2017</td><td>4</td></tr><tr><td>Electra Amsterdam Original 3i - 2015/2017</td><td>3</td></tr><tr><td>Sun Bicycles Atlas X-Type - 2017</td><td>25</td></tr><tr><td>Sun Bicycles Biscayne Tandem 7 - 2017</td><td>9</td></tr><tr><td>Sun Bicycles Brickell Tandem 7 - 2017</td><td>7</td></tr><tr><td>Electra Cruiser Lux 1 - 2017</td><td>9</td></tr><tr><td>Electra Cruiser Lux Fat Tire 1 Ladies - 2017</td><td>23</td></tr><tr><td>Electra Girl's Hawaii 1 16&quot; - 2017</td><td>15</td></tr><tr><td>Electra Glam Punk 3i Ladies' - 2017</td><td>16</td></tr><tr><td>Sun Bicycles Biscayne Tandem CB - 2017</td><td>13</td></tr><tr><td>Sun Bicycles Boardwalk (24-inch Wheels) - 2017</td><td>13</td></tr><tr><td>Sun Bicycles Brickell Tandem CB - 2017</td><td>11</td></tr><tr><td>Electra Amsterdam Fashion 7i Ladies' - 2017</td><td>25</td></tr><tr><td>Electra Amsterdam Original 3i Ladies' - 2017</td><td>1</td></tr><tr><td>Trek Boy's Kickster - 2015/2017</td><td>13</td></tr><tr><td>Sun Bicycles Lil Kitt'n - 2017</td><td>11</td></tr><tr><td>Haro Downtown 16 - 2017</td><td>23</td></tr><tr><td>Trek Girl's Kickster - 2017</td><td>19</td></tr><tr><td>Trek Precaliber 12 Boys - 2017</td><td>27</td></tr><tr><td>Trek Precaliber 12 Girls - 2017</td><td>7</td></tr><tr><td>Trek Precaliber 16 Boys - 2017</td><td>9</td></tr><tr><td>Trek Precaliber 16 Girls - 2017</td><td>4</td></tr><tr><td>Trek Precaliber 24 (21-Speed) - Girls - 2017</td><td>8</td></tr><tr><td>Haro Shredder 20 - 2017</td><td>0</td></tr><tr><td>Haro Shredder 20 Girls - 2017</td><td>22</td></tr><tr><td>Haro Shredder Pro 20 - 2017</td><td>6</td></tr><tr><td>Electra Girl's Hawaii 1 16&quot; - 2017</td><td>25</td></tr><tr><td>Electra Moto 3i (20-inch) - Boy's - 2017</td><td>20</td></tr><tr><td>Electra Savannah 3i (20-inch) - Girl's - 2017</td><td>20</td></tr><tr><td>Electra Straight 8 3i (20-inch) - Boy's - 2017</td><td>28</td></tr><tr><td>Electra Sugar Skulls 1 (20-inch) - Girl's - 2017</td><td>28</td></tr><tr><td>Electra Townie 3i EQ (20-inch) - Boys' - 2017</td><td>15</td></tr><tr><td>Electra Townie 7D (20-inch) - Boys' - 2017</td><td>17</td></tr><tr><td>Electra Townie Original 7D - 2017</td><td>9</td></tr><tr><td>Sun Bicycles Streamway 3 - 2017</td><td>13</td></tr><tr><td>Sun Bicycles Streamway - 2017</td><td>25</td></tr><tr><td>Sun Bicycles Streamway 7 - 2017</td><td>7</td></tr><tr><td>Sun Bicycles Cruz 3 - 2017</td><td>30</td></tr><tr><td>Sun Bicycles Cruz 7 - 2017</td><td>20</td></tr><tr><td>Sun Bicycles Cruz 3 - Women's - 2017</td><td>15</td></tr><tr><td>Sun Bicycles Cruz 7 - Women's - 2017</td><td>30</td></tr><tr><td>Sun Bicycles Drifter 7 - 2017</td><td>1</td></tr><tr><td>Sun Bicycles Drifter 7 - Women's - 2017</td><td>11</td></tr><tr><td>Trek 820 - 2018</td><td>17</td></tr><tr><td>Trek Marlin 5 - 2018</td><td>24</td></tr><tr><td>Trek Marlin 6 - 2018</td><td>3</td></tr><tr><td>Trek Fuel EX 8 29 - 2018</td><td>10</td></tr><tr><td>Trek Marlin 7 - 2017/2018</td><td>24</td></tr><tr><td>Trek Ticket S Frame - 2018</td><td>15</td></tr><tr><td>Trek X-Caliber 8 - 2018</td><td>12</td></tr><tr><td>Trek Kids' Neko - 2018</td><td>17</td></tr><tr><td>Trek Fuel EX 7 29 - 2018</td><td>23</td></tr><tr><td>Surly Krampus Frameset - 2018</td><td>19</td></tr><tr><td>Surly Troll Frameset - 2018</td><td>22</td></tr><tr><td>Trek Farley Carbon Frameset - 2018</td><td>8</td></tr><tr><td>Surly Krampus - 2018</td><td>23</td></tr><tr><td>Trek Kids' Dual Sport - 2018</td><td>22</td></tr><tr><td>Surly Big Fat Dummy Frameset - 2018</td><td>28</td></tr><tr><td>Surly Pack Rat Frameset - 2018</td><td>12</td></tr><tr><td>Surly ECR 27.5 - 2018</td><td>11</td></tr><tr><td>Trek X-Caliber 7 - 2018</td><td>21</td></tr><tr><td>Trek Stache Carbon Frameset - 2018</td><td>22</td></tr><tr><td>Heller Bloodhound Trail - 2018</td><td>20</td></tr><tr><td>Trek Procal AL Frameset - 2018</td><td>1</td></tr><tr><td>Trek Procaliber Frameset - 2018</td><td>9</td></tr><tr><td>Trek Remedy 27.5 C Frameset - 2018</td><td>26</td></tr><tr><td>Trek X-Caliber Frameset - 2018</td><td>15</td></tr><tr><td>Trek Procaliber 6 - 2018</td><td>12</td></tr><tr><td>Heller Shagamaw GX1 - 2018</td><td>12</td></tr><tr><td>Trek Fuel EX 5 Plus - 2018</td><td>6</td></tr><tr><td>Trek Remedy 7 27.5 - 2018</td><td>17</td></tr><tr><td>Trek Remedy 9.8 27.5 - 2018</td><td>3</td></tr><tr><td>Trek Stache 5 - 2018</td><td>21</td></tr><tr><td>Trek Fuel EX 8 29 XT - 2018</td><td>22</td></tr><tr><td>Trek Domane ALR 3 - 2018</td><td>19</td></tr><tr><td>Trek Domane ALR 4 Disc - 2018</td><td>7</td></tr><tr><td>Trek Domane ALR 5 Disc - 2018</td><td>5</td></tr><tr><td>Trek Domane SLR 6 - 2018</td><td>6</td></tr><tr><td>Trek Domane ALR 5 Gravel - 2018</td><td>8</td></tr><tr><td>Trek Domane SL 8 Disc - 2018</td><td>6</td></tr><tr><td>Trek Domane SLR 8 Disc - 2018</td><td>1</td></tr><tr><td>Trek Emonda SL 7 - 2018</td><td>22</td></tr><tr><td>Trek Domane ALR 4 Disc Women's - 2018</td><td>24</td></tr><tr><td>Trek Domane SL 5 Disc Women's - 2018</td><td>12</td></tr><tr><td>Trek Domane SL 7 Women's - 2018</td><td>25</td></tr><tr><td>Trek Domane SLR 6 Disc Women's - 2018</td><td>13</td></tr><tr><td>Trek Domane SLR 9 Disc - 2018</td><td>8</td></tr><tr><td>Trek Domane SL Frameset - 2018</td><td>13</td></tr><tr><td>Trek Domane SL Frameset Women's - 2018</td><td>25</td></tr><tr><td>Trek CrossRip 1 - 2018</td><td>11</td></tr><tr><td>Trek Emonda ALR 6 - 2018</td><td>18</td></tr><tr><td>Trek Emonda SLR 6 - 2018</td><td>0</td></tr><tr><td>Surly ECR - 2018</td><td>17</td></tr><tr><td>Trek Emonda SL 6 Disc - 2018</td><td>14</td></tr><tr><td>Surly Pack Rat - 2018</td><td>0</td></tr><tr><td>Surly Straggler 650b - 2018</td><td>15</td></tr><tr><td>Trek 1120 - 2018</td><td>16</td></tr><tr><td>Trek Domane AL 2 Women's - 2018</td><td>23</td></tr><tr><td>Surly ECR Frameset - 2018</td><td>28</td></tr><tr><td>Surly Straggler - 2018</td><td>0</td></tr><tr><td>Trek Emonda SLR 8 - 2018</td><td>25</td></tr><tr><td>Trek CrossRip 2 - 2018</td><td>14</td></tr><tr><td>Trek Domane SL 6 - 2018</td><td>3</td></tr><tr><td>Trek Domane ALR Disc Frameset - 2018</td><td>3</td></tr><tr><td>Trek Domane ALR Frameset - 2018</td><td>2</td></tr><tr><td>Trek Domane SLR Disc Frameset - 2018</td><td>26</td></tr><tr><td>Trek Domane SLR Frameset - 2018</td><td>2</td></tr><tr><td>Trek Madone 9 Frameset - 2018</td><td>11</td></tr><tr><td>Trek Domane SLR 6 Disc - 2018</td><td>19</td></tr><tr><td>Trek Domane AL 2 - 2018</td><td>23</td></tr><tr><td>Trek Domane AL 3 - 2018</td><td>16</td></tr><tr><td>Trek Domane AL 3 Women's - 2018</td><td>5</td></tr><tr><td>Trek Domane SL 5 - 2018</td><td>19</td></tr><tr><td>Trek Domane SL 5 Disc - 2018</td><td>28</td></tr><tr><td>Trek Domane SL 5 Women's - 2018</td><td>11</td></tr><tr><td>Trek Domane SL 6 Disc - 2018</td><td>4</td></tr><tr><td>Trek Conduit+ - 2018</td><td>3</td></tr><tr><td>Trek CrossRip+ - 2018</td><td>1</td></tr><tr><td>Trek Neko+ - 2018</td><td>16</td></tr><tr><td>Trek XM700+ Lowstep - 2018</td><td>30</td></tr><tr><td>Trek Lift+ Lowstep - 2018</td><td>6</td></tr><tr><td>Trek Dual Sport+ - 2018</td><td>21</td></tr><tr><td>Electra Loft Go! 8i - 2018</td><td>21</td></tr><tr><td>Electra Townie Go! 8i - 2017/2018</td><td>20</td></tr><tr><td>Trek Lift+ - 2018</td><td>30</td></tr><tr><td>Trek XM700+ - 2018</td><td>24</td></tr><tr><td>Electra Townie Go! 8i Ladies' - 2018</td><td>1</td></tr><tr><td>Trek Verve+ - 2018</td><td>26</td></tr><tr><td>Trek Verve+ Lowstep - 2018</td><td>22</td></tr><tr><td>Electra Townie Commute Go! - 2018</td><td>1</td></tr><tr><td>Electra Townie Commute Go! Ladies' - 2018</td><td>2</td></tr><tr><td>Trek Powerfly 5 - 2018</td><td>27</td></tr><tr><td>Trek Powerfly 5 FS - 2018</td><td>16</td></tr><tr><td>Trek Powerfly 5 Women's - 2018</td><td>5</td></tr><tr><td>Trek Powerfly 7 FS - 2018</td><td>4</td></tr><tr><td>Trek Super Commuter+ 7 - 2018</td><td>23</td></tr><tr><td>Trek Super Commuter+ 8S - 2018</td><td>9</td></tr><tr><td>Trek Boone 5 Disc - 2018</td><td>10</td></tr><tr><td>Trek Boone 7 Disc - 2018</td><td>27</td></tr><tr><td>Trek Crockett 5 Disc - 2018</td><td>13</td></tr><tr><td>Trek Crockett 7 Disc - 2018</td><td>22</td></tr><tr><td>Surly Straggler - 2018</td><td>25</td></tr><tr><td>Surly Straggler 650b - 2018</td><td>13</td></tr><tr><td>Electra Townie Original 21D - 2018</td><td>17</td></tr><tr><td>Electra Cruiser 1 - 2016/2017/2018</td><td>14</td></tr><tr><td>Electra Tiger Shark 3i - 2018</td><td>4</td></tr><tr><td>Electra Queen of Hearts 3i - 2018</td><td>1</td></tr><tr><td>Electra Super Moto 8i - 2018</td><td>11</td></tr><tr><td>Electra Straight 8 3i - 2018</td><td>11</td></tr><tr><td>Electra Cruiser 7D - 2016/2017/2018</td><td>27</td></tr><tr><td>Electra Moto 3i - 2018</td><td>30</td></tr><tr><td>Electra Cruiser 1 Ladies' - 2018</td><td>4</td></tr><tr><td>Electra Cruiser 7D Ladies' - 2016/2018</td><td>7</td></tr><tr><td>Electra Cruiser 1 Tall - 2016/2018</td><td>12</td></tr><tr><td>Electra Cruiser Lux 3i - 2018</td><td>3</td></tr><tr><td>Electra Cruiser Lux 7D - 2018</td><td>16</td></tr><tr><td>Electra Delivery 3i - 2016/2017/2018</td><td>24</td></tr><tr><td>Electra Townie Original 21D EQ - 2017/2018</td><td>18</td></tr><tr><td>Electra Cruiser 7D (24-Inch) Ladies' - 2016/2018</td><td>19</td></tr><tr><td>Electra Cruiser 7D Tall - 2016/2018</td><td>22</td></tr><tr><td>Electra Cruiser Lux 1 - 2016/2018</td><td>27</td></tr><tr><td>Electra Cruiser Lux 1 Ladies' - 2018</td><td>7</td></tr><tr><td>Electra Cruiser Lux 3i Ladies' - 2018</td><td>25</td></tr><tr><td>Electra Cruiser Lux 7D Ladies' - 2018</td><td>5</td></tr><tr><td>Electra Cruiser Lux Fat Tire 7D - 2018</td><td>5</td></tr><tr><td>Electra Daydreamer 3i Ladies' - 2018</td><td>13</td></tr><tr><td>Electra Koa 3i Ladies' - 2018</td><td>7</td></tr><tr><td>Electra Morningstar 3i Ladies' - 2018</td><td>18</td></tr><tr><td>Electra Relic 3i - 2018</td><td>26</td></tr><tr><td>Electra Townie Balloon 8D EQ - 2016/2017/2018</td><td>20</td></tr><tr><td>Electra Townie Balloon 8D EQ Ladies' - 2016/2017/2018</td><td>28</td></tr><tr><td>Electra Townie Commute 27D Ladies - 2018</td><td>17</td></tr><tr><td>Electra Townie Commute 8D - 2018</td><td>17</td></tr><tr><td>Electra Townie Commute 8D Ladies' - 2018</td><td>10</td></tr><tr><td>Electra Townie Original 21D EQ Ladies' - 2018</td><td>11</td></tr><tr><td>Electra Townie Original 21D Ladies' - 2018</td><td>10</td></tr><tr><td>Electra Townie Original 3i EQ - 2017/2018</td><td>3</td></tr><tr><td>Electra Townie Original 3i EQ Ladies' - 2018</td><td>0</td></tr><tr><td>Electra Townie Original 7D EQ - 2018</td><td>15</td></tr><tr><td>Electra Townie Original 7D EQ Ladies' - 2017/2018</td><td>14</td></tr><tr><td>Electra White Water 3i - 2018</td><td>27</td></tr><tr><td>Electra Townie Go! 8i - 2017/2018</td><td>3</td></tr><tr><td>Electra Townie Commute Go! - 2018</td><td>2</td></tr><tr><td>Electra Townie Commute Go! Ladies' - 2018</td><td>28</td></tr><tr><td>Electra Townie Go! 8i Ladies' - 2018</td><td>16</td></tr><tr><td>Electra Townie Balloon 3i EQ - 2017/2018</td><td>24</td></tr><tr><td>Electra Townie Balloon 7i EQ Ladies' - 2017/2018</td><td>13</td></tr><tr><td>Electra Townie Commute 27D - 2018</td><td>20</td></tr><tr><td>Electra Amsterdam Fashion 3i Ladies' - 2017/2018</td><td>17</td></tr><tr><td>Electra Amsterdam Royal 8i - 2017/2018</td><td>25</td></tr><tr><td>Electra Amsterdam Royal 8i Ladies - 2018</td><td>10</td></tr><tr><td>Electra Townie Balloon 3i EQ Ladies' - 2018</td><td>20</td></tr><tr><td>Electra Townie Balloon 7i EQ - 2018</td><td>3</td></tr><tr><td>Trek MT 201 - 2018</td><td>6</td></tr><tr><td>Strider Classic 12 Balance Bike - 2018</td><td>21</td></tr><tr><td>Strider Sport 16 - 2018</td><td>16</td></tr><tr><td>Strider Strider 20 Sport - 2018</td><td>28</td></tr><tr><td>Trek Superfly 20 - 2018</td><td>1</td></tr><tr><td>Trek Precaliber 12 Girl's - 2018</td><td>27</td></tr><tr><td>Trek Kickster - 2018</td><td>23</td></tr><tr><td>Trek Precaliber 12 Boy's - 2018</td><td>22</td></tr><tr><td>Trek Precaliber 16 Boy's - 2018</td><td>16</td></tr><tr><td>Trek Precaliber 16 Girl's - 2018</td><td>6</td></tr><tr><td>Trek Precaliber 20 6-speed Boy's - 2018</td><td>14</td></tr><tr><td>Trek Precaliber 20 6-speed Girl's - 2018</td><td>20</td></tr><tr><td>Trek Precaliber 20 Boy's - 2018</td><td>19</td></tr><tr><td>Trek Precaliber 20 Girl's - 2018</td><td>28</td></tr><tr><td>Trek Precaliber 24 (7-Speed) - Boys - 2018</td><td>7</td></tr><tr><td>Trek Precaliber 24 21-speed Boy's - 2018</td><td>13</td></tr><tr><td>Trek Precaliber 24 21-speed Girl's - 2018</td><td>17</td></tr><tr><td>Trek Precaliber 24 7-speed Girl's - 2018</td><td>17</td></tr><tr><td>Trek Superfly 24 - 2017/2018</td><td>23</td></tr><tr><td>Electra Cruiser 7D (24-Inch) Ladies' - 2016/2018</td><td>11</td></tr><tr><td>Electra Cyclosaurus 1 (16-inch) - Boy's - 2018</td><td>6</td></tr><tr><td>Electra Heartchya 1 (20-inch) - Girl's - 2018</td><td>10</td></tr><tr><td>Electra Savannah 1 (20-inch) - Girl's - 2018</td><td>27</td></tr><tr><td>Electra Soft Serve 1 (16-inch) - Girl's - 2018</td><td>20</td></tr><tr><td>Electra Starship 1 16&quot; - 2018</td><td>28</td></tr><tr><td>Electra Straight 8 1 (16-inch) - Boy's - 2018</td><td>2</td></tr><tr><td>Electra Straight 8 1 (20-inch) - Boy's - 2018</td><td>9</td></tr><tr><td>Electra Superbolt 1 20&quot; - 2018</td><td>2</td></tr><tr><td>Electra Superbolt 3i 20&quot; - 2018</td><td>8</td></tr><tr><td>Electra Sweet Ride 1 (20-inch) - Girl's - 2018</td><td>9</td></tr><tr><td>Electra Sweet Ride 3i (20-inch) - Girls' - 2018</td><td>30</td></tr><tr><td>Electra Tiger Shark 1 (20-inch) - Boys' - 2018</td><td>18</td></tr><tr><td>Electra Tiger Shark 3i (20-inch) - Boys' - 2018</td><td>3</td></tr><tr><td>Electra Treasure 1 20&quot; - 2018</td><td>24</td></tr><tr><td>Electra Treasure 3i 20&quot; - 2018</td><td>9</td></tr><tr><td>Electra Under-The-Sea 1 16&quot; - 2018</td><td>22</td></tr><tr><td>Electra Water Lily 1 (16-inch) - Girl's - 2018</td><td>26</td></tr><tr><td>Electra Townie Original 21D - 2018</td><td>18</td></tr><tr><td>Electra Townie Balloon 3i EQ Ladies' - 2018</td><td>7</td></tr><tr><td>Electra Townie Balloon 7i EQ - 2018</td><td>10</td></tr><tr><td>Electra Townie Original 1 - 2018</td><td>0</td></tr><tr><td>Electra Townie Go! 8i - 2017/2018</td><td>12</td></tr><tr><td>Electra Townie Original 21D EQ - 2017/2018</td><td>15</td></tr><tr><td>Electra Townie Balloon 3i EQ - 2017/2018</td><td>23</td></tr><tr><td>Electra Townie Balloon 7i EQ Ladies' - 2017/2018</td><td>21</td></tr><tr><td>Electra Townie Balloon 8D EQ - 2016/2017/2018</td><td>17</td></tr><tr><td>Electra Townie Balloon 8D EQ Ladies' - 2016/2017/2018</td><td>23</td></tr><tr><td>Electra Townie Commute 27D - 2018</td><td>7</td></tr><tr><td>Electra Townie Commute 27D Ladies - 2018</td><td>18</td></tr><tr><td>Electra Townie Commute 8D - 2018</td><td>20</td></tr><tr><td>Electra Townie Commute 8D Ladies' - 2018</td><td>23</td></tr><tr><td>Electra Townie Original 1 Ladies' - 2018</td><td>14</td></tr></table>"
                    },
                    "metadata": {}
                }
            ],
            "execution_count": 59
        },
        {
            "cell_type": "code",
            "source": [
                "/*\r\n",
                "(25p) Soru 4: Marka(brands) adına ve kategori(categories) adına göre gruplandırılma yapıldığında ürünlerin(products) toplam sayıları görüntülenmek istenmektedir. Aşağıdaki koşullara göre fonksiyon kodunu yazınız.\r\n",
                "            - Fonksiyon çalıştırıldığında marka adı, kategori adı ve toplam ürün sayısı listelenmelidir.\r\n",
                "            - Hiç kayıt bulunamıyorsa 'Value cannot be found!' uyarısını listelemelidir.\r\n",
                "            - Parametre değeri bulunmamaktadır.\r\n",
                "*/\r\n",
                "\r\n",
                "CREATE FUNCTION sumofProductsbyBrandandCategory ()\r\n",
                "    RETURNS @productStocks TABLE (brand_name nvarchar(255), category_name nvarchar(255), sumofProducts INTEGER)\r\n",
                "AS\r\n",
                "BEGIN\r\n",
                "    INSERT INTO @productStocks\r\n",
                "    SELECT brands.brand_name, categories.category_name, COUNT(*) FROM ((products INNER JOIN brands ON products.brand_id = brands.brand_id) INNER JOIN categories ON products.category_id = categories.category_id) GROUP BY brand_name, category_name\r\n",
                "DECLARE @count INTEGER\r\n",
                "    SELECT @count = COUNT(*) FROM @productStocks\r\n",
                "IF @count = 0\r\n",
                "    INSERT INTO @productStocks VALUES ('Value cannot be found!', 'Value cannot be found!', 0)\r\n",
                "    RETURN\r\n",
                "END\r\n",
                "GO\r\n",
                "\r\n",
                "SELECT * FROM sumofProductsbyBrandandCategory()\r\n",
                "\r\n",
                "/*\r\n",
                "YORUMLARINIZI YAZINIZ\r\n",
                ".\r\n",
                ".\r\n",
                ".\r\n",
                "*/"
            ],
            "metadata": {
                "azdata_cell_guid": "fb49b939-838c-4843-8344-9e995a373ab6",
                "tags": []
            },
            "outputs": [
                {
                    "output_type": "display_data",
                    "data": {
                        "text/html": "Commands completed successfully."
                    },
                    "metadata": {}
                },
                {
                    "output_type": "display_data",
                    "data": {
                        "text/html": "(23 rows affected)"
                    },
                    "metadata": {}
                },
                {
                    "output_type": "display_data",
                    "data": {
                        "text/html": "Total execution time: 00:00:00.015"
                    },
                    "metadata": {}
                },
                {
                    "output_type": "execute_result",
                    "execution_count": 61,
                    "data": {
                        "application/vnd.dataresource+json": {
                            "schema": {
                                "fields": [
                                    {
                                        "name": "brand_name"
                                    },
                                    {
                                        "name": "category_name"
                                    },
                                    {
                                        "name": "sumofProducts"
                                    }
                                ]
                            },
                            "data": [
                                {
                                    "0": "Electra",
                                    "1": "Children Bicycles",
                                    "2": "28"
                                },
                                {
                                    "0": "Haro",
                                    "1": "Children Bicycles",
                                    "2": "4"
                                },
                                {
                                    "0": "Strider",
                                    "1": "Children Bicycles",
                                    "2": "3"
                                },
                                {
                                    "0": "Sun Bicycles",
                                    "1": "Children Bicycles",
                                    "2": "1"
                                },
                                {
                                    "0": "Trek",
                                    "1": "Children Bicycles",
                                    "2": "23"
                                },
                                {
                                    "0": "Electra",
                                    "1": "Comfort Bicycles",
                                    "2": "21"
                                },
                                {
                                    "0": "Sun Bicycles",
                                    "1": "Comfort Bicycles",
                                    "2": "9"
                                },
                                {
                                    "0": "Electra",
                                    "1": "Cruisers Bicycles",
                                    "2": "64"
                                },
                                {
                                    "0": "Pure Cycles",
                                    "1": "Cruisers Bicycles",
                                    "2": "3"
                                },
                                {
                                    "0": "Sun Bicycles",
                                    "1": "Cruisers Bicycles",
                                    "2": "11"
                                },
                                {
                                    "0": "Surly",
                                    "1": "Cyclocross Bicycles",
                                    "2": "4"
                                },
                                {
                                    "0": "Trek",
                                    "1": "Cyclocross Bicycles",
                                    "2": "6"
                                },
                                {
                                    "0": "Electra",
                                    "1": "Electric Bikes",
                                    "2": "5"
                                },
                                {
                                    "0": "Sun Bicycles",
                                    "1": "Electric Bikes",
                                    "2": "1"
                                },
                                {
                                    "0": "Trek",
                                    "1": "Electric Bikes",
                                    "2": "18"
                                },
                                {
                                    "0": "Haro",
                                    "1": "Mountain Bikes",
                                    "2": "6"
                                },
                                {
                                    "0": "Heller",
                                    "1": "Mountain Bikes",
                                    "2": "3"
                                },
                                {
                                    "0": "Ritchey",
                                    "1": "Mountain Bikes",
                                    "2": "1"
                                },
                                {
                                    "0": "Sun Bicycles",
                                    "1": "Mountain Bikes",
                                    "2": "1"
                                },
                                {
                                    "0": "Surly",
                                    "1": "Mountain Bikes",
                                    "2": "14"
                                },
                                {
                                    "0": "Trek",
                                    "1": "Mountain Bikes",
                                    "2": "35"
                                },
                                {
                                    "0": "Surly",
                                    "1": "Road Bikes",
                                    "2": "7"
                                },
                                {
                                    "0": "Trek",
                                    "1": "Road Bikes",
                                    "2": "53"
                                }
                            ]
                        },
                        "text/html": "<table><tr><th>brand_name</th><th>category_name</th><th>sumofProducts</th></tr><tr><td>Electra</td><td>Children Bicycles</td><td>28</td></tr><tr><td>Haro</td><td>Children Bicycles</td><td>4</td></tr><tr><td>Strider</td><td>Children Bicycles</td><td>3</td></tr><tr><td>Sun Bicycles</td><td>Children Bicycles</td><td>1</td></tr><tr><td>Trek</td><td>Children Bicycles</td><td>23</td></tr><tr><td>Electra</td><td>Comfort Bicycles</td><td>21</td></tr><tr><td>Sun Bicycles</td><td>Comfort Bicycles</td><td>9</td></tr><tr><td>Electra</td><td>Cruisers Bicycles</td><td>64</td></tr><tr><td>Pure Cycles</td><td>Cruisers Bicycles</td><td>3</td></tr><tr><td>Sun Bicycles</td><td>Cruisers Bicycles</td><td>11</td></tr><tr><td>Surly</td><td>Cyclocross Bicycles</td><td>4</td></tr><tr><td>Trek</td><td>Cyclocross Bicycles</td><td>6</td></tr><tr><td>Electra</td><td>Electric Bikes</td><td>5</td></tr><tr><td>Sun Bicycles</td><td>Electric Bikes</td><td>1</td></tr><tr><td>Trek</td><td>Electric Bikes</td><td>18</td></tr><tr><td>Haro</td><td>Mountain Bikes</td><td>6</td></tr><tr><td>Heller</td><td>Mountain Bikes</td><td>3</td></tr><tr><td>Ritchey</td><td>Mountain Bikes</td><td>1</td></tr><tr><td>Sun Bicycles</td><td>Mountain Bikes</td><td>1</td></tr><tr><td>Surly</td><td>Mountain Bikes</td><td>14</td></tr><tr><td>Trek</td><td>Mountain Bikes</td><td>35</td></tr><tr><td>Surly</td><td>Road Bikes</td><td>7</td></tr><tr><td>Trek</td><td>Road Bikes</td><td>53</td></tr></table>"
                    },
                    "metadata": {}
                }
            ],
            "execution_count": 61
        }
    ]
}