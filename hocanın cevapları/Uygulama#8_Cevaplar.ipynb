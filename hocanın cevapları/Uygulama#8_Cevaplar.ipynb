{
    "cells": [
        {
            "attachments": {},
            "cell_type": "markdown",
            "metadata": {
                "azdata_cell_guid": "57161e9c-4158-450a-8a9b-e55e14e1b033"
            },
            "source": [
                "**VERİ TABANI YÖNETİM SİSTEMLERİ LAB UYGULAMA 8**\n",
                "\n",
                "**Not**: Prelab dokümanında verilen veri tabanını oluşturduktan sonra aşağıda verilen sorulara uygun SQL kodlarını yazınız.  \n",
                "Yazdığınız kodları <u>yorumlarınızla</u> açıklayınız. \n",
                "\n",
                "ESUZEM'de açılan yere bu dosyayı \"OgrNo\\_AdSoyad\\_UygNo.ipynb\" dosya adı ile beraber yükleyiniz.\n",
                "\n",
                "Örnek dosya adı : <span style=\"color: red; font-size: 14pt;\">152120181000_ZekeriyyaDemirci_Uyg8.ipynb</span>"
            ]
        },
        {
            "cell_type": "code",
            "execution_count": 117,
            "metadata": {
                "azdata_cell_guid": "b15b0e6d-8835-40bf-a82f-d60a37039944"
            },
            "outputs": [
                {
                    "data": {
                        "text/html": [
                            "Commands completed successfully."
                        ]
                    },
                    "metadata": {},
                    "output_type": "display_data"
                },
                {
                    "data": {
                        "text/html": [
                            "Total execution time: 00:00:00.281"
                        ]
                    },
                    "metadata": {},
                    "output_type": "display_data"
                }
            ],
            "source": [
                "/*\n",
                "(5p) Soru 1 : \"VtysLabDB\" adıyla yeni bir veri tabanı oluşturunuz. Bundan sonraki aşamalarda bu tablo KULLANILACAKTIR.\n",
                "*/  \n",
                "\n",
                "CREATE DATABASE VtysLabDB\n",
                "\n",
                "/* \n",
                "YORUMLARINIZI YAZINIZ\n",
                ".\n",
                ".\n",
                ".\n",
                "*/"
            ]
        },
        {
            "cell_type": "code",
            "execution_count": 118,
            "metadata": {
                "azdata_cell_guid": "18c32d38-9eb3-4144-a3ee-a5c29e61cb52"
            },
            "outputs": [
                {
                    "data": {
                        "text/html": [
                            "Commands completed successfully."
                        ]
                    },
                    "metadata": {},
                    "output_type": "display_data"
                },
                {
                    "data": {
                        "text/html": [
                            "Total execution time: 00:00:00.005"
                        ]
                    },
                    "metadata": {},
                    "output_type": "display_data"
                }
            ],
            "source": [
                "/*\n",
                "(10p) Soru 2 : Aşağıda verilen şekilde tabloyu oluşturunuz.\n",
                "         - Tablo adı : tblCustomer\n",
                "         - Kolonlar  :\n",
                "                        - customerID : Integer veri tipindedir. Primary KEY olarak kullanılacaktır. 100'den başlar ve otomatik olarak 1'er 1'er artış gösterir.\n",
                "                        - first_name : Varchar(255) veri tipindedir. NULL olmasına izin verilmez.\n",
                "                        - last_name  : Varchar(255) veri tipindedir. DEFAULT değeri \"NotSpecified\" olarak kullanılaraktır.\n",
                "                        - age        : Integer veri tipindedir. NULL olmasına izin verilmez. 18'den büyük olmalıdır. Kullandığınız kısıta \"CHC_CustomerAge\" adını veriniz !\n",
                "*/  \n",
                "\n",
                "use VtysLabDB\n",
                "\n",
                "CREATE TABLE tblCustomer\n",
                "(\n",
                "    customerID INT IDENTITY(100,1) PRIMARY KEY,\n",
                "    firs_name VARCHAR(20) NOT NULL,\n",
                "    last_name VARCHAR(20) DEFAULT 'NotSpecified',\n",
                "    age INT NOT NULL,\n",
                "    CONSTRAINT CHC_CustomerAge CHECK (age>=18)\n",
                ")\n",
                "\n",
                "/* \n",
                "YORUMLARINIZI YAZINIZ\n",
                ".\n",
                ".\n",
                ".\n",
                "*/"
            ]
        },
        {
            "cell_type": "code",
            "execution_count": 120,
            "metadata": {
                "azdata_cell_guid": "f8c04ef9-7360-4ab3-86e0-68936089dfae"
            },
            "outputs": [
                {
                    "data": {
                        "text/html": [
                            "(3 rows affected)"
                        ]
                    },
                    "metadata": {},
                    "output_type": "display_data"
                },
                {
                    "data": {
                        "text/html": [
                            "Total execution time: 00:00:00.004"
                        ]
                    },
                    "metadata": {},
                    "output_type": "display_data"
                }
            ],
            "source": [
                "/* SORU 2 İLE BAĞIMLIDIR. SORU 2 YAPILMADIĞI TAKTİRDE PUANLAMA OLMAYACAKTIR.\n",
                "(5p) Soru 3 : Aşağıda verilen kayıtları tblCustomer tablosuna ekleyiniz. Bu süreçte karşınıza çıkan hatalara uygun çözümler üreterek tabloya 3 kaydı da EKLEYİN. \n",
                "              Aldığınız hatayı, nedenini ve çözümünüzü MUTLAKA yorumda yazınız. Aksi halde puan verilmeyecektir.\n",
                "\n",
                "kayıtlar :  => 'Debra','Burks',24\n",
                "            => 'Kasha','Todd',36\n",
                "            => 'Robby','Sykes',12\n",
                "\n",
                "*/  \n",
                "\n",
                "use VtysLabDB\n",
                "\n",
                "INSERT INTO tblCustomer(firs_name,last_name,age) \n",
                "VALUES\n",
                "('Debra','Burks',24),\n",
                "('Kasha','Todd',36),\n",
                "('Robby','Sykes',22)   /* age kısıtı sağlamadığı için güncellendi. 18 den büyük eşit olması gerekiyor */\n",
                "\n",
                "\n",
                "/* \n",
                "YORUMLARINIZI YAZINIZ\n",
                ".Alınan hata :  The INSERT statement conflicted with the CHECK constraint \"CHC_CustomerAge\". The conflict occurred in database \"VtysLabDB\", table \"dbo.tblCustomer\", column 'age'.\n",
                ".\n",
                "*/"
            ]
        },
        {
            "cell_type": "code",
            "execution_count": 121,
            "metadata": {
                "azdata_cell_guid": "14b75733-0f43-4ac4-b441-3afc060a1990"
            },
            "outputs": [
                {
                    "data": {
                        "text/html": [
                            "(1 row affected)"
                        ]
                    },
                    "metadata": {},
                    "output_type": "display_data"
                },
                {
                    "data": {
                        "text/html": [
                            "Total execution time: 00:00:00.002"
                        ]
                    },
                    "metadata": {},
                    "output_type": "display_data"
                }
            ],
            "source": [
                "/* SORU 2 İLE BAĞIMLIDIR. SORU 2 YAPILMADIĞI TAKTİRDE PUANLAMA OLMAYACAKTIR.\n",
                "(5p) Soru 4 : Aşağıda verilen kaydı tblCustomer tablosuna ekleyiniz. Bu süreçte karşınıza çıkan hatalara uygun çözümler üreterek tabloya kaydı da EKLEYİN. \n",
                "              Aldığınız hatayı, nedenini ve çözümünüzü MUTLAKA yorumda yazınız. Aksi halde puan verilmeyecektir.\n",
                "\n",
                "kayıt :  => 'Melia',42 \n",
                " \n",
                "*/  \n",
                "\n",
                "use VtysLabDB\n",
                "\n",
                "INSERT INTO tblCustomer(firs_name,age) \n",
                "VALUES\n",
                "('Melia',42)\n",
                "\n",
                "\n",
                "/* \n",
                "YORUMLARINIZI YAZINIZ\n",
                ".\n",
                ".\n",
                ".\n",
                "*/"
            ]
        },
        {
            "cell_type": "code",
            "execution_count": 122,
            "metadata": {
                "azdata_cell_guid": "d55b9e75-45a3-4e2f-937e-187b3fe7225a",
                "tags": []
            },
            "outputs": [
                {
                    "data": {
                        "text/html": [
                            "Commands completed successfully."
                        ]
                    },
                    "metadata": {},
                    "output_type": "display_data"
                },
                {
                    "data": {
                        "text/html": [
                            "Total execution time: 00:00:00.007"
                        ]
                    },
                    "metadata": {},
                    "output_type": "display_data"
                }
            ],
            "source": [
                "/*\n",
                "(10p) Soru 5 : Aşağıda verilen şekilde tabloyu oluşturunuz.\n",
                "         - Tablo adı : tblProduct\n",
                "         - Kolonlar  :\n",
                "                        - productID    : Integer veri tipindedir. Primary KEY olarak kullanılacaktır. 200'den başlar ve otomatik olarak 1'er 1'er artış gösterir.\n",
                "                        - product_name : Varchar(255) veri tipindedir. NULL olmasına izin verilmez.\n",
                "                        - price        : Float veri tipindedir. NULL olmasına izin verilmez.\n",
                "*/  \n",
                "\n",
                "use VtysLabDB\n",
                "\n",
                "CREATE TABLE tblProduct\n",
                "(\n",
                "    productID INT IDENTITY(200,1) PRIMARY KEY,\n",
                "    product_name VARCHAR(255) NOT NULL,\n",
                "    price FLOAT NOT NULL\n",
                ")\n",
                "\n",
                "/* \n",
                "YORUMLARINIZI YAZINIZ\n",
                ".\n",
                ".\n",
                ".\n",
                "*/"
            ]
        },
        {
            "cell_type": "code",
            "execution_count": 123,
            "metadata": {
                "azdata_cell_guid": "39c458ce-f3e7-4fe9-88ee-d8ceb4724c2e"
            },
            "outputs": [
                {
                    "data": {
                        "text/html": [
                            "(3 rows affected)"
                        ]
                    },
                    "metadata": {},
                    "output_type": "display_data"
                },
                {
                    "data": {
                        "text/html": [
                            "Total execution time: 00:00:00.003"
                        ]
                    },
                    "metadata": {},
                    "output_type": "display_data"
                }
            ],
            "source": [
                "/* SORU 5 İLE BAĞIMLIDIR. SORU 5 YAPILMADIĞI TAKTİRDE PUANLAMA OLMAYACAKTIR.\n",
                "(5p) Soru 6 : Aşağıda verilen kayıtları tblProduct tablosuna ekleyiniz.\n",
                "\n",
                "kayıtlar : => 'Surly Straggler',12.5\n",
                "           => 'Electra Townie Original',10\n",
                "           => 'Pure Cycles William',5\n",
                "*/  \n",
                "\n",
                "use VtysLabDB\n",
                "\n",
                "INSERT INTO tblProduct (product_name,price)\n",
                "VALUES\n",
                "('Surly Straggler',12.5),\n",
                "('Electra Townie Original',10),\n",
                "('Pure Cycles William',5)\n",
                "\n",
                "\n",
                "/* \n",
                "YORUMLARINIZI YAZINIZ\n",
                ".\n",
                ".\n",
                ".\n",
                "*/"
            ]
        },
        {
            "cell_type": "code",
            "execution_count": 124,
            "metadata": {
                "azdata_cell_guid": "6ba6404b-dc6d-4d88-a1e4-53c35f4d6fc8"
            },
            "outputs": [
                {
                    "data": {
                        "text/html": [
                            "Commands completed successfully."
                        ]
                    },
                    "metadata": {},
                    "output_type": "display_data"
                },
                {
                    "data": {
                        "text/html": [
                            "Total execution time: 00:00:00.005"
                        ]
                    },
                    "metadata": {},
                    "output_type": "display_data"
                }
            ],
            "source": [
                "/* SORU 5 İLE BAĞIMLIDIR. SORU 5 YAPILMADIĞI TAKTİRDE PUANLAMA OLMAYACAKTIR.\n",
                "(5p) Soru 7 : Aşağıda verilen şekilde tblProduct tablosunda güncelleme yapınız.\n",
                "        - \"price\" değerinin 0'dan büyük olmasını garanti edecek şekilde \"CHC_ProductPrice\" adıyla bir CONSTRAINT 'i tabloya ekleyiniz.\n",
                "*/  \n",
                "\n",
                "use VtysLabDB\n",
                "ALTER TABLE tblProduct\n",
                "ADD CONSTRAINT CHC_ProductPrice CHECK (price>0)\n",
                "\n",
                "\n",
                "/* \n",
                "YORUMLARINIZI YAZINIZ\n",
                ".\n",
                ".\n",
                ".\n",
                "*/"
            ]
        },
        {
            "cell_type": "code",
            "execution_count": 126,
            "metadata": {
                "azdata_cell_guid": "99ad59c6-e76d-4098-bd27-20676079776c"
            },
            "outputs": [
                {
                    "data": {
                        "text/html": [
                            "(1 row affected)"
                        ]
                    },
                    "metadata": {},
                    "output_type": "display_data"
                },
                {
                    "data": {
                        "text/html": [
                            "Total execution time: 00:00:00.003"
                        ]
                    },
                    "metadata": {},
                    "output_type": "display_data"
                }
            ],
            "source": [
                "/* SORU 5 İLE BAĞIMLIDIR. SORU 5 YAPILMADIĞI TAKTİRDE PUANLAMA OLMAYACAKTIR.\n",
                "(5p) Soru 8 : Aşağıda verilen kaydı tblProduct tablosuna ekleyiniz. Bu süreçte karşınıza çıkan hatalara uygun çözümler üreterek tabloya kaydı da EKLEYİN. \n",
                "              Aldığınız hatayı, nedenini ve çözümünüzü MUTLAKA yorumda yazınız. Aksi halde puan verilmeyecektir.\n",
                "kayıt : => 'Pure Cycles William',0\n",
                "*/  \n",
                "\n",
                "use VtysLabDB\n",
                "INSERT INTO tblProduct (product_name,price)\n",
                "VALUES\n",
                "('Pure Cycles William',3)  /* price 0'dan büyük olmalıdır */\n",
                "\n",
                "\n",
                "/* \n",
                "YORUMLARINIZI YAZINIZ\n",
                ".Alınan hata : The INSERT statement conflicted with the CHECK constraint \"CHC_ProductPrice\". The conflict occurred in database \"VtysLabDB\", table \"dbo.tblProduct\", column 'price'.\n",
                ".\n",
                ".\n",
                "*/"
            ]
        },
        {
            "cell_type": "code",
            "execution_count": 127,
            "metadata": {
                "azdata_cell_guid": "0d20a1af-4f75-4ceb-8211-af50e5edcac0"
            },
            "outputs": [
                {
                    "data": {
                        "text/html": [
                            "Commands completed successfully."
                        ]
                    },
                    "metadata": {},
                    "output_type": "display_data"
                },
                {
                    "data": {
                        "text/html": [
                            "Total execution time: 00:00:00.004"
                        ]
                    },
                    "metadata": {},
                    "output_type": "display_data"
                }
            ],
            "source": [
                "/*\n",
                "(10p) Soru 9 : Aşağıda verilen şekilde tabloyu oluşturunuz.\n",
                "         - Tablo adı : tblOrder\n",
                "         - Kolonlar  :\n",
                "                        - orderID    : Integer veri tipindedir. Primary KEY olarak kullanılacaktır. Otomatik olarak artış gösterir.\n",
                "                        - productID  : Integer veri tipindedir. \"FK_ProductOrder\" adında tanımlı bir CONSTRAINT ile tblProduct(productID)'a FOREING KEY olarak bağlıdır.\n",
                "*/  \n",
                "\n",
                "use VtysLabDB\n",
                "CREATE TABLE tblOrder\n",
                "(\n",
                "    orderID INT IDENTITY PRIMARY KEY,\n",
                "    productID INT,\n",
                "    CONSTRAINT FK_ProductOrder FOREIGN KEY (productID) REFERENCES tblProduct(productID)\n",
                ")\n",
                "\n",
                "/* \n",
                "YORUMLARINIZI YAZINIZ\n",
                ".\n",
                ".\n",
                ".\n",
                "*/"
            ]
        },
        {
            "cell_type": "code",
            "execution_count": 128,
            "metadata": {
                "azdata_cell_guid": "1cee972b-f83b-4540-a967-6aaa537873b0"
            },
            "outputs": [
                {
                    "data": {
                        "text/html": [
                            "Commands completed successfully."
                        ]
                    },
                    "metadata": {},
                    "output_type": "display_data"
                },
                {
                    "data": {
                        "text/html": [
                            "Total execution time: 00:00:00.003"
                        ]
                    },
                    "metadata": {},
                    "output_type": "display_data"
                }
            ],
            "source": [
                "/* SORU 9 İLE BAĞIMLIDIR. SORU 9 YAPILMADIĞI TAKTİRDE PUANLAMA OLMAYACAKTIR.\n",
                "(10p) Soru 10 : Aşağıda verilen şekilde tblOrder tablosunda güncelleme yapınız. TEK BİR SORGU YAZINIZ !\n",
                "            - tabloya aşağıdaki özelliklerde \"customerID\" adında yeni bir kolon ekleyiniz.\n",
                "                    - customerID : Integer veri tipindedir. \"FK_CustomertOrder\" adında tanımlı bir CONSTRAINT ile tblCustomer(customerID)'a FOREING KEY olarak bağlıdır.\n",
                "*/  \n",
                "\n",
                "use VtysLabDB\n",
                "ALTER TABLE tblOrder\n",
                "ADD customerID INT\n",
                "CONSTRAINT FK_CustomertOrder FOREIGN KEY (customerID) REFERENCES tblCustomer(customerID)\n",
                "\n",
                "\n",
                "/* \n",
                "YORUMLARINIZI YAZINIZ\n",
                ".\n",
                ".\n",
                ".\n",
                "*/"
            ]
        },
        {
            "cell_type": "code",
            "execution_count": 130,
            "metadata": {
                "azdata_cell_guid": "cf4a730b-a8cb-40fb-ac78-addfe17f4137"
            },
            "outputs": [
                {
                    "data": {
                        "text/html": [
                            "(9 rows affected)"
                        ]
                    },
                    "metadata": {},
                    "output_type": "display_data"
                },
                {
                    "data": {
                        "text/html": [
                            "Total execution time: 00:00:00.017"
                        ]
                    },
                    "metadata": {},
                    "output_type": "display_data"
                }
            ],
            "source": [
                "/* SORU 9 İLE BAĞIMLIDIR. SORU 9 YAPILMADIĞI TAKTİRDE PUANLAMA OLMAYACAKTIR.\n",
                "(10p) Soru 11 : tblOrder tablosuna kendi belirlediğiniz 5 adet kayıt ekleyiniz. Bu süreçte karşınıza çıkan hatalara uygun çözümler üreterek tabloya en az 5 kaydı da EKLEYİN. \n",
                "                Aldığınız hatayı, nedenini ve çözümünüzü MUTLAKA yorumda yazınız. Aksi halde puan verilmeyecektir.\n",
                "*/  \n",
                "use VtysLabDB\n",
                "INSERT INTO tblOrder (customerID,productID)\n",
                "VALUES\n",
                "(106,202),\n",
                "(106,201),\n",
                "(106,200),\n",
                "(103,202),\n",
                "(103,201),\n",
                "(104,200),\n",
                "(104,202),\n",
                "(105,200),\n",
                "(105,201)\n",
                "\n",
                "\n",
                "/* \n",
                "YORUMLARINIZI YAZINIZ\n",
                ".\n",
                ".\n",
                ".\n",
                "*/"
            ]
        },
        {
            "cell_type": "code",
            "execution_count": 131,
            "metadata": {
                "azdata_cell_guid": "b5efc443-4008-48c6-827f-d959607789ff",
                "tags": []
            },
            "outputs": [
                {
                    "data": {
                        "text/html": [
                            "Commands completed successfully."
                        ]
                    },
                    "metadata": {},
                    "output_type": "display_data"
                },
                {
                    "data": {
                        "text/html": [
                            "Total execution time: 00:00:00.004"
                        ]
                    },
                    "metadata": {},
                    "output_type": "display_data"
                }
            ],
            "source": [
                "/*\n",
                "(15p) Soru 12 : Aşağıda verilen şekilde bir VIEW tablosu oluşturunuz. Bu tabloda mevcut siparişlere ait müşteri ve ürün bilgileri bulunacaktır.\n",
                "         - Tablo adı : tblView\n",
                "         - Kolonlar  :\n",
                "                        - orderID     : \n",
                "                        - customerID  : \n",
                "                        - firs_name   : \n",
                "                        - last_name   : \n",
                "                        - age         : \n",
                "                        - productID   : \n",
                "                        - product_name: \n",
                "                        - price       : \n",
                "*/    \n",
                "\n",
                "\n",
                "CREATE VIEW tblView AS \n",
                "SELECT o.orderID,c.customerID,c.firs_name,c.last_name,c.age,p.productID,p.product_name,p.price \n",
                "FROM tblCustomer as c \n",
                "INNER JOIN tblOrder as o ON c.customerID=o.customerID \n",
                "INNER JOIN tblProduct as p ON p.productID=o.productID \n",
                "/* \n",
                "YORUMLARINIZI YAZINIZ\n",
                ".\n",
                ".\n",
                ".\n",
                "*/"
            ]
        },
        {
            "cell_type": "code",
            "execution_count": 132,
            "metadata": {
                "azdata_cell_guid": "1ce36a4b-0900-43a7-9260-2b67d570a281"
            },
            "outputs": [
                {
                    "data": {
                        "text/html": [
                            "(9 rows affected)"
                        ]
                    },
                    "metadata": {},
                    "output_type": "display_data"
                },
                {
                    "data": {
                        "text/html": [
                            "Total execution time: 00:00:00.023"
                        ]
                    },
                    "metadata": {},
                    "output_type": "display_data"
                },
                {
                    "data": {
                        "application/vnd.dataresource+json": {
                            "data": [
                                {
                                    "0": "5",
                                    "1": "106",
                                    "2": "Melia",
                                    "3": "NotSpecified",
                                    "4": "42",
                                    "5": "202",
                                    "6": "Pure Cycles William",
                                    "7": "5"
                                },
                                {
                                    "0": "6",
                                    "1": "106",
                                    "2": "Melia",
                                    "3": "NotSpecified",
                                    "4": "42",
                                    "5": "201",
                                    "6": "Electra Townie Original",
                                    "7": "10"
                                },
                                {
                                    "0": "7",
                                    "1": "106",
                                    "2": "Melia",
                                    "3": "NotSpecified",
                                    "4": "42",
                                    "5": "200",
                                    "6": "Surly Straggler",
                                    "7": "12.5"
                                },
                                {
                                    "0": "8",
                                    "1": "103",
                                    "2": "Debra",
                                    "3": "Burks",
                                    "4": "24",
                                    "5": "202",
                                    "6": "Pure Cycles William",
                                    "7": "5"
                                },
                                {
                                    "0": "9",
                                    "1": "103",
                                    "2": "Debra",
                                    "3": "Burks",
                                    "4": "24",
                                    "5": "201",
                                    "6": "Electra Townie Original",
                                    "7": "10"
                                },
                                {
                                    "0": "10",
                                    "1": "104",
                                    "2": "Kasha",
                                    "3": "Todd",
                                    "4": "36",
                                    "5": "200",
                                    "6": "Surly Straggler",
                                    "7": "12.5"
                                },
                                {
                                    "0": "11",
                                    "1": "104",
                                    "2": "Kasha",
                                    "3": "Todd",
                                    "4": "36",
                                    "5": "202",
                                    "6": "Pure Cycles William",
                                    "7": "5"
                                },
                                {
                                    "0": "12",
                                    "1": "105",
                                    "2": "Robby",
                                    "3": "Sykes",
                                    "4": "22",
                                    "5": "200",
                                    "6": "Surly Straggler",
                                    "7": "12.5"
                                },
                                {
                                    "0": "13",
                                    "1": "105",
                                    "2": "Robby",
                                    "3": "Sykes",
                                    "4": "22",
                                    "5": "201",
                                    "6": "Electra Townie Original",
                                    "7": "10"
                                }
                            ],
                            "schema": {
                                "fields": [
                                    {
                                        "name": "orderID"
                                    },
                                    {
                                        "name": "customerID"
                                    },
                                    {
                                        "name": "firs_name"
                                    },
                                    {
                                        "name": "last_name"
                                    },
                                    {
                                        "name": "age"
                                    },
                                    {
                                        "name": "productID"
                                    },
                                    {
                                        "name": "product_name"
                                    },
                                    {
                                        "name": "price"
                                    }
                                ]
                            }
                        },
                        "text/html": [
                            "<table><tr><th>orderID</th><th>customerID</th><th>firs_name</th><th>last_name</th><th>age</th><th>productID</th><th>product_name</th><th>price</th></tr><tr><td>5</td><td>106</td><td>Melia</td><td>NotSpecified</td><td>42</td><td>202</td><td>Pure Cycles William</td><td>5</td></tr><tr><td>6</td><td>106</td><td>Melia</td><td>NotSpecified</td><td>42</td><td>201</td><td>Electra Townie Original</td><td>10</td></tr><tr><td>7</td><td>106</td><td>Melia</td><td>NotSpecified</td><td>42</td><td>200</td><td>Surly Straggler</td><td>12.5</td></tr><tr><td>8</td><td>103</td><td>Debra</td><td>Burks</td><td>24</td><td>202</td><td>Pure Cycles William</td><td>5</td></tr><tr><td>9</td><td>103</td><td>Debra</td><td>Burks</td><td>24</td><td>201</td><td>Electra Townie Original</td><td>10</td></tr><tr><td>10</td><td>104</td><td>Kasha</td><td>Todd</td><td>36</td><td>200</td><td>Surly Straggler</td><td>12.5</td></tr><tr><td>11</td><td>104</td><td>Kasha</td><td>Todd</td><td>36</td><td>202</td><td>Pure Cycles William</td><td>5</td></tr><tr><td>12</td><td>105</td><td>Robby</td><td>Sykes</td><td>22</td><td>200</td><td>Surly Straggler</td><td>12.5</td></tr><tr><td>13</td><td>105</td><td>Robby</td><td>Sykes</td><td>22</td><td>201</td><td>Electra Townie Original</td><td>10</td></tr></table>"
                        ]
                    },
                    "execution_count": 132,
                    "metadata": {},
                    "output_type": "execute_result"
                }
            ],
            "source": [
                "/* SORU 12 İLE BAĞIMLIDIR. SORU 12 YAPILMADIĞI TAKTİRDE PUANLAMA OLMAYACAKTIR.\n",
                "(5p) Soru 13 : tblView adıyla oluşturduğunuz VIEW tablosundaki tüm kayıtları listeleyen kodu yazınız.\n",
                "*/    \n",
                "\n",
                "USE VtysLabDB\n",
                "SELECT * FROM tblView\n",
                "\n",
                "/* \n",
                "YORUMLARINIZI YAZINIZ\n",
                ".\n",
                ".\n",
                ".\n",
                "*/"
            ]
        }
    ],
    "metadata": {
        "kernelspec": {
            "display_name": "SQL",
            "language": "sql",
            "name": "SQL"
        },
        "language_info": {
            "name": "sql",
            "version": ""
        }
    },
    "nbformat": 4,
    "nbformat_minor": 2
}
