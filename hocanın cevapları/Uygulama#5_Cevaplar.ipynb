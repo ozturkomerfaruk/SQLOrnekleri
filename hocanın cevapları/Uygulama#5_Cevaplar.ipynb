{
    "cells": [
        {
            "attachments": {},
            "cell_type": "markdown",
            "metadata": {
                "azdata_cell_guid": "f9e5195b-db12-4eaf-885a-d8b72282d09c"
            },
            "source": [
                "**VERİ TABANI YÖNETİM SİSTEMLERİ LAB. UYGULAMA 5**\n",
                "\n",
                "**Not**: Prelab dokümanında verilen veri tabanını oluşturduktan sonra aşağıda verilen sorulara uygun SQL kodlarını yazınız.  \n",
                "Yazdığınız kodları <u>yorumlarınızla</u> açıklayınız.\n",
                "\n",
                "ESUZEM'de açılan yere bu dosyayı \"OgrNo\\_AdSoyad\\_UygNo.ipynb\" dosya adı ile beraber yükleyiniz.\n",
                "\n",
                "Örnek dosya adı : <span style=\"color: red; font-size: 14pt;\">152120181000_SergenAsik_Uyg5.ipynb</span>"
            ]
        },
        {
            "cell_type": "code",
            "execution_count": 9,
            "metadata": {
                "azdata_cell_guid": "3773ce0f-a0fb-4ee0-8aea-08a78e132b39"
            },
            "outputs": [
                {
                    "data": {
                        "text/html": [
                            "(10 rows affected)"
                        ]
                    },
                    "metadata": {},
                    "output_type": "display_data"
                },
                {
                    "data": {
                        "text/html": [
                            "Total execution time: 00:00:00.006"
                        ]
                    },
                    "metadata": {},
                    "output_type": "display_data"
                },
                {
                    "data": {
                        "application/vnd.dataresource+json": {
                            "data": [
                                {
                                    "0": "Rowlett Bikes",
                                    "1": "30",
                                    "2": "Haro Flightline One ST - 2017",
                                    "3": "379.99"
                                },
                                {
                                    "0": "Rowlett Bikes",
                                    "1": "23",
                                    "2": "Haro Flightline Two 26 Plus - 2017",
                                    "3": "549.99"
                                },
                                {
                                    "0": "Rowlett Bikes",
                                    "1": "25",
                                    "2": "Haro Shift R3 - 2017",
                                    "3": "1469.99"
                                },
                                {
                                    "0": "Rowlett Bikes",
                                    "1": "26",
                                    "2": "Haro SR 1.1 - 2017",
                                    "3": "539.99"
                                },
                                {
                                    "0": "Rowlett Bikes",
                                    "1": "1",
                                    "2": "Haro SR 1.2 - 2017",
                                    "3": "869.99"
                                },
                                {
                                    "0": "Rowlett Bikes",
                                    "1": "16",
                                    "2": "Haro SR 1.3 - 2017",
                                    "3": "1409.99"
                                },
                                {
                                    "0": "Rowlett Bikes",
                                    "1": "15",
                                    "2": "Haro Downtown 16 - 2017",
                                    "3": "329.99"
                                },
                                {
                                    "0": "Rowlett Bikes",
                                    "1": "28",
                                    "2": "Haro Shredder 20 - 2017",
                                    "3": "209.99"
                                },
                                {
                                    "0": "Rowlett Bikes",
                                    "1": "18",
                                    "2": "Haro Shredder 20 Girls - 2017",
                                    "3": "209.99"
                                },
                                {
                                    "0": "Rowlett Bikes",
                                    "1": "15",
                                    "2": "Haro Shredder Pro 20 - 2017",
                                    "3": "249.99"
                                }
                            ],
                            "schema": {
                                "fields": [
                                    {
                                        "name": "store_name"
                                    },
                                    {
                                        "name": "quantity"
                                    },
                                    {
                                        "name": "product_name"
                                    },
                                    {
                                        "name": "list_price"
                                    }
                                ]
                            }
                        },
                        "text/html": [
                            "<table>\n",
                            "<tr><th>store_name</th><th>quantity</th><th>product_name</th><th>list_price</th></tr>\n",
                            "<tr><td>Rowlett Bikes</td><td>30</td><td>Haro Flightline One ST - 2017</td><td>379.99</td></tr>\n",
                            "<tr><td>Rowlett Bikes</td><td>23</td><td>Haro Flightline Two 26 Plus - 2017</td><td>549.99</td></tr>\n",
                            "<tr><td>Rowlett Bikes</td><td>25</td><td>Haro Shift R3 - 2017</td><td>1469.99</td></tr>\n",
                            "<tr><td>Rowlett Bikes</td><td>26</td><td>Haro SR 1.1 - 2017</td><td>539.99</td></tr>\n",
                            "<tr><td>Rowlett Bikes</td><td>1</td><td>Haro SR 1.2 - 2017</td><td>869.99</td></tr>\n",
                            "<tr><td>Rowlett Bikes</td><td>16</td><td>Haro SR 1.3 - 2017</td><td>1409.99</td></tr>\n",
                            "<tr><td>Rowlett Bikes</td><td>15</td><td>Haro Downtown 16 - 2017</td><td>329.99</td></tr>\n",
                            "<tr><td>Rowlett Bikes</td><td>28</td><td>Haro Shredder 20 - 2017</td><td>209.99</td></tr>\n",
                            "<tr><td>Rowlett Bikes</td><td>18</td><td>Haro Shredder 20 Girls - 2017</td><td>209.99</td></tr>\n",
                            "<tr><td>Rowlett Bikes</td><td>15</td><td>Haro Shredder Pro 20 - 2017</td><td>249.99</td></tr>\n",
                            "</table>"
                        ]
                    },
                    "execution_count": 9,
                    "metadata": {},
                    "output_type": "execute_result"
                }
            ],
            "source": [
                "/*\n",
                "(10p) Soru 1 : Rowlett Bikes mağazasındaki(stores) stoklarda(stocks) bulunan ürünlerden(products) isminin ikinci harfi 'a' olan ürünleri listeleyiniz.\n",
                "               * Mağaza adı, stok miktarı, ürün adı ve fiyatı sayısı çıktı olarak verilmelidir!\n",
                "*/\n",
                "\n",
                "SELECT store_name, quantity, product_name, list_price FROM stores, stocks, products WHERE stores.store_id = stocks.store_id AND stocks.product_id = products.product_id AND product_name LIKE '_a%' AND store_name = 'Rowlett Bikes'\n",
                "\n",
                "/* \n",
                "YORUMLARINIZI YAZINIZ\n",
                ".\n",
                ".\n",
                ".\n",
                "*/"
            ]
        },
        {
            "cell_type": "code",
            "execution_count": 10,
            "metadata": {
                "azdata_cell_guid": "c2d87cbd-67e9-4e35-981a-4f6d35dd38d0"
            },
            "outputs": [
                {
                    "data": {
                        "text/html": [
                            "(3 rows affected)"
                        ]
                    },
                    "metadata": {},
                    "output_type": "display_data"
                },
                {
                    "data": {
                        "text/html": [
                            "Total execution time: 00:00:00.006"
                        ]
                    },
                    "metadata": {},
                    "output_type": "display_data"
                },
                {
                    "data": {
                        "application/vnd.dataresource+json": {
                            "data": [
                                {
                                    "0": "Santa Cruz Bikes",
                                    "1": "348"
                                },
                                {
                                    "0": "Rowlett Bikes",
                                    "1": "174"
                                },
                                {
                                    "0": "Baldwin Bikes",
                                    "1": "1093"
                                }
                            ],
                            "schema": {
                                "fields": [
                                    {
                                        "name": "store_name"
                                    },
                                    {
                                        "name": "(No column name)"
                                    }
                                ]
                            }
                        },
                        "text/html": [
                            "<table>\n",
                            "<tr><th>store_name</th><th>(No column name)</th></tr>\n",
                            "<tr><td>Santa Cruz Bikes</td><td>348</td></tr>\n",
                            "<tr><td>Rowlett Bikes</td><td>174</td></tr>\n",
                            "<tr><td>Baldwin Bikes</td><td>1093</td></tr>\n",
                            "</table>"
                        ]
                    },
                    "execution_count": 10,
                    "metadata": {},
                    "output_type": "execute_result"
                }
            ],
            "source": [
                "/*\n",
                "(10p) Soru 2 : Hangi mağazadan(stores) toplamda kaç müşteri(customers) sipariş(orders) vermiş sayılarını listeleyiniz. \n",
                "               * Mağaza adı ve toplam müşteri sipariş sayısı çıktı olarak verilmelidir!\n",
                "*/\n",
                "\n",
                "SELECT store_name, COUNT(*) FROM customers, orders, stores \n",
                "WHERE customers.customer_id = orders.customer_id AND orders.store_id = stores.store_id GROUP BY store_name\n",
                "\n",
                "/* \n",
                "YORUMLARINIZI YAZINIZ\n",
                ".\n",
                ".\n",
                ".\n",
                "*/"
            ]
        },
        {
            "cell_type": "code",
            "execution_count": 11,
            "metadata": {
                "azdata_cell_guid": "0083bc01-c65c-4bd0-b3be-18cca9e59d02"
            },
            "outputs": [
                {
                    "data": {
                        "text/html": [
                            "(3 rows affected)"
                        ]
                    },
                    "metadata": {},
                    "output_type": "display_data"
                },
                {
                    "data": {
                        "text/html": [
                            "Total execution time: 00:00:00.006"
                        ]
                    },
                    "metadata": {},
                    "output_type": "display_data"
                },
                {
                    "data": {
                        "application/vnd.dataresource+json": {
                            "data": [
                                {
                                    "0": "Baldwin Bikes",
                                    "1": "136",
                                    "2": "11999.99",
                                    "3": "109.99"
                                },
                                {
                                    "0": "Rowlett Bikes",
                                    "1": "145",
                                    "2": "11999.99",
                                    "3": "89.99"
                                },
                                {
                                    "0": "Santa Cruz Bikes",
                                    "1": "147",
                                    "2": "6499.99",
                                    "3": "89.99"
                                }
                            ],
                            "schema": {
                                "fields": [
                                    {
                                        "name": "store_name"
                                    },
                                    {
                                        "name": "(No column name)"
                                    },
                                    {
                                        "name": "(No column name)"
                                    },
                                    {
                                        "name": "(No column name)"
                                    }
                                ]
                            }
                        },
                        "text/html": [
                            "<table>\n",
                            "<tr><th>store_name</th><th>(No column name)</th><th>(No column name)</th><th>(No column name)</th></tr>\n",
                            "<tr><td>Baldwin Bikes</td><td>136</td><td>11999.99</td><td>109.99</td></tr>\n",
                            "<tr><td>Rowlett Bikes</td><td>145</td><td>11999.99</td><td>89.99</td></tr>\n",
                            "<tr><td>Santa Cruz Bikes</td><td>147</td><td>6499.99</td><td>89.99</td></tr>\n",
                            "</table>"
                        ]
                    },
                    "execution_count": 11,
                    "metadata": {},
                    "output_type": "execute_result"
                }
            ],
            "source": [
                "/*\n",
                "(15p) Soru 3 : Mağazalardaki(stores) yer alan ürünlerden(products), stok(stocks) miktarı 15'ten büyük olanların sayısını, maksimum fiyatını, minimum fiyatını listeleyiniz.\n",
                "               * Mağaza adı, ürün sayısı, maksimum fiyatı, minimum fiyatı çıktı olarak verilmelidir.\n",
                "*/\n",
                "\n",
                "SELECT store_name, COUNT(*), MAX(list_price), MIN(list_price) FROM stores, stocks, products \n",
                "WHERE stores.store_id = stocks.store_id AND stocks.product_id = products.product_id AND quantity > 15 GROUP BY store_name\n",
                "\n",
                "/* \n",
                "YORUMLARINIZI YAZINIZ\n",
                ".\n",
                ".\n",
                ".\n",
                "*/"
            ]
        },
        {
            "cell_type": "code",
            "execution_count": 12,
            "metadata": {
                "azdata_cell_guid": "7ed635bf-ff2b-4bb6-b01d-440d6d371ec0"
            },
            "outputs": [
                {
                    "data": {
                        "text/html": [
                            "(28 rows affected)"
                        ]
                    },
                    "metadata": {},
                    "output_type": "display_data"
                },
                {
                    "data": {
                        "text/html": [
                            "Total execution time: 00:00:00.009"
                        ]
                    },
                    "metadata": {},
                    "output_type": "display_data"
                },
                {
                    "data": {
                        "application/vnd.dataresource+json": {
                            "data": [
                                {
                                    "0": "68",
                                    "1": "Jayne",
                                    "2": "Kirkland",
                                    "3": "NULL",
                                    "4": "jayne.kirkland@hotmail.com",
                                    "5": "7800 Second Lane ",
                                    "6": "Rowlett",
                                    "7": "TX",
                                    "8": "75088"
                                },
                                {
                                    "0": "157",
                                    "1": "Carola",
                                    "2": "Rodriquez",
                                    "3": "NULL",
                                    "4": "carola.rodriquez@hotmail.com",
                                    "5": "9433 Heritage Lane ",
                                    "6": "Banning",
                                    "7": "CA",
                                    "8": "92220"
                                },
                                {
                                    "0": "160",
                                    "1": "Omer",
                                    "2": "Estrada",
                                    "3": "NULL",
                                    "4": "omer.estrada@gmail.com",
                                    "5": "9 Honey Creek Street ",
                                    "6": "Rowlett",
                                    "7": "TX",
                                    "8": "75088"
                                },
                                {
                                    "0": "194",
                                    "1": "Dorine",
                                    "2": "Roberson",
                                    "3": "NULL",
                                    "4": "dorine.roberson@msn.com",
                                    "5": "396 Meadowbrook Lane ",
                                    "6": "Santa Cruz",
                                    "7": "CA",
                                    "8": "95060"
                                },
                                {
                                    "0": "205",
                                    "1": "Harris",
                                    "2": "Pittman",
                                    "3": "NULL",
                                    "4": "harris.pittman@yahoo.com",
                                    "5": "404 Cherry Hill Road ",
                                    "6": "Jamaica",
                                    "7": "NY",
                                    "8": "11432"
                                },
                                {
                                    "0": "272",
                                    "1": "Deja",
                                    "2": "Chaney",
                                    "3": "NULL",
                                    "4": "deja.chaney@hotmail.com",
                                    "5": "52 Woodside Ave. ",
                                    "6": "Jamaica",
                                    "7": "NY",
                                    "8": "11432"
                                },
                                {
                                    "0": "314",
                                    "1": "Javier",
                                    "2": "Nichols",
                                    "3": "NULL",
                                    "4": "javier.nichols@msn.com",
                                    "5": "8944 Marconi St. ",
                                    "6": "Rowlett",
                                    "7": "TX",
                                    "8": "75088"
                                },
                                {
                                    "0": "352",
                                    "1": "Josef",
                                    "2": "Greer",
                                    "3": "NULL",
                                    "4": "josef.greer@gmail.com",
                                    "5": "92 Summer Court ",
                                    "6": "Jamaica",
                                    "7": "NY",
                                    "8": "11432"
                                },
                                {
                                    "0": "439",
                                    "1": "Sunshine",
                                    "2": "Rosario",
                                    "3": "NULL",
                                    "4": "sunshine.rosario@aol.com",
                                    "5": "1 Chestnut Lane ",
                                    "6": "Jamaica",
                                    "7": "NY",
                                    "8": "11432"
                                },
                                {
                                    "0": "451",
                                    "1": "Jennette",
                                    "2": "Wooten",
                                    "3": "NULL",
                                    "4": "jennette.wooten@msn.com",
                                    "5": "8221 Bow Ridge Lane ",
                                    "6": "Rowlett",
                                    "7": "TX",
                                    "8": "75088"
                                },
                                {
                                    "0": "456",
                                    "1": "Serina",
                                    "2": "Hensley",
                                    "3": "NULL",
                                    "4": "serina.hensley@yahoo.com",
                                    "5": "53 Proctor Drive ",
                                    "6": "Jamaica",
                                    "7": "NY",
                                    "8": "11432"
                                },
                                {
                                    "0": "476",
                                    "1": "Christopher",
                                    "2": "Richardson",
                                    "3": "NULL",
                                    "4": "christopher.richardson@gmail.com",
                                    "5": "7846 Windfall Dr. ",
                                    "6": "Santa Cruz",
                                    "7": "CA",
                                    "8": "95060"
                                },
                                {
                                    "0": "505",
                                    "1": "Wilda",
                                    "2": "Petersen",
                                    "3": "NULL",
                                    "4": "wilda.petersen@aol.com",
                                    "5": "899 Helen St. ",
                                    "6": "Jamaica",
                                    "7": "NY",
                                    "8": "11432"
                                },
                                {
                                    "0": "575",
                                    "1": "Laurence",
                                    "2": "Christian",
                                    "3": "NULL",
                                    "4": "laurence.christian@gmail.com",
                                    "5": "2 Maple St. ",
                                    "6": "Jamaica",
                                    "7": "NY",
                                    "8": "11432"
                                },
                                {
                                    "0": "620",
                                    "1": "Eric",
                                    "2": "Hardin",
                                    "3": "NULL",
                                    "4": "eric.hardin@gmail.com",
                                    "5": "39 S. Parker Drive ",
                                    "6": "Jamaica",
                                    "7": "NY",
                                    "8": "11432"
                                },
                                {
                                    "0": "671",
                                    "1": "Jennette",
                                    "2": "Baker",
                                    "3": "NULL",
                                    "4": "jennette.baker@gmail.com",
                                    "5": "798 Marvon St. ",
                                    "6": "Banning",
                                    "7": "CA",
                                    "8": "92220"
                                },
                                {
                                    "0": "712",
                                    "1": "Kecia",
                                    "2": "Olsen",
                                    "3": "NULL",
                                    "4": "kecia.olsen@msn.com",
                                    "5": "8389 Central St. ",
                                    "6": "Santa Cruz",
                                    "7": "CA",
                                    "8": "95060"
                                },
                                {
                                    "0": "725",
                                    "1": "Carola",
                                    "2": "Mcpherson",
                                    "3": "NULL",
                                    "4": "carola.mcpherson@hotmail.com",
                                    "5": "578 Shirley Dr. ",
                                    "6": "Rego Park",
                                    "7": "NY",
                                    "8": "11374"
                                },
                                {
                                    "0": "808",
                                    "1": "Vallie",
                                    "2": "Dixon",
                                    "3": "NULL",
                                    "4": "vallie.dixon@yahoo.com",
                                    "5": "85 E. Ann Drive ",
                                    "6": "Rowlett",
                                    "7": "TX",
                                    "8": "75088"
                                },
                                {
                                    "0": "850",
                                    "1": "Stephanie",
                                    "2": "Browning",
                                    "3": "NULL",
                                    "4": "stephanie.browning@yahoo.com",
                                    "5": "9156 Lantern St. ",
                                    "6": "Rowlett",
                                    "7": "TX",
                                    "8": "75088"
                                },
                                {
                                    "0": "1029",
                                    "1": "Ping",
                                    "2": "Quinn",
                                    "3": "NULL",
                                    "4": "ping.quinn@gmail.com",
                                    "5": "9051 Hanover Dr. ",
                                    "6": "Rowlett",
                                    "7": "TX",
                                    "8": "75088"
                                },
                                {
                                    "0": "1064",
                                    "1": "Patsy",
                                    "2": "Russo",
                                    "3": "NULL",
                                    "4": "patsy.russo@gmail.com",
                                    "5": "8438 Fairway Avenue ",
                                    "6": "Rowlett",
                                    "7": "TX",
                                    "8": "75088"
                                },
                                {
                                    "0": "1086",
                                    "1": "Cori",
                                    "2": "Schwartz",
                                    "3": "NULL",
                                    "4": "cori.schwartz@msn.com",
                                    "5": "43 Lancaster Lane ",
                                    "6": "Jamaica",
                                    "7": "NY",
                                    "8": "11432"
                                },
                                {
                                    "0": "1375",
                                    "1": "Carlena",
                                    "2": "Salinas",
                                    "3": "NULL",
                                    "4": "carlena.salinas@gmail.com",
                                    "5": "1 Wagon Street ",
                                    "6": "Jamaica",
                                    "7": "NY",
                                    "8": "11432"
                                },
                                {
                                    "0": "1379",
                                    "1": "Dorine",
                                    "2": "Thornton",
                                    "3": "NULL",
                                    "4": "dorine.thornton@gmail.com",
                                    "5": "8730 N. Atlantic Street ",
                                    "6": "Sunnyside",
                                    "7": "NY",
                                    "8": "11104"
                                },
                                {
                                    "0": "1393",
                                    "1": "Vivian",
                                    "2": "Deleon",
                                    "3": "NULL",
                                    "4": "vivian.deleon@msn.com",
                                    "5": "9925 Hamilton Street ",
                                    "6": "Jamaica",
                                    "7": "NY",
                                    "8": "11432"
                                },
                                {
                                    "0": "1415",
                                    "1": "Harold",
                                    "2": "O'connor",
                                    "3": "NULL",
                                    "4": "harold.o'connor@gmail.com",
                                    "5": "9530 Summerhouse Street ",
                                    "6": "Santa Cruz",
                                    "7": "CA",
                                    "8": "95060"
                                },
                                {
                                    "0": "1428",
                                    "1": "Carola",
                                    "2": "Johns",
                                    "3": "NULL",
                                    "4": "carola.johns@msn.com",
                                    "5": "7077 Fordham Rd. ",
                                    "6": "Santa Cruz",
                                    "7": "CA",
                                    "8": "95060"
                                }
                            ],
                            "schema": {
                                "fields": [
                                    {
                                        "name": "customer_id"
                                    },
                                    {
                                        "name": "first_name"
                                    },
                                    {
                                        "name": "last_name"
                                    },
                                    {
                                        "name": "phone"
                                    },
                                    {
                                        "name": "email"
                                    },
                                    {
                                        "name": "street"
                                    },
                                    {
                                        "name": "city"
                                    },
                                    {
                                        "name": "state"
                                    },
                                    {
                                        "name": "zip_code"
                                    }
                                ]
                            }
                        },
                        "text/html": [
                            "<table>\n",
                            "<tr><th>customer_id</th><th>first_name</th><th>last_name</th><th>phone</th><th>email</th><th>street</th><th>city</th><th>state</th><th>zip_code</th></tr>\n",
                            "<tr><td>68</td><td>Jayne</td><td>Kirkland</td><td>NULL</td><td>jayne.kirkland@hotmail.com</td><td>7800 Second Lane </td><td>Rowlett</td><td>TX</td><td>75088</td></tr>\n",
                            "<tr><td>157</td><td>Carola</td><td>Rodriquez</td><td>NULL</td><td>carola.rodriquez@hotmail.com</td><td>9433 Heritage Lane </td><td>Banning</td><td>CA</td><td>92220</td></tr>\n",
                            "<tr><td>160</td><td>Omer</td><td>Estrada</td><td>NULL</td><td>omer.estrada@gmail.com</td><td>9 Honey Creek Street </td><td>Rowlett</td><td>TX</td><td>75088</td></tr>\n",
                            "<tr><td>194</td><td>Dorine</td><td>Roberson</td><td>NULL</td><td>dorine.roberson@msn.com</td><td>396 Meadowbrook Lane </td><td>Santa Cruz</td><td>CA</td><td>95060</td></tr>\n",
                            "<tr><td>205</td><td>Harris</td><td>Pittman</td><td>NULL</td><td>harris.pittman@yahoo.com</td><td>404 Cherry Hill Road </td><td>Jamaica</td><td>NY</td><td>11432</td></tr>\n",
                            "<tr><td>272</td><td>Deja</td><td>Chaney</td><td>NULL</td><td>deja.chaney@hotmail.com</td><td>52 Woodside Ave. </td><td>Jamaica</td><td>NY</td><td>11432</td></tr>\n",
                            "<tr><td>314</td><td>Javier</td><td>Nichols</td><td>NULL</td><td>javier.nichols@msn.com</td><td>8944 Marconi St. </td><td>Rowlett</td><td>TX</td><td>75088</td></tr>\n",
                            "<tr><td>352</td><td>Josef</td><td>Greer</td><td>NULL</td><td>josef.greer@gmail.com</td><td>92 Summer Court </td><td>Jamaica</td><td>NY</td><td>11432</td></tr>\n",
                            "<tr><td>439</td><td>Sunshine</td><td>Rosario</td><td>NULL</td><td>sunshine.rosario@aol.com</td><td>1 Chestnut Lane </td><td>Jamaica</td><td>NY</td><td>11432</td></tr>\n",
                            "<tr><td>451</td><td>Jennette</td><td>Wooten</td><td>NULL</td><td>jennette.wooten@msn.com</td><td>8221 Bow Ridge Lane </td><td>Rowlett</td><td>TX</td><td>75088</td></tr>\n",
                            "<tr><td>456</td><td>Serina</td><td>Hensley</td><td>NULL</td><td>serina.hensley@yahoo.com</td><td>53 Proctor Drive </td><td>Jamaica</td><td>NY</td><td>11432</td></tr>\n",
                            "<tr><td>476</td><td>Christopher</td><td>Richardson</td><td>NULL</td><td>christopher.richardson@gmail.com</td><td>7846 Windfall Dr. </td><td>Santa Cruz</td><td>CA</td><td>95060</td></tr>\n",
                            "<tr><td>505</td><td>Wilda</td><td>Petersen</td><td>NULL</td><td>wilda.petersen@aol.com</td><td>899 Helen St. </td><td>Jamaica</td><td>NY</td><td>11432</td></tr>\n",
                            "<tr><td>575</td><td>Laurence</td><td>Christian</td><td>NULL</td><td>laurence.christian@gmail.com</td><td>2 Maple St. </td><td>Jamaica</td><td>NY</td><td>11432</td></tr>\n",
                            "<tr><td>620</td><td>Eric</td><td>Hardin</td><td>NULL</td><td>eric.hardin@gmail.com</td><td>39 S. Parker Drive </td><td>Jamaica</td><td>NY</td><td>11432</td></tr>\n",
                            "<tr><td>671</td><td>Jennette</td><td>Baker</td><td>NULL</td><td>jennette.baker@gmail.com</td><td>798 Marvon St. </td><td>Banning</td><td>CA</td><td>92220</td></tr>\n",
                            "<tr><td>712</td><td>Kecia</td><td>Olsen</td><td>NULL</td><td>kecia.olsen@msn.com</td><td>8389 Central St. </td><td>Santa Cruz</td><td>CA</td><td>95060</td></tr>\n",
                            "<tr><td>725</td><td>Carola</td><td>Mcpherson</td><td>NULL</td><td>carola.mcpherson@hotmail.com</td><td>578 Shirley Dr. </td><td>Rego Park</td><td>NY</td><td>11374</td></tr>\n",
                            "<tr><td>808</td><td>Vallie</td><td>Dixon</td><td>NULL</td><td>vallie.dixon@yahoo.com</td><td>85 E. Ann Drive </td><td>Rowlett</td><td>TX</td><td>75088</td></tr>\n",
                            "<tr><td>850</td><td>Stephanie</td><td>Browning</td><td>NULL</td><td>stephanie.browning@yahoo.com</td><td>9156 Lantern St. </td><td>Rowlett</td><td>TX</td><td>75088</td></tr>\n",
                            "<tr><td>1029</td><td>Ping</td><td>Quinn</td><td>NULL</td><td>ping.quinn@gmail.com</td><td>9051 Hanover Dr. </td><td>Rowlett</td><td>TX</td><td>75088</td></tr>\n",
                            "<tr><td>1064</td><td>Patsy</td><td>Russo</td><td>NULL</td><td>patsy.russo@gmail.com</td><td>8438 Fairway Avenue </td><td>Rowlett</td><td>TX</td><td>75088</td></tr>\n",
                            "<tr><td>1086</td><td>Cori</td><td>Schwartz</td><td>NULL</td><td>cori.schwartz@msn.com</td><td>43 Lancaster Lane </td><td>Jamaica</td><td>NY</td><td>11432</td></tr>\n",
                            "<tr><td>1375</td><td>Carlena</td><td>Salinas</td><td>NULL</td><td>carlena.salinas@gmail.com</td><td>1 Wagon Street </td><td>Jamaica</td><td>NY</td><td>11432</td></tr>\n",
                            "<tr><td>1379</td><td>Dorine</td><td>Thornton</td><td>NULL</td><td>dorine.thornton@gmail.com</td><td>8730 N. Atlantic Street </td><td>Sunnyside</td><td>NY</td><td>11104</td></tr>\n",
                            "<tr><td>1393</td><td>Vivian</td><td>Deleon</td><td>NULL</td><td>vivian.deleon@msn.com</td><td>9925 Hamilton Street </td><td>Jamaica</td><td>NY</td><td>11432</td></tr>\n",
                            "<tr><td>1415</td><td>Harold</td><td>O'connor</td><td>NULL</td><td>harold.o'connor@gmail.com</td><td>9530 Summerhouse Street </td><td>Santa Cruz</td><td>CA</td><td>95060</td></tr>\n",
                            "<tr><td>1428</td><td>Carola</td><td>Johns</td><td>NULL</td><td>carola.johns@msn.com</td><td>7077 Fordham Rd. </td><td>Santa Cruz</td><td>CA</td><td>95060</td></tr>\n",
                            "</table>"
                        ]
                    },
                    "execution_count": 12,
                    "metadata": {},
                    "output_type": "execute_result"
                }
            ],
            "source": [
                "/*\n",
                "(15p) Soru 4 : Yaşadığı bölgedeki mağazadan(stores), sipariş(orders) vermiş olan müşterilerin(customers) bilgilerini listeleyiniz.\n",
                "               ** IN kullanarak iç içe sorgu gerçekleştirilmelidir!\n",
                "*/\n",
                "\n",
                "SELECT * FROM customers as C1 WHERE C1.first_name IN (SELECT C2.first_name FROM customers as C2, orders, stores WHERE C2.customer_id = orders.customer_id AND orders.store_id = stores.store_id AND C2.zip_code = stores.zip_code)\n",
                "\n",
                "/* \n",
                "YORUMLARINIZI YAZINIZ\n",
                ".\n",
                ".\n",
                ".\n",
                "*/"
            ]
        },
        {
            "cell_type": "code",
            "execution_count": 13,
            "metadata": {
                "azdata_cell_guid": "93a0596f-a7a7-4621-86de-02dfd4f1d6f7"
            },
            "outputs": [
                {
                    "data": {
                        "text/html": [
                            "(107 rows affected)"
                        ]
                    },
                    "metadata": {},
                    "output_type": "display_data"
                },
                {
                    "data": {
                        "text/html": [
                            "Total execution time: 00:00:00.003"
                        ]
                    },
                    "metadata": {},
                    "output_type": "display_data"
                },
                {
                    "data": {
                        "application/vnd.dataresource+json": {
                            "data": [
                                {
                                    "0": "Trek 820 - 2016"
                                },
                                {
                                    "0": "Surly Wednesday Frameset - 2016"
                                },
                                {
                                    "0": "Surly Ice Cream Truck Frameset - 2016"
                                },
                                {
                                    "0": "Surly Straggler 650b - 2016"
                                },
                                {
                                    "0": "Electra Townie Original 21D - 2016"
                                },
                                {
                                    "0": "Electra Townie Original 7D EQ - Women's - 2016"
                                },
                                {
                                    "0": "Electra Girl's Hawaii 1 (16-inch) - 2015/2016"
                                },
                                {
                                    "0": "Electra Townie Original 7D EQ - 2016"
                                },
                                {
                                    "0": "Trek X-Caliber 8 - 2017"
                                },
                                {
                                    "0": "Surly Ice Cream Truck Frameset - 2017"
                                },
                                {
                                    "0": "Surly Troll Frameset - 2017"
                                },
                                {
                                    "0": "Haro Flightline One ST - 2017"
                                },
                                {
                                    "0": "Trek Stache 5 - 2017"
                                },
                                {
                                    "0": "Trek Fuel EX 9.8 27.5 Plus - 2017"
                                },
                                {
                                    "0": "Haro SR 1.1 - 2017"
                                },
                                {
                                    "0": "Trek Silque SLR 7 Women's - 2017"
                                },
                                {
                                    "0": "Trek Emonda S 5 - 2017"
                                },
                                {
                                    "0": "Trek Madone 9.2 - 2017"
                                },
                                {
                                    "0": "Trek Powerfly 8 FS Plus - 2017"
                                },
                                {
                                    "0": "Electra Townie Original 7D - 2017"
                                },
                                {
                                    "0": "Sun Bicycles Cruz 3 - 2017"
                                },
                                {
                                    "0": "Sun Bicycles Cruz 7 - 2017"
                                },
                                {
                                    "0": "Sun Bicycles Atlas X-Type - 2017"
                                },
                                {
                                    "0": "Electra Cruiser Lux Fat Tire 1 Ladies - 2017"
                                },
                                {
                                    "0": "Sun Bicycles Boardwalk (24-inch Wheels) - 2017"
                                },
                                {
                                    "0": "Sun Bicycles Brickell Tandem CB - 2017"
                                },
                                {
                                    "0": "Trek Girl's Kickster - 2017"
                                },
                                {
                                    "0": "Trek Precaliber 12 Boys - 2017"
                                },
                                {
                                    "0": "Trek Precaliber 12 Girls - 2017"
                                },
                                {
                                    "0": "Trek Precaliber 16 Girls - 2017"
                                },
                                {
                                    "0": "Haro Shredder 20 - 2017"
                                },
                                {
                                    "0": "Electra Savannah 3i (20-inch) - Girl's - 2017"
                                },
                                {
                                    "0": "Electra Straight 8 3i (20-inch) - Boy's - 2017"
                                },
                                {
                                    "0": "Electra Sugar Skulls 1 (20-inch) - Girl's - 2017"
                                },
                                {
                                    "0": "Electra Townie 3i EQ (20-inch) - Boys' - 2017"
                                },
                                {
                                    "0": "Sun Bicycles Streamway - 2017"
                                },
                                {
                                    "0": "Sun Bicycles Cruz 3 - 2017"
                                },
                                {
                                    "0": "Sun Bicycles Cruz 7 - 2017"
                                },
                                {
                                    "0": "Sun Bicycles Cruz 3 - Women's - 2017"
                                },
                                {
                                    "0": "Sun Bicycles Cruz 7 - Women's - 2017"
                                },
                                {
                                    "0": "Sun Bicycles Drifter 7 - Women's - 2017"
                                },
                                {
                                    "0": "Trek Marlin 7 - 2017/2018"
                                },
                                {
                                    "0": "Trek Kids' Neko - 2018"
                                },
                                {
                                    "0": "Surly Big Fat Dummy Frameset - 2018"
                                },
                                {
                                    "0": "Surly ECR 27.5 - 2018"
                                },
                                {
                                    "0": "Trek Procaliber Frameset - 2018"
                                },
                                {
                                    "0": "Trek Remedy 27.5 C Frameset - 2018"
                                },
                                {
                                    "0": "Trek X-Caliber Frameset - 2018"
                                },
                                {
                                    "0": "Trek Stache 5 - 2018"
                                },
                                {
                                    "0": "Trek Fuel EX 8 29 XT - 2018"
                                },
                                {
                                    "0": "Trek Domane SL 8 Disc - 2018"
                                },
                                {
                                    "0": "Trek Domane SL Frameset Women's - 2018"
                                },
                                {
                                    "0": "Trek Emonda ALR 6 - 2018"
                                },
                                {
                                    "0": "Trek Emonda SLR 6 - 2018"
                                },
                                {
                                    "0": "Surly Pack Rat - 2018"
                                },
                                {
                                    "0": "Trek Domane AL 2 Women's - 2018"
                                },
                                {
                                    "0": "Surly ECR Frameset - 2018"
                                },
                                {
                                    "0": "Surly Straggler - 2018"
                                },
                                {
                                    "0": "Trek Domane SL 6 - 2018"
                                },
                                {
                                    "0": "Trek Domane SLR Disc Frameset - 2018"
                                },
                                {
                                    "0": "Trek Madone 9 Frameset - 2018"
                                },
                                {
                                    "0": "Trek Domane SL 5 - 2018"
                                },
                                {
                                    "0": "Trek Domane SL 5 Disc - 2018"
                                },
                                {
                                    "0": "Trek Domane SL 5 Women's - 2018"
                                },
                                {
                                    "0": "Trek CrossRip+ - 2018"
                                },
                                {
                                    "0": "Trek XM700+ Lowstep - 2018"
                                },
                                {
                                    "0": "Trek Lift+ - 2018"
                                },
                                {
                                    "0": "Trek Verve+ - 2018"
                                },
                                {
                                    "0": "Electra Townie Commute Go! - 2018"
                                },
                                {
                                    "0": "Trek Powerfly 5 - 2018"
                                },
                                {
                                    "0": "Trek Powerfly 5 FS - 2018"
                                },
                                {
                                    "0": "Trek Boone 5 Disc - 2018"
                                },
                                {
                                    "0": "Trek Boone 7 Disc - 2018"
                                },
                                {
                                    "0": "Electra Tiger Shark 3i - 2018"
                                },
                                {
                                    "0": "Electra Cruiser 7D - 2016/2017/2018"
                                },
                                {
                                    "0": "Electra Moto 3i - 2018"
                                },
                                {
                                    "0": "Electra Cruiser 1 Tall - 2016/2018"
                                },
                                {
                                    "0": "Electra Cruiser Lux 3i - 2018"
                                },
                                {
                                    "0": "Electra Cruiser 7D Tall - 2016/2018"
                                },
                                {
                                    "0": "Electra Cruiser Lux 1 - 2016/2018"
                                },
                                {
                                    "0": "Electra Cruiser Lux 1 Ladies' - 2018"
                                },
                                {
                                    "0": "Electra Relic 3i - 2018"
                                },
                                {
                                    "0": "Electra Townie Balloon 8D EQ Ladies' - 2016/2017/2018"
                                },
                                {
                                    "0": "Electra Townie Commute 27D Ladies - 2018"
                                },
                                {
                                    "0": "Electra Townie Original 7D EQ Ladies' - 2017/2018"
                                },
                                {
                                    "0": "Electra White Water 3i - 2018"
                                },
                                {
                                    "0": "Electra Townie Commute Go! Ladies' - 2018"
                                },
                                {
                                    "0": "Electra Townie Go! 8i Ladies' - 2018"
                                },
                                {
                                    "0": "Trek MT 201 - 2018"
                                },
                                {
                                    "0": "Strider Strider 20 Sport - 2018"
                                },
                                {
                                    "0": "Trek Precaliber 12 Girl's - 2018"
                                },
                                {
                                    "0": "Trek Precaliber 12 Boy's - 2018"
                                },
                                {
                                    "0": "Trek Precaliber 16 Girl's - 2018"
                                },
                                {
                                    "0": "Trek Precaliber 20 6-speed Girl's - 2018"
                                },
                                {
                                    "0": "Trek Precaliber 20 Girl's - 2018"
                                },
                                {
                                    "0": "Trek Precaliber 24 21-speed Boy's - 2018"
                                },
                                {
                                    "0": "Electra Heartchya 1 (20-inch) - Girl's - 2018"
                                },
                                {
                                    "0": "Electra Savannah 1 (20-inch) - Girl's - 2018"
                                },
                                {
                                    "0": "Electra Starship 1 16\" - 2018"
                                },
                                {
                                    "0": "Electra Straight 8 1 (16-inch) - Boy's - 2018"
                                },
                                {
                                    "0": "Electra Superbolt 3i 20\" - 2018"
                                },
                                {
                                    "0": "Electra Sweet Ride 3i (20-inch) - Girls' - 2018"
                                },
                                {
                                    "0": "Electra Water Lily 1 (16-inch) - Girl's - 2018"
                                },
                                {
                                    "0": "Electra Townie Original 21D - 2018"
                                },
                                {
                                    "0": "Electra Townie Balloon 7i EQ - 2018"
                                },
                                {
                                    "0": "Electra Townie Commute 27D - 2018"
                                },
                                {
                                    "0": "Electra Townie Commute 8D - 2018"
                                }
                            ],
                            "schema": {
                                "fields": [
                                    {
                                        "name": "product_name"
                                    }
                                ]
                            }
                        },
                        "text/html": [
                            "<table>\n",
                            "<tr><th>product_name</th></tr>\n",
                            "<tr><td>Trek 820 - 2016</td></tr>\n",
                            "<tr><td>Surly Wednesday Frameset - 2016</td></tr>\n",
                            "<tr><td>Surly Ice Cream Truck Frameset - 2016</td></tr>\n",
                            "<tr><td>Surly Straggler 650b - 2016</td></tr>\n",
                            "<tr><td>Electra Townie Original 21D - 2016</td></tr>\n",
                            "<tr><td>Electra Townie Original 7D EQ - Women's - 2016</td></tr>\n",
                            "<tr><td>Electra Girl's Hawaii 1 (16-inch) - 2015/2016</td></tr>\n",
                            "<tr><td>Electra Townie Original 7D EQ - 2016</td></tr>\n",
                            "<tr><td>Trek X-Caliber 8 - 2017</td></tr>\n",
                            "<tr><td>Surly Ice Cream Truck Frameset - 2017</td></tr>\n",
                            "<tr><td>Surly Troll Frameset - 2017</td></tr>\n",
                            "<tr><td>Haro Flightline One ST - 2017</td></tr>\n",
                            "<tr><td>Trek Stache 5 - 2017</td></tr>\n",
                            "<tr><td>Trek Fuel EX 9.8 27.5 Plus - 2017</td></tr>\n",
                            "<tr><td>Haro SR 1.1 - 2017</td></tr>\n",
                            "<tr><td>Trek Silque SLR 7 Women's - 2017</td></tr>\n",
                            "<tr><td>Trek Emonda S 5 - 2017</td></tr>\n",
                            "<tr><td>Trek Madone 9.2 - 2017</td></tr>\n",
                            "<tr><td>Trek Powerfly 8 FS Plus - 2017</td></tr>\n",
                            "<tr><td>Electra Townie Original 7D - 2017</td></tr>\n",
                            "<tr><td>Sun Bicycles Cruz 3 - 2017</td></tr>\n",
                            "<tr><td>Sun Bicycles Cruz 7 - 2017</td></tr>\n",
                            "<tr><td>Sun Bicycles Atlas X-Type - 2017</td></tr>\n",
                            "<tr><td>Electra Cruiser Lux Fat Tire 1 Ladies - 2017</td></tr>\n",
                            "<tr><td>Sun Bicycles Boardwalk (24-inch Wheels) - 2017</td></tr>\n",
                            "<tr><td>Sun Bicycles Brickell Tandem CB - 2017</td></tr>\n",
                            "<tr><td>Trek Girl's Kickster - 2017</td></tr>\n",
                            "<tr><td>Trek Precaliber 12 Boys - 2017</td></tr>\n",
                            "<tr><td>Trek Precaliber 12 Girls - 2017</td></tr>\n",
                            "<tr><td>Trek Precaliber 16 Girls - 2017</td></tr>\n",
                            "<tr><td>Haro Shredder 20 - 2017</td></tr>\n",
                            "<tr><td>Electra Savannah 3i (20-inch) - Girl's - 2017</td></tr>\n",
                            "<tr><td>Electra Straight 8 3i (20-inch) - Boy's - 2017</td></tr>\n",
                            "<tr><td>Electra Sugar Skulls 1 (20-inch) - Girl's - 2017</td></tr>\n",
                            "<tr><td>Electra Townie 3i EQ (20-inch) - Boys' - 2017</td></tr>\n",
                            "<tr><td>Sun Bicycles Streamway - 2017</td></tr>\n",
                            "<tr><td>Sun Bicycles Cruz 3 - 2017</td></tr>\n",
                            "<tr><td>Sun Bicycles Cruz 7 - 2017</td></tr>\n",
                            "<tr><td>Sun Bicycles Cruz 3 - Women's - 2017</td></tr>\n",
                            "<tr><td>Sun Bicycles Cruz 7 - Women's - 2017</td></tr>\n",
                            "<tr><td>Sun Bicycles Drifter 7 - Women's - 2017</td></tr>\n",
                            "<tr><td>Trek Marlin 7 - 2017/2018</td></tr>\n",
                            "<tr><td>Trek Kids' Neko - 2018</td></tr>\n",
                            "<tr><td>Surly Big Fat Dummy Frameset - 2018</td></tr>\n",
                            "<tr><td>Surly ECR 27.5 - 2018</td></tr>\n",
                            "<tr><td>Trek Procaliber Frameset - 2018</td></tr>\n",
                            "<tr><td>Trek Remedy 27.5 C Frameset - 2018</td></tr>\n",
                            "<tr><td>Trek X-Caliber Frameset - 2018</td></tr>\n",
                            "<tr><td>Trek Stache 5 - 2018</td></tr>\n",
                            "<tr><td>Trek Fuel EX 8 29 XT - 2018</td></tr>\n",
                            "<tr><td>Trek Domane SL 8 Disc - 2018</td></tr>\n",
                            "<tr><td>Trek Domane SL Frameset Women's - 2018</td></tr>\n",
                            "<tr><td>Trek Emonda ALR 6 - 2018</td></tr>\n",
                            "<tr><td>Trek Emonda SLR 6 - 2018</td></tr>\n",
                            "<tr><td>Surly Pack Rat - 2018</td></tr>\n",
                            "<tr><td>Trek Domane AL 2 Women's - 2018</td></tr>\n",
                            "<tr><td>Surly ECR Frameset - 2018</td></tr>\n",
                            "<tr><td>Surly Straggler - 2018</td></tr>\n",
                            "<tr><td>Trek Domane SL 6 - 2018</td></tr>\n",
                            "<tr><td>Trek Domane SLR Disc Frameset - 2018</td></tr>\n",
                            "<tr><td>Trek Madone 9 Frameset - 2018</td></tr>\n",
                            "<tr><td>Trek Domane SL 5 - 2018</td></tr>\n",
                            "<tr><td>Trek Domane SL 5 Disc - 2018</td></tr>\n",
                            "<tr><td>Trek Domane SL 5 Women's - 2018</td></tr>\n",
                            "<tr><td>Trek CrossRip+ - 2018</td></tr>\n",
                            "<tr><td>Trek XM700+ Lowstep - 2018</td></tr>\n",
                            "<tr><td>Trek Lift+ - 2018</td></tr>\n",
                            "<tr><td>Trek Verve+ - 2018</td></tr>\n",
                            "<tr><td>Electra Townie Commute Go! - 2018</td></tr>\n",
                            "<tr><td>Trek Powerfly 5 - 2018</td></tr>\n",
                            "<tr><td>Trek Powerfly 5 FS - 2018</td></tr>\n",
                            "<tr><td>Trek Boone 5 Disc - 2018</td></tr>\n",
                            "<tr><td>Trek Boone 7 Disc - 2018</td></tr>\n",
                            "<tr><td>Electra Tiger Shark 3i - 2018</td></tr>\n",
                            "<tr><td>Electra Cruiser 7D - 2016/2017/2018</td></tr>\n",
                            "<tr><td>Electra Moto 3i - 2018</td></tr>\n",
                            "<tr><td>Electra Cruiser 1 Tall - 2016/2018</td></tr>\n",
                            "<tr><td>Electra Cruiser Lux 3i - 2018</td></tr>\n",
                            "<tr><td>Electra Cruiser 7D Tall - 2016/2018</td></tr>\n",
                            "<tr><td>Electra Cruiser Lux 1 - 2016/2018</td></tr>\n",
                            "<tr><td>Electra Cruiser Lux 1 Ladies' - 2018</td></tr>\n",
                            "<tr><td>Electra Relic 3i - 2018</td></tr>\n",
                            "<tr><td>Electra Townie Balloon 8D EQ Ladies' - 2016/2017/2018</td></tr>\n",
                            "<tr><td>Electra Townie Commute 27D Ladies - 2018</td></tr>\n",
                            "<tr><td>Electra Townie Original 7D EQ Ladies' - 2017/2018</td></tr>\n",
                            "<tr><td>Electra White Water 3i - 2018</td></tr>\n",
                            "<tr><td>Electra Townie Commute Go! Ladies' - 2018</td></tr>\n",
                            "<tr><td>Electra Townie Go! 8i Ladies' - 2018</td></tr>\n",
                            "<tr><td>Trek MT 201 - 2018</td></tr>\n",
                            "<tr><td>Strider Strider 20 Sport - 2018</td></tr>\n",
                            "<tr><td>Trek Precaliber 12 Girl's - 2018</td></tr>\n",
                            "<tr><td>Trek Precaliber 12 Boy's - 2018</td></tr>\n",
                            "<tr><td>Trek Precaliber 16 Girl's - 2018</td></tr>\n",
                            "<tr><td>Trek Precaliber 20 6-speed Girl's - 2018</td></tr>\n",
                            "<tr><td>Trek Precaliber 20 Girl's - 2018</td></tr>\n",
                            "<tr><td>Trek Precaliber 24 21-speed Boy's - 2018</td></tr>\n",
                            "<tr><td>Electra Heartchya 1 (20-inch) - Girl's - 2018</td></tr>\n",
                            "<tr><td>Electra Savannah 1 (20-inch) - Girl's - 2018</td></tr>\n",
                            "<tr><td>Electra Starship 1 16&quot; - 2018</td></tr>\n",
                            "<tr><td>Electra Straight 8 1 (16-inch) - Boy's - 2018</td></tr>\n",
                            "<tr><td>Electra Superbolt 3i 20&quot; - 2018</td></tr>\n",
                            "<tr><td>Electra Sweet Ride 3i (20-inch) - Girls' - 2018</td></tr>\n",
                            "<tr><td>Electra Water Lily 1 (16-inch) - Girl's - 2018</td></tr>\n",
                            "<tr><td>Electra Townie Original 21D - 2018</td></tr>\n",
                            "<tr><td>Electra Townie Balloon 7i EQ - 2018</td></tr>\n",
                            "<tr><td>Electra Townie Commute 27D - 2018</td></tr>\n",
                            "<tr><td>Electra Townie Commute 8D - 2018</td></tr>\n",
                            "</table>"
                        ]
                    },
                    "execution_count": 13,
                    "metadata": {},
                    "output_type": "execute_result"
                }
            ],
            "source": [
                "/*\n",
                "(10p) Soru 5 : Stok(stocks) miktarı 25'ten büyük olan ürünleri(products) listeleyiniz.\n",
                "               ** ANY kullanarak iç içe sorgu gerçekleştirilmelidir!\n",
                "               * Ürün adı ve stok miktarı çıktı olarak verilmelidir.\n",
                "*/\n",
                "\n",
                "SELECT product_name FROM products WHERE products.product_id = ANY (SELECT stocks.product_id FROM stocks WHERE quantity > 25)\n",
                "\n",
                "/* \n",
                "YORUMLARINIZI YAZINIZ\n",
                ".\n",
                ".\n",
                ".\n",
                "*/"
            ]
        },
        {
            "cell_type": "code",
            "execution_count": 14,
            "metadata": {
                "azdata_cell_guid": "271198bc-ad18-49d1-a205-dfce8e3f57dc"
            },
            "outputs": [
                {
                    "data": {
                        "text/html": [
                            "(0 rows affected)"
                        ]
                    },
                    "metadata": {},
                    "output_type": "display_data"
                },
                {
                    "data": {
                        "text/html": [
                            "Total execution time: 00:00:00.001"
                        ]
                    },
                    "metadata": {},
                    "output_type": "display_data"
                },
                {
                    "data": {
                        "application/vnd.dataresource+json": {
                            "data": [],
                            "schema": {
                                "fields": [
                                    {
                                        "name": "product_name"
                                    }
                                ]
                            }
                        },
                        "text/html": [
                            "<table>\n",
                            "<tr><th>product_name</th></tr>\n",
                            "</table>"
                        ]
                    },
                    "execution_count": 14,
                    "metadata": {},
                    "output_type": "execute_result"
                }
            ],
            "source": [
                "/*\n",
                "(10p) Soru 6 : Stok miktarı(stocks) 25 olan tüm ürünleri(products) listeleyiniz.\n",
                "               ** ALL kullanarak iç içe sorgu gerçekleştirilmelidir!\n",
                "               * Ürün adı çıktı olarak verilmelidir.\n",
                "*/\n",
                "\n",
                "SELECT product_name FROM products WHERE products.product_id = ALL (SELECT stocks.product_id FROM stocks WHERE quantity = 25)\n",
                "\n",
                "/* \n",
                "YORUMLARINIZI YAZINIZ\n",
                ".\n",
                ".\n",
                ".\n",
                "*/"
            ]
        },
        {
            "cell_type": "code",
            "execution_count": 15,
            "metadata": {
                "azdata_cell_guid": "137695a9-0a7f-46b4-8cb7-8bec915b684c"
            },
            "outputs": [
                {
                    "data": {
                        "text/html": [
                            "(9 rows affected)"
                        ]
                    },
                    "metadata": {},
                    "output_type": "display_data"
                },
                {
                    "data": {
                        "text/html": [
                            "Total execution time: 00:00:00.002"
                        ]
                    },
                    "metadata": {},
                    "output_type": "display_data"
                },
                {
                    "data": {
                        "application/vnd.dataresource+json": {
                            "data": [
                                {
                                    "0": "Electra"
                                },
                                {
                                    "0": "Haro"
                                },
                                {
                                    "0": "Heller"
                                },
                                {
                                    "0": "Pure Cycles"
                                },
                                {
                                    "0": "Ritchey"
                                },
                                {
                                    "0": "Strider"
                                },
                                {
                                    "0": "Sun Bicycles"
                                },
                                {
                                    "0": "Surly"
                                },
                                {
                                    "0": "Trek"
                                }
                            ],
                            "schema": {
                                "fields": [
                                    {
                                        "name": "brand_name"
                                    }
                                ]
                            }
                        },
                        "text/html": [
                            "<table>\n",
                            "<tr><th>brand_name</th></tr>\n",
                            "<tr><td>Electra</td></tr>\n",
                            "<tr><td>Haro</td></tr>\n",
                            "<tr><td>Heller</td></tr>\n",
                            "<tr><td>Pure Cycles</td></tr>\n",
                            "<tr><td>Ritchey</td></tr>\n",
                            "<tr><td>Strider</td></tr>\n",
                            "<tr><td>Sun Bicycles</td></tr>\n",
                            "<tr><td>Surly</td></tr>\n",
                            "<tr><td>Trek</td></tr>\n",
                            "</table>"
                        ]
                    },
                    "execution_count": 15,
                    "metadata": {},
                    "output_type": "execute_result"
                }
            ],
            "source": [
                "/*\n",
                "(15p) Soru 7 : Stok(stocks) miktarı 20'den küçük olan ürünlerin(products), marka(brand) isimlerini listeleyiniz.\n",
                "               ** EXISTS kullanarak iç içe sorgu gerçekleştirilmelidir!\n",
                "               * Marka adı çıktı olarak verilmelidir.\n",
                "*/\n",
                "\n",
                "SELECT brand_name FROM brands WHERE EXISTS (SELECT product_name FROM products, stocks WHERE products.brand_id = brands.brand_id AND products.product_id =stocks.product_id AND quantity < 20);\n",
                "\n",
                "/* \n",
                "YORUMLARINIZI YAZINIZ\n",
                ".\n",
                ".\n",
                ".\n",
                "*/"
            ]
        },
        {
            "cell_type": "code",
            "execution_count": 16,
            "metadata": {
                "azdata_cell_guid": "9813969f-8378-46f7-a5b4-b57bbd2e0f15"
            },
            "outputs": [
                {
                    "data": {
                        "text/html": [
                            "(21 rows affected)"
                        ]
                    },
                    "metadata": {},
                    "output_type": "display_data"
                },
                {
                    "data": {
                        "text/html": [
                            "Total execution time: 00:00:00.006"
                        ]
                    },
                    "metadata": {},
                    "output_type": "display_data"
                },
                {
                    "data": {
                        "application/vnd.dataresource+json": {
                            "data": [
                                {
                                    "0": "Carlena"
                                },
                                {
                                    "0": "Christopher"
                                },
                                {
                                    "0": "Cori"
                                },
                                {
                                    "0": "Deja"
                                },
                                {
                                    "0": "Eric"
                                },
                                {
                                    "0": "Harold"
                                },
                                {
                                    "0": "Harris"
                                },
                                {
                                    "0": "Javier"
                                },
                                {
                                    "0": "Jayne"
                                },
                                {
                                    "0": "Josef"
                                },
                                {
                                    "0": "Kecia"
                                },
                                {
                                    "0": "Laurence"
                                },
                                {
                                    "0": "Omer"
                                },
                                {
                                    "0": "Patsy"
                                },
                                {
                                    "0": "Ping"
                                },
                                {
                                    "0": "Serina"
                                },
                                {
                                    "0": "Stephanie"
                                },
                                {
                                    "0": "Sunshine"
                                },
                                {
                                    "0": "Vallie"
                                },
                                {
                                    "0": "Vivian"
                                },
                                {
                                    "0": "Wilda"
                                }
                            ],
                            "schema": {
                                "fields": [
                                    {
                                        "name": "first_name"
                                    }
                                ]
                            }
                        },
                        "text/html": [
                            "<table>\n",
                            "<tr><th>first_name</th></tr>\n",
                            "<tr><td>Carlena</td></tr>\n",
                            "<tr><td>Christopher</td></tr>\n",
                            "<tr><td>Cori</td></tr>\n",
                            "<tr><td>Deja</td></tr>\n",
                            "<tr><td>Eric</td></tr>\n",
                            "<tr><td>Harold</td></tr>\n",
                            "<tr><td>Harris</td></tr>\n",
                            "<tr><td>Javier</td></tr>\n",
                            "<tr><td>Jayne</td></tr>\n",
                            "<tr><td>Josef</td></tr>\n",
                            "<tr><td>Kecia</td></tr>\n",
                            "<tr><td>Laurence</td></tr>\n",
                            "<tr><td>Omer</td></tr>\n",
                            "<tr><td>Patsy</td></tr>\n",
                            "<tr><td>Ping</td></tr>\n",
                            "<tr><td>Serina</td></tr>\n",
                            "<tr><td>Stephanie</td></tr>\n",
                            "<tr><td>Sunshine</td></tr>\n",
                            "<tr><td>Vallie</td></tr>\n",
                            "<tr><td>Vivian</td></tr>\n",
                            "<tr><td>Wilda</td></tr>\n",
                            "</table>"
                        ]
                    },
                    "execution_count": 16,
                    "metadata": {},
                    "output_type": "execute_result"
                }
            ],
            "source": [
                "/*\n",
                "(15p) Soru 8 : Yaşadığı bölgedeki mağazadan(stores), sipariş(orders) vermemiş olan müşteriler(customers) hariç tüm müşterileri listeleyiniz.\n",
                "               ** EXCEPT kullanarak iç içe sorgu gerçekleştirilmelidir!\n",
                "               * Müşteri adı çıktı olarak verilmelidir.\n",
                "*/\n",
                "\n",
                "SELECT first_name FROM customers as C1\n",
                "EXCEPT\n",
                "SELECT first_name FROM customers AS c2, orders, stores WHERE c2.customer_id = orders.customer_id AND stores.store_id = orders.store_id AND C2.zip_code != stores.zip_code\n",
                "\n",
                "/* \n",
                "YORUMLARINIZI YAZINIZ\n",
                ".\n",
                ".\n",
                ".\n",
                "*/"
            ]
        }
    ],
    "metadata": {
        "kernelspec": {
            "display_name": "SQL",
            "language": "sql",
            "name": "SQL"
        },
        "language_info": {
            "name": "sql",
            "version": ""
        }
    },
    "nbformat": 4,
    "nbformat_minor": 2
}
