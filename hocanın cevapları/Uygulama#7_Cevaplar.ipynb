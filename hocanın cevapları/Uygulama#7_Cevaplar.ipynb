{
    "metadata": {
        "kernelspec": {
            "name": "SQL",
            "display_name": "SQL",
            "language": "sql"
        },
        "language_info": {
            "name": "sql",
            "version": ""
        }
    },
    "nbformat_minor": 2,
    "nbformat": 4,
    "cells": [
        {
            "cell_type": "markdown",
            "source": [
                "**VERİ TABANI YÖNETİM SİSTEMLERİ LAB. UYGULAMA 7**\n",
                "\n",
                "**Not**: Prelab dokümanında verilen veri tabanını oluşturduktan sonra aşağıda verilen sorulara uygun SQL kodlarını yazınız.  \n",
                "Yazdığınız kodları <u>yorumlarınızla</u> açıklayınız.\n",
                "\n",
                "ESUZEM'de açılan yere bu dosyayı \"OgrNo\\_AdSoyad\\_UygNo.ipynb\" dosya adı ile beraber yükleyiniz.\n",
                "\n",
                "Örnek dosya adı : <span style=\"color: red; font-size: 14pt;\">152120181000_SergenAsik_Uyg7.ipynb</span>"
            ],
            "metadata": {
                "azdata_cell_guid": "f9e5195b-db12-4eaf-885a-d8b72282d09c"
            },
            "attachments": {}
        },
        {
            "cell_type": "code",
            "source": [
                "/*\r\n",
                "(10p) Soru 1 : Adı \"b\", \"s\" veya \"p\" ile başlamayan ürünleri(products) listeleyiniz.\r\n",
                "               * Bütün sütünlar listelenebilir.\r\n",
                "*/\r\n",
                "\r\n",
                "SELECT * FROM products WHERE product_name LIKE '[!bsp]%'\r\n",
                "\r\n",
                "/*\r\n",
                "YORUMLARINIZI YAZINIZ\r\n",
                ".\r\n",
                ".\r\n",
                ".\r\n",
                "*/"
            ],
            "metadata": {
                "azdata_cell_guid": "93a0596f-a7a7-4621-86de-02dfd4f1d6f7",
                "tags": []
            },
            "outputs": [
                {
                    "output_type": "display_data",
                    "data": {
                        "text/html": "(54 rows affected)"
                    },
                    "metadata": {}
                },
                {
                    "output_type": "display_data",
                    "data": {
                        "text/html": "Total execution time: 00:00:00.018"
                    },
                    "metadata": {}
                },
                {
                    "output_type": "execute_result",
                    "metadata": {},
                    "execution_count": 112,
                    "data": {
                        "application/vnd.dataresource+json": {
                            "schema": {
                                "fields": [
                                    {
                                        "name": "product_id"
                                    },
                                    {
                                        "name": "product_name"
                                    },
                                    {
                                        "name": "brand_id"
                                    },
                                    {
                                        "name": "category_id"
                                    },
                                    {
                                        "name": "model_year"
                                    },
                                    {
                                        "name": "list_price"
                                    }
                                ]
                            },
                            "data": [
                                {
                                    "0": "3",
                                    "1": "Surly Wednesday Frameset - 2016",
                                    "2": "8",
                                    "3": "6",
                                    "4": "2016",
                                    "5": "999.99"
                                },
                                {
                                    "0": "6",
                                    "1": "Surly Ice Cream Truck Frameset - 2016",
                                    "2": "8",
                                    "3": "6",
                                    "4": "2016",
                                    "5": "469.99"
                                },
                                {
                                    "0": "10",
                                    "1": "Surly Straggler - 2016",
                                    "2": "8",
                                    "3": "4",
                                    "4": "2016",
                                    "5": "1549.00"
                                },
                                {
                                    "0": "11",
                                    "1": "Surly Straggler 650b - 2016",
                                    "2": "8",
                                    "3": "4",
                                    "4": "2016",
                                    "5": "1680.99"
                                },
                                {
                                    "0": "17",
                                    "1": "Pure Cycles Vine 8-Speed - 2016",
                                    "2": "4",
                                    "3": "3",
                                    "4": "2016",
                                    "5": "429.00"
                                },
                                {
                                    "0": "18",
                                    "1": "Pure Cycles Western 3-Speed - Women's - 2015/2016",
                                    "2": "4",
                                    "3": "3",
                                    "4": "2016",
                                    "5": "449.00"
                                },
                                {
                                    "0": "19",
                                    "1": "Pure Cycles William 3-Speed - 2016",
                                    "2": "4",
                                    "3": "3",
                                    "4": "2016",
                                    "5": "449.00"
                                },
                                {
                                    "0": "27",
                                    "1": "Surly Big Dummy Frameset - 2017",
                                    "2": "8",
                                    "3": "6",
                                    "4": "2017",
                                    "5": "999.99"
                                },
                                {
                                    "0": "28",
                                    "1": "Surly Karate Monkey 27.5+ Frameset - 2017",
                                    "2": "8",
                                    "3": "6",
                                    "4": "2017",
                                    "5": "2499.99"
                                },
                                {
                                    "0": "30",
                                    "1": "Surly Ice Cream Truck Frameset - 2017",
                                    "2": "8",
                                    "3": "6",
                                    "4": "2017",
                                    "5": "999.99"
                                },
                                {
                                    "0": "31",
                                    "1": "Surly Wednesday - 2017",
                                    "2": "8",
                                    "3": "6",
                                    "4": "2017",
                                    "5": "1632.99"
                                },
                                {
                                    "0": "33",
                                    "1": "Surly Wednesday Frameset - 2017",
                                    "2": "8",
                                    "3": "6",
                                    "4": "2017",
                                    "5": "469.99"
                                },
                                {
                                    "0": "35",
                                    "1": "Sun Bicycles Spider 3i - 2017",
                                    "2": "7",
                                    "3": "6",
                                    "4": "2017",
                                    "5": "832.99"
                                },
                                {
                                    "0": "36",
                                    "1": "Surly Troll Frameset - 2017",
                                    "2": "8",
                                    "3": "6",
                                    "4": "2017",
                                    "5": "832.99"
                                },
                                {
                                    "0": "52",
                                    "1": "Surly Steamroller - 2017",
                                    "2": "8",
                                    "3": "7",
                                    "4": "2017",
                                    "5": "875.99"
                                },
                                {
                                    "0": "53",
                                    "1": "Surly Ogre Frameset - 2017",
                                    "2": "8",
                                    "3": "7",
                                    "4": "2017",
                                    "5": "749.99"
                                },
                                {
                                    "0": "60",
                                    "1": "Sun Bicycles ElectroLite - 2017",
                                    "2": "7",
                                    "3": "5",
                                    "4": "2017",
                                    "5": "1559.99"
                                },
                                {
                                    "0": "65",
                                    "1": "Sun Bicycles Lil Bolt Type-R - 2017",
                                    "2": "7",
                                    "3": "3",
                                    "4": "2017",
                                    "5": "346.99"
                                },
                                {
                                    "0": "66",
                                    "1": "Sun Bicycles Revolutions 24 - 2017",
                                    "2": "7",
                                    "3": "3",
                                    "4": "2017",
                                    "5": "250.99"
                                },
                                {
                                    "0": "67",
                                    "1": "Sun Bicycles Revolutions 24 - Girl's - 2017",
                                    "2": "7",
                                    "3": "3",
                                    "4": "2017",
                                    "5": "250.99"
                                },
                                {
                                    "0": "68",
                                    "1": "Sun Bicycles Cruz 3 - 2017",
                                    "2": "7",
                                    "3": "3",
                                    "4": "2017",
                                    "5": "449.99"
                                },
                                {
                                    "0": "69",
                                    "1": "Sun Bicycles Cruz 7 - 2017",
                                    "2": "7",
                                    "3": "3",
                                    "4": "2017",
                                    "5": "416.99"
                                },
                                {
                                    "0": "71",
                                    "1": "Sun Bicycles Atlas X-Type - 2017",
                                    "2": "7",
                                    "3": "3",
                                    "4": "2017",
                                    "5": "416.99"
                                },
                                {
                                    "0": "72",
                                    "1": "Sun Bicycles Biscayne Tandem 7 - 2017",
                                    "2": "7",
                                    "3": "3",
                                    "4": "2017",
                                    "5": "619.99"
                                },
                                {
                                    "0": "73",
                                    "1": "Sun Bicycles Brickell Tandem 7 - 2017",
                                    "2": "7",
                                    "3": "3",
                                    "4": "2017",
                                    "5": "749.99"
                                },
                                {
                                    "0": "78",
                                    "1": "Sun Bicycles Biscayne Tandem CB - 2017",
                                    "2": "7",
                                    "3": "3",
                                    "4": "2017",
                                    "5": "647.99"
                                },
                                {
                                    "0": "79",
                                    "1": "Sun Bicycles Boardwalk (24-inch Wheels) - 2017",
                                    "2": "7",
                                    "3": "3",
                                    "4": "2017",
                                    "5": "402.99"
                                },
                                {
                                    "0": "80",
                                    "1": "Sun Bicycles Brickell Tandem CB - 2017",
                                    "2": "7",
                                    "3": "3",
                                    "4": "2017",
                                    "5": "761.99"
                                },
                                {
                                    "0": "84",
                                    "1": "Sun Bicycles Lil Kitt'n - 2017",
                                    "2": "7",
                                    "3": "1",
                                    "4": "2017",
                                    "5": "109.99"
                                },
                                {
                                    "0": "103",
                                    "1": "Sun Bicycles Streamway 3 - 2017",
                                    "2": "7",
                                    "3": "2",
                                    "4": "2017",
                                    "5": "551.99"
                                },
                                {
                                    "0": "104",
                                    "1": "Sun Bicycles Streamway - 2017",
                                    "2": "7",
                                    "3": "2",
                                    "4": "2017",
                                    "5": "481.99"
                                },
                                {
                                    "0": "105",
                                    "1": "Sun Bicycles Streamway 7 - 2017",
                                    "2": "7",
                                    "3": "2",
                                    "4": "2017",
                                    "5": "533.99"
                                },
                                {
                                    "0": "106",
                                    "1": "Sun Bicycles Cruz 3 - 2017",
                                    "2": "7",
                                    "3": "2",
                                    "4": "2017",
                                    "5": "449.99"
                                },
                                {
                                    "0": "107",
                                    "1": "Sun Bicycles Cruz 7 - 2017",
                                    "2": "7",
                                    "3": "2",
                                    "4": "2017",
                                    "5": "416.99"
                                },
                                {
                                    "0": "108",
                                    "1": "Sun Bicycles Cruz 3 - Women's - 2017",
                                    "2": "7",
                                    "3": "2",
                                    "4": "2017",
                                    "5": "449.99"
                                },
                                {
                                    "0": "109",
                                    "1": "Sun Bicycles Cruz 7 - Women's - 2017",
                                    "2": "7",
                                    "3": "2",
                                    "4": "2017",
                                    "5": "416.99"
                                },
                                {
                                    "0": "110",
                                    "1": "Sun Bicycles Drifter 7 - 2017",
                                    "2": "7",
                                    "3": "2",
                                    "4": "2017",
                                    "5": "470.99"
                                },
                                {
                                    "0": "111",
                                    "1": "Sun Bicycles Drifter 7 - Women's - 2017",
                                    "2": "7",
                                    "3": "2",
                                    "4": "2017",
                                    "5": "470.99"
                                },
                                {
                                    "0": "121",
                                    "1": "Surly Krampus Frameset - 2018",
                                    "2": "8",
                                    "3": "6",
                                    "4": "2018",
                                    "5": "2499.99"
                                },
                                {
                                    "0": "122",
                                    "1": "Surly Troll Frameset - 2018",
                                    "2": "8",
                                    "3": "6",
                                    "4": "2018",
                                    "5": "2499.99"
                                },
                                {
                                    "0": "124",
                                    "1": "Surly Krampus - 2018",
                                    "2": "8",
                                    "3": "6",
                                    "4": "2018",
                                    "5": "1499.00"
                                },
                                {
                                    "0": "126",
                                    "1": "Surly Big Fat Dummy Frameset - 2018",
                                    "2": "8",
                                    "3": "6",
                                    "4": "2018",
                                    "5": "469.99"
                                },
                                {
                                    "0": "127",
                                    "1": "Surly Pack Rat Frameset - 2018",
                                    "2": "8",
                                    "3": "6",
                                    "4": "2018",
                                    "5": "469.99"
                                },
                                {
                                    "0": "128",
                                    "1": "Surly ECR 27.5 - 2018",
                                    "2": "8",
                                    "3": "6",
                                    "4": "2018",
                                    "5": "1899.00"
                                },
                                {
                                    "0": "161",
                                    "1": "Surly ECR - 2018",
                                    "2": "8",
                                    "3": "7",
                                    "4": "2018",
                                    "5": "1899.00"
                                },
                                {
                                    "0": "163",
                                    "1": "Surly Pack Rat - 2018",
                                    "2": "8",
                                    "3": "7",
                                    "4": "2018",
                                    "5": "1349.00"
                                },
                                {
                                    "0": "164",
                                    "1": "Surly Straggler 650b - 2018",
                                    "2": "8",
                                    "3": "7",
                                    "4": "2018",
                                    "5": "1549.00"
                                },
                                {
                                    "0": "167",
                                    "1": "Surly ECR Frameset - 2018",
                                    "2": "8",
                                    "3": "7",
                                    "4": "2018",
                                    "5": "749.99"
                                },
                                {
                                    "0": "168",
                                    "1": "Surly Straggler - 2018",
                                    "2": "8",
                                    "3": "7",
                                    "4": "2018",
                                    "5": "1549.00"
                                },
                                {
                                    "0": "210",
                                    "1": "Surly Straggler - 2018",
                                    "2": "8",
                                    "3": "4",
                                    "4": "2018",
                                    "5": "1549.00"
                                },
                                {
                                    "0": "211",
                                    "1": "Surly Straggler 650b - 2018",
                                    "2": "8",
                                    "3": "4",
                                    "4": "2018",
                                    "5": "1549.00"
                                },
                                {
                                    "0": "263",
                                    "1": "Strider Classic 12 Balance Bike - 2018",
                                    "2": "6",
                                    "3": "1",
                                    "4": "2018",
                                    "5": "89.99"
                                },
                                {
                                    "0": "264",
                                    "1": "Strider Sport 16 - 2018",
                                    "2": "6",
                                    "3": "1",
                                    "4": "2018",
                                    "5": "249.99"
                                },
                                {
                                    "0": "265",
                                    "1": "Strider Strider 20 Sport - 2018",
                                    "2": "6",
                                    "3": "1",
                                    "4": "2018",
                                    "5": "289.99"
                                }
                            ]
                        },
                        "text/html": [
                            "<table>",
                            "<tr><th>product_id</th><th>product_name</th><th>brand_id</th><th>category_id</th><th>model_year</th><th>list_price</th></tr>",
                            "<tr><td>3</td><td>Surly Wednesday Frameset - 2016</td><td>8</td><td>6</td><td>2016</td><td>999.99</td></tr>",
                            "<tr><td>6</td><td>Surly Ice Cream Truck Frameset - 2016</td><td>8</td><td>6</td><td>2016</td><td>469.99</td></tr>",
                            "<tr><td>10</td><td>Surly Straggler - 2016</td><td>8</td><td>4</td><td>2016</td><td>1549.00</td></tr>",
                            "<tr><td>11</td><td>Surly Straggler 650b - 2016</td><td>8</td><td>4</td><td>2016</td><td>1680.99</td></tr>",
                            "<tr><td>17</td><td>Pure Cycles Vine 8-Speed - 2016</td><td>4</td><td>3</td><td>2016</td><td>429.00</td></tr>",
                            "<tr><td>18</td><td>Pure Cycles Western 3-Speed - Women's - 2015/2016</td><td>4</td><td>3</td><td>2016</td><td>449.00</td></tr>",
                            "<tr><td>19</td><td>Pure Cycles William 3-Speed - 2016</td><td>4</td><td>3</td><td>2016</td><td>449.00</td></tr>",
                            "<tr><td>27</td><td>Surly Big Dummy Frameset - 2017</td><td>8</td><td>6</td><td>2017</td><td>999.99</td></tr>",
                            "<tr><td>28</td><td>Surly Karate Monkey 27.5+ Frameset - 2017</td><td>8</td><td>6</td><td>2017</td><td>2499.99</td></tr>",
                            "<tr><td>30</td><td>Surly Ice Cream Truck Frameset - 2017</td><td>8</td><td>6</td><td>2017</td><td>999.99</td></tr>",
                            "<tr><td>31</td><td>Surly Wednesday - 2017</td><td>8</td><td>6</td><td>2017</td><td>1632.99</td></tr>",
                            "<tr><td>33</td><td>Surly Wednesday Frameset - 2017</td><td>8</td><td>6</td><td>2017</td><td>469.99</td></tr>",
                            "<tr><td>35</td><td>Sun Bicycles Spider 3i - 2017</td><td>7</td><td>6</td><td>2017</td><td>832.99</td></tr>",
                            "<tr><td>36</td><td>Surly Troll Frameset - 2017</td><td>8</td><td>6</td><td>2017</td><td>832.99</td></tr>",
                            "<tr><td>52</td><td>Surly Steamroller - 2017</td><td>8</td><td>7</td><td>2017</td><td>875.99</td></tr>",
                            "<tr><td>53</td><td>Surly Ogre Frameset - 2017</td><td>8</td><td>7</td><td>2017</td><td>749.99</td></tr>",
                            "<tr><td>60</td><td>Sun Bicycles ElectroLite - 2017</td><td>7</td><td>5</td><td>2017</td><td>1559.99</td></tr>",
                            "<tr><td>65</td><td>Sun Bicycles Lil Bolt Type-R - 2017</td><td>7</td><td>3</td><td>2017</td><td>346.99</td></tr>",
                            "<tr><td>66</td><td>Sun Bicycles Revolutions 24 - 2017</td><td>7</td><td>3</td><td>2017</td><td>250.99</td></tr>",
                            "<tr><td>67</td><td>Sun Bicycles Revolutions 24 - Girl's - 2017</td><td>7</td><td>3</td><td>2017</td><td>250.99</td></tr>",
                            "<tr><td>68</td><td>Sun Bicycles Cruz 3 - 2017</td><td>7</td><td>3</td><td>2017</td><td>449.99</td></tr>",
                            "<tr><td>69</td><td>Sun Bicycles Cruz 7 - 2017</td><td>7</td><td>3</td><td>2017</td><td>416.99</td></tr>",
                            "<tr><td>71</td><td>Sun Bicycles Atlas X-Type - 2017</td><td>7</td><td>3</td><td>2017</td><td>416.99</td></tr>",
                            "<tr><td>72</td><td>Sun Bicycles Biscayne Tandem 7 - 2017</td><td>7</td><td>3</td><td>2017</td><td>619.99</td></tr>",
                            "<tr><td>73</td><td>Sun Bicycles Brickell Tandem 7 - 2017</td><td>7</td><td>3</td><td>2017</td><td>749.99</td></tr>",
                            "<tr><td>78</td><td>Sun Bicycles Biscayne Tandem CB - 2017</td><td>7</td><td>3</td><td>2017</td><td>647.99</td></tr>",
                            "<tr><td>79</td><td>Sun Bicycles Boardwalk (24-inch Wheels) - 2017</td><td>7</td><td>3</td><td>2017</td><td>402.99</td></tr>",
                            "<tr><td>80</td><td>Sun Bicycles Brickell Tandem CB - 2017</td><td>7</td><td>3</td><td>2017</td><td>761.99</td></tr>",
                            "<tr><td>84</td><td>Sun Bicycles Lil Kitt'n - 2017</td><td>7</td><td>1</td><td>2017</td><td>109.99</td></tr>",
                            "<tr><td>103</td><td>Sun Bicycles Streamway 3 - 2017</td><td>7</td><td>2</td><td>2017</td><td>551.99</td></tr>",
                            "<tr><td>104</td><td>Sun Bicycles Streamway - 2017</td><td>7</td><td>2</td><td>2017</td><td>481.99</td></tr>",
                            "<tr><td>105</td><td>Sun Bicycles Streamway 7 - 2017</td><td>7</td><td>2</td><td>2017</td><td>533.99</td></tr>",
                            "<tr><td>106</td><td>Sun Bicycles Cruz 3 - 2017</td><td>7</td><td>2</td><td>2017</td><td>449.99</td></tr>",
                            "<tr><td>107</td><td>Sun Bicycles Cruz 7 - 2017</td><td>7</td><td>2</td><td>2017</td><td>416.99</td></tr>",
                            "<tr><td>108</td><td>Sun Bicycles Cruz 3 - Women's - 2017</td><td>7</td><td>2</td><td>2017</td><td>449.99</td></tr>",
                            "<tr><td>109</td><td>Sun Bicycles Cruz 7 - Women's - 2017</td><td>7</td><td>2</td><td>2017</td><td>416.99</td></tr>",
                            "<tr><td>110</td><td>Sun Bicycles Drifter 7 - 2017</td><td>7</td><td>2</td><td>2017</td><td>470.99</td></tr>",
                            "<tr><td>111</td><td>Sun Bicycles Drifter 7 - Women's - 2017</td><td>7</td><td>2</td><td>2017</td><td>470.99</td></tr>",
                            "<tr><td>121</td><td>Surly Krampus Frameset - 2018</td><td>8</td><td>6</td><td>2018</td><td>2499.99</td></tr>",
                            "<tr><td>122</td><td>Surly Troll Frameset - 2018</td><td>8</td><td>6</td><td>2018</td><td>2499.99</td></tr>",
                            "<tr><td>124</td><td>Surly Krampus - 2018</td><td>8</td><td>6</td><td>2018</td><td>1499.00</td></tr>",
                            "<tr><td>126</td><td>Surly Big Fat Dummy Frameset - 2018</td><td>8</td><td>6</td><td>2018</td><td>469.99</td></tr>",
                            "<tr><td>127</td><td>Surly Pack Rat Frameset - 2018</td><td>8</td><td>6</td><td>2018</td><td>469.99</td></tr>",
                            "<tr><td>128</td><td>Surly ECR 27.5 - 2018</td><td>8</td><td>6</td><td>2018</td><td>1899.00</td></tr>",
                            "<tr><td>161</td><td>Surly ECR - 2018</td><td>8</td><td>7</td><td>2018</td><td>1899.00</td></tr>",
                            "<tr><td>163</td><td>Surly Pack Rat - 2018</td><td>8</td><td>7</td><td>2018</td><td>1349.00</td></tr>",
                            "<tr><td>164</td><td>Surly Straggler 650b - 2018</td><td>8</td><td>7</td><td>2018</td><td>1549.00</td></tr>",
                            "<tr><td>167</td><td>Surly ECR Frameset - 2018</td><td>8</td><td>7</td><td>2018</td><td>749.99</td></tr>",
                            "<tr><td>168</td><td>Surly Straggler - 2018</td><td>8</td><td>7</td><td>2018</td><td>1549.00</td></tr>",
                            "<tr><td>210</td><td>Surly Straggler - 2018</td><td>8</td><td>4</td><td>2018</td><td>1549.00</td></tr>",
                            "<tr><td>211</td><td>Surly Straggler 650b - 2018</td><td>8</td><td>4</td><td>2018</td><td>1549.00</td></tr>",
                            "<tr><td>263</td><td>Strider Classic 12 Balance Bike - 2018</td><td>6</td><td>1</td><td>2018</td><td>89.99</td></tr>",
                            "<tr><td>264</td><td>Strider Sport 16 - 2018</td><td>6</td><td>1</td><td>2018</td><td>249.99</td></tr>",
                            "<tr><td>265</td><td>Strider Strider 20 Sport - 2018</td><td>6</td><td>1</td><td>2018</td><td>289.99</td></tr>",
                            "</table>"
                        ]
                    }
                }
            ],
            "execution_count": 112
        },
        {
            "cell_type": "code",
            "source": [
                "/*\r\n",
                "(10p) Soru 2 : İsimlerinin ilk harfi a-n arası son harfinin n-z arası ve soyisimlerinin ilk harfi n-z arası son harfinin a-n arazı olan müşterileri listeleyiniz.\r\n",
                "               ** Örneğin, İSİM: B......Y ve SOYİSİM: W......D\r\n",
                "               * Bütün sütunlar listelenebilir.\r\n",
                "*/\r\n",
                "\r\n",
                "SELECT * FROM customers WHERE customers.first_name LIKE '[a-n]%[n-z]' AND customers.last_name  LIKE '[n-z]%[a-n]'\r\n",
                "\r\n",
                "/*\r\n",
                "YORUMLARINIZI YAZINIZ\r\n",
                ".\r\n",
                ".\r\n",
                ".\r\n",
                "*/"
            ],
            "metadata": {
                "azdata_cell_guid": "7efcd7a8-8dee-4d3d-931a-e403f0bd65a7",
                "tags": []
            },
            "outputs": [
                {
                    "output_type": "display_data",
                    "data": {
                        "text/html": "(51 rows affected)"
                    },
                    "metadata": {}
                },
                {
                    "output_type": "display_data",
                    "data": {
                        "text/html": "Total execution time: 00:00:00.006"
                    },
                    "metadata": {}
                },
                {
                    "output_type": "execute_result",
                    "metadata": {},
                    "execution_count": 113,
                    "data": {
                        "application/vnd.dataresource+json": {
                            "schema": {
                                "fields": [
                                    {
                                        "name": "customer_id"
                                    },
                                    {
                                        "name": "first_name"
                                    },
                                    {
                                        "name": "last_name"
                                    },
                                    {
                                        "name": "phone"
                                    },
                                    {
                                        "name": "email"
                                    },
                                    {
                                        "name": "street"
                                    },
                                    {
                                        "name": "city"
                                    },
                                    {
                                        "name": "state"
                                    },
                                    {
                                        "name": "zip_code"
                                    }
                                ]
                            },
                            "data": [
                                {
                                    "0": "34",
                                    "1": "Brittney",
                                    "2": "Woodward",
                                    "3": "NULL",
                                    "4": "brittney.woodward@aol.com",
                                    "5": "960 River St. ",
                                    "6": "East Northport",
                                    "7": "NY",
                                    "8": "11731"
                                },
                                {
                                    "0": "54",
                                    "1": "Fran",
                                    "2": "Yang",
                                    "3": "NULL",
                                    "4": "fran.yang@hotmail.com",
                                    "5": "440 Pearl St. ",
                                    "6": "Utica",
                                    "7": "NY",
                                    "8": "13501"
                                },
                                {
                                    "0": "144",
                                    "1": "Hans",
                                    "2": "Price",
                                    "3": "NULL",
                                    "4": "hans.price@hotmail.com",
                                    "5": "51 Glendale Road ",
                                    "6": "Port Chester",
                                    "7": "NY",
                                    "8": "10573"
                                },
                                {
                                    "0": "155",
                                    "1": "Lory",
                                    "2": "Page",
                                    "3": "NULL",
                                    "4": "lory.page@hotmail.com",
                                    "5": "58 Summerhouse Street ",
                                    "6": "Bay Shore",
                                    "7": "NY",
                                    "8": "11706"
                                },
                                {
                                    "0": "180",
                                    "1": "Karey",
                                    "2": "Steele",
                                    "3": "NULL",
                                    "4": "karey.steele@gmail.com",
                                    "5": "8879 Kent Lane ",
                                    "6": "Farmingdale",
                                    "7": "NY",
                                    "8": "11735"
                                },
                                {
                                    "0": "183",
                                    "1": "Jeniffer",
                                    "2": "Ratliff",
                                    "3": "NULL",
                                    "4": "jeniffer.ratliff@gmail.com",
                                    "5": "510 Rocky River Court ",
                                    "6": "Floral Park",
                                    "7": "NY",
                                    "8": "11001"
                                },
                                {
                                    "0": "197",
                                    "1": "Andy",
                                    "2": "O'neill",
                                    "3": "NULL",
                                    "4": "andy.o'neill@msn.com",
                                    "5": "9544 Mulberry Drive ",
                                    "6": "Rego Park",
                                    "7": "NY",
                                    "8": "11374"
                                },
                                {
                                    "0": "205",
                                    "1": "Harris",
                                    "2": "Pittman",
                                    "3": "NULL",
                                    "4": "harris.pittman@yahoo.com",
                                    "5": "404 Cherry Hill Road ",
                                    "6": "Jamaica",
                                    "7": "NY",
                                    "8": "11432"
                                },
                                {
                                    "0": "220",
                                    "1": "Lucio",
                                    "2": "Sherman",
                                    "3": "NULL",
                                    "4": "lucio.sherman@gmail.com",
                                    "5": "842 Corona Ave. ",
                                    "6": "Smithtown",
                                    "7": "NY",
                                    "8": "11787"
                                },
                                {
                                    "0": "224",
                                    "1": "Moses",
                                    "2": "Pope",
                                    "3": "NULL",
                                    "4": "moses.pope@yahoo.com",
                                    "5": "654 Theatre Street ",
                                    "6": "Lawndale",
                                    "7": "CA",
                                    "8": "90260"
                                },
                                {
                                    "0": "270",
                                    "1": "Claudio",
                                    "2": "Wise",
                                    "3": "NULL",
                                    "4": "claudio.wise@hotmail.com",
                                    "5": "810 Oxford Ave. ",
                                    "6": "Kingston",
                                    "7": "NY",
                                    "8": "12401"
                                },
                                {
                                    "0": "319",
                                    "1": "Justin",
                                    "2": "Newton",
                                    "3": "NULL",
                                    "4": "justin.newton@hotmail.com",
                                    "5": "93 Shore Rd. ",
                                    "6": "Apple Valley",
                                    "7": "CA",
                                    "8": "92307"
                                },
                                {
                                    "0": "324",
                                    "1": "Laureen",
                                    "2": "Paul",
                                    "3": "NULL",
                                    "4": "laureen.paul@yahoo.com",
                                    "5": "617 Squaw Creek Rd. ",
                                    "6": "Bellmore",
                                    "7": "NY",
                                    "8": "11710"
                                },
                                {
                                    "0": "338",
                                    "1": "Abbey",
                                    "2": "Pugh",
                                    "3": "NULL",
                                    "4": "abbey.pugh@gmail.com",
                                    "5": "26 Market Drive ",
                                    "6": "Forest Hills",
                                    "7": "NY",
                                    "8": "11375"
                                },
                                {
                                    "0": "369",
                                    "1": "Mary",
                                    "2": "Singleton",
                                    "3": "NULL",
                                    "4": "mary.singleton@hotmail.com",
                                    "5": "474 Amerige Ave. ",
                                    "6": "Woodside",
                                    "7": "NY",
                                    "8": "11377"
                                },
                                {
                                    "0": "376",
                                    "1": "Elanor",
                                    "2": "Patrick",
                                    "3": "NULL",
                                    "4": "elanor.patrick@aol.com",
                                    "5": "51 Howard Ave. ",
                                    "6": "Victoria",
                                    "7": "TX",
                                    "8": "77904"
                                },
                                {
                                    "0": "395",
                                    "1": "Fairy",
                                    "2": "Robinson",
                                    "3": "NULL",
                                    "4": "fairy.robinson@msn.com",
                                    "5": "8837 Joy Ridge St. ",
                                    "6": "Liverpool",
                                    "7": "NY",
                                    "8": "13090"
                                },
                                {
                                    "0": "404",
                                    "1": "Augustus",
                                    "2": "Steele",
                                    "3": "NULL",
                                    "4": "augustus.steele@aol.com",
                                    "5": "7474 N. Orchard St. ",
                                    "6": "Ballston Spa",
                                    "7": "NY",
                                    "8": "12020"
                                },
                                {
                                    "0": "426",
                                    "1": "Daisy",
                                    "2": "Ward",
                                    "3": "NULL",
                                    "4": "daisy.ward@msn.com",
                                    "5": "45 Silver Spear Ave. ",
                                    "6": "Pomona",
                                    "7": "CA",
                                    "8": "91768"
                                },
                                {
                                    "0": "428",
                                    "1": "Hipolito",
                                    "2": "Padilla",
                                    "3": "NULL",
                                    "4": "hipolito.padilla@hotmail.com",
                                    "5": "311 E. Rose Avenue ",
                                    "6": "New Rochelle",
                                    "7": "NY",
                                    "8": "10801"
                                },
                                {
                                    "0": "447",
                                    "1": "Chasidy",
                                    "2": "Tran",
                                    "3": "NULL",
                                    "4": "chasidy.tran@msn.com",
                                    "5": "9286 Anderson Street ",
                                    "6": "Vista",
                                    "7": "CA",
                                    "8": "92083"
                                },
                                {
                                    "0": "458",
                                    "1": "Everett",
                                    "2": "Vega",
                                    "3": "NULL",
                                    "4": "everett.vega@yahoo.com",
                                    "5": "7859 James Ave. ",
                                    "6": "Holbrook",
                                    "7": "NY",
                                    "8": "11741"
                                },
                                {
                                    "0": "476",
                                    "1": "Christopher",
                                    "2": "Richardson",
                                    "3": "NULL",
                                    "4": "christopher.richardson@gmail.com",
                                    "5": "7846 Windfall Dr. ",
                                    "6": "Santa Cruz",
                                    "7": "CA",
                                    "8": "95060"
                                },
                                {
                                    "0": "481",
                                    "1": "Jayson",
                                    "2": "Rutledge",
                                    "3": "NULL",
                                    "4": "jayson.rutledge@yahoo.com",
                                    "5": "8672 Coffee St. ",
                                    "6": "Lake Jackson",
                                    "7": "TX",
                                    "8": "77566"
                                },
                                {
                                    "0": "543",
                                    "1": "Jasmin",
                                    "2": "Young",
                                    "3": "NULL",
                                    "4": "jasmin.young@gmail.com",
                                    "5": "337 Beach Street ",
                                    "6": "Helotes",
                                    "7": "TX",
                                    "8": "78023"
                                },
                                {
                                    "0": "562",
                                    "1": "Alejandro",
                                    "2": "Norman",
                                    "3": "NULL",
                                    "4": "alejandro.norman@yahoo.com",
                                    "5": "8918 Marsh Lane ",
                                    "6": "Upland",
                                    "7": "CA",
                                    "8": "91784"
                                },
                                {
                                    "0": "565",
                                    "1": "Dagny",
                                    "2": "Owen",
                                    "3": "NULL",
                                    "4": "dagny.owen@hotmail.com",
                                    "5": "8028 Thompson Drive ",
                                    "6": "San Angelo",
                                    "7": "TX",
                                    "8": "76901"
                                },
                                {
                                    "0": "640",
                                    "1": "Allison",
                                    "2": "Nolan",
                                    "3": "(845) 276-5729",
                                    "4": "allison.nolan@gmail.com",
                                    "5": "7421 Victoria St. ",
                                    "6": "New City",
                                    "7": "NY",
                                    "8": "10956"
                                },
                                {
                                    "0": "724",
                                    "1": "Lois",
                                    "2": "Steele",
                                    "3": "NULL",
                                    "4": "lois.steele@yahoo.com",
                                    "5": "7501 South Marlborough Street ",
                                    "6": "Ossining",
                                    "7": "NY",
                                    "8": "10562"
                                },
                                {
                                    "0": "731",
                                    "1": "Hilary",
                                    "2": "Savage",
                                    "3": "(805) 753-6881",
                                    "4": "hilary.savage@yahoo.com",
                                    "5": "696 Howard Court ",
                                    "6": "Oxnard",
                                    "7": "CA",
                                    "8": "93035"
                                },
                                {
                                    "0": "839",
                                    "1": "Carolann",
                                    "2": "Russell",
                                    "3": "NULL",
                                    "4": "carolann.russell@hotmail.com",
                                    "5": "9308 Selby Ave. ",
                                    "6": "Glen Cove",
                                    "7": "NY",
                                    "8": "11542"
                                },
                                {
                                    "0": "855",
                                    "1": "Lean",
                                    "2": "Stark",
                                    "3": "NULL",
                                    "4": "lean.stark@msn.com",
                                    "5": "215 Old Pumpkin Hill St. ",
                                    "6": "Upland",
                                    "7": "CA",
                                    "8": "91784"
                                },
                                {
                                    "0": "908",
                                    "1": "Delmar",
                                    "2": "Wise",
                                    "3": "NULL",
                                    "4": "delmar.wise@yahoo.com",
                                    "5": "8355 Kingston Avenue ",
                                    "6": "Lockport",
                                    "7": "NY",
                                    "8": "14094"
                                },
                                {
                                    "0": "945",
                                    "1": "Krissy",
                                    "2": "Ochoa",
                                    "3": "NULL",
                                    "4": "krissy.ochoa@msn.com",
                                    "5": "80 Queen Ave. ",
                                    "6": "Port Washington",
                                    "7": "NY",
                                    "8": "11050"
                                },
                                {
                                    "0": "954",
                                    "1": "Hassan",
                                    "2": "Nash",
                                    "3": "NULL",
                                    "4": "hassan.nash@yahoo.com",
                                    "5": "8105 University Lane ",
                                    "6": "Hicksville",
                                    "7": "NY",
                                    "8": "11801"
                                },
                                {
                                    "0": "965",
                                    "1": "Margit",
                                    "2": "Osborn",
                                    "3": "NULL",
                                    "4": "margit.osborn@yahoo.com",
                                    "5": "909 Gulf Drive ",
                                    "6": "Plainview",
                                    "7": "NY",
                                    "8": "11803"
                                },
                                {
                                    "0": "987",
                                    "1": "Louis",
                                    "2": "Powell",
                                    "3": "NULL",
                                    "4": "louis.powell@aol.com",
                                    "5": "368 Sugar Rd. ",
                                    "6": "Staten Island",
                                    "7": "NY",
                                    "8": "10301"
                                },
                                {
                                    "0": "994",
                                    "1": "Demarcus",
                                    "2": "Reese",
                                    "3": "NULL",
                                    "4": "demarcus.reese@gmail.com",
                                    "5": "8087 Armstrong Dr. ",
                                    "6": "Yorktown Heights",
                                    "7": "NY",
                                    "8": "10598"
                                },
                                {
                                    "0": "1007",
                                    "1": "Jimmy",
                                    "2": "Russell",
                                    "3": "NULL",
                                    "4": "jimmy.russell@hotmail.com",
                                    "5": "33 Iroquois Ave. ",
                                    "6": "Howard Beach",
                                    "7": "NY",
                                    "8": "11414"
                                },
                                {
                                    "0": "1108",
                                    "1": "Bao",
                                    "2": "Wade",
                                    "3": "NULL",
                                    "4": "bao.wade@gmail.com",
                                    "5": "7587 Church St. ",
                                    "6": "Desoto",
                                    "7": "TX",
                                    "8": "75115"
                                },
                                {
                                    "0": "1112",
                                    "1": "Hollis",
                                    "2": "Rasmussen",
                                    "3": "NULL",
                                    "4": "hollis.rasmussen@yahoo.com",
                                    "5": "8949 S. Gates Road ",
                                    "6": "Massapequa",
                                    "7": "NY",
                                    "8": "11758"
                                },
                                {
                                    "0": "1138",
                                    "1": "Hubert",
                                    "2": "Stone",
                                    "3": "NULL",
                                    "4": "hubert.stone@hotmail.com",
                                    "5": "203 Penn St. ",
                                    "6": "Ridgecrest",
                                    "7": "CA",
                                    "8": "93555"
                                },
                                {
                                    "0": "1156",
                                    "1": "Han",
                                    "2": "Wade",
                                    "3": "NULL",
                                    "4": "han.wade@hotmail.com",
                                    "5": "587 Sulphur Springs St. ",
                                    "6": "Howard Beach",
                                    "7": "NY",
                                    "8": "11414"
                                },
                                {
                                    "0": "1160",
                                    "1": "Efren",
                                    "2": "Whitfield",
                                    "3": "NULL",
                                    "4": "efren.whitfield@gmail.com",
                                    "5": "139 Union Rd. ",
                                    "6": "Euless",
                                    "7": "TX",
                                    "8": "76039"
                                },
                                {
                                    "0": "1171",
                                    "1": "Earlean",
                                    "2": "Pena",
                                    "3": "NULL",
                                    "4": "earlean.pena@yahoo.com",
                                    "5": "7698 Fulton St. ",
                                    "6": "Rome",
                                    "7": "NY",
                                    "8": "13440"
                                },
                                {
                                    "0": "1221",
                                    "1": "Joy",
                                    "2": "Underwood",
                                    "3": "NULL",
                                    "4": "joy.underwood@gmail.com",
                                    "5": "7297 Armstrong Dr. ",
                                    "6": "Apple Valley",
                                    "7": "CA",
                                    "8": "92307"
                                },
                                {
                                    "0": "1238",
                                    "1": "Edgar",
                                    "2": "Quinn",
                                    "3": "NULL",
                                    "4": "edgar.quinn@aol.com",
                                    "5": "556 Dogwood Ave. ",
                                    "6": "Harlingen",
                                    "7": "TX",
                                    "8": "78552"
                                },
                                {
                                    "0": "1255",
                                    "1": "Ben",
                                    "2": "Stone",
                                    "3": "NULL",
                                    "4": "ben.stone@gmail.com",
                                    "5": "8855 University St. ",
                                    "6": "Ithaca",
                                    "7": "NY",
                                    "8": "14850"
                                },
                                {
                                    "0": "1330",
                                    "1": "Karren",
                                    "2": "Stevenson",
                                    "3": "NULL",
                                    "4": "karren.stevenson@aol.com",
                                    "5": "155 Old York St. ",
                                    "6": "San Carlos",
                                    "7": "CA",
                                    "8": "94070"
                                },
                                {
                                    "0": "1350",
                                    "1": "Annett",
                                    "2": "Rush",
                                    "3": "NULL",
                                    "4": "annett.rush@hotmail.com",
                                    "5": "758 Fordham Lane ",
                                    "6": "Rosedale",
                                    "7": "NY",
                                    "8": "11422"
                                },
                                {
                                    "0": "1420",
                                    "1": "Kelsey",
                                    "2": "Noble",
                                    "3": "NULL",
                                    "4": "kelsey.noble@hotmail.com",
                                    "5": "36 Pearl Court ",
                                    "6": "Mount Vernon",
                                    "7": "NY",
                                    "8": "10550"
                                }
                            ]
                        },
                        "text/html": [
                            "<table>",
                            "<tr><th>customer_id</th><th>first_name</th><th>last_name</th><th>phone</th><th>email</th><th>street</th><th>city</th><th>state</th><th>zip_code</th></tr>",
                            "<tr><td>34</td><td>Brittney</td><td>Woodward</td><td>NULL</td><td>brittney.woodward@aol.com</td><td>960 River St. </td><td>East Northport</td><td>NY</td><td>11731</td></tr>",
                            "<tr><td>54</td><td>Fran</td><td>Yang</td><td>NULL</td><td>fran.yang@hotmail.com</td><td>440 Pearl St. </td><td>Utica</td><td>NY</td><td>13501</td></tr>",
                            "<tr><td>144</td><td>Hans</td><td>Price</td><td>NULL</td><td>hans.price@hotmail.com</td><td>51 Glendale Road </td><td>Port Chester</td><td>NY</td><td>10573</td></tr>",
                            "<tr><td>155</td><td>Lory</td><td>Page</td><td>NULL</td><td>lory.page@hotmail.com</td><td>58 Summerhouse Street </td><td>Bay Shore</td><td>NY</td><td>11706</td></tr>",
                            "<tr><td>180</td><td>Karey</td><td>Steele</td><td>NULL</td><td>karey.steele@gmail.com</td><td>8879 Kent Lane </td><td>Farmingdale</td><td>NY</td><td>11735</td></tr>",
                            "<tr><td>183</td><td>Jeniffer</td><td>Ratliff</td><td>NULL</td><td>jeniffer.ratliff@gmail.com</td><td>510 Rocky River Court </td><td>Floral Park</td><td>NY</td><td>11001</td></tr>",
                            "<tr><td>197</td><td>Andy</td><td>O'neill</td><td>NULL</td><td>andy.o'neill@msn.com</td><td>9544 Mulberry Drive </td><td>Rego Park</td><td>NY</td><td>11374</td></tr>",
                            "<tr><td>205</td><td>Harris</td><td>Pittman</td><td>NULL</td><td>harris.pittman@yahoo.com</td><td>404 Cherry Hill Road </td><td>Jamaica</td><td>NY</td><td>11432</td></tr>",
                            "<tr><td>220</td><td>Lucio</td><td>Sherman</td><td>NULL</td><td>lucio.sherman@gmail.com</td><td>842 Corona Ave. </td><td>Smithtown</td><td>NY</td><td>11787</td></tr>",
                            "<tr><td>224</td><td>Moses</td><td>Pope</td><td>NULL</td><td>moses.pope@yahoo.com</td><td>654 Theatre Street </td><td>Lawndale</td><td>CA</td><td>90260</td></tr>",
                            "<tr><td>270</td><td>Claudio</td><td>Wise</td><td>NULL</td><td>claudio.wise@hotmail.com</td><td>810 Oxford Ave. </td><td>Kingston</td><td>NY</td><td>12401</td></tr>",
                            "<tr><td>319</td><td>Justin</td><td>Newton</td><td>NULL</td><td>justin.newton@hotmail.com</td><td>93 Shore Rd. </td><td>Apple Valley</td><td>CA</td><td>92307</td></tr>",
                            "<tr><td>324</td><td>Laureen</td><td>Paul</td><td>NULL</td><td>laureen.paul@yahoo.com</td><td>617 Squaw Creek Rd. </td><td>Bellmore</td><td>NY</td><td>11710</td></tr>",
                            "<tr><td>338</td><td>Abbey</td><td>Pugh</td><td>NULL</td><td>abbey.pugh@gmail.com</td><td>26 Market Drive </td><td>Forest Hills</td><td>NY</td><td>11375</td></tr>",
                            "<tr><td>369</td><td>Mary</td><td>Singleton</td><td>NULL</td><td>mary.singleton@hotmail.com</td><td>474 Amerige Ave. </td><td>Woodside</td><td>NY</td><td>11377</td></tr>",
                            "<tr><td>376</td><td>Elanor</td><td>Patrick</td><td>NULL</td><td>elanor.patrick@aol.com</td><td>51 Howard Ave. </td><td>Victoria</td><td>TX</td><td>77904</td></tr>",
                            "<tr><td>395</td><td>Fairy</td><td>Robinson</td><td>NULL</td><td>fairy.robinson@msn.com</td><td>8837 Joy Ridge St. </td><td>Liverpool</td><td>NY</td><td>13090</td></tr>",
                            "<tr><td>404</td><td>Augustus</td><td>Steele</td><td>NULL</td><td>augustus.steele@aol.com</td><td>7474 N. Orchard St. </td><td>Ballston Spa</td><td>NY</td><td>12020</td></tr>",
                            "<tr><td>426</td><td>Daisy</td><td>Ward</td><td>NULL</td><td>daisy.ward@msn.com</td><td>45 Silver Spear Ave. </td><td>Pomona</td><td>CA</td><td>91768</td></tr>",
                            "<tr><td>428</td><td>Hipolito</td><td>Padilla</td><td>NULL</td><td>hipolito.padilla@hotmail.com</td><td>311 E. Rose Avenue </td><td>New Rochelle</td><td>NY</td><td>10801</td></tr>",
                            "<tr><td>447</td><td>Chasidy</td><td>Tran</td><td>NULL</td><td>chasidy.tran@msn.com</td><td>9286 Anderson Street </td><td>Vista</td><td>CA</td><td>92083</td></tr>",
                            "<tr><td>458</td><td>Everett</td><td>Vega</td><td>NULL</td><td>everett.vega@yahoo.com</td><td>7859 James Ave. </td><td>Holbrook</td><td>NY</td><td>11741</td></tr>",
                            "<tr><td>476</td><td>Christopher</td><td>Richardson</td><td>NULL</td><td>christopher.richardson@gmail.com</td><td>7846 Windfall Dr. </td><td>Santa Cruz</td><td>CA</td><td>95060</td></tr>",
                            "<tr><td>481</td><td>Jayson</td><td>Rutledge</td><td>NULL</td><td>jayson.rutledge@yahoo.com</td><td>8672 Coffee St. </td><td>Lake Jackson</td><td>TX</td><td>77566</td></tr>",
                            "<tr><td>543</td><td>Jasmin</td><td>Young</td><td>NULL</td><td>jasmin.young@gmail.com</td><td>337 Beach Street </td><td>Helotes</td><td>TX</td><td>78023</td></tr>",
                            "<tr><td>562</td><td>Alejandro</td><td>Norman</td><td>NULL</td><td>alejandro.norman@yahoo.com</td><td>8918 Marsh Lane </td><td>Upland</td><td>CA</td><td>91784</td></tr>",
                            "<tr><td>565</td><td>Dagny</td><td>Owen</td><td>NULL</td><td>dagny.owen@hotmail.com</td><td>8028 Thompson Drive </td><td>San Angelo</td><td>TX</td><td>76901</td></tr>",
                            "<tr><td>640</td><td>Allison</td><td>Nolan</td><td>(845) 276-5729</td><td>allison.nolan@gmail.com</td><td>7421 Victoria St. </td><td>New City</td><td>NY</td><td>10956</td></tr>",
                            "<tr><td>724</td><td>Lois</td><td>Steele</td><td>NULL</td><td>lois.steele@yahoo.com</td><td>7501 South Marlborough Street </td><td>Ossining</td><td>NY</td><td>10562</td></tr>",
                            "<tr><td>731</td><td>Hilary</td><td>Savage</td><td>(805) 753-6881</td><td>hilary.savage@yahoo.com</td><td>696 Howard Court </td><td>Oxnard</td><td>CA</td><td>93035</td></tr>",
                            "<tr><td>839</td><td>Carolann</td><td>Russell</td><td>NULL</td><td>carolann.russell@hotmail.com</td><td>9308 Selby Ave. </td><td>Glen Cove</td><td>NY</td><td>11542</td></tr>",
                            "<tr><td>855</td><td>Lean</td><td>Stark</td><td>NULL</td><td>lean.stark@msn.com</td><td>215 Old Pumpkin Hill St. </td><td>Upland</td><td>CA</td><td>91784</td></tr>",
                            "<tr><td>908</td><td>Delmar</td><td>Wise</td><td>NULL</td><td>delmar.wise@yahoo.com</td><td>8355 Kingston Avenue </td><td>Lockport</td><td>NY</td><td>14094</td></tr>",
                            "<tr><td>945</td><td>Krissy</td><td>Ochoa</td><td>NULL</td><td>krissy.ochoa@msn.com</td><td>80 Queen Ave. </td><td>Port Washington</td><td>NY</td><td>11050</td></tr>",
                            "<tr><td>954</td><td>Hassan</td><td>Nash</td><td>NULL</td><td>hassan.nash@yahoo.com</td><td>8105 University Lane </td><td>Hicksville</td><td>NY</td><td>11801</td></tr>",
                            "<tr><td>965</td><td>Margit</td><td>Osborn</td><td>NULL</td><td>margit.osborn@yahoo.com</td><td>909 Gulf Drive </td><td>Plainview</td><td>NY</td><td>11803</td></tr>",
                            "<tr><td>987</td><td>Louis</td><td>Powell</td><td>NULL</td><td>louis.powell@aol.com</td><td>368 Sugar Rd. </td><td>Staten Island</td><td>NY</td><td>10301</td></tr>",
                            "<tr><td>994</td><td>Demarcus</td><td>Reese</td><td>NULL</td><td>demarcus.reese@gmail.com</td><td>8087 Armstrong Dr. </td><td>Yorktown Heights</td><td>NY</td><td>10598</td></tr>",
                            "<tr><td>1007</td><td>Jimmy</td><td>Russell</td><td>NULL</td><td>jimmy.russell@hotmail.com</td><td>33 Iroquois Ave. </td><td>Howard Beach</td><td>NY</td><td>11414</td></tr>",
                            "<tr><td>1108</td><td>Bao</td><td>Wade</td><td>NULL</td><td>bao.wade@gmail.com</td><td>7587 Church St. </td><td>Desoto</td><td>TX</td><td>75115</td></tr>",
                            "<tr><td>1112</td><td>Hollis</td><td>Rasmussen</td><td>NULL</td><td>hollis.rasmussen@yahoo.com</td><td>8949 S. Gates Road </td><td>Massapequa</td><td>NY</td><td>11758</td></tr>",
                            "<tr><td>1138</td><td>Hubert</td><td>Stone</td><td>NULL</td><td>hubert.stone@hotmail.com</td><td>203 Penn St. </td><td>Ridgecrest</td><td>CA</td><td>93555</td></tr>",
                            "<tr><td>1156</td><td>Han</td><td>Wade</td><td>NULL</td><td>han.wade@hotmail.com</td><td>587 Sulphur Springs St. </td><td>Howard Beach</td><td>NY</td><td>11414</td></tr>",
                            "<tr><td>1160</td><td>Efren</td><td>Whitfield</td><td>NULL</td><td>efren.whitfield@gmail.com</td><td>139 Union Rd. </td><td>Euless</td><td>TX</td><td>76039</td></tr>",
                            "<tr><td>1171</td><td>Earlean</td><td>Pena</td><td>NULL</td><td>earlean.pena@yahoo.com</td><td>7698 Fulton St. </td><td>Rome</td><td>NY</td><td>13440</td></tr>",
                            "<tr><td>1221</td><td>Joy</td><td>Underwood</td><td>NULL</td><td>joy.underwood@gmail.com</td><td>7297 Armstrong Dr. </td><td>Apple Valley</td><td>CA</td><td>92307</td></tr>",
                            "<tr><td>1238</td><td>Edgar</td><td>Quinn</td><td>NULL</td><td>edgar.quinn@aol.com</td><td>556 Dogwood Ave. </td><td>Harlingen</td><td>TX</td><td>78552</td></tr>",
                            "<tr><td>1255</td><td>Ben</td><td>Stone</td><td>NULL</td><td>ben.stone@gmail.com</td><td>8855 University St. </td><td>Ithaca</td><td>NY</td><td>14850</td></tr>",
                            "<tr><td>1330</td><td>Karren</td><td>Stevenson</td><td>NULL</td><td>karren.stevenson@aol.com</td><td>155 Old York St. </td><td>San Carlos</td><td>CA</td><td>94070</td></tr>",
                            "<tr><td>1350</td><td>Annett</td><td>Rush</td><td>NULL</td><td>annett.rush@hotmail.com</td><td>758 Fordham Lane </td><td>Rosedale</td><td>NY</td><td>11422</td></tr>",
                            "<tr><td>1420</td><td>Kelsey</td><td>Noble</td><td>NULL</td><td>kelsey.noble@hotmail.com</td><td>36 Pearl Court </td><td>Mount Vernon</td><td>NY</td><td>10550</td></tr>",
                            "</table>"
                        ]
                    }
                }
            ],
            "execution_count": 113
        },
        {
            "cell_type": "code",
            "source": [
                "/*\r\n",
                "(20p) Soru 3 : Yöneticileri(staffs.manager_id) ve yöneticilerin yetkili olduğu mağazaları(stores) bulunuz.\r\n",
                "               ** Yönetici ID, Yönetici İsmi, Yönetici Soyismi, Mağaza İsmi ve Yöneticiye bağlı olan çalışan sayısı listelenmelidir.\r\n",
                "*/\r\n",
                "\r\n",
                "SELECT man.staff_id,man.first_name,man.last_name, stores.store_name, COUNT (emp.staff_id) AS number_of_employees FROM ((staffs emp JOIN staffs man ON emp.manager_id = man.staff_id) \r\n",
                "INNER JOIN stores ON man.store_id = stores.store_id) GROUP BY man.staff_id, man.first_name, man.last_name, stores.store_name\r\n",
                "\r\n",
                "/*\r\n",
                "YORUMLARINIZI YAZINIZ\r\n",
                ".\r\n",
                ".\r\n",
                ".\r\n",
                "*/"
            ],
            "metadata": {
                "azdata_cell_guid": "7ed635bf-ff2b-4bb6-b01d-440d6d371ec0",
                "tags": []
            },
            "outputs": [
                {
                    "output_type": "display_data",
                    "data": {
                        "text/html": "(4 rows affected)"
                    },
                    "metadata": {}
                },
                {
                    "output_type": "display_data",
                    "data": {
                        "text/html": "Total execution time: 00:00:00.009"
                    },
                    "metadata": {}
                },
                {
                    "output_type": "execute_result",
                    "metadata": {},
                    "execution_count": 114,
                    "data": {
                        "application/vnd.dataresource+json": {
                            "schema": {
                                "fields": [
                                    {
                                        "name": "staff_id"
                                    },
                                    {
                                        "name": "first_name"
                                    },
                                    {
                                        "name": "last_name"
                                    },
                                    {
                                        "name": "store_name"
                                    },
                                    {
                                        "name": "number_of_employees"
                                    }
                                ]
                            },
                            "data": [
                                {
                                    "0": "1",
                                    "1": "Fabiola",
                                    "2": "Jackson",
                                    "3": "Santa Cruz Bikes",
                                    "4": "3"
                                },
                                {
                                    "0": "2",
                                    "1": "Mireya",
                                    "2": "Copeland",
                                    "3": "Santa Cruz Bikes",
                                    "4": "2"
                                },
                                {
                                    "0": "5",
                                    "1": "Jannette",
                                    "2": "David",
                                    "3": "Baldwin Bikes",
                                    "4": "2"
                                },
                                {
                                    "0": "7",
                                    "1": "Venita",
                                    "2": "Daniel",
                                    "3": "Baldwin Bikes",
                                    "4": "2"
                                }
                            ]
                        },
                        "text/html": [
                            "<table>",
                            "<tr><th>staff_id</th><th>first_name</th><th>last_name</th><th>store_name</th><th>number_of_employees</th></tr>",
                            "<tr><td>1</td><td>Fabiola</td><td>Jackson</td><td>Santa Cruz Bikes</td><td>3</td></tr>",
                            "<tr><td>2</td><td>Mireya</td><td>Copeland</td><td>Santa Cruz Bikes</td><td>2</td></tr>",
                            "<tr><td>5</td><td>Jannette</td><td>David</td><td>Baldwin Bikes</td><td>2</td></tr>",
                            "<tr><td>7</td><td>Venita</td><td>Daniel</td><td>Baldwin Bikes</td><td>2</td></tr>",
                            "</table>"
                        ]
                    }
                }
            ],
            "execution_count": 114
        },
        {
            "cell_type": "code",
            "source": [
                "/*\r\n",
                "(20p) Soru 4 : Müşterilerin(customers), sipariş(orders and order_items) vermiş olduğu ürünlerin(products) fiyatı 1426'dan büyük olanların kategorilerini bulunuz.\r\n",
                "               * Kategori adı ve sayıları listelenmelidir.\r\n",
                "*/\r\n",
                "\r\n",
                "SELECT categories.category_name, COUNT(*) AS Total FROM ((((customers INNER JOIN orders ON customers.customer_id = orders.customer_id) INNER JOIN order_items ON orders.order_id = order_items.order_id) \r\n",
                "INNER JOIN products ON order_items.product_id = products.product_id) INNER JOIN categories ON products.category_id = categories.category_id) WHERE order_items.list_price > 1426 GROUP BY category_name\r\n",
                "\r\n",
                "/*\r\n",
                "YORUMLARINIZI YAZINIZ\r\n",
                ".\r\n",
                ".\r\n",
                ".\r\n",
                "*/"
            ],
            "metadata": {
                "azdata_cell_guid": "c2d87cbd-67e9-4e35-981a-4f6d35dd38d0",
                "tags": []
            },
            "outputs": [
                {
                    "output_type": "display_data",
                    "data": {
                        "text/html": "(6 rows affected)"
                    },
                    "metadata": {}
                },
                {
                    "output_type": "display_data",
                    "data": {
                        "text/html": "Total execution time: 00:00:00.015"
                    },
                    "metadata": {}
                },
                {
                    "output_type": "execute_result",
                    "metadata": {},
                    "execution_count": 115,
                    "data": {
                        "application/vnd.dataresource+json": {
                            "schema": {
                                "fields": [
                                    {
                                        "name": "category_name"
                                    },
                                    {
                                        "name": "Total"
                                    }
                                ]
                            },
                            "data": [
                                {
                                    "0": "Cyclocross Bicycles",
                                    "1": "256"
                                },
                                {
                                    "0": "Comfort Bicycles",
                                    "1": "1"
                                },
                                {
                                    "0": "Electric Bikes",
                                    "1": "212"
                                },
                                {
                                    "0": "Mountain Bikes",
                                    "1": "507"
                                },
                                {
                                    "0": "Cruisers Bicycles",
                                    "1": "19"
                                },
                                {
                                    "0": "Road Bikes",
                                    "1": "308"
                                }
                            ]
                        },
                        "text/html": [
                            "<table>",
                            "<tr><th>category_name</th><th>Total</th></tr>",
                            "<tr><td>Cyclocross Bicycles</td><td>256</td></tr>",
                            "<tr><td>Comfort Bicycles</td><td>1</td></tr>",
                            "<tr><td>Electric Bikes</td><td>212</td></tr>",
                            "<tr><td>Mountain Bikes</td><td>507</td></tr>",
                            "<tr><td>Cruisers Bicycles</td><td>19</td></tr>",
                            "<tr><td>Road Bikes</td><td>308</td></tr>",
                            "</table>"
                        ]
                    }
                }
            ],
            "execution_count": 115
        },
        {
            "cell_type": "code",
            "source": [
                "/*\r\n",
                "(20p) Soru 5 : Müşterilerin(customers), sipariş(orders and order_items) vermiş olduğu ürünlerin(products) fiyatı 1426'dan büyük olanları ve model yılı 2018 olanların markalarını bulunuz.\r\n",
                "               * Marka adı ve sayıları listelenmelidir.\r\n",
                "*/\r\n",
                "\r\n",
                "SELECT brands.brand_name, COUNT(*) AS Total FROM ((((customers INNER JOIN orders ON customers.customer_id = orders.customer_id) INNER JOIN order_items ON orders.order_id = order_items.order_id) \r\n",
                "INNER JOIN products ON order_items.product_id = products.product_id) INNER JOIN brands ON products.brand_id = brands.brand_id) WHERE order_items.list_price > 1426 AND products.model_year = 2018 \r\n",
                "GROUP BY brand_name\r\n",
                "\r\n",
                "/*\r\n",
                "YORUMLARINIZI YAZINIZ\r\n",
                ".\r\n",
                ".\r\n",
                ".\r\n",
                "*/"
            ],
            "metadata": {
                "azdata_cell_guid": "3773ce0f-a0fb-4ee0-8aea-08a78e132b39",
                "tags": []
            },
            "outputs": [
                {
                    "output_type": "display_data",
                    "data": {
                        "text/html": "(4 rows affected)"
                    },
                    "metadata": {}
                },
                {
                    "output_type": "display_data",
                    "data": {
                        "text/html": "Total execution time: 00:00:00.016"
                    },
                    "metadata": {}
                },
                {
                    "output_type": "execute_result",
                    "metadata": {},
                    "execution_count": 116,
                    "data": {
                        "application/vnd.dataresource+json": {
                            "schema": {
                                "fields": [
                                    {
                                        "name": "brand_name"
                                    },
                                    {
                                        "name": "Total"
                                    }
                                ]
                            },
                            "data": [
                                {
                                    "0": "Trek",
                                    "1": "186"
                                },
                                {
                                    "0": "Electra",
                                    "1": "30"
                                },
                                {
                                    "0": "Heller",
                                    "1": "6"
                                },
                                {
                                    "0": "Surly",
                                    "1": "26"
                                }
                            ]
                        },
                        "text/html": [
                            "<table>",
                            "<tr><th>brand_name</th><th>Total</th></tr>",
                            "<tr><td>Trek</td><td>186</td></tr>",
                            "<tr><td>Electra</td><td>30</td></tr>",
                            "<tr><td>Heller</td><td>6</td></tr>",
                            "<tr><td>Surly</td><td>26</td></tr>",
                            "</table>"
                        ]
                    }
                }
            ],
            "execution_count": 116
        },
        {
            "cell_type": "code",
            "source": [
                "/*\r\n",
                "(20p) Soru 6 : Müşterilerin(customers), sipariş(orders and order_items) vermiş olduğu ürünlerin(products) fiyatı ve siparişdeki tutarı aynı olanları listeleyiniz.\r\n",
                "               * Mağaza adı, ürün sayısı, maksimum fiyatı, minimum fiyatı çıktı olarak verilmelidir.\r\n",
                "*/\r\n",
                "\r\n",
                "SELECT products.product_name, COUNT(*) AS Total FROM (((customers INNER JOIN orders ON customers.customer_id = orders.customer_id) INNER JOIN order_items ON orders.order_id = order_items.order_id) \r\n",
                "INNER JOIN products ON order_items.product_id = products.product_id) WHERE order_items.list_price = products.list_price GROUP BY product_name\r\n",
                "\r\n",
                "/*\r\n",
                "YORUMLARINIZI YAZINIZ\r\n",
                ".\r\n",
                ".\r\n",
                ".\r\n",
                "*/"
            ],
            "metadata": {
                "azdata_cell_guid": "0083bc01-c65c-4bd0-b3be-18cca9e59d02",
                "tags": []
            },
            "outputs": [
                {
                    "output_type": "display_data",
                    "data": {
                        "text/html": "(278 rows affected)"
                    },
                    "metadata": {}
                },
                {
                    "output_type": "display_data",
                    "data": {
                        "text/html": "Total execution time: 00:00:00.031"
                    },
                    "metadata": {}
                },
                {
                    "output_type": "execute_result",
                    "metadata": {},
                    "execution_count": 117,
                    "data": {
                        "application/vnd.dataresource+json": {
                            "schema": {
                                "fields": [
                                    {
                                        "name": "product_name"
                                    },
                                    {
                                        "name": "Total"
                                    }
                                ]
                            },
                            "data": [
                                {
                                    "0": "Electra Amsterdam Fashion 3i Ladies' - 2017/2018",
                                    "1": "3"
                                },
                                {
                                    "0": "Electra Amsterdam Fashion 7i Ladies' - 2017",
                                    "1": "24"
                                },
                                {
                                    "0": "Electra Amsterdam Original 3i - 2015/2017",
                                    "1": "22"
                                },
                                {
                                    "0": "Electra Amsterdam Original 3i Ladies' - 2017",
                                    "1": "23"
                                },
                                {
                                    "0": "Electra Amsterdam Royal 8i - 2017/2018",
                                    "1": "1"
                                },
                                {
                                    "0": "Electra Amsterdam Royal 8i Ladies - 2018",
                                    "1": "2"
                                },
                                {
                                    "0": "Electra Cruiser 1 (24-Inch) - 2016",
                                    "1": "193"
                                },
                                {
                                    "0": "Electra Cruiser 1 - 2016/2017/2018",
                                    "1": "4"
                                },
                                {
                                    "0": "Electra Cruiser 1 Ladies' - 2018",
                                    "1": "4"
                                },
                                {
                                    "0": "Electra Cruiser 1 Tall - 2016/2018",
                                    "1": "1"
                                },
                                {
                                    "0": "Electra Cruiser 7D (24-Inch) Ladies' - 2016/2018",
                                    "1": "6"
                                },
                                {
                                    "0": "Electra Cruiser 7D - 2016/2017/2018",
                                    "1": "1"
                                },
                                {
                                    "0": "Electra Cruiser 7D Ladies' - 2016/2018",
                                    "1": "2"
                                },
                                {
                                    "0": "Electra Cruiser 7D Tall - 2016/2018",
                                    "1": "2"
                                },
                                {
                                    "0": "Electra Cruiser Lux 1 - 2016/2018",
                                    "1": "3"
                                },
                                {
                                    "0": "Electra Cruiser Lux 1 - 2017",
                                    "1": "19"
                                },
                                {
                                    "0": "Electra Cruiser Lux 1 Ladies' - 2018",
                                    "1": "6"
                                },
                                {
                                    "0": "Electra Cruiser Lux 3i - 2018",
                                    "1": "4"
                                },
                                {
                                    "0": "Electra Cruiser Lux 3i Ladies' - 2018",
                                    "1": "2"
                                },
                                {
                                    "0": "Electra Cruiser Lux 7D - 2018",
                                    "1": "3"
                                },
                                {
                                    "0": "Electra Cruiser Lux 7D Ladies' - 2018",
                                    "1": "2"
                                },
                                {
                                    "0": "Electra Cruiser Lux Fat Tire 1 Ladies - 2017",
                                    "1": "18"
                                },
                                {
                                    "0": "Electra Cruiser Lux Fat Tire 7D - 2018",
                                    "1": "2"
                                },
                                {
                                    "0": "Electra Cyclosaurus 1 (16-inch) - Boy's - 2018",
                                    "1": "5"
                                },
                                {
                                    "0": "Electra Daydreamer 3i Ladies' - 2018",
                                    "1": "4"
                                },
                                {
                                    "0": "Electra Delivery 3i - 2016/2017/2018",
                                    "1": "4"
                                },
                                {
                                    "0": "Electra Girl's Hawaii 1 (16-inch) - 2015/2016",
                                    "1": "180"
                                },
                                {
                                    "0": "Electra Girl's Hawaii 1 (20-inch) - 2015/2016",
                                    "1": "100"
                                },
                                {
                                    "0": "Electra Girl's Hawaii 1 16\" - 2017",
                                    "1": "49"
                                },
                                {
                                    "0": "Electra Glam Punk 3i Ladies' - 2017",
                                    "1": "21"
                                },
                                {
                                    "0": "Electra Heartchya 1 (20-inch) - Girl's - 2018",
                                    "1": "4"
                                },
                                {
                                    "0": "Electra Koa 3i Ladies' - 2018",
                                    "1": "6"
                                },
                                {
                                    "0": "Electra Loft Go! 8i - 2018",
                                    "1": "3"
                                },
                                {
                                    "0": "Electra Morningstar 3i Ladies' - 2018",
                                    "1": "3"
                                },
                                {
                                    "0": "Electra Moto 1 - 2016",
                                    "1": "91"
                                },
                                {
                                    "0": "Electra Moto 3i (20-inch) - Boy's - 2017",
                                    "1": "20"
                                },
                                {
                                    "0": "Electra Moto 3i - 2018",
                                    "1": "3"
                                },
                                {
                                    "0": "Electra Queen of Hearts 3i - 2018",
                                    "1": "4"
                                },
                                {
                                    "0": "Electra Relic 3i - 2018",
                                    "1": "3"
                                },
                                {
                                    "0": "Electra Savannah 3i (20-inch) - Girl's - 2017",
                                    "1": "22"
                                },
                                {
                                    "0": "Electra Soft Serve 1 (16-inch) - Girl's - 2018",
                                    "1": "1"
                                },
                                {
                                    "0": "Electra Starship 1 16\" - 2018",
                                    "1": "3"
                                },
                                {
                                    "0": "Electra Straight 8 1 (16-inch) - Boy's - 2018",
                                    "1": "1"
                                },
                                {
                                    "0": "Electra Straight 8 1 (20-inch) - Boy's - 2018",
                                    "1": "1"
                                },
                                {
                                    "0": "Electra Straight 8 3i (20-inch) - Boy's - 2017",
                                    "1": "12"
                                },
                                {
                                    "0": "Electra Straight 8 3i - 2018",
                                    "1": "3"
                                },
                                {
                                    "0": "Electra Sugar Skulls 1 (20-inch) - Girl's - 2017",
                                    "1": "24"
                                },
                                {
                                    "0": "Electra Super Moto 8i - 2018",
                                    "1": "4"
                                },
                                {
                                    "0": "Electra Superbolt 1 20\" - 2018",
                                    "1": "1"
                                },
                                {
                                    "0": "Electra Superbolt 3i 20\" - 2018",
                                    "1": "1"
                                },
                                {
                                    "0": "Electra Sweet Ride 3i (20-inch) - Girls' - 2018",
                                    "1": "3"
                                },
                                {
                                    "0": "Electra Tiger Shark 1 (20-inch) - Boys' - 2018",
                                    "1": "4"
                                },
                                {
                                    "0": "Electra Tiger Shark 3i (20-inch) - Boys' - 2018",
                                    "1": "1"
                                },
                                {
                                    "0": "Electra Tiger Shark 3i - 2018",
                                    "1": "4"
                                },
                                {
                                    "0": "Electra Townie 3i EQ (20-inch) - Boys' - 2017",
                                    "1": "28"
                                },
                                {
                                    "0": "Electra Townie 7D (20-inch) - Boys' - 2017",
                                    "1": "26"
                                },
                                {
                                    "0": "Electra Townie Balloon 3i EQ - 2017/2018",
                                    "1": "5"
                                },
                                {
                                    "0": "Electra Townie Balloon 3i EQ Ladies' - 2018",
                                    "1": "10"
                                },
                                {
                                    "0": "Electra Townie Balloon 7i EQ - 2018",
                                    "1": "6"
                                },
                                {
                                    "0": "Electra Townie Balloon 7i EQ Ladies' - 2017/2018",
                                    "1": "6"
                                },
                                {
                                    "0": "Electra Townie Balloon 8D EQ - 2016/2017/2018",
                                    "1": "5"
                                },
                                {
                                    "0": "Electra Townie Balloon 8D EQ Ladies' - 2016/2017/2018",
                                    "1": "4"
                                },
                                {
                                    "0": "Electra Townie Commute 27D - 2018",
                                    "1": "2"
                                },
                                {
                                    "0": "Electra Townie Commute 27D Ladies - 2018",
                                    "1": "6"
                                },
                                {
                                    "0": "Electra Townie Commute 8D - 2018",
                                    "1": "4"
                                },
                                {
                                    "0": "Electra Townie Commute 8D Ladies' - 2018",
                                    "1": "6"
                                },
                                {
                                    "0": "Electra Townie Commute Go! - 2018",
                                    "1": "10"
                                },
                                {
                                    "0": "Electra Townie Commute Go! Ladies' - 2018",
                                    "1": "8"
                                },
                                {
                                    "0": "Electra Townie Go! 8i - 2017/2018",
                                    "1": "3"
                                },
                                {
                                    "0": "Electra Townie Go! 8i Ladies' - 2018",
                                    "1": "6"
                                },
                                {
                                    "0": "Electra Townie Original 1 - 2018",
                                    "1": "4"
                                },
                                {
                                    "0": "Electra Townie Original 1 Ladies' - 2018",
                                    "1": "3"
                                },
                                {
                                    "0": "Electra Townie Original 21D - 2016",
                                    "1": "193"
                                },
                                {
                                    "0": "Electra Townie Original 21D - 2018",
                                    "1": "2"
                                },
                                {
                                    "0": "Electra Townie Original 21D EQ - 2017/2018",
                                    "1": "9"
                                },
                                {
                                    "0": "Electra Townie Original 21D EQ Ladies' - 2018",
                                    "1": "5"
                                },
                                {
                                    "0": "Electra Townie Original 21D Ladies' - 2018",
                                    "1": "3"
                                },
                                {
                                    "0": "Electra Townie Original 3i EQ - 2017/2018",
                                    "1": "3"
                                },
                                {
                                    "0": "Electra Townie Original 3i EQ Ladies' - 2018",
                                    "1": "2"
                                },
                                {
                                    "0": "Electra Townie Original 7D - 2015/2016",
                                    "1": "98"
                                },
                                {
                                    "0": "Electra Townie Original 7D - 2017",
                                    "1": "45"
                                },
                                {
                                    "0": "Electra Townie Original 7D EQ - 2016",
                                    "1": "185"
                                },
                                {
                                    "0": "Electra Townie Original 7D EQ - 2018",
                                    "1": "2"
                                },
                                {
                                    "0": "Electra Townie Original 7D EQ - Women's - 2016",
                                    "1": "84"
                                },
                                {
                                    "0": "Electra Townie Original 7D EQ Ladies' - 2017/2018",
                                    "1": "5"
                                },
                                {
                                    "0": "Electra Treasure 1 20\" - 2018",
                                    "1": "6"
                                },
                                {
                                    "0": "Electra Treasure 3i 20\" - 2018",
                                    "1": "1"
                                },
                                {
                                    "0": "Electra Under-The-Sea 1 16\" - 2018",
                                    "1": "5"
                                },
                                {
                                    "0": "Electra Water Lily 1 (16-inch) - Girl's - 2018",
                                    "1": "3"
                                },
                                {
                                    "0": "Electra White Water 3i - 2018",
                                    "1": "4"
                                },
                                {
                                    "0": "Haro Downtown 16 - 2017",
                                    "1": "21"
                                },
                                {
                                    "0": "Haro Flightline One ST - 2017",
                                    "1": "20"
                                },
                                {
                                    "0": "Haro Flightline Two 26 Plus - 2017",
                                    "1": "18"
                                },
                                {
                                    "0": "Haro Shift R3 - 2017",
                                    "1": "24"
                                },
                                {
                                    "0": "Haro Shredder 20 - 2017",
                                    "1": "26"
                                },
                                {
                                    "0": "Haro Shredder 20 Girls - 2017",
                                    "1": "25"
                                },
                                {
                                    "0": "Haro Shredder Pro 20 - 2017",
                                    "1": "19"
                                },
                                {
                                    "0": "Haro SR 1.1 - 2017",
                                    "1": "16"
                                },
                                {
                                    "0": "Haro SR 1.2 - 2017",
                                    "1": "32"
                                },
                                {
                                    "0": "Haro SR 1.3 - 2017",
                                    "1": "19"
                                },
                                {
                                    "0": "Heller Bloodhound Trail - 2018",
                                    "1": "2"
                                },
                                {
                                    "0": "Heller Shagamaw Frame - 2016",
                                    "1": "91"
                                },
                                {
                                    "0": "Heller Shagamaw GX1 - 2018",
                                    "1": "4"
                                },
                                {
                                    "0": "Pure Cycles Vine 8-Speed - 2016",
                                    "1": "91"
                                },
                                {
                                    "0": "Pure Cycles Western 3-Speed - Women's - 2015/2016",
                                    "1": "89"
                                },
                                {
                                    "0": "Pure Cycles William 3-Speed - 2016",
                                    "1": "78"
                                },
                                {
                                    "0": "Ritchey Timberwolf Frameset - 2016",
                                    "1": "77"
                                },
                                {
                                    "0": "Strider Classic 12 Balance Bike - 2018",
                                    "1": "7"
                                },
                                {
                                    "0": "Strider Sport 16 - 2018",
                                    "1": "3"
                                },
                                {
                                    "0": "Strider Strider 20 Sport - 2018",
                                    "1": "6"
                                },
                                {
                                    "0": "Sun Bicycles Atlas X-Type - 2017",
                                    "1": "26"
                                },
                                {
                                    "0": "Sun Bicycles Biscayne Tandem 7 - 2017",
                                    "1": "22"
                                },
                                {
                                    "0": "Sun Bicycles Biscayne Tandem CB - 2017",
                                    "1": "27"
                                },
                                {
                                    "0": "Sun Bicycles Boardwalk (24-inch Wheels) - 2017",
                                    "1": "16"
                                },
                                {
                                    "0": "Sun Bicycles Brickell Tandem 7 - 2017",
                                    "1": "20"
                                },
                                {
                                    "0": "Sun Bicycles Brickell Tandem CB - 2017",
                                    "1": "14"
                                },
                                {
                                    "0": "Sun Bicycles Cruz 3 - 2017",
                                    "1": "46"
                                },
                                {
                                    "0": "Sun Bicycles Cruz 3 - Women's - 2017",
                                    "1": "21"
                                },
                                {
                                    "0": "Sun Bicycles Cruz 7 - 2017",
                                    "1": "34"
                                },
                                {
                                    "0": "Sun Bicycles Cruz 7 - Women's - 2017",
                                    "1": "20"
                                },
                                {
                                    "0": "Sun Bicycles Drifter 7 - 2017",
                                    "1": "16"
                                },
                                {
                                    "0": "Sun Bicycles Drifter 7 - Women's - 2017",
                                    "1": "18"
                                },
                                {
                                    "0": "Sun Bicycles ElectroLite - 2017",
                                    "1": "24"
                                },
                                {
                                    "0": "Sun Bicycles Lil Bolt Type-R - 2017",
                                    "1": "35"
                                },
                                {
                                    "0": "Sun Bicycles Lil Kitt'n - 2017",
                                    "1": "16"
                                },
                                {
                                    "0": "Sun Bicycles Revolutions 24 - 2017",
                                    "1": "24"
                                },
                                {
                                    "0": "Sun Bicycles Revolutions 24 - Girl's - 2017",
                                    "1": "16"
                                },
                                {
                                    "0": "Sun Bicycles Spider 3i - 2017",
                                    "1": "17"
                                },
                                {
                                    "0": "Sun Bicycles Streamway - 2017",
                                    "1": "20"
                                },
                                {
                                    "0": "Sun Bicycles Streamway 3 - 2017",
                                    "1": "28"
                                },
                                {
                                    "0": "Sun Bicycles Streamway 7 - 2017",
                                    "1": "25"
                                },
                                {
                                    "0": "Surly Big Dummy Frameset - 2017",
                                    "1": "21"
                                },
                                {
                                    "0": "Surly Big Fat Dummy Frameset - 2018",
                                    "1": "5"
                                },
                                {
                                    "0": "Surly ECR - 2018",
                                    "1": "2"
                                },
                                {
                                    "0": "Surly ECR 27.5 - 2018",
                                    "1": "5"
                                },
                                {
                                    "0": "Surly ECR Frameset - 2018",
                                    "1": "1"
                                },
                                {
                                    "0": "Surly Ice Cream Truck Frameset - 2016",
                                    "1": "110"
                                },
                                {
                                    "0": "Surly Ice Cream Truck Frameset - 2017",
                                    "1": "22"
                                },
                                {
                                    "0": "Surly Karate Monkey 27.5+ Frameset - 2017",
                                    "1": "26"
                                },
                                {
                                    "0": "Surly Krampus - 2018",
                                    "1": "7"
                                },
                                {
                                    "0": "Surly Ogre Frameset - 2017",
                                    "1": "17"
                                },
                                {
                                    "0": "Surly Pack Rat - 2018",
                                    "1": "4"
                                },
                                {
                                    "0": "Surly Pack Rat Frameset - 2018",
                                    "1": "3"
                                },
                                {
                                    "0": "Surly Steamroller - 2017",
                                    "1": "26"
                                },
                                {
                                    "0": "Surly Straggler - 2016",
                                    "1": "97"
                                },
                                {
                                    "0": "Surly Straggler - 2018",
                                    "1": "6"
                                },
                                {
                                    "0": "Surly Straggler 650b - 2016",
                                    "1": "97"
                                },
                                {
                                    "0": "Surly Straggler 650b - 2018",
                                    "1": "3"
                                },
                                {
                                    "0": "Surly Troll Frameset - 2017",
                                    "1": "29"
                                },
                                {
                                    "0": "Surly Troll Frameset - 2018",
                                    "1": "3"
                                },
                                {
                                    "0": "Surly Wednesday - 2017",
                                    "1": "13"
                                },
                                {
                                    "0": "Surly Wednesday Frameset - 2016",
                                    "1": "86"
                                },
                                {
                                    "0": "Surly Wednesday Frameset - 2017",
                                    "1": "22"
                                },
                                {
                                    "0": "Trek 1120 - 2018",
                                    "1": "2"
                                },
                                {
                                    "0": "Trek 820 - 2018",
                                    "1": "3"
                                },
                                {
                                    "0": "Trek Boone 5 Disc - 2018",
                                    "1": "2"
                                },
                                {
                                    "0": "Trek Boone 7 - 2017",
                                    "1": "25"
                                },
                                {
                                    "0": "Trek Boone 7 Disc - 2018",
                                    "1": "5"
                                },
                                {
                                    "0": "Trek Boone Race Shop Limited - 2017",
                                    "1": "21"
                                },
                                {
                                    "0": "Trek Boy's Kickster - 2015/2017",
                                    "1": "15"
                                },
                                {
                                    "0": "Trek Conduit+ - 2016",
                                    "1": "101"
                                },
                                {
                                    "0": "Trek Conduit+ - 2018",
                                    "1": "4"
                                },
                                {
                                    "0": "Trek Crockett 5 Disc - 2018",
                                    "1": "2"
                                },
                                {
                                    "0": "Trek Crockett 7 Disc - 2018",
                                    "1": "3"
                                },
                                {
                                    "0": "Trek CrossRip 1 - 2018",
                                    "1": "3"
                                },
                                {
                                    "0": "Trek CrossRip 2 - 2018",
                                    "1": "1"
                                },
                                {
                                    "0": "Trek CrossRip+ - 2018",
                                    "1": "4"
                                },
                                {
                                    "0": "Trek Domane AL 2 - 2018",
                                    "1": "2"
                                },
                                {
                                    "0": "Trek Domane AL 2 Women's - 2018",
                                    "1": "4"
                                },
                                {
                                    "0": "Trek Domane AL 3 - 2018",
                                    "1": "2"
                                },
                                {
                                    "0": "Trek Domane AL 3 Women's - 2018",
                                    "1": "5"
                                },
                                {
                                    "0": "Trek Domane ALR 3 - 2018",
                                    "1": "1"
                                },
                                {
                                    "0": "Trek Domane ALR 4 Disc - 2018",
                                    "1": "2"
                                },
                                {
                                    "0": "Trek Domane ALR 4 Disc Women's - 2018",
                                    "1": "4"
                                },
                                {
                                    "0": "Trek Domane ALR 5 Disc - 2018",
                                    "1": "4"
                                },
                                {
                                    "0": "Trek Domane ALR 5 Gravel - 2018",
                                    "1": "4"
                                },
                                {
                                    "0": "Trek Domane ALR Disc Frameset - 2018",
                                    "1": "4"
                                },
                                {
                                    "0": "Trek Domane ALR Frameset - 2018",
                                    "1": "3"
                                },
                                {
                                    "0": "Trek Domane S 5 Disc - 2017",
                                    "1": "18"
                                },
                                {
                                    "0": "Trek Domane S 6 - 2017",
                                    "1": "26"
                                },
                                {
                                    "0": "Trek Domane SL 5 - 2018",
                                    "1": "3"
                                },
                                {
                                    "0": "Trek Domane SL 5 Disc - 2018",
                                    "1": "4"
                                },
                                {
                                    "0": "Trek Domane SL 5 Disc Women's - 2018",
                                    "1": "2"
                                },
                                {
                                    "0": "Trek Domane SL 5 Women's - 2018",
                                    "1": "1"
                                },
                                {
                                    "0": "Trek Domane SL 6 - 2017",
                                    "1": "22"
                                },
                                {
                                    "0": "Trek Domane SL 6 - 2018",
                                    "1": "4"
                                },
                                {
                                    "0": "Trek Domane SL 6 Disc - 2018",
                                    "1": "4"
                                },
                                {
                                    "0": "Trek Domane SL 7 Women's - 2018",
                                    "1": "5"
                                },
                                {
                                    "0": "Trek Domane SL 8 Disc - 2018",
                                    "1": "3"
                                },
                                {
                                    "0": "Trek Domane SL Disc Frameset - 2017",
                                    "1": "17"
                                },
                                {
                                    "0": "Trek Domane SL Frameset - 2018",
                                    "1": "3"
                                },
                                {
                                    "0": "Trek Domane SL Frameset Women's - 2018",
                                    "1": "1"
                                },
                                {
                                    "0": "Trek Domane SLR 6 - 2018",
                                    "1": "2"
                                },
                                {
                                    "0": "Trek Domane SLR 6 Disc - 2017",
                                    "1": "28"
                                },
                                {
                                    "0": "Trek Domane SLR 6 Disc - 2018",
                                    "1": "1"
                                },
                                {
                                    "0": "Trek Domane SLR 8 Disc - 2018",
                                    "1": "3"
                                },
                                {
                                    "0": "Trek Domane SLR 9 Disc - 2018",
                                    "1": "3"
                                },
                                {
                                    "0": "Trek Domane SLR Disc Frameset - 2018",
                                    "1": "1"
                                },
                                {
                                    "0": "Trek Domane SLR Frameset - 2018",
                                    "1": "2"
                                },
                                {
                                    "0": "Trek Dual Sport+ - 2018",
                                    "1": "3"
                                },
                                {
                                    "0": "Trek Emonda ALR 6 - 2018",
                                    "1": "5"
                                },
                                {
                                    "0": "Trek Emonda S 4 - 2017",
                                    "1": "28"
                                },
                                {
                                    "0": "Trek Emonda S 5 - 2017",
                                    "1": "15"
                                },
                                {
                                    "0": "Trek Emonda SL 6 Disc - 2018",
                                    "1": "2"
                                },
                                {
                                    "0": "Trek Emonda SL 7 - 2018",
                                    "1": "3"
                                },
                                {
                                    "0": "Trek Emonda SLR 6 - 2018",
                                    "1": "4"
                                },
                                {
                                    "0": "Trek Emonda SLR 8 - 2018",
                                    "1": "2"
                                },
                                {
                                    "0": "Trek Farley Alloy Frameset - 2017",
                                    "1": "22"
                                },
                                {
                                    "0": "Trek Farley Carbon Frameset - 2018",
                                    "1": "6"
                                },
                                {
                                    "0": "Trek Fuel EX 5 27.5 Plus - 2017",
                                    "1": "24"
                                },
                                {
                                    "0": "Trek Fuel EX 5 Plus - 2018",
                                    "1": "3"
                                },
                                {
                                    "0": "Trek Fuel EX 7 29 - 2018",
                                    "1": "2"
                                },
                                {
                                    "0": "Trek Fuel EX 8 29 - 2016",
                                    "1": "97"
                                },
                                {
                                    "0": "Trek Fuel EX 8 29 - 2018",
                                    "1": "4"
                                },
                                {
                                    "0": "Trek Fuel EX 8 29 XT - 2018",
                                    "1": "5"
                                },
                                {
                                    "0": "Trek Fuel EX 9.8 27.5 Plus - 2017",
                                    "1": "25"
                                },
                                {
                                    "0": "Trek Fuel EX 9.8 29 - 2017",
                                    "1": "21"
                                },
                                {
                                    "0": "Trek Girl's Kickster - 2017",
                                    "1": "15"
                                },
                                {
                                    "0": "Trek Kickster - 2018",
                                    "1": "5"
                                },
                                {
                                    "0": "Trek Kids' Neko - 2018",
                                    "1": "3"
                                },
                                {
                                    "0": "Trek Lift+ - 2018",
                                    "1": "3"
                                },
                                {
                                    "0": "Trek Lift+ Lowstep - 2018",
                                    "1": "1"
                                },
                                {
                                    "0": "Trek Madone 9 Frameset - 2018",
                                    "1": "1"
                                },
                                {
                                    "0": "Trek Madone 9.2 - 2017",
                                    "1": "26"
                                },
                                {
                                    "0": "Trek Marlin 5 - 2018",
                                    "1": "6"
                                },
                                {
                                    "0": "Trek Marlin 6 - 2018",
                                    "1": "2"
                                },
                                {
                                    "0": "Trek Marlin 7 - 2017/2018",
                                    "1": "2"
                                },
                                {
                                    "0": "Trek MT 201 - 2018",
                                    "1": "1"
                                },
                                {
                                    "0": "Trek Neko+ - 2018",
                                    "1": "2"
                                },
                                {
                                    "0": "Trek Powerfly 5 - 2018",
                                    "1": "1"
                                },
                                {
                                    "0": "Trek Powerfly 5 FS - 2018",
                                    "1": "1"
                                },
                                {
                                    "0": "Trek Powerfly 5 Women's - 2018",
                                    "1": "3"
                                },
                                {
                                    "0": "Trek Powerfly 7 FS - 2018",
                                    "1": "5"
                                },
                                {
                                    "0": "Trek Powerfly 8 FS Plus - 2017",
                                    "1": "25"
                                },
                                {
                                    "0": "Trek Precaliber 12 Boy's - 2018",
                                    "1": "4"
                                },
                                {
                                    "0": "Trek Precaliber 12 Boys - 2017",
                                    "1": "19"
                                },
                                {
                                    "0": "Trek Precaliber 12 Girls - 2017",
                                    "1": "23"
                                },
                                {
                                    "0": "Trek Precaliber 16 Boy's - 2018",
                                    "1": "1"
                                },
                                {
                                    "0": "Trek Precaliber 16 Boys - 2017",
                                    "1": "18"
                                },
                                {
                                    "0": "Trek Precaliber 16 Girl's - 2018",
                                    "1": "5"
                                },
                                {
                                    "0": "Trek Precaliber 16 Girls - 2017",
                                    "1": "18"
                                },
                                {
                                    "0": "Trek Precaliber 20 6-speed Boy's - 2018",
                                    "1": "2"
                                },
                                {
                                    "0": "Trek Precaliber 20 6-speed Girl's - 2018",
                                    "1": "1"
                                },
                                {
                                    "0": "Trek Precaliber 20 Boy's - 2018",
                                    "1": "2"
                                },
                                {
                                    "0": "Trek Precaliber 20 Girl's - 2018",
                                    "1": "3"
                                },
                                {
                                    "0": "Trek Precaliber 24 (21-Speed) - Girls - 2017",
                                    "1": "28"
                                },
                                {
                                    "0": "Trek Precaliber 24 (7-Speed) - Boys - 2018",
                                    "1": "3"
                                },
                                {
                                    "0": "Trek Precaliber 24 21-speed Boy's - 2018",
                                    "1": "2"
                                },
                                {
                                    "0": "Trek Precaliber 24 21-speed Girl's - 2018",
                                    "1": "1"
                                },
                                {
                                    "0": "Trek Precaliber 24 7-speed Girl's - 2018",
                                    "1": "1"
                                },
                                {
                                    "0": "Trek Procal AL Frameset - 2018",
                                    "1": "2"
                                },
                                {
                                    "0": "Trek Procaliber 6 - 2018",
                                    "1": "3"
                                },
                                {
                                    "0": "Trek Procaliber Frameset - 2018",
                                    "1": "2"
                                },
                                {
                                    "0": "Trek Remedy 27.5 C Frameset - 2018",
                                    "1": "2"
                                },
                                {
                                    "0": "Trek Remedy 29 Carbon Frameset - 2016",
                                    "1": "85"
                                },
                                {
                                    "0": "Trek Remedy 7 27.5 - 2018",
                                    "1": "4"
                                },
                                {
                                    "0": "Trek Remedy 9.8 - 2017",
                                    "1": "14"
                                },
                                {
                                    "0": "Trek Remedy 9.8 27.5 - 2018",
                                    "1": "2"
                                },
                                {
                                    "0": "Trek Session DH 27.5 Carbon Frameset - 2017",
                                    "1": "11"
                                },
                                {
                                    "0": "Trek Silque SLR 7 Women's - 2017",
                                    "1": "20"
                                },
                                {
                                    "0": "Trek Silque SLR 8 Women's - 2017",
                                    "1": "19"
                                },
                                {
                                    "0": "Trek Slash 8 27.5 - 2016",
                                    "1": "101"
                                },
                                {
                                    "0": "Trek Stache 5 - 2017",
                                    "1": "16"
                                },
                                {
                                    "0": "Trek Stache 5 - 2018",
                                    "1": "4"
                                },
                                {
                                    "0": "Trek Stache Carbon Frameset - 2018",
                                    "1": "4"
                                },
                                {
                                    "0": "Trek Super Commuter+ 7 - 2018",
                                    "1": "5"
                                },
                                {
                                    "0": "Trek Super Commuter+ 8S - 2018",
                                    "1": "4"
                                },
                                {
                                    "0": "Trek Superfly 20 - 2018",
                                    "1": "1"
                                },
                                {
                                    "0": "Trek Superfly 24 - 2017/2018",
                                    "1": "1"
                                },
                                {
                                    "0": "Trek Ticket S Frame - 2018",
                                    "1": "4"
                                },
                                {
                                    "0": "Trek Verve+ - 2018",
                                    "1": "3"
                                },
                                {
                                    "0": "Trek Verve+ Lowstep - 2018",
                                    "1": "4"
                                },
                                {
                                    "0": "Trek X-Caliber 7 - 2018",
                                    "1": "3"
                                },
                                {
                                    "0": "Trek X-Caliber 8 - 2017",
                                    "1": "24"
                                },
                                {
                                    "0": "Trek X-Caliber 8 - 2018",
                                    "1": "2"
                                },
                                {
                                    "0": "Trek X-Caliber Frameset - 2018",
                                    "1": "3"
                                },
                                {
                                    "0": "Trek XM700+ - 2018",
                                    "1": "5"
                                },
                                {
                                    "0": "Trek XM700+ Lowstep - 2018",
                                    "1": "4"
                                }
                            ]
                        },
                        "text/html": [
                            "<table>",
                            "<tr><th>product_name</th><th>Total</th></tr>",
                            "<tr><td>Electra Amsterdam Fashion 3i Ladies' - 2017/2018</td><td>3</td></tr>",
                            "<tr><td>Electra Amsterdam Fashion 7i Ladies' - 2017</td><td>24</td></tr>",
                            "<tr><td>Electra Amsterdam Original 3i - 2015/2017</td><td>22</td></tr>",
                            "<tr><td>Electra Amsterdam Original 3i Ladies' - 2017</td><td>23</td></tr>",
                            "<tr><td>Electra Amsterdam Royal 8i - 2017/2018</td><td>1</td></tr>",
                            "<tr><td>Electra Amsterdam Royal 8i Ladies - 2018</td><td>2</td></tr>",
                            "<tr><td>Electra Cruiser 1 (24-Inch) - 2016</td><td>193</td></tr>",
                            "<tr><td>Electra Cruiser 1 - 2016/2017/2018</td><td>4</td></tr>",
                            "<tr><td>Electra Cruiser 1 Ladies' - 2018</td><td>4</td></tr>",
                            "<tr><td>Electra Cruiser 1 Tall - 2016/2018</td><td>1</td></tr>",
                            "<tr><td>Electra Cruiser 7D (24-Inch) Ladies' - 2016/2018</td><td>6</td></tr>",
                            "<tr><td>Electra Cruiser 7D - 2016/2017/2018</td><td>1</td></tr>",
                            "<tr><td>Electra Cruiser 7D Ladies' - 2016/2018</td><td>2</td></tr>",
                            "<tr><td>Electra Cruiser 7D Tall - 2016/2018</td><td>2</td></tr>",
                            "<tr><td>Electra Cruiser Lux 1 - 2016/2018</td><td>3</td></tr>",
                            "<tr><td>Electra Cruiser Lux 1 - 2017</td><td>19</td></tr>",
                            "<tr><td>Electra Cruiser Lux 1 Ladies' - 2018</td><td>6</td></tr>",
                            "<tr><td>Electra Cruiser Lux 3i - 2018</td><td>4</td></tr>",
                            "<tr><td>Electra Cruiser Lux 3i Ladies' - 2018</td><td>2</td></tr>",
                            "<tr><td>Electra Cruiser Lux 7D - 2018</td><td>3</td></tr>",
                            "<tr><td>Electra Cruiser Lux 7D Ladies' - 2018</td><td>2</td></tr>",
                            "<tr><td>Electra Cruiser Lux Fat Tire 1 Ladies - 2017</td><td>18</td></tr>",
                            "<tr><td>Electra Cruiser Lux Fat Tire 7D - 2018</td><td>2</td></tr>",
                            "<tr><td>Electra Cyclosaurus 1 (16-inch) - Boy's - 2018</td><td>5</td></tr>",
                            "<tr><td>Electra Daydreamer 3i Ladies' - 2018</td><td>4</td></tr>",
                            "<tr><td>Electra Delivery 3i - 2016/2017/2018</td><td>4</td></tr>",
                            "<tr><td>Electra Girl's Hawaii 1 (16-inch) - 2015/2016</td><td>180</td></tr>",
                            "<tr><td>Electra Girl's Hawaii 1 (20-inch) - 2015/2016</td><td>100</td></tr>",
                            "<tr><td>Electra Girl's Hawaii 1 16&quot; - 2017</td><td>49</td></tr>",
                            "<tr><td>Electra Glam Punk 3i Ladies' - 2017</td><td>21</td></tr>",
                            "<tr><td>Electra Heartchya 1 (20-inch) - Girl's - 2018</td><td>4</td></tr>",
                            "<tr><td>Electra Koa 3i Ladies' - 2018</td><td>6</td></tr>",
                            "<tr><td>Electra Loft Go! 8i - 2018</td><td>3</td></tr>",
                            "<tr><td>Electra Morningstar 3i Ladies' - 2018</td><td>3</td></tr>",
                            "<tr><td>Electra Moto 1 - 2016</td><td>91</td></tr>",
                            "<tr><td>Electra Moto 3i (20-inch) - Boy's - 2017</td><td>20</td></tr>",
                            "<tr><td>Electra Moto 3i - 2018</td><td>3</td></tr>",
                            "<tr><td>Electra Queen of Hearts 3i - 2018</td><td>4</td></tr>",
                            "<tr><td>Electra Relic 3i - 2018</td><td>3</td></tr>",
                            "<tr><td>Electra Savannah 3i (20-inch) - Girl's - 2017</td><td>22</td></tr>",
                            "<tr><td>Electra Soft Serve 1 (16-inch) - Girl's - 2018</td><td>1</td></tr>",
                            "<tr><td>Electra Starship 1 16&quot; - 2018</td><td>3</td></tr>",
                            "<tr><td>Electra Straight 8 1 (16-inch) - Boy's - 2018</td><td>1</td></tr>",
                            "<tr><td>Electra Straight 8 1 (20-inch) - Boy's - 2018</td><td>1</td></tr>",
                            "<tr><td>Electra Straight 8 3i (20-inch) - Boy's - 2017</td><td>12</td></tr>",
                            "<tr><td>Electra Straight 8 3i - 2018</td><td>3</td></tr>",
                            "<tr><td>Electra Sugar Skulls 1 (20-inch) - Girl's - 2017</td><td>24</td></tr>",
                            "<tr><td>Electra Super Moto 8i - 2018</td><td>4</td></tr>",
                            "<tr><td>Electra Superbolt 1 20&quot; - 2018</td><td>1</td></tr>",
                            "<tr><td>Electra Superbolt 3i 20&quot; - 2018</td><td>1</td></tr>",
                            "<tr><td>Electra Sweet Ride 3i (20-inch) - Girls' - 2018</td><td>3</td></tr>",
                            "<tr><td>Electra Tiger Shark 1 (20-inch) - Boys' - 2018</td><td>4</td></tr>",
                            "<tr><td>Electra Tiger Shark 3i (20-inch) - Boys' - 2018</td><td>1</td></tr>",
                            "<tr><td>Electra Tiger Shark 3i - 2018</td><td>4</td></tr>",
                            "<tr><td>Electra Townie 3i EQ (20-inch) - Boys' - 2017</td><td>28</td></tr>",
                            "<tr><td>Electra Townie 7D (20-inch) - Boys' - 2017</td><td>26</td></tr>",
                            "<tr><td>Electra Townie Balloon 3i EQ - 2017/2018</td><td>5</td></tr>",
                            "<tr><td>Electra Townie Balloon 3i EQ Ladies' - 2018</td><td>10</td></tr>",
                            "<tr><td>Electra Townie Balloon 7i EQ - 2018</td><td>6</td></tr>",
                            "<tr><td>Electra Townie Balloon 7i EQ Ladies' - 2017/2018</td><td>6</td></tr>",
                            "<tr><td>Electra Townie Balloon 8D EQ - 2016/2017/2018</td><td>5</td></tr>",
                            "<tr><td>Electra Townie Balloon 8D EQ Ladies' - 2016/2017/2018</td><td>4</td></tr>",
                            "<tr><td>Electra Townie Commute 27D - 2018</td><td>2</td></tr>",
                            "<tr><td>Electra Townie Commute 27D Ladies - 2018</td><td>6</td></tr>",
                            "<tr><td>Electra Townie Commute 8D - 2018</td><td>4</td></tr>",
                            "<tr><td>Electra Townie Commute 8D Ladies' - 2018</td><td>6</td></tr>",
                            "<tr><td>Electra Townie Commute Go! - 2018</td><td>10</td></tr>",
                            "<tr><td>Electra Townie Commute Go! Ladies' - 2018</td><td>8</td></tr>",
                            "<tr><td>Electra Townie Go! 8i - 2017/2018</td><td>3</td></tr>",
                            "<tr><td>Electra Townie Go! 8i Ladies' - 2018</td><td>6</td></tr>",
                            "<tr><td>Electra Townie Original 1 - 2018</td><td>4</td></tr>",
                            "<tr><td>Electra Townie Original 1 Ladies' - 2018</td><td>3</td></tr>",
                            "<tr><td>Electra Townie Original 21D - 2016</td><td>193</td></tr>",
                            "<tr><td>Electra Townie Original 21D - 2018</td><td>2</td></tr>",
                            "<tr><td>Electra Townie Original 21D EQ - 2017/2018</td><td>9</td></tr>",
                            "<tr><td>Electra Townie Original 21D EQ Ladies' - 2018</td><td>5</td></tr>",
                            "<tr><td>Electra Townie Original 21D Ladies' - 2018</td><td>3</td></tr>",
                            "<tr><td>Electra Townie Original 3i EQ - 2017/2018</td><td>3</td></tr>",
                            "<tr><td>Electra Townie Original 3i EQ Ladies' - 2018</td><td>2</td></tr>",
                            "<tr><td>Electra Townie Original 7D - 2015/2016</td><td>98</td></tr>",
                            "<tr><td>Electra Townie Original 7D - 2017</td><td>45</td></tr>",
                            "<tr><td>Electra Townie Original 7D EQ - 2016</td><td>185</td></tr>",
                            "<tr><td>Electra Townie Original 7D EQ - 2018</td><td>2</td></tr>",
                            "<tr><td>Electra Townie Original 7D EQ - Women's - 2016</td><td>84</td></tr>",
                            "<tr><td>Electra Townie Original 7D EQ Ladies' - 2017/2018</td><td>5</td></tr>",
                            "<tr><td>Electra Treasure 1 20&quot; - 2018</td><td>6</td></tr>",
                            "<tr><td>Electra Treasure 3i 20&quot; - 2018</td><td>1</td></tr>",
                            "<tr><td>Electra Under-The-Sea 1 16&quot; - 2018</td><td>5</td></tr>",
                            "<tr><td>Electra Water Lily 1 (16-inch) - Girl's - 2018</td><td>3</td></tr>",
                            "<tr><td>Electra White Water 3i - 2018</td><td>4</td></tr>",
                            "<tr><td>Haro Downtown 16 - 2017</td><td>21</td></tr>",
                            "<tr><td>Haro Flightline One ST - 2017</td><td>20</td></tr>",
                            "<tr><td>Haro Flightline Two 26 Plus - 2017</td><td>18</td></tr>",
                            "<tr><td>Haro Shift R3 - 2017</td><td>24</td></tr>",
                            "<tr><td>Haro Shredder 20 - 2017</td><td>26</td></tr>",
                            "<tr><td>Haro Shredder 20 Girls - 2017</td><td>25</td></tr>",
                            "<tr><td>Haro Shredder Pro 20 - 2017</td><td>19</td></tr>",
                            "<tr><td>Haro SR 1.1 - 2017</td><td>16</td></tr>",
                            "<tr><td>Haro SR 1.2 - 2017</td><td>32</td></tr>",
                            "<tr><td>Haro SR 1.3 - 2017</td><td>19</td></tr>",
                            "<tr><td>Heller Bloodhound Trail - 2018</td><td>2</td></tr>",
                            "<tr><td>Heller Shagamaw Frame - 2016</td><td>91</td></tr>",
                            "<tr><td>Heller Shagamaw GX1 - 2018</td><td>4</td></tr>",
                            "<tr><td>Pure Cycles Vine 8-Speed - 2016</td><td>91</td></tr>",
                            "<tr><td>Pure Cycles Western 3-Speed - Women's - 2015/2016</td><td>89</td></tr>",
                            "<tr><td>Pure Cycles William 3-Speed - 2016</td><td>78</td></tr>",
                            "<tr><td>Ritchey Timberwolf Frameset - 2016</td><td>77</td></tr>",
                            "<tr><td>Strider Classic 12 Balance Bike - 2018</td><td>7</td></tr>",
                            "<tr><td>Strider Sport 16 - 2018</td><td>3</td></tr>",
                            "<tr><td>Strider Strider 20 Sport - 2018</td><td>6</td></tr>",
                            "<tr><td>Sun Bicycles Atlas X-Type - 2017</td><td>26</td></tr>",
                            "<tr><td>Sun Bicycles Biscayne Tandem 7 - 2017</td><td>22</td></tr>",
                            "<tr><td>Sun Bicycles Biscayne Tandem CB - 2017</td><td>27</td></tr>",
                            "<tr><td>Sun Bicycles Boardwalk (24-inch Wheels) - 2017</td><td>16</td></tr>",
                            "<tr><td>Sun Bicycles Brickell Tandem 7 - 2017</td><td>20</td></tr>",
                            "<tr><td>Sun Bicycles Brickell Tandem CB - 2017</td><td>14</td></tr>",
                            "<tr><td>Sun Bicycles Cruz 3 - 2017</td><td>46</td></tr>",
                            "<tr><td>Sun Bicycles Cruz 3 - Women's - 2017</td><td>21</td></tr>",
                            "<tr><td>Sun Bicycles Cruz 7 - 2017</td><td>34</td></tr>",
                            "<tr><td>Sun Bicycles Cruz 7 - Women's - 2017</td><td>20</td></tr>",
                            "<tr><td>Sun Bicycles Drifter 7 - 2017</td><td>16</td></tr>",
                            "<tr><td>Sun Bicycles Drifter 7 - Women's - 2017</td><td>18</td></tr>",
                            "<tr><td>Sun Bicycles ElectroLite - 2017</td><td>24</td></tr>",
                            "<tr><td>Sun Bicycles Lil Bolt Type-R - 2017</td><td>35</td></tr>",
                            "<tr><td>Sun Bicycles Lil Kitt'n - 2017</td><td>16</td></tr>",
                            "<tr><td>Sun Bicycles Revolutions 24 - 2017</td><td>24</td></tr>",
                            "<tr><td>Sun Bicycles Revolutions 24 - Girl's - 2017</td><td>16</td></tr>",
                            "<tr><td>Sun Bicycles Spider 3i - 2017</td><td>17</td></tr>",
                            "<tr><td>Sun Bicycles Streamway - 2017</td><td>20</td></tr>",
                            "<tr><td>Sun Bicycles Streamway 3 - 2017</td><td>28</td></tr>",
                            "<tr><td>Sun Bicycles Streamway 7 - 2017</td><td>25</td></tr>",
                            "<tr><td>Surly Big Dummy Frameset - 2017</td><td>21</td></tr>",
                            "<tr><td>Surly Big Fat Dummy Frameset - 2018</td><td>5</td></tr>",
                            "<tr><td>Surly ECR - 2018</td><td>2</td></tr>",
                            "<tr><td>Surly ECR 27.5 - 2018</td><td>5</td></tr>",
                            "<tr><td>Surly ECR Frameset - 2018</td><td>1</td></tr>",
                            "<tr><td>Surly Ice Cream Truck Frameset - 2016</td><td>110</td></tr>",
                            "<tr><td>Surly Ice Cream Truck Frameset - 2017</td><td>22</td></tr>",
                            "<tr><td>Surly Karate Monkey 27.5+ Frameset - 2017</td><td>26</td></tr>",
                            "<tr><td>Surly Krampus - 2018</td><td>7</td></tr>",
                            "<tr><td>Surly Ogre Frameset - 2017</td><td>17</td></tr>",
                            "<tr><td>Surly Pack Rat - 2018</td><td>4</td></tr>",
                            "<tr><td>Surly Pack Rat Frameset - 2018</td><td>3</td></tr>",
                            "<tr><td>Surly Steamroller - 2017</td><td>26</td></tr>",
                            "<tr><td>Surly Straggler - 2016</td><td>97</td></tr>",
                            "<tr><td>Surly Straggler - 2018</td><td>6</td></tr>",
                            "<tr><td>Surly Straggler 650b - 2016</td><td>97</td></tr>",
                            "<tr><td>Surly Straggler 650b - 2018</td><td>3</td></tr>",
                            "<tr><td>Surly Troll Frameset - 2017</td><td>29</td></tr>",
                            "<tr><td>Surly Troll Frameset - 2018</td><td>3</td></tr>",
                            "<tr><td>Surly Wednesday - 2017</td><td>13</td></tr>",
                            "<tr><td>Surly Wednesday Frameset - 2016</td><td>86</td></tr>",
                            "<tr><td>Surly Wednesday Frameset - 2017</td><td>22</td></tr>",
                            "<tr><td>Trek 1120 - 2018</td><td>2</td></tr>",
                            "<tr><td>Trek 820 - 2018</td><td>3</td></tr>",
                            "<tr><td>Trek Boone 5 Disc - 2018</td><td>2</td></tr>",
                            "<tr><td>Trek Boone 7 - 2017</td><td>25</td></tr>",
                            "<tr><td>Trek Boone 7 Disc - 2018</td><td>5</td></tr>",
                            "<tr><td>Trek Boone Race Shop Limited - 2017</td><td>21</td></tr>",
                            "<tr><td>Trek Boy's Kickster - 2015/2017</td><td>15</td></tr>",
                            "<tr><td>Trek Conduit+ - 2016</td><td>101</td></tr>",
                            "<tr><td>Trek Conduit+ - 2018</td><td>4</td></tr>",
                            "<tr><td>Trek Crockett 5 Disc - 2018</td><td>2</td></tr>",
                            "<tr><td>Trek Crockett 7 Disc - 2018</td><td>3</td></tr>",
                            "<tr><td>Trek CrossRip 1 - 2018</td><td>3</td></tr>",
                            "<tr><td>Trek CrossRip 2 - 2018</td><td>1</td></tr>",
                            "<tr><td>Trek CrossRip+ - 2018</td><td>4</td></tr>",
                            "<tr><td>Trek Domane AL 2 - 2018</td><td>2</td></tr>",
                            "<tr><td>Trek Domane AL 2 Women's - 2018</td><td>4</td></tr>",
                            "<tr><td>Trek Domane AL 3 - 2018</td><td>2</td></tr>",
                            "<tr><td>Trek Domane AL 3 Women's - 2018</td><td>5</td></tr>",
                            "<tr><td>Trek Domane ALR 3 - 2018</td><td>1</td></tr>",
                            "<tr><td>Trek Domane ALR 4 Disc - 2018</td><td>2</td></tr>",
                            "<tr><td>Trek Domane ALR 4 Disc Women's - 2018</td><td>4</td></tr>",
                            "<tr><td>Trek Domane ALR 5 Disc - 2018</td><td>4</td></tr>",
                            "<tr><td>Trek Domane ALR 5 Gravel - 2018</td><td>4</td></tr>",
                            "<tr><td>Trek Domane ALR Disc Frameset - 2018</td><td>4</td></tr>",
                            "<tr><td>Trek Domane ALR Frameset - 2018</td><td>3</td></tr>",
                            "<tr><td>Trek Domane S 5 Disc - 2017</td><td>18</td></tr>",
                            "<tr><td>Trek Domane S 6 - 2017</td><td>26</td></tr>",
                            "<tr><td>Trek Domane SL 5 - 2018</td><td>3</td></tr>",
                            "<tr><td>Trek Domane SL 5 Disc - 2018</td><td>4</td></tr>",
                            "<tr><td>Trek Domane SL 5 Disc Women's - 2018</td><td>2</td></tr>",
                            "<tr><td>Trek Domane SL 5 Women's - 2018</td><td>1</td></tr>",
                            "<tr><td>Trek Domane SL 6 - 2017</td><td>22</td></tr>",
                            "<tr><td>Trek Domane SL 6 - 2018</td><td>4</td></tr>",
                            "<tr><td>Trek Domane SL 6 Disc - 2018</td><td>4</td></tr>",
                            "<tr><td>Trek Domane SL 7 Women's - 2018</td><td>5</td></tr>",
                            "<tr><td>Trek Domane SL 8 Disc - 2018</td><td>3</td></tr>",
                            "<tr><td>Trek Domane SL Disc Frameset - 2017</td><td>17</td></tr>",
                            "<tr><td>Trek Domane SL Frameset - 2018</td><td>3</td></tr>",
                            "<tr><td>Trek Domane SL Frameset Women's - 2018</td><td>1</td></tr>",
                            "<tr><td>Trek Domane SLR 6 - 2018</td><td>2</td></tr>",
                            "<tr><td>Trek Domane SLR 6 Disc - 2017</td><td>28</td></tr>",
                            "<tr><td>Trek Domane SLR 6 Disc - 2018</td><td>1</td></tr>",
                            "<tr><td>Trek Domane SLR 8 Disc - 2018</td><td>3</td></tr>",
                            "<tr><td>Trek Domane SLR 9 Disc - 2018</td><td>3</td></tr>",
                            "<tr><td>Trek Domane SLR Disc Frameset - 2018</td><td>1</td></tr>",
                            "<tr><td>Trek Domane SLR Frameset - 2018</td><td>2</td></tr>",
                            "<tr><td>Trek Dual Sport+ - 2018</td><td>3</td></tr>",
                            "<tr><td>Trek Emonda ALR 6 - 2018</td><td>5</td></tr>",
                            "<tr><td>Trek Emonda S 4 - 2017</td><td>28</td></tr>",
                            "<tr><td>Trek Emonda S 5 - 2017</td><td>15</td></tr>",
                            "<tr><td>Trek Emonda SL 6 Disc - 2018</td><td>2</td></tr>",
                            "<tr><td>Trek Emonda SL 7 - 2018</td><td>3</td></tr>",
                            "<tr><td>Trek Emonda SLR 6 - 2018</td><td>4</td></tr>",
                            "<tr><td>Trek Emonda SLR 8 - 2018</td><td>2</td></tr>",
                            "<tr><td>Trek Farley Alloy Frameset - 2017</td><td>22</td></tr>",
                            "<tr><td>Trek Farley Carbon Frameset - 2018</td><td>6</td></tr>",
                            "<tr><td>Trek Fuel EX 5 27.5 Plus - 2017</td><td>24</td></tr>",
                            "<tr><td>Trek Fuel EX 5 Plus - 2018</td><td>3</td></tr>",
                            "<tr><td>Trek Fuel EX 7 29 - 2018</td><td>2</td></tr>",
                            "<tr><td>Trek Fuel EX 8 29 - 2016</td><td>97</td></tr>",
                            "<tr><td>Trek Fuel EX 8 29 - 2018</td><td>4</td></tr>",
                            "<tr><td>Trek Fuel EX 8 29 XT - 2018</td><td>5</td></tr>",
                            "<tr><td>Trek Fuel EX 9.8 27.5 Plus - 2017</td><td>25</td></tr>",
                            "<tr><td>Trek Fuel EX 9.8 29 - 2017</td><td>21</td></tr>",
                            "<tr><td>Trek Girl's Kickster - 2017</td><td>15</td></tr>",
                            "<tr><td>Trek Kickster - 2018</td><td>5</td></tr>",
                            "<tr><td>Trek Kids' Neko - 2018</td><td>3</td></tr>",
                            "<tr><td>Trek Lift+ - 2018</td><td>3</td></tr>",
                            "<tr><td>Trek Lift+ Lowstep - 2018</td><td>1</td></tr>",
                            "<tr><td>Trek Madone 9 Frameset - 2018</td><td>1</td></tr>",
                            "<tr><td>Trek Madone 9.2 - 2017</td><td>26</td></tr>",
                            "<tr><td>Trek Marlin 5 - 2018</td><td>6</td></tr>",
                            "<tr><td>Trek Marlin 6 - 2018</td><td>2</td></tr>",
                            "<tr><td>Trek Marlin 7 - 2017/2018</td><td>2</td></tr>",
                            "<tr><td>Trek MT 201 - 2018</td><td>1</td></tr>",
                            "<tr><td>Trek Neko+ - 2018</td><td>2</td></tr>",
                            "<tr><td>Trek Powerfly 5 - 2018</td><td>1</td></tr>",
                            "<tr><td>Trek Powerfly 5 FS - 2018</td><td>1</td></tr>",
                            "<tr><td>Trek Powerfly 5 Women's - 2018</td><td>3</td></tr>",
                            "<tr><td>Trek Powerfly 7 FS - 2018</td><td>5</td></tr>",
                            "<tr><td>Trek Powerfly 8 FS Plus - 2017</td><td>25</td></tr>",
                            "<tr><td>Trek Precaliber 12 Boy's - 2018</td><td>4</td></tr>",
                            "<tr><td>Trek Precaliber 12 Boys - 2017</td><td>19</td></tr>",
                            "<tr><td>Trek Precaliber 12 Girls - 2017</td><td>23</td></tr>",
                            "<tr><td>Trek Precaliber 16 Boy's - 2018</td><td>1</td></tr>",
                            "<tr><td>Trek Precaliber 16 Boys - 2017</td><td>18</td></tr>",
                            "<tr><td>Trek Precaliber 16 Girl's - 2018</td><td>5</td></tr>",
                            "<tr><td>Trek Precaliber 16 Girls - 2017</td><td>18</td></tr>",
                            "<tr><td>Trek Precaliber 20 6-speed Boy's - 2018</td><td>2</td></tr>",
                            "<tr><td>Trek Precaliber 20 6-speed Girl's - 2018</td><td>1</td></tr>",
                            "<tr><td>Trek Precaliber 20 Boy's - 2018</td><td>2</td></tr>",
                            "<tr><td>Trek Precaliber 20 Girl's - 2018</td><td>3</td></tr>",
                            "<tr><td>Trek Precaliber 24 (21-Speed) - Girls - 2017</td><td>28</td></tr>",
                            "<tr><td>Trek Precaliber 24 (7-Speed) - Boys - 2018</td><td>3</td></tr>",
                            "<tr><td>Trek Precaliber 24 21-speed Boy's - 2018</td><td>2</td></tr>",
                            "<tr><td>Trek Precaliber 24 21-speed Girl's - 2018</td><td>1</td></tr>",
                            "<tr><td>Trek Precaliber 24 7-speed Girl's - 2018</td><td>1</td></tr>",
                            "<tr><td>Trek Procal AL Frameset - 2018</td><td>2</td></tr>",
                            "<tr><td>Trek Procaliber 6 - 2018</td><td>3</td></tr>",
                            "<tr><td>Trek Procaliber Frameset - 2018</td><td>2</td></tr>",
                            "<tr><td>Trek Remedy 27.5 C Frameset - 2018</td><td>2</td></tr>",
                            "<tr><td>Trek Remedy 29 Carbon Frameset - 2016</td><td>85</td></tr>",
                            "<tr><td>Trek Remedy 7 27.5 - 2018</td><td>4</td></tr>",
                            "<tr><td>Trek Remedy 9.8 - 2017</td><td>14</td></tr>",
                            "<tr><td>Trek Remedy 9.8 27.5 - 2018</td><td>2</td></tr>",
                            "<tr><td>Trek Session DH 27.5 Carbon Frameset - 2017</td><td>11</td></tr>",
                            "<tr><td>Trek Silque SLR 7 Women's - 2017</td><td>20</td></tr>",
                            "<tr><td>Trek Silque SLR 8 Women's - 2017</td><td>19</td></tr>",
                            "<tr><td>Trek Slash 8 27.5 - 2016</td><td>101</td></tr>",
                            "<tr><td>Trek Stache 5 - 2017</td><td>16</td></tr>",
                            "<tr><td>Trek Stache 5 - 2018</td><td>4</td></tr>",
                            "<tr><td>Trek Stache Carbon Frameset - 2018</td><td>4</td></tr>",
                            "<tr><td>Trek Super Commuter+ 7 - 2018</td><td>5</td></tr>",
                            "<tr><td>Trek Super Commuter+ 8S - 2018</td><td>4</td></tr>",
                            "<tr><td>Trek Superfly 20 - 2018</td><td>1</td></tr>",
                            "<tr><td>Trek Superfly 24 - 2017/2018</td><td>1</td></tr>",
                            "<tr><td>Trek Ticket S Frame - 2018</td><td>4</td></tr>",
                            "<tr><td>Trek Verve+ - 2018</td><td>3</td></tr>",
                            "<tr><td>Trek Verve+ Lowstep - 2018</td><td>4</td></tr>",
                            "<tr><td>Trek X-Caliber 7 - 2018</td><td>3</td></tr>",
                            "<tr><td>Trek X-Caliber 8 - 2017</td><td>24</td></tr>",
                            "<tr><td>Trek X-Caliber 8 - 2018</td><td>2</td></tr>",
                            "<tr><td>Trek X-Caliber Frameset - 2018</td><td>3</td></tr>",
                            "<tr><td>Trek XM700+ - 2018</td><td>5</td></tr>",
                            "<tr><td>Trek XM700+ Lowstep - 2018</td><td>4</td></tr>",
                            "</table>"
                        ]
                    }
                }
            ],
            "execution_count": 117
        }
    ]
}