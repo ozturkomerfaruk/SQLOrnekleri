{
    "metadata": {
        "kernelspec": {
            "name": "SQL",
            "display_name": "SQL",
            "language": "sql"
        },
        "language_info": {
            "name": "sql",
            "version": ""
        }
    },
    "nbformat_minor": 2,
    "nbformat": 4,
    "cells": [
        {
            "cell_type": "code",
            "source": [
                "/*\r\n",
                "(10p) Soru 1: Fiyatı en yüksek 26 ürünü(products) aşağıdaki şekilde listeleyen saklı yordam kodunu yazınız.\r\n",
                "            - Ürün adı ve ürün fiyatı çıktı olarak verilmelidir.\r\n",
                "            - Ürün fiyatına göre büyükten küçüğe sıralanmalıdır.\r\n",
                "            - Parametre değeri olarak 26 kullanılacaktır. (Parametre değeri çalışmayan uygulamalar değerlendirilmeyecektir!)\r\n",
                "*/\r\n",
                "\r\n",
                "CREATE PROCEDURE getTopMostExpensiveProducts\r\n",
                "    @count INTEGER\r\n",
                "AS\r\n",
                "\r\n",
                "    SELECT TOP(@count) products.product_name, products.list_price\r\n",
                "    FROM products ORDER BY list_price DESC\r\n",
                "GO\r\n",
                "\r\n",
                "EXEC getTopMostExpensiveProducts 26\r\n",
                "\r\n",
                "/*\r\n",
                "YORUMLARINIZI YAZINIZ\r\n",
                ".\r\n",
                ".\r\n",
                ".\r\n",
                "*/"
            ],
            "metadata": {
                "azdata_cell_guid": "58bba8c6-d45b-4f52-9fc6-6ba8fbcb492f"
            },
            "outputs": [
                {
                    "output_type": "error",
                    "ename": "",
                    "evalue": "Msg 2714, Level 16, State 3, Procedure getTopMostExpensiveProducts, Line 8\r\nThere is already an object named 'getTopMostExpensiveProducts' in the database.",
                    "traceback": []
                },
                {
                    "output_type": "display_data",
                    "data": {
                        "text/html": "(26 rows affected)"
                    },
                    "metadata": {}
                },
                {
                    "output_type": "display_data",
                    "data": {
                        "text/html": "Total execution time: 00:00:00.005"
                    },
                    "metadata": {}
                },
                {
                    "output_type": "execute_result",
                    "execution_count": 2,
                    "data": {
                        "application/vnd.dataresource+json": {
                            "schema": {
                                "fields": [
                                    {
                                        "name": "product_name"
                                    },
                                    {
                                        "name": "list_price"
                                    }
                                ]
                            },
                            "data": [
                                {
                                    "0": "Trek Domane SLR 9 Disc - 2018",
                                    "1": "11999.99"
                                },
                                {
                                    "0": "Trek Domane SLR 8 Disc - 2018",
                                    "1": "7499.99"
                                },
                                {
                                    "0": "Trek Domane SL Frameset - 2018",
                                    "1": "6499.99"
                                },
                                {
                                    "0": "Trek Domane SL Frameset Women's - 2018",
                                    "1": "6499.99"
                                },
                                {
                                    "0": "Trek Emonda SLR 8 - 2018",
                                    "1": "6499.99"
                                },
                                {
                                    "0": "Trek Silque SLR 8 Women's - 2017",
                                    "1": "6499.99"
                                },
                                {
                                    "0": "Trek Silque SLR 7 Women's - 2017",
                                    "1": "5999.99"
                                },
                                {
                                    "0": "Trek Domane SLR 6 Disc - 2017",
                                    "1": "5499.99"
                                },
                                {
                                    "0": "Trek Domane SLR 6 Disc - 2018",
                                    "1": "5499.99"
                                },
                                {
                                    "0": "Trek Domane SLR 6 Disc Women's - 2018",
                                    "1": "5499.99"
                                },
                                {
                                    "0": "Trek Domane SL 8 Disc - 2018",
                                    "1": "5499.99"
                                },
                                {
                                    "0": "Trek Remedy 9.8 - 2017",
                                    "1": "5299.99"
                                },
                                {
                                    "0": "Trek Fuel EX 9.8 27.5 Plus - 2017",
                                    "1": "5299.99"
                                },
                                {
                                    "0": "Trek Fuel EX 9.8 29 - 2017",
                                    "1": "4999.99"
                                },
                                {
                                    "0": "Trek Powerfly 8 FS Plus - 2017",
                                    "1": "4999.99"
                                },
                                {
                                    "0": "Trek Madone 9.2 - 2017",
                                    "1": "4999.99"
                                },
                                {
                                    "0": "Trek Remedy 9.8 27.5 - 2018",
                                    "1": "4999.99"
                                },
                                {
                                    "0": "Trek Domane SLR 6 - 2018",
                                    "1": "4999.99"
                                },
                                {
                                    "0": "Trek Domane SL 7 Women's - 2018",
                                    "1": "4999.99"
                                },
                                {
                                    "0": "Trek Powerfly 7 FS - 2018",
                                    "1": "4999.99"
                                },
                                {
                                    "0": "Trek Super Commuter+ 8S - 2018",
                                    "1": "4999.99"
                                },
                                {
                                    "0": "Trek Powerfly 5 FS - 2018",
                                    "1": "4499.99"
                                },
                                {
                                    "0": "Trek CrossRip+ - 2018",
                                    "1": "4499.99"
                                },
                                {
                                    "0": "Trek Emonda SL 7 - 2018",
                                    "1": "4499.99"
                                },
                                {
                                    "0": "Trek Emonda SLR 6 - 2018",
                                    "1": "4499.99"
                                },
                                {
                                    "0": "Trek Boone 7 Disc - 2018",
                                    "1": "3999.99"
                                }
                            ]
                        },
                        "text/html": "<table><tr><th>product_name</th><th>list_price</th></tr><tr><td>Trek Domane SLR 9 Disc - 2018</td><td>11999.99</td></tr><tr><td>Trek Domane SLR 8 Disc - 2018</td><td>7499.99</td></tr><tr><td>Trek Domane SL Frameset - 2018</td><td>6499.99</td></tr><tr><td>Trek Domane SL Frameset Women's - 2018</td><td>6499.99</td></tr><tr><td>Trek Emonda SLR 8 - 2018</td><td>6499.99</td></tr><tr><td>Trek Silque SLR 8 Women's - 2017</td><td>6499.99</td></tr><tr><td>Trek Silque SLR 7 Women's - 2017</td><td>5999.99</td></tr><tr><td>Trek Domane SLR 6 Disc - 2017</td><td>5499.99</td></tr><tr><td>Trek Domane SLR 6 Disc - 2018</td><td>5499.99</td></tr><tr><td>Trek Domane SLR 6 Disc Women's - 2018</td><td>5499.99</td></tr><tr><td>Trek Domane SL 8 Disc - 2018</td><td>5499.99</td></tr><tr><td>Trek Remedy 9.8 - 2017</td><td>5299.99</td></tr><tr><td>Trek Fuel EX 9.8 27.5 Plus - 2017</td><td>5299.99</td></tr><tr><td>Trek Fuel EX 9.8 29 - 2017</td><td>4999.99</td></tr><tr><td>Trek Powerfly 8 FS Plus - 2017</td><td>4999.99</td></tr><tr><td>Trek Madone 9.2 - 2017</td><td>4999.99</td></tr><tr><td>Trek Remedy 9.8 27.5 - 2018</td><td>4999.99</td></tr><tr><td>Trek Domane SLR 6 - 2018</td><td>4999.99</td></tr><tr><td>Trek Domane SL 7 Women's - 2018</td><td>4999.99</td></tr><tr><td>Trek Powerfly 7 FS - 2018</td><td>4999.99</td></tr><tr><td>Trek Super Commuter+ 8S - 2018</td><td>4999.99</td></tr><tr><td>Trek Powerfly 5 FS - 2018</td><td>4499.99</td></tr><tr><td>Trek CrossRip+ - 2018</td><td>4499.99</td></tr><tr><td>Trek Emonda SL 7 - 2018</td><td>4499.99</td></tr><tr><td>Trek Emonda SLR 6 - 2018</td><td>4499.99</td></tr><tr><td>Trek Boone 7 Disc - 2018</td><td>3999.99</td></tr></table>"
                    },
                    "metadata": {}
                }
            ],
            "execution_count": 2
        },
        {
            "cell_type": "code",
            "source": [
                "/*\r\n",
                "(10p) Soru 2: Toplam indirim(discount) miktarı, 2'den fazla olan ürünleri(product) aşağıdaki şekilde listeleyen saklı yordam kodunu yazınız.\r\n",
                "            - Ürün ID ve toplam indirim bilgisi (as sumOfDiscount) çıktı olarak verilmelidir.\r\n",
                "            - Ürün ID'ye göre küçükten büyüğe sıralanmalıdır.\r\n",
                "            - Parametre değeri olarak 2 kullanılacaktır. (Parametre değeri çalışmayan uygulamalar değerlendirilmeyecektir!)\r\n",
                "*/\r\n",
                "\r\n",
                "CREATE PROCEDURE getDiscountedProducts\r\n",
                "    @discountValue INTEGER\r\n",
                "AS\r\n",
                "    SELECT oi.product_id, SUM(oi.discount) as sumOfDiscount FROM order_items as oi GROUP BY oi.product_id HAVING SUM(oi.discount) > @discountValue ORDER BY oi.product_id\r\n",
                "GO\r\n",
                "\r\n",
                "EXEC getDiscountedProducts 2\r\n",
                "\r\n",
                "/*\r\n",
                "YORUMLARINIZI YAZINIZ\r\n",
                ".\r\n",
                ".\r\n",
                ".\r\n",
                "*/"
            ],
            "metadata": {
                "azdata_cell_guid": "003599c2-8298-4edd-88d2-5bb7a1bc16f9"
            },
            "outputs": [
                {
                    "output_type": "error",
                    "ename": "",
                    "evalue": "Msg 2714, Level 16, State 3, Procedure getDiscountedProducts, Line 8\r\nThere is already an object named 'getDiscountedProducts' in the database.",
                    "traceback": []
                },
                {
                    "output_type": "display_data",
                    "data": {
                        "text/html": "(84 rows affected)"
                    },
                    "metadata": {}
                },
                {
                    "output_type": "display_data",
                    "data": {
                        "text/html": "Total execution time: 00:00:00.022"
                    },
                    "metadata": {}
                },
                {
                    "output_type": "execute_result",
                    "execution_count": 3,
                    "data": {
                        "application/vnd.dataresource+json": {
                            "schema": {
                                "fields": [
                                    {
                                        "name": "product_id"
                                    },
                                    {
                                        "name": "sumOfDiscount"
                                    }
                                ]
                            },
                            "data": [
                                {
                                    "0": "2",
                                    "1": "8.30"
                                },
                                {
                                    "0": "3",
                                    "1": "9.08"
                                },
                                {
                                    "0": "4",
                                    "1": "10.92"
                                },
                                {
                                    "0": "5",
                                    "1": "10.22"
                                },
                                {
                                    "0": "6",
                                    "1": "11.33"
                                },
                                {
                                    "0": "7",
                                    "1": "10.02"
                                },
                                {
                                    "0": "8",
                                    "1": "8.37"
                                },
                                {
                                    "0": "9",
                                    "1": "10.52"
                                },
                                {
                                    "0": "10",
                                    "1": "10.43"
                                },
                                {
                                    "0": "11",
                                    "1": "10.77"
                                },
                                {
                                    "0": "12",
                                    "1": "10.43"
                                },
                                {
                                    "0": "13",
                                    "1": "10.70"
                                },
                                {
                                    "0": "14",
                                    "1": "9.60"
                                },
                                {
                                    "0": "15",
                                    "1": "9.24"
                                },
                                {
                                    "0": "16",
                                    "1": "10.69"
                                },
                                {
                                    "0": "17",
                                    "1": "8.74"
                                },
                                {
                                    "0": "18",
                                    "1": "9.00"
                                },
                                {
                                    "0": "19",
                                    "1": "8.33"
                                },
                                {
                                    "0": "20",
                                    "1": "9.54"
                                },
                                {
                                    "0": "21",
                                    "1": "8.38"
                                },
                                {
                                    "0": "22",
                                    "1": "10.29"
                                },
                                {
                                    "0": "23",
                                    "1": "11.05"
                                },
                                {
                                    "0": "24",
                                    "1": "8.64"
                                },
                                {
                                    "0": "25",
                                    "1": "9.94"
                                },
                                {
                                    "0": "26",
                                    "1": "8.72"
                                },
                                {
                                    "0": "27",
                                    "1": "2.11"
                                },
                                {
                                    "0": "28",
                                    "1": "2.65"
                                },
                                {
                                    "0": "29",
                                    "1": "2.80"
                                },
                                {
                                    "0": "30",
                                    "1": "2.01"
                                },
                                {
                                    "0": "32",
                                    "1": "2.01"
                                },
                                {
                                    "0": "33",
                                    "1": "2.81"
                                },
                                {
                                    "0": "36",
                                    "1": "2.90"
                                },
                                {
                                    "0": "37",
                                    "1": "2.24"
                                },
                                {
                                    "0": "40",
                                    "1": "2.25"
                                },
                                {
                                    "0": "41",
                                    "1": "2.20"
                                },
                                {
                                    "0": "42",
                                    "1": "3.03"
                                },
                                {
                                    "0": "43",
                                    "1": "2.28"
                                },
                                {
                                    "0": "45",
                                    "1": "3.93"
                                },
                                {
                                    "0": "48",
                                    "1": "2.77"
                                },
                                {
                                    "0": "49",
                                    "1": "2.70"
                                },
                                {
                                    "0": "50",
                                    "1": "2.04"
                                },
                                {
                                    "0": "52",
                                    "1": "2.47"
                                },
                                {
                                    "0": "55",
                                    "1": "3.02"
                                },
                                {
                                    "0": "56",
                                    "1": "3.01"
                                },
                                {
                                    "0": "58",
                                    "1": "2.62"
                                },
                                {
                                    "0": "59",
                                    "1": "2.09"
                                },
                                {
                                    "0": "60",
                                    "1": "2.65"
                                },
                                {
                                    "0": "61",
                                    "1": "2.19"
                                },
                                {
                                    "0": "62",
                                    "1": "3.28"
                                },
                                {
                                    "0": "63",
                                    "1": "2.24"
                                },
                                {
                                    "0": "64",
                                    "1": "2.41"
                                },
                                {
                                    "0": "65",
                                    "1": "3.61"
                                },
                                {
                                    "0": "66",
                                    "1": "2.91"
                                },
                                {
                                    "0": "67",
                                    "1": "2.12"
                                },
                                {
                                    "0": "70",
                                    "1": "2.17"
                                },
                                {
                                    "0": "71",
                                    "1": "2.25"
                                },
                                {
                                    "0": "72",
                                    "1": "2.31"
                                },
                                {
                                    "0": "73",
                                    "1": "2.05"
                                },
                                {
                                    "0": "78",
                                    "1": "2.57"
                                },
                                {
                                    "0": "79",
                                    "1": "2.08"
                                },
                                {
                                    "0": "81",
                                    "1": "2.39"
                                },
                                {
                                    "0": "82",
                                    "1": "2.92"
                                },
                                {
                                    "0": "85",
                                    "1": "2.75"
                                },
                                {
                                    "0": "87",
                                    "1": "2.32"
                                },
                                {
                                    "0": "88",
                                    "1": "2.68"
                                },
                                {
                                    "0": "90",
                                    "1": "2.23"
                                },
                                {
                                    "0": "91",
                                    "1": "3.12"
                                },
                                {
                                    "0": "92",
                                    "1": "3.16"
                                },
                                {
                                    "0": "93",
                                    "1": "2.52"
                                },
                                {
                                    "0": "94",
                                    "1": "2.02"
                                },
                                {
                                    "0": "95",
                                    "1": "2.84"
                                },
                                {
                                    "0": "96",
                                    "1": "2.14"
                                },
                                {
                                    "0": "97",
                                    "1": "2.43"
                                },
                                {
                                    "0": "99",
                                    "1": "2.56"
                                },
                                {
                                    "0": "100",
                                    "1": "2.94"
                                },
                                {
                                    "0": "101",
                                    "1": "2.79"
                                },
                                {
                                    "0": "102",
                                    "1": "2.14"
                                },
                                {
                                    "0": "103",
                                    "1": "2.83"
                                },
                                {
                                    "0": "104",
                                    "1": "2.33"
                                },
                                {
                                    "0": "105",
                                    "1": "2.64"
                                },
                                {
                                    "0": "106",
                                    "1": "2.70"
                                },
                                {
                                    "0": "108",
                                    "1": "2.53"
                                },
                                {
                                    "0": "109",
                                    "1": "2.27"
                                },
                                {
                                    "0": "111",
                                    "1": "2.11"
                                }
                            ]
                        },
                        "text/html": "<table><tr><th>product_id</th><th>sumOfDiscount</th></tr><tr><td>2</td><td>8.30</td></tr><tr><td>3</td><td>9.08</td></tr><tr><td>4</td><td>10.92</td></tr><tr><td>5</td><td>10.22</td></tr><tr><td>6</td><td>11.33</td></tr><tr><td>7</td><td>10.02</td></tr><tr><td>8</td><td>8.37</td></tr><tr><td>9</td><td>10.52</td></tr><tr><td>10</td><td>10.43</td></tr><tr><td>11</td><td>10.77</td></tr><tr><td>12</td><td>10.43</td></tr><tr><td>13</td><td>10.70</td></tr><tr><td>14</td><td>9.60</td></tr><tr><td>15</td><td>9.24</td></tr><tr><td>16</td><td>10.69</td></tr><tr><td>17</td><td>8.74</td></tr><tr><td>18</td><td>9.00</td></tr><tr><td>19</td><td>8.33</td></tr><tr><td>20</td><td>9.54</td></tr><tr><td>21</td><td>8.38</td></tr><tr><td>22</td><td>10.29</td></tr><tr><td>23</td><td>11.05</td></tr><tr><td>24</td><td>8.64</td></tr><tr><td>25</td><td>9.94</td></tr><tr><td>26</td><td>8.72</td></tr><tr><td>27</td><td>2.11</td></tr><tr><td>28</td><td>2.65</td></tr><tr><td>29</td><td>2.80</td></tr><tr><td>30</td><td>2.01</td></tr><tr><td>32</td><td>2.01</td></tr><tr><td>33</td><td>2.81</td></tr><tr><td>36</td><td>2.90</td></tr><tr><td>37</td><td>2.24</td></tr><tr><td>40</td><td>2.25</td></tr><tr><td>41</td><td>2.20</td></tr><tr><td>42</td><td>3.03</td></tr><tr><td>43</td><td>2.28</td></tr><tr><td>45</td><td>3.93</td></tr><tr><td>48</td><td>2.77</td></tr><tr><td>49</td><td>2.70</td></tr><tr><td>50</td><td>2.04</td></tr><tr><td>52</td><td>2.47</td></tr><tr><td>55</td><td>3.02</td></tr><tr><td>56</td><td>3.01</td></tr><tr><td>58</td><td>2.62</td></tr><tr><td>59</td><td>2.09</td></tr><tr><td>60</td><td>2.65</td></tr><tr><td>61</td><td>2.19</td></tr><tr><td>62</td><td>3.28</td></tr><tr><td>63</td><td>2.24</td></tr><tr><td>64</td><td>2.41</td></tr><tr><td>65</td><td>3.61</td></tr><tr><td>66</td><td>2.91</td></tr><tr><td>67</td><td>2.12</td></tr><tr><td>70</td><td>2.17</td></tr><tr><td>71</td><td>2.25</td></tr><tr><td>72</td><td>2.31</td></tr><tr><td>73</td><td>2.05</td></tr><tr><td>78</td><td>2.57</td></tr><tr><td>79</td><td>2.08</td></tr><tr><td>81</td><td>2.39</td></tr><tr><td>82</td><td>2.92</td></tr><tr><td>85</td><td>2.75</td></tr><tr><td>87</td><td>2.32</td></tr><tr><td>88</td><td>2.68</td></tr><tr><td>90</td><td>2.23</td></tr><tr><td>91</td><td>3.12</td></tr><tr><td>92</td><td>3.16</td></tr><tr><td>93</td><td>2.52</td></tr><tr><td>94</td><td>2.02</td></tr><tr><td>95</td><td>2.84</td></tr><tr><td>96</td><td>2.14</td></tr><tr><td>97</td><td>2.43</td></tr><tr><td>99</td><td>2.56</td></tr><tr><td>100</td><td>2.94</td></tr><tr><td>101</td><td>2.79</td></tr><tr><td>102</td><td>2.14</td></tr><tr><td>103</td><td>2.83</td></tr><tr><td>104</td><td>2.33</td></tr><tr><td>105</td><td>2.64</td></tr><tr><td>106</td><td>2.70</td></tr><tr><td>108</td><td>2.53</td></tr><tr><td>109</td><td>2.27</td></tr><tr><td>111</td><td>2.11</td></tr></table>"
                    },
                    "metadata": {}
                }
            ],
            "execution_count": 3
        },
        {
            "cell_type": "code",
            "source": [
                "/*\r\n",
                "(10p) Soru 3: Aldığı sipariş(orders) sayısı, 100'den fazla olan personelleri(staff) aşağıdaki şekilde listeleyen saklı yordam kodunu yazınız.\r\n",
                "            - Personel ID ve sipariş sayısı(as countOfOrder) çıktı olarak verilmelidir.\r\n",
                "            - Satılan toplam ürün sayısına göre büyükten küçüğe sıralanmalıdır.\r\n",
                "            - Uygun JOIN yöntemleri kullanılmalıdır.\r\n",
                "            - Parametre değeri olarak 100 kullanılacaktır. (Parametre değeri çalışmayan uygulamalar değerlendirilmeyecektir!)\r\n",
                "*/\r\n",
                "\r\n",
                "CREATE PROCEDURE getOrderCountofStaff\r\n",
                "    @orderCount INTEGER\r\n",
                "AS\r\n",
                "    SELECT s.staff_id, count(*) as countOfOrder FROM staffs as s INNER JOIN orders as o ON o.staff_id=s.staff_id GROUP BY s.staff_id HAVING count(*) > @orderCount ORDER BY countOfOrder DESC\r\n",
                "GO\r\n",
                "\r\n",
                "EXEC getOrderCountofStaff 100\r\n",
                "\r\n",
                "/*\r\n",
                "YORUMLARINIZI YAZINIZ\r\n",
                ".\r\n",
                ".\r\n",
                ".\r\n",
                "*/"
            ],
            "metadata": {
                "azdata_cell_guid": "a6161525-d210-4c0e-a6ca-b67658df5803"
            },
            "outputs": [
                {
                    "output_type": "error",
                    "ename": "",
                    "evalue": "Msg 2714, Level 16, State 3, Procedure getOrderCountofStaff, Line 9\r\nThere is already an object named 'getOrderCountofStaff' in the database.",
                    "traceback": []
                },
                {
                    "output_type": "display_data",
                    "data": {
                        "text/html": "(4 rows affected)"
                    },
                    "metadata": {}
                },
                {
                    "output_type": "display_data",
                    "data": {
                        "text/html": "Total execution time: 00:00:00.132"
                    },
                    "metadata": {}
                },
                {
                    "output_type": "execute_result",
                    "execution_count": 4,
                    "data": {
                        "application/vnd.dataresource+json": {
                            "schema": {
                                "fields": [
                                    {
                                        "name": "staff_id"
                                    },
                                    {
                                        "name": "countOfOrder"
                                    }
                                ]
                            },
                            "data": [
                                {
                                    "0": "6",
                                    "1": "553"
                                },
                                {
                                    "0": "7",
                                    "1": "540"
                                },
                                {
                                    "0": "3",
                                    "1": "184"
                                },
                                {
                                    "0": "2",
                                    "1": "164"
                                }
                            ]
                        },
                        "text/html": "<table><tr><th>staff_id</th><th>countOfOrder</th></tr><tr><td>6</td><td>553</td></tr><tr><td>7</td><td>540</td></tr><tr><td>3</td><td>184</td></tr><tr><td>2</td><td>164</td></tr></table>"
                    },
                    "metadata": {}
                }
            ],
            "execution_count": 4
        },
        {
            "cell_type": "code",
            "source": [
                "/*\r\n",
                "(10p) Soru 4: Toplam stok sayısı(quantity), 25'ten fazla olan ürünleri(product) aşağıdaki şekilde listeleyen saklı yordam kodunu yazınız.\r\n",
                "            - Ürün ID, ürün adı, marka ID, model yılı ve stok sayısı(as sumOfQuantity) çıktı olarak verilmelidir.\r\n",
                "            - Ürün adına göre küçükten büyüğe sıralanmalıdır.\r\n",
                "            - Uygun JOIN yöntemleri kullanılmalıdır.\r\n",
                "            - Parametre değeri olarak 25 kullanılacaktır. (Parametre değeri çalışmayan uygulamalar değerlendirilmeyecektir!)\r\n",
                "*/\r\n",
                "\r\n",
                "CREATE PROCEDURE getQuantityofProducts\r\n",
                "    @quantityValue INTEGER\r\n",
                "AS\r\n",
                "    SELECT p.product_id, p.product_name, p.brand_id, p.model_year, t.sumOfQuantity FROM products as p INNER JOIN ( SELECT st.product_id, SUM(st.quantity) as sumOfQuantity\r\n",
                "    FROM stocks as st GROUP BY st.product_id HAVING SUM(st.quantity) > @quantityValue ) as t ON p.product_id=t.product_id ORDER BY p.product_name, p.model_year\r\n",
                "GO\r\n",
                "\r\n",
                "EXEC getQuantityofProducts 25\r\n",
                "\r\n",
                "/*\r\n",
                "YORUMLARINIZI YAZINIZ\r\n",
                ".\r\n",
                ".\r\n",
                ".\r\n",
                "*/"
            ],
            "metadata": {
                "azdata_cell_guid": "ffeb6265-4980-4e4e-87ed-0279f8fc8cf6"
            },
            "outputs": [
                {
                    "output_type": "error",
                    "ename": "",
                    "evalue": "Msg 2714, Level 16, State 3, Procedure getQuantityofProducts, Line 9\r\nThere is already an object named 'getQuantityofProducts' in the database.",
                    "traceback": []
                },
                {
                    "output_type": "display_data",
                    "data": {
                        "text/html": "(269 rows affected)"
                    },
                    "metadata": {}
                },
                {
                    "output_type": "display_data",
                    "data": {
                        "text/html": "Total execution time: 00:00:00.030"
                    },
                    "metadata": {}
                },
                {
                    "output_type": "execute_result",
                    "execution_count": 5,
                    "data": {
                        "application/vnd.dataresource+json": {
                            "schema": {
                                "fields": [
                                    {
                                        "name": "product_id"
                                    },
                                    {
                                        "name": "product_name"
                                    },
                                    {
                                        "name": "brand_id"
                                    },
                                    {
                                        "name": "model_year"
                                    },
                                    {
                                        "name": "sumOfQuantity"
                                    }
                                ]
                            },
                            "data": [
                                {
                                    "0": "257",
                                    "1": "Electra Amsterdam Fashion 3i Ladies' - 2017/2018",
                                    "2": "1",
                                    "3": "2018",
                                    "4": "47"
                                },
                                {
                                    "0": "81",
                                    "1": "Electra Amsterdam Fashion 7i Ladies' - 2017",
                                    "2": "1",
                                    "3": "2017",
                                    "4": "62"
                                },
                                {
                                    "0": "258",
                                    "1": "Electra Amsterdam Royal 8i - 2017/2018",
                                    "2": "1",
                                    "3": "2018",
                                    "4": "45"
                                },
                                {
                                    "0": "259",
                                    "1": "Electra Amsterdam Royal 8i Ladies - 2018",
                                    "2": "1",
                                    "3": "2018",
                                    "4": "26"
                                },
                                {
                                    "0": "21",
                                    "1": "Electra Cruiser 1 (24-Inch) - 2016",
                                    "2": "1",
                                    "3": "2016",
                                    "4": "48"
                                },
                                {
                                    "0": "13",
                                    "1": "Electra Cruiser 1 (24-Inch) - 2016",
                                    "2": "1",
                                    "3": "2016",
                                    "4": "33"
                                },
                                {
                                    "0": "213",
                                    "1": "Electra Cruiser 1 - 2016/2017/2018",
                                    "2": "1",
                                    "3": "2018",
                                    "4": "34"
                                },
                                {
                                    "0": "222",
                                    "1": "Electra Cruiser 1 Tall - 2016/2018",
                                    "2": "1",
                                    "3": "2018",
                                    "4": "54"
                                },
                                {
                                    "0": "227",
                                    "1": "Electra Cruiser 7D (24-Inch) Ladies' - 2016/2018",
                                    "2": "1",
                                    "3": "2018",
                                    "4": "53"
                                },
                                {
                                    "0": "218",
                                    "1": "Electra Cruiser 7D - 2016/2017/2018",
                                    "2": "1",
                                    "3": "2018",
                                    "4": "74"
                                },
                                {
                                    "0": "221",
                                    "1": "Electra Cruiser 7D Ladies' - 2016/2018",
                                    "2": "1",
                                    "3": "2018",
                                    "4": "44"
                                },
                                {
                                    "0": "228",
                                    "1": "Electra Cruiser 7D Tall - 2016/2018",
                                    "2": "1",
                                    "3": "2018",
                                    "4": "58"
                                },
                                {
                                    "0": "229",
                                    "1": "Electra Cruiser Lux 1 - 2016/2018",
                                    "2": "1",
                                    "3": "2018",
                                    "4": "63"
                                },
                                {
                                    "0": "74",
                                    "1": "Electra Cruiser Lux 1 - 2017",
                                    "2": "1",
                                    "3": "2017",
                                    "4": "49"
                                },
                                {
                                    "0": "230",
                                    "1": "Electra Cruiser Lux 1 Ladies' - 2018",
                                    "2": "1",
                                    "3": "2018",
                                    "4": "61"
                                },
                                {
                                    "0": "223",
                                    "1": "Electra Cruiser Lux 3i - 2018",
                                    "2": "1",
                                    "3": "2018",
                                    "4": "39"
                                },
                                {
                                    "0": "231",
                                    "1": "Electra Cruiser Lux 3i Ladies' - 2018",
                                    "2": "1",
                                    "3": "2018",
                                    "4": "39"
                                },
                                {
                                    "0": "224",
                                    "1": "Electra Cruiser Lux 7D - 2018",
                                    "2": "1",
                                    "3": "2018",
                                    "4": "43"
                                },
                                {
                                    "0": "232",
                                    "1": "Electra Cruiser Lux 7D Ladies' - 2018",
                                    "2": "1",
                                    "3": "2018",
                                    "4": "32"
                                },
                                {
                                    "0": "75",
                                    "1": "Electra Cruiser Lux Fat Tire 1 Ladies - 2017",
                                    "2": "1",
                                    "3": "2017",
                                    "4": "63"
                                },
                                {
                                    "0": "233",
                                    "1": "Electra Cruiser Lux Fat Tire 7D - 2018",
                                    "2": "1",
                                    "3": "2018",
                                    "4": "39"
                                },
                                {
                                    "0": "282",
                                    "1": "Electra Cyclosaurus 1 (16-inch) - Boy's - 2018",
                                    "2": "1",
                                    "3": "2018",
                                    "4": "32"
                                },
                                {
                                    "0": "234",
                                    "1": "Electra Daydreamer 3i Ladies' - 2018",
                                    "2": "1",
                                    "3": "2018",
                                    "4": "49"
                                },
                                {
                                    "0": "225",
                                    "1": "Electra Delivery 3i - 2016/2017/2018",
                                    "2": "1",
                                    "3": "2018",
                                    "4": "47"
                                },
                                {
                                    "0": "14",
                                    "1": "Electra Girl's Hawaii 1 (16-inch) - 2015/2016",
                                    "2": "1",
                                    "3": "2016",
                                    "4": "30"
                                },
                                {
                                    "0": "22",
                                    "1": "Electra Girl's Hawaii 1 (16-inch) - 2015/2016",
                                    "2": "1",
                                    "3": "2016",
                                    "4": "49"
                                },
                                {
                                    "0": "23",
                                    "1": "Electra Girl's Hawaii 1 (20-inch) - 2015/2016",
                                    "2": "1",
                                    "3": "2016",
                                    "4": "29"
                                },
                                {
                                    "0": "76",
                                    "1": "Electra Girl's Hawaii 1 16\" - 2017",
                                    "2": "1",
                                    "3": "2017",
                                    "4": "58"
                                },
                                {
                                    "0": "95",
                                    "1": "Electra Girl's Hawaii 1 16\" - 2017",
                                    "2": "1",
                                    "3": "2017",
                                    "4": "49"
                                },
                                {
                                    "0": "77",
                                    "1": "Electra Glam Punk 3i Ladies' - 2017",
                                    "2": "1",
                                    "3": "2017",
                                    "4": "64"
                                },
                                {
                                    "0": "283",
                                    "1": "Electra Heartchya 1 (20-inch) - Girl's - 2018",
                                    "2": "1",
                                    "3": "2018",
                                    "4": "39"
                                },
                                {
                                    "0": "191",
                                    "1": "Electra Loft Go! 8i - 2018",
                                    "2": "1",
                                    "3": "2018",
                                    "4": "59"
                                },
                                {
                                    "0": "236",
                                    "1": "Electra Morningstar 3i Ladies' - 2018",
                                    "2": "1",
                                    "3": "2018",
                                    "4": "28"
                                },
                                {
                                    "0": "15",
                                    "1": "Electra Moto 1 - 2016",
                                    "2": "1",
                                    "3": "2016",
                                    "4": "31"
                                },
                                {
                                    "0": "96",
                                    "1": "Electra Moto 3i (20-inch) - Boy's - 2017",
                                    "2": "1",
                                    "3": "2017",
                                    "4": "43"
                                },
                                {
                                    "0": "219",
                                    "1": "Electra Moto 3i - 2018",
                                    "2": "1",
                                    "3": "2018",
                                    "4": "75"
                                },
                                {
                                    "0": "237",
                                    "1": "Electra Relic 3i - 2018",
                                    "2": "1",
                                    "3": "2018",
                                    "4": "72"
                                },
                                {
                                    "0": "284",
                                    "1": "Electra Savannah 1 (20-inch) - Girl's - 2018",
                                    "2": "1",
                                    "3": "2018",
                                    "4": "59"
                                },
                                {
                                    "0": "97",
                                    "1": "Electra Savannah 3i (20-inch) - Girl's - 2017",
                                    "2": "1",
                                    "3": "2017",
                                    "4": "63"
                                },
                                {
                                    "0": "285",
                                    "1": "Electra Soft Serve 1 (16-inch) - Girl's - 2018",
                                    "2": "1",
                                    "3": "2018",
                                    "4": "44"
                                },
                                {
                                    "0": "286",
                                    "1": "Electra Starship 1 16\" - 2018",
                                    "2": "1",
                                    "3": "2018",
                                    "4": "38"
                                },
                                {
                                    "0": "287",
                                    "1": "Electra Straight 8 1 (16-inch) - Boy's - 2018",
                                    "2": "1",
                                    "3": "2018",
                                    "4": "43"
                                },
                                {
                                    "0": "98",
                                    "1": "Electra Straight 8 3i (20-inch) - Boy's - 2017",
                                    "2": "1",
                                    "3": "2017",
                                    "4": "47"
                                },
                                {
                                    "0": "217",
                                    "1": "Electra Straight 8 3i - 2018",
                                    "2": "1",
                                    "3": "2018",
                                    "4": "37"
                                },
                                {
                                    "0": "99",
                                    "1": "Electra Sugar Skulls 1 (20-inch) - Girl's - 2017",
                                    "2": "1",
                                    "3": "2017",
                                    "4": "71"
                                },
                                {
                                    "0": "216",
                                    "1": "Electra Super Moto 8i - 2018",
                                    "2": "1",
                                    "3": "2018",
                                    "4": "35"
                                },
                                {
                                    "0": "290",
                                    "1": "Electra Superbolt 3i 20\" - 2018",
                                    "2": "1",
                                    "3": "2018",
                                    "4": "43"
                                },
                                {
                                    "0": "291",
                                    "1": "Electra Sweet Ride 1 (20-inch) - Girl's - 2018",
                                    "2": "1",
                                    "3": "2018",
                                    "4": "41"
                                },
                                {
                                    "0": "292",
                                    "1": "Electra Sweet Ride 3i (20-inch) - Girls' - 2018",
                                    "2": "1",
                                    "3": "2018",
                                    "4": "68"
                                },
                                {
                                    "0": "293",
                                    "1": "Electra Tiger Shark 1 (20-inch) - Boys' - 2018",
                                    "2": "1",
                                    "3": "2018",
                                    "4": "44"
                                },
                                {
                                    "0": "214",
                                    "1": "Electra Tiger Shark 3i - 2018",
                                    "2": "1",
                                    "3": "2018",
                                    "4": "41"
                                },
                                {
                                    "0": "100",
                                    "1": "Electra Townie 3i EQ (20-inch) - Boys' - 2017",
                                    "2": "1",
                                    "3": "2017",
                                    "4": "55"
                                },
                                {
                                    "0": "101",
                                    "1": "Electra Townie 7D (20-inch) - Boys' - 2017",
                                    "2": "1",
                                    "3": "2017",
                                    "4": "38"
                                },
                                {
                                    "0": "254",
                                    "1": "Electra Townie Balloon 3i EQ - 2017/2018",
                                    "2": "1",
                                    "3": "2018",
                                    "4": "35"
                                },
                                {
                                    "0": "305",
                                    "1": "Electra Townie Balloon 3i EQ - 2017/2018",
                                    "2": "1",
                                    "3": "2018",
                                    "4": "55"
                                },
                                {
                                    "0": "260",
                                    "1": "Electra Townie Balloon 3i EQ Ladies' - 2018",
                                    "2": "1",
                                    "3": "2018",
                                    "4": "45"
                                },
                                {
                                    "0": "261",
                                    "1": "Electra Townie Balloon 7i EQ - 2018",
                                    "2": "1",
                                    "3": "2018",
                                    "4": "31"
                                },
                                {
                                    "0": "301",
                                    "1": "Electra Townie Balloon 7i EQ - 2018",
                                    "2": "1",
                                    "3": "2018",
                                    "4": "65"
                                },
                                {
                                    "0": "306",
                                    "1": "Electra Townie Balloon 7i EQ Ladies' - 2017/2018",
                                    "2": "1",
                                    "3": "2018",
                                    "4": "45"
                                },
                                {
                                    "0": "255",
                                    "1": "Electra Townie Balloon 7i EQ Ladies' - 2017/2018",
                                    "2": "1",
                                    "3": "2018",
                                    "4": "42"
                                },
                                {
                                    "0": "307",
                                    "1": "Electra Townie Balloon 8D EQ - 2016/2017/2018",
                                    "2": "1",
                                    "3": "2018",
                                    "4": "52"
                                },
                                {
                                    "0": "238",
                                    "1": "Electra Townie Balloon 8D EQ - 2016/2017/2018",
                                    "2": "1",
                                    "3": "2018",
                                    "4": "38"
                                },
                                {
                                    "0": "239",
                                    "1": "Electra Townie Balloon 8D EQ Ladies' - 2016/2017/2018",
                                    "2": "1",
                                    "3": "2018",
                                    "4": "74"
                                },
                                {
                                    "0": "308",
                                    "1": "Electra Townie Balloon 8D EQ Ladies' - 2016/2017/2018",
                                    "2": "1",
                                    "3": "2018",
                                    "4": "47"
                                },
                                {
                                    "0": "309",
                                    "1": "Electra Townie Commute 27D - 2018",
                                    "2": "1",
                                    "3": "2018",
                                    "4": "46"
                                },
                                {
                                    "0": "256",
                                    "1": "Electra Townie Commute 27D - 2018",
                                    "2": "1",
                                    "3": "2018",
                                    "4": "29"
                                },
                                {
                                    "0": "310",
                                    "1": "Electra Townie Commute 27D Ladies - 2018",
                                    "2": "1",
                                    "3": "2018",
                                    "4": "31"
                                },
                                {
                                    "0": "240",
                                    "1": "Electra Townie Commute 27D Ladies - 2018",
                                    "2": "1",
                                    "3": "2018",
                                    "4": "62"
                                },
                                {
                                    "0": "241",
                                    "1": "Electra Townie Commute 8D - 2018",
                                    "2": "1",
                                    "3": "2018",
                                    "4": "49"
                                },
                                {
                                    "0": "311",
                                    "1": "Electra Townie Commute 8D - 2018",
                                    "2": "1",
                                    "3": "2018",
                                    "4": "70"
                                },
                                {
                                    "0": "312",
                                    "1": "Electra Townie Commute 8D Ladies' - 2018",
                                    "2": "1",
                                    "3": "2018",
                                    "4": "43"
                                },
                                {
                                    "0": "198",
                                    "1": "Electra Townie Commute Go! - 2018",
                                    "2": "1",
                                    "3": "2018",
                                    "4": "28"
                                },
                                {
                                    "0": "252",
                                    "1": "Electra Townie Commute Go! Ladies' - 2018",
                                    "2": "1",
                                    "3": "2018",
                                    "4": "75"
                                },
                                {
                                    "0": "250",
                                    "1": "Electra Townie Go! 8i - 2017/2018",
                                    "2": "1",
                                    "3": "2018",
                                    "4": "42"
                                },
                                {
                                    "0": "192",
                                    "1": "Electra Townie Go! 8i - 2017/2018",
                                    "2": "1",
                                    "3": "2018",
                                    "4": "30"
                                },
                                {
                                    "0": "303",
                                    "1": "Electra Townie Go! 8i - 2017/2018",
                                    "2": "1",
                                    "3": "2018",
                                    "4": "48"
                                },
                                {
                                    "0": "195",
                                    "1": "Electra Townie Go! 8i Ladies' - 2018",
                                    "2": "1",
                                    "3": "2018",
                                    "4": "40"
                                },
                                {
                                    "0": "253",
                                    "1": "Electra Townie Go! 8i Ladies' - 2018",
                                    "2": "1",
                                    "3": "2018",
                                    "4": "60"
                                },
                                {
                                    "0": "313",
                                    "1": "Electra Townie Original 1 Ladies' - 2018",
                                    "2": "1",
                                    "3": "2018",
                                    "4": "38"
                                },
                                {
                                    "0": "12",
                                    "1": "Electra Townie Original 21D - 2016",
                                    "2": "1",
                                    "3": "2016",
                                    "4": "48"
                                },
                                {
                                    "0": "24",
                                    "1": "Electra Townie Original 21D - 2016",
                                    "2": "1",
                                    "3": "2016",
                                    "4": "44"
                                },
                                {
                                    "0": "299",
                                    "1": "Electra Townie Original 21D - 2018",
                                    "2": "1",
                                    "3": "2018",
                                    "4": "47"
                                },
                                {
                                    "0": "212",
                                    "1": "Electra Townie Original 21D - 2018",
                                    "2": "1",
                                    "3": "2018",
                                    "4": "62"
                                },
                                {
                                    "0": "226",
                                    "1": "Electra Townie Original 21D EQ - 2017/2018",
                                    "2": "1",
                                    "3": "2018",
                                    "4": "37"
                                },
                                {
                                    "0": "304",
                                    "1": "Electra Townie Original 21D EQ - 2017/2018",
                                    "2": "1",
                                    "3": "2018",
                                    "4": "44"
                                },
                                {
                                    "0": "243",
                                    "1": "Electra Townie Original 21D EQ Ladies' - 2018",
                                    "2": "1",
                                    "3": "2018",
                                    "4": "36"
                                },
                                {
                                    "0": "245",
                                    "1": "Electra Townie Original 3i EQ - 2017/2018",
                                    "2": "1",
                                    "3": "2018",
                                    "4": "31"
                                },
                                {
                                    "0": "25",
                                    "1": "Electra Townie Original 7D - 2015/2016",
                                    "2": "1",
                                    "3": "2016",
                                    "4": "43"
                                },
                                {
                                    "0": "64",
                                    "1": "Electra Townie Original 7D - 2017",
                                    "2": "1",
                                    "3": "2017",
                                    "4": "82"
                                },
                                {
                                    "0": "102",
                                    "1": "Electra Townie Original 7D - 2017",
                                    "2": "1",
                                    "3": "2017",
                                    "4": "43"
                                },
                                {
                                    "0": "26",
                                    "1": "Electra Townie Original 7D EQ - 2016",
                                    "2": "1",
                                    "3": "2016",
                                    "4": "45"
                                },
                                {
                                    "0": "16",
                                    "1": "Electra Townie Original 7D EQ - 2016",
                                    "2": "1",
                                    "3": "2016",
                                    "4": "43"
                                },
                                {
                                    "0": "247",
                                    "1": "Electra Townie Original 7D EQ - 2018",
                                    "2": "1",
                                    "3": "2018",
                                    "4": "34"
                                },
                                {
                                    "0": "20",
                                    "1": "Electra Townie Original 7D EQ - Women's - 2016",
                                    "2": "1",
                                    "3": "2016",
                                    "4": "65"
                                },
                                {
                                    "0": "248",
                                    "1": "Electra Townie Original 7D EQ Ladies' - 2017/2018",
                                    "2": "1",
                                    "3": "2018",
                                    "4": "51"
                                },
                                {
                                    "0": "295",
                                    "1": "Electra Treasure 1 20\" - 2018",
                                    "2": "1",
                                    "3": "2018",
                                    "4": "48"
                                },
                                {
                                    "0": "296",
                                    "1": "Electra Treasure 3i 20\" - 2018",
                                    "2": "1",
                                    "3": "2018",
                                    "4": "29"
                                },
                                {
                                    "0": "297",
                                    "1": "Electra Under-The-Sea 1 16\" - 2018",
                                    "2": "1",
                                    "3": "2018",
                                    "4": "51"
                                },
                                {
                                    "0": "298",
                                    "1": "Electra Water Lily 1 (16-inch) - Girl's - 2018",
                                    "2": "1",
                                    "3": "2018",
                                    "4": "67"
                                },
                                {
                                    "0": "249",
                                    "1": "Electra White Water 3i - 2018",
                                    "2": "1",
                                    "3": "2018",
                                    "4": "43"
                                },
                                {
                                    "0": "85",
                                    "1": "Haro Downtown 16 - 2017",
                                    "2": "2",
                                    "3": "2017",
                                    "4": "44"
                                },
                                {
                                    "0": "37",
                                    "1": "Haro Flightline One ST - 2017",
                                    "2": "2",
                                    "3": "2017",
                                    "4": "47"
                                },
                                {
                                    "0": "38",
                                    "1": "Haro Flightline Two 26 Plus - 2017",
                                    "2": "2",
                                    "3": "2017",
                                    "4": "54"
                                },
                                {
                                    "0": "41",
                                    "1": "Haro Shift R3 - 2017",
                                    "2": "2",
                                    "3": "2017",
                                    "4": "41"
                                },
                                {
                                    "0": "92",
                                    "1": "Haro Shredder 20 - 2017",
                                    "2": "2",
                                    "3": "2017",
                                    "4": "50"
                                },
                                {
                                    "0": "93",
                                    "1": "Haro Shredder 20 Girls - 2017",
                                    "2": "2",
                                    "3": "2017",
                                    "4": "62"
                                },
                                {
                                    "0": "44",
                                    "1": "Haro SR 1.1 - 2017",
                                    "2": "2",
                                    "3": "2017",
                                    "4": "51"
                                },
                                {
                                    "0": "45",
                                    "1": "Haro SR 1.2 - 2017",
                                    "2": "2",
                                    "3": "2017",
                                    "4": "29"
                                },
                                {
                                    "0": "46",
                                    "1": "Haro SR 1.3 - 2017",
                                    "2": "2",
                                    "3": "2017",
                                    "4": "53"
                                },
                                {
                                    "0": "131",
                                    "1": "Heller Bloodhound Trail - 2018",
                                    "2": "3",
                                    "3": "2018",
                                    "4": "52"
                                },
                                {
                                    "0": "5",
                                    "1": "Heller Shagamaw Frame - 2016",
                                    "2": "3",
                                    "3": "2016",
                                    "4": "26"
                                },
                                {
                                    "0": "137",
                                    "1": "Heller Shagamaw GX1 - 2018",
                                    "2": "3",
                                    "3": "2018",
                                    "4": "30"
                                },
                                {
                                    "0": "17",
                                    "1": "Pure Cycles Vine 8-Speed - 2016",
                                    "2": "4",
                                    "3": "2016",
                                    "4": "27"
                                },
                                {
                                    "0": "18",
                                    "1": "Pure Cycles Western 3-Speed - Women's - 2015/2016",
                                    "2": "4",
                                    "3": "2016",
                                    "4": "34"
                                },
                                {
                                    "0": "19",
                                    "1": "Pure Cycles William 3-Speed - 2016",
                                    "2": "4",
                                    "3": "2016",
                                    "4": "43"
                                },
                                {
                                    "0": "2",
                                    "1": "Ritchey Timberwolf Frameset - 2016",
                                    "2": "5",
                                    "3": "2016",
                                    "4": "45"
                                },
                                {
                                    "0": "263",
                                    "1": "Strider Classic 12 Balance Bike - 2018",
                                    "2": "6",
                                    "3": "2018",
                                    "4": "46"
                                },
                                {
                                    "0": "264",
                                    "1": "Strider Sport 16 - 2018",
                                    "2": "6",
                                    "3": "2018",
                                    "4": "36"
                                },
                                {
                                    "0": "265",
                                    "1": "Strider Strider 20 Sport - 2018",
                                    "2": "6",
                                    "3": "2018",
                                    "4": "54"
                                },
                                {
                                    "0": "71",
                                    "1": "Sun Bicycles Atlas X-Type - 2017",
                                    "2": "7",
                                    "3": "2017",
                                    "4": "68"
                                },
                                {
                                    "0": "78",
                                    "1": "Sun Bicycles Biscayne Tandem CB - 2017",
                                    "2": "7",
                                    "3": "2017",
                                    "4": "36"
                                },
                                {
                                    "0": "79",
                                    "1": "Sun Bicycles Boardwalk (24-inch Wheels) - 2017",
                                    "2": "7",
                                    "3": "2017",
                                    "4": "71"
                                },
                                {
                                    "0": "73",
                                    "1": "Sun Bicycles Brickell Tandem 7 - 2017",
                                    "2": "7",
                                    "3": "2017",
                                    "4": "30"
                                },
                                {
                                    "0": "80",
                                    "1": "Sun Bicycles Brickell Tandem CB - 2017",
                                    "2": "7",
                                    "3": "2017",
                                    "4": "60"
                                },
                                {
                                    "0": "68",
                                    "1": "Sun Bicycles Cruz 3 - 2017",
                                    "2": "7",
                                    "3": "2017",
                                    "4": "71"
                                },
                                {
                                    "0": "106",
                                    "1": "Sun Bicycles Cruz 3 - 2017",
                                    "2": "7",
                                    "3": "2017",
                                    "4": "38"
                                },
                                {
                                    "0": "108",
                                    "1": "Sun Bicycles Cruz 3 - Women's - 2017",
                                    "2": "7",
                                    "3": "2017",
                                    "4": "67"
                                },
                                {
                                    "0": "107",
                                    "1": "Sun Bicycles Cruz 7 - 2017",
                                    "2": "7",
                                    "3": "2017",
                                    "4": "60"
                                },
                                {
                                    "0": "69",
                                    "1": "Sun Bicycles Cruz 7 - 2017",
                                    "2": "7",
                                    "3": "2017",
                                    "4": "55"
                                },
                                {
                                    "0": "109",
                                    "1": "Sun Bicycles Cruz 7 - Women's - 2017",
                                    "2": "7",
                                    "3": "2017",
                                    "4": "79"
                                },
                                {
                                    "0": "111",
                                    "1": "Sun Bicycles Drifter 7 - Women's - 2017",
                                    "2": "7",
                                    "3": "2017",
                                    "4": "46"
                                },
                                {
                                    "0": "60",
                                    "1": "Sun Bicycles ElectroLite - 2017",
                                    "2": "7",
                                    "3": "2017",
                                    "4": "27"
                                },
                                {
                                    "0": "65",
                                    "1": "Sun Bicycles Lil Bolt Type-R - 2017",
                                    "2": "7",
                                    "3": "2017",
                                    "4": "27"
                                },
                                {
                                    "0": "84",
                                    "1": "Sun Bicycles Lil Kitt'n - 2017",
                                    "2": "7",
                                    "3": "2017",
                                    "4": "48"
                                },
                                {
                                    "0": "66",
                                    "1": "Sun Bicycles Revolutions 24 - 2017",
                                    "2": "7",
                                    "3": "2017",
                                    "4": "37"
                                },
                                {
                                    "0": "67",
                                    "1": "Sun Bicycles Revolutions 24 - Girl's - 2017",
                                    "2": "7",
                                    "3": "2017",
                                    "4": "33"
                                },
                                {
                                    "0": "35",
                                    "1": "Sun Bicycles Spider 3i - 2017",
                                    "2": "7",
                                    "3": "2017",
                                    "4": "46"
                                },
                                {
                                    "0": "104",
                                    "1": "Sun Bicycles Streamway - 2017",
                                    "2": "7",
                                    "3": "2017",
                                    "4": "73"
                                },
                                {
                                    "0": "27",
                                    "1": "Surly Big Dummy Frameset - 2017",
                                    "2": "8",
                                    "3": "2017",
                                    "4": "52"
                                },
                                {
                                    "0": "126",
                                    "1": "Surly Big Fat Dummy Frameset - 2018",
                                    "2": "8",
                                    "3": "2018",
                                    "4": "46"
                                },
                                {
                                    "0": "161",
                                    "1": "Surly ECR - 2018",
                                    "2": "8",
                                    "3": "2018",
                                    "4": "37"
                                },
                                {
                                    "0": "128",
                                    "1": "Surly ECR 27.5 - 2018",
                                    "2": "8",
                                    "3": "2018",
                                    "4": "59"
                                },
                                {
                                    "0": "167",
                                    "1": "Surly ECR Frameset - 2018",
                                    "2": "8",
                                    "3": "2018",
                                    "4": "37"
                                },
                                {
                                    "0": "6",
                                    "1": "Surly Ice Cream Truck Frameset - 2016",
                                    "2": "8",
                                    "3": "2016",
                                    "4": "38"
                                },
                                {
                                    "0": "30",
                                    "1": "Surly Ice Cream Truck Frameset - 2017",
                                    "2": "8",
                                    "3": "2017",
                                    "4": "70"
                                },
                                {
                                    "0": "28",
                                    "1": "Surly Karate Monkey 27.5+ Frameset - 2017",
                                    "2": "8",
                                    "3": "2017",
                                    "4": "65"
                                },
                                {
                                    "0": "124",
                                    "1": "Surly Krampus - 2018",
                                    "2": "8",
                                    "3": "2018",
                                    "4": "38"
                                },
                                {
                                    "0": "121",
                                    "1": "Surly Krampus Frameset - 2018",
                                    "2": "8",
                                    "3": "2018",
                                    "4": "26"
                                },
                                {
                                    "0": "53",
                                    "1": "Surly Ogre Frameset - 2017",
                                    "2": "8",
                                    "3": "2017",
                                    "4": "42"
                                },
                                {
                                    "0": "163",
                                    "1": "Surly Pack Rat - 2018",
                                    "2": "8",
                                    "3": "2018",
                                    "4": "41"
                                },
                                {
                                    "0": "127",
                                    "1": "Surly Pack Rat Frameset - 2018",
                                    "2": "8",
                                    "3": "2018",
                                    "4": "28"
                                },
                                {
                                    "0": "52",
                                    "1": "Surly Steamroller - 2017",
                                    "2": "8",
                                    "3": "2017",
                                    "4": "49"
                                },
                                {
                                    "0": "10",
                                    "1": "Surly Straggler - 2016",
                                    "2": "8",
                                    "3": "2016",
                                    "4": "49"
                                },
                                {
                                    "0": "168",
                                    "1": "Surly Straggler - 2018",
                                    "2": "8",
                                    "3": "2018",
                                    "4": "52"
                                },
                                {
                                    "0": "210",
                                    "1": "Surly Straggler - 2018",
                                    "2": "8",
                                    "3": "2018",
                                    "4": "57"
                                },
                                {
                                    "0": "11",
                                    "1": "Surly Straggler 650b - 2016",
                                    "2": "8",
                                    "3": "2016",
                                    "4": "59"
                                },
                                {
                                    "0": "164",
                                    "1": "Surly Straggler 650b - 2018",
                                    "2": "8",
                                    "3": "2018",
                                    "4": "42"
                                },
                                {
                                    "0": "36",
                                    "1": "Surly Troll Frameset - 2017",
                                    "2": "8",
                                    "3": "2017",
                                    "4": "69"
                                },
                                {
                                    "0": "122",
                                    "1": "Surly Troll Frameset - 2018",
                                    "2": "8",
                                    "3": "2018",
                                    "4": "41"
                                },
                                {
                                    "0": "3",
                                    "1": "Surly Wednesday Frameset - 2016",
                                    "2": "8",
                                    "3": "2016",
                                    "4": "34"
                                },
                                {
                                    "0": "33",
                                    "1": "Surly Wednesday Frameset - 2017",
                                    "2": "8",
                                    "3": "2017",
                                    "4": "32"
                                },
                                {
                                    "0": "165",
                                    "1": "Trek 1120 - 2018",
                                    "2": "9",
                                    "3": "2018",
                                    "4": "41"
                                },
                                {
                                    "0": "1",
                                    "1": "Trek 820 - 2016",
                                    "2": "9",
                                    "3": "2016",
                                    "4": "55"
                                },
                                {
                                    "0": "112",
                                    "1": "Trek 820 - 2018",
                                    "2": "9",
                                    "3": "2018",
                                    "4": "42"
                                },
                                {
                                    "0": "206",
                                    "1": "Trek Boone 5 Disc - 2018",
                                    "2": "9",
                                    "3": "2018",
                                    "4": "48"
                                },
                                {
                                    "0": "62",
                                    "1": "Trek Boone 7 - 2017",
                                    "2": "9",
                                    "3": "2017",
                                    "4": "29"
                                },
                                {
                                    "0": "207",
                                    "1": "Trek Boone 7 Disc - 2018",
                                    "2": "9",
                                    "3": "2018",
                                    "4": "64"
                                },
                                {
                                    "0": "83",
                                    "1": "Trek Boy's Kickster - 2015/2017",
                                    "2": "9",
                                    "3": "2017",
                                    "4": "57"
                                },
                                {
                                    "0": "9",
                                    "1": "Trek Conduit+ - 2016",
                                    "2": "9",
                                    "3": "2016",
                                    "4": "51"
                                },
                                {
                                    "0": "208",
                                    "1": "Trek Crockett 5 Disc - 2018",
                                    "2": "9",
                                    "3": "2018",
                                    "4": "37"
                                },
                                {
                                    "0": "209",
                                    "1": "Trek Crockett 7 Disc - 2018",
                                    "2": "9",
                                    "3": "2018",
                                    "4": "34"
                                },
                                {
                                    "0": "158",
                                    "1": "Trek CrossRip 1 - 2018",
                                    "2": "9",
                                    "3": "2018",
                                    "4": "28"
                                },
                                {
                                    "0": "170",
                                    "1": "Trek CrossRip 2 - 2018",
                                    "2": "9",
                                    "3": "2018",
                                    "4": "29"
                                },
                                {
                                    "0": "186",
                                    "1": "Trek CrossRip+ - 2018",
                                    "2": "9",
                                    "3": "2018",
                                    "4": "47"
                                },
                                {
                                    "0": "178",
                                    "1": "Trek Domane AL 2 - 2018",
                                    "2": "9",
                                    "3": "2018",
                                    "4": "36"
                                },
                                {
                                    "0": "166",
                                    "1": "Trek Domane AL 2 Women's - 2018",
                                    "2": "9",
                                    "3": "2018",
                                    "4": "77"
                                },
                                {
                                    "0": "179",
                                    "1": "Trek Domane AL 3 - 2018",
                                    "2": "9",
                                    "3": "2018",
                                    "4": "52"
                                },
                                {
                                    "0": "143",
                                    "1": "Trek Domane ALR 3 - 2018",
                                    "2": "9",
                                    "3": "2018",
                                    "4": "40"
                                },
                                {
                                    "0": "151",
                                    "1": "Trek Domane ALR 4 Disc Women's - 2018",
                                    "2": "9",
                                    "3": "2018",
                                    "4": "27"
                                },
                                {
                                    "0": "145",
                                    "1": "Trek Domane ALR 5 Disc - 2018",
                                    "2": "9",
                                    "3": "2018",
                                    "4": "39"
                                },
                                {
                                    "0": "172",
                                    "1": "Trek Domane ALR Disc Frameset - 2018",
                                    "2": "9",
                                    "3": "2018",
                                    "4": "41"
                                },
                                {
                                    "0": "173",
                                    "1": "Trek Domane ALR Frameset - 2018",
                                    "2": "9",
                                    "3": "2018",
                                    "4": "34"
                                },
                                {
                                    "0": "59",
                                    "1": "Trek Domane S 5 Disc - 2017",
                                    "2": "9",
                                    "3": "2017",
                                    "4": "39"
                                },
                                {
                                    "0": "181",
                                    "1": "Trek Domane SL 5 - 2018",
                                    "2": "9",
                                    "3": "2018",
                                    "4": "56"
                                },
                                {
                                    "0": "182",
                                    "1": "Trek Domane SL 5 Disc - 2018",
                                    "2": "9",
                                    "3": "2018",
                                    "4": "77"
                                },
                                {
                                    "0": "152",
                                    "1": "Trek Domane SL 5 Disc Women's - 2018",
                                    "2": "9",
                                    "3": "2018",
                                    "4": "34"
                                },
                                {
                                    "0": "183",
                                    "1": "Trek Domane SL 5 Women's - 2018",
                                    "2": "9",
                                    "3": "2018",
                                    "4": "63"
                                },
                                {
                                    "0": "171",
                                    "1": "Trek Domane SL 6 - 2018",
                                    "2": "9",
                                    "3": "2018",
                                    "4": "42"
                                },
                                {
                                    "0": "153",
                                    "1": "Trek Domane SL 7 Women's - 2018",
                                    "2": "9",
                                    "3": "2018",
                                    "4": "53"
                                },
                                {
                                    "0": "148",
                                    "1": "Trek Domane SL 8 Disc - 2018",
                                    "2": "9",
                                    "3": "2018",
                                    "4": "39"
                                },
                                {
                                    "0": "54",
                                    "1": "Trek Domane SL Disc Frameset - 2017",
                                    "2": "9",
                                    "3": "2017",
                                    "4": "30"
                                },
                                {
                                    "0": "156",
                                    "1": "Trek Domane SL Frameset - 2018",
                                    "2": "9",
                                    "3": "2018",
                                    "4": "35"
                                },
                                {
                                    "0": "157",
                                    "1": "Trek Domane SL Frameset Women's - 2018",
                                    "2": "9",
                                    "3": "2018",
                                    "4": "65"
                                },
                                {
                                    "0": "56",
                                    "1": "Trek Domane SLR 6 Disc - 2017",
                                    "2": "9",
                                    "3": "2017",
                                    "4": "54"
                                },
                                {
                                    "0": "177",
                                    "1": "Trek Domane SLR 6 Disc - 2018",
                                    "2": "9",
                                    "3": "2018",
                                    "4": "30"
                                },
                                {
                                    "0": "154",
                                    "1": "Trek Domane SLR 6 Disc Women's - 2018",
                                    "2": "9",
                                    "3": "2018",
                                    "4": "44"
                                },
                                {
                                    "0": "155",
                                    "1": "Trek Domane SLR 9 Disc - 2018",
                                    "2": "9",
                                    "3": "2018",
                                    "4": "54"
                                },
                                {
                                    "0": "174",
                                    "1": "Trek Domane SLR Disc Frameset - 2018",
                                    "2": "9",
                                    "3": "2018",
                                    "4": "35"
                                },
                                {
                                    "0": "190",
                                    "1": "Trek Dual Sport+ - 2018",
                                    "2": "9",
                                    "3": "2018",
                                    "4": "59"
                                },
                                {
                                    "0": "159",
                                    "1": "Trek Emonda ALR 6 - 2018",
                                    "2": "9",
                                    "3": "2018",
                                    "4": "54"
                                },
                                {
                                    "0": "48",
                                    "1": "Trek Emonda S 4 - 2017",
                                    "2": "9",
                                    "3": "2017",
                                    "4": "27"
                                },
                                {
                                    "0": "57",
                                    "1": "Trek Emonda S 5 - 2017",
                                    "2": "9",
                                    "3": "2017",
                                    "4": "37"
                                },
                                {
                                    "0": "162",
                                    "1": "Trek Emonda SL 6 Disc - 2018",
                                    "2": "9",
                                    "3": "2018",
                                    "4": "43"
                                },
                                {
                                    "0": "150",
                                    "1": "Trek Emonda SL 7 - 2018",
                                    "2": "9",
                                    "3": "2018",
                                    "4": "50"
                                },
                                {
                                    "0": "160",
                                    "1": "Trek Emonda SLR 6 - 2018",
                                    "2": "9",
                                    "3": "2018",
                                    "4": "31"
                                },
                                {
                                    "0": "169",
                                    "1": "Trek Emonda SLR 8 - 2018",
                                    "2": "9",
                                    "3": "2018",
                                    "4": "29"
                                },
                                {
                                    "0": "32",
                                    "1": "Trek Farley Alloy Frameset - 2017",
                                    "2": "9",
                                    "3": "2017",
                                    "4": "27"
                                },
                                {
                                    "0": "123",
                                    "1": "Trek Farley Carbon Frameset - 2018",
                                    "2": "9",
                                    "3": "2018",
                                    "4": "41"
                                },
                                {
                                    "0": "138",
                                    "1": "Trek Fuel EX 5 Plus - 2018",
                                    "2": "9",
                                    "3": "2018",
                                    "4": "39"
                                },
                                {
                                    "0": "120",
                                    "1": "Trek Fuel EX 7 29 - 2018",
                                    "2": "9",
                                    "3": "2018",
                                    "4": "64"
                                },
                                {
                                    "0": "4",
                                    "1": "Trek Fuel EX 8 29 - 2016",
                                    "2": "9",
                                    "3": "2016",
                                    "4": "36"
                                },
                                {
                                    "0": "115",
                                    "1": "Trek Fuel EX 8 29 - 2018",
                                    "2": "9",
                                    "3": "2018",
                                    "4": "54"
                                },
                                {
                                    "0": "142",
                                    "1": "Trek Fuel EX 8 29 XT - 2018",
                                    "2": "9",
                                    "3": "2018",
                                    "4": "75"
                                },
                                {
                                    "0": "43",
                                    "1": "Trek Fuel EX 9.8 27.5 Plus - 2017",
                                    "2": "9",
                                    "3": "2017",
                                    "4": "30"
                                },
                                {
                                    "0": "40",
                                    "1": "Trek Fuel EX 9.8 29 - 2017",
                                    "2": "9",
                                    "3": "2017",
                                    "4": "41"
                                },
                                {
                                    "0": "86",
                                    "1": "Trek Girl's Kickster - 2017",
                                    "2": "9",
                                    "3": "2017",
                                    "4": "70"
                                },
                                {
                                    "0": "268",
                                    "1": "Trek Kickster - 2018",
                                    "2": "9",
                                    "3": "2018",
                                    "4": "43"
                                },
                                {
                                    "0": "125",
                                    "1": "Trek Kids' Dual Sport - 2018",
                                    "2": "9",
                                    "3": "2018",
                                    "4": "34"
                                },
                                {
                                    "0": "119",
                                    "1": "Trek Kids' Neko - 2018",
                                    "2": "9",
                                    "3": "2018",
                                    "4": "69"
                                },
                                {
                                    "0": "193",
                                    "1": "Trek Lift+ - 2018",
                                    "2": "9",
                                    "3": "2018",
                                    "4": "56"
                                },
                                {
                                    "0": "189",
                                    "1": "Trek Lift+ Lowstep - 2018",
                                    "2": "9",
                                    "3": "2018",
                                    "4": "39"
                                },
                                {
                                    "0": "176",
                                    "1": "Trek Madone 9 Frameset - 2018",
                                    "2": "9",
                                    "3": "2018",
                                    "4": "43"
                                },
                                {
                                    "0": "58",
                                    "1": "Trek Madone 9.2 - 2017",
                                    "2": "9",
                                    "3": "2017",
                                    "4": "43"
                                },
                                {
                                    "0": "113",
                                    "1": "Trek Marlin 5 - 2018",
                                    "2": "9",
                                    "3": "2018",
                                    "4": "54"
                                },
                                {
                                    "0": "114",
                                    "1": "Trek Marlin 6 - 2018",
                                    "2": "9",
                                    "3": "2018",
                                    "4": "27"
                                },
                                {
                                    "0": "116",
                                    "1": "Trek Marlin 7 - 2017/2018",
                                    "2": "9",
                                    "3": "2018",
                                    "4": "71"
                                },
                                {
                                    "0": "262",
                                    "1": "Trek MT 201 - 2018",
                                    "2": "9",
                                    "3": "2018",
                                    "4": "43"
                                },
                                {
                                    "0": "187",
                                    "1": "Trek Neko+ - 2018",
                                    "2": "9",
                                    "3": "2018",
                                    "4": "28"
                                },
                                {
                                    "0": "200",
                                    "1": "Trek Powerfly 5 - 2018",
                                    "2": "9",
                                    "3": "2018",
                                    "4": "67"
                                },
                                {
                                    "0": "201",
                                    "1": "Trek Powerfly 5 FS - 2018",
                                    "2": "9",
                                    "3": "2018",
                                    "4": "70"
                                },
                                {
                                    "0": "61",
                                    "1": "Trek Powerfly 8 FS Plus - 2017",
                                    "2": "9",
                                    "3": "2017",
                                    "4": "78"
                                },
                                {
                                    "0": "269",
                                    "1": "Trek Precaliber 12 Boy's - 2018",
                                    "2": "9",
                                    "3": "2018",
                                    "4": "52"
                                },
                                {
                                    "0": "87",
                                    "1": "Trek Precaliber 12 Boys - 2017",
                                    "2": "9",
                                    "3": "2017",
                                    "4": "57"
                                },
                                {
                                    "0": "267",
                                    "1": "Trek Precaliber 12 Girl's - 2018",
                                    "2": "9",
                                    "3": "2018",
                                    "4": "60"
                                },
                                {
                                    "0": "88",
                                    "1": "Trek Precaliber 12 Girls - 2017",
                                    "2": "9",
                                    "3": "2017",
                                    "4": "43"
                                },
                                {
                                    "0": "270",
                                    "1": "Trek Precaliber 16 Boy's - 2018",
                                    "2": "9",
                                    "3": "2018",
                                    "4": "37"
                                },
                                {
                                    "0": "89",
                                    "1": "Trek Precaliber 16 Boys - 2017",
                                    "2": "9",
                                    "3": "2017",
                                    "4": "39"
                                },
                                {
                                    "0": "271",
                                    "1": "Trek Precaliber 16 Girl's - 2018",
                                    "2": "9",
                                    "3": "2018",
                                    "4": "55"
                                },
                                {
                                    "0": "90",
                                    "1": "Trek Precaliber 16 Girls - 2017",
                                    "2": "9",
                                    "3": "2017",
                                    "4": "39"
                                },
                                {
                                    "0": "272",
                                    "1": "Trek Precaliber 20 6-speed Boy's - 2018",
                                    "2": "9",
                                    "3": "2018",
                                    "4": "27"
                                },
                                {
                                    "0": "273",
                                    "1": "Trek Precaliber 20 6-speed Girl's - 2018",
                                    "2": "9",
                                    "3": "2018",
                                    "4": "67"
                                },
                                {
                                    "0": "274",
                                    "1": "Trek Precaliber 20 Boy's - 2018",
                                    "2": "9",
                                    "3": "2018",
                                    "4": "41"
                                },
                                {
                                    "0": "275",
                                    "1": "Trek Precaliber 20 Girl's - 2018",
                                    "2": "9",
                                    "3": "2018",
                                    "4": "54"
                                },
                                {
                                    "0": "276",
                                    "1": "Trek Precaliber 24 (7-Speed) - Boys - 2018",
                                    "2": "9",
                                    "3": "2018",
                                    "4": "30"
                                },
                                {
                                    "0": "277",
                                    "1": "Trek Precaliber 24 21-speed Boy's - 2018",
                                    "2": "9",
                                    "3": "2018",
                                    "4": "43"
                                },
                                {
                                    "0": "278",
                                    "1": "Trek Precaliber 24 21-speed Girl's - 2018",
                                    "2": "9",
                                    "3": "2018",
                                    "4": "40"
                                },
                                {
                                    "0": "279",
                                    "1": "Trek Precaliber 24 7-speed Girl's - 2018",
                                    "2": "9",
                                    "3": "2018",
                                    "4": "50"
                                },
                                {
                                    "0": "133",
                                    "1": "Trek Procaliber Frameset - 2018",
                                    "2": "9",
                                    "3": "2018",
                                    "4": "53"
                                },
                                {
                                    "0": "134",
                                    "1": "Trek Remedy 27.5 C Frameset - 2018",
                                    "2": "9",
                                    "3": "2018",
                                    "4": "56"
                                },
                                {
                                    "0": "139",
                                    "1": "Trek Remedy 7 27.5 - 2018",
                                    "2": "9",
                                    "3": "2018",
                                    "4": "62"
                                },
                                {
                                    "0": "47",
                                    "1": "Trek Remedy 9.8 - 2017",
                                    "2": "9",
                                    "3": "2017",
                                    "4": "35"
                                },
                                {
                                    "0": "34",
                                    "1": "Trek Session DH 27.5 Carbon Frameset - 2017",
                                    "2": "9",
                                    "3": "2017",
                                    "4": "32"
                                },
                                {
                                    "0": "50",
                                    "1": "Trek Silque SLR 7 Women's - 2017",
                                    "2": "9",
                                    "3": "2017",
                                    "4": "61"
                                },
                                {
                                    "0": "7",
                                    "1": "Trek Slash 8 27.5 - 2016",
                                    "2": "9",
                                    "3": "2016",
                                    "4": "28"
                                },
                                {
                                    "0": "39",
                                    "1": "Trek Stache 5 - 2017",
                                    "2": "9",
                                    "3": "2017",
                                    "4": "52"
                                },
                                {
                                    "0": "141",
                                    "1": "Trek Stache 5 - 2018",
                                    "2": "9",
                                    "3": "2018",
                                    "4": "53"
                                },
                                {
                                    "0": "130",
                                    "1": "Trek Stache Carbon Frameset - 2018",
                                    "2": "9",
                                    "3": "2018",
                                    "4": "59"
                                },
                                {
                                    "0": "204",
                                    "1": "Trek Super Commuter+ 7 - 2018",
                                    "2": "9",
                                    "3": "2018",
                                    "4": "64"
                                },
                                {
                                    "0": "266",
                                    "1": "Trek Superfly 20 - 2018",
                                    "2": "9",
                                    "3": "2018",
                                    "4": "37"
                                },
                                {
                                    "0": "280",
                                    "1": "Trek Superfly 24 - 2017/2018",
                                    "2": "9",
                                    "3": "2018",
                                    "4": "35"
                                },
                                {
                                    "0": "117",
                                    "1": "Trek Ticket S Frame - 2018",
                                    "2": "9",
                                    "3": "2018",
                                    "4": "56"
                                },
                                {
                                    "0": "196",
                                    "1": "Trek Verve+ - 2018",
                                    "2": "9",
                                    "3": "2018",
                                    "4": "79"
                                },
                                {
                                    "0": "197",
                                    "1": "Trek Verve+ Lowstep - 2018",
                                    "2": "9",
                                    "3": "2018",
                                    "4": "40"
                                },
                                {
                                    "0": "129",
                                    "1": "Trek X-Caliber 7 - 2018",
                                    "2": "9",
                                    "3": "2018",
                                    "4": "52"
                                },
                                {
                                    "0": "29",
                                    "1": "Trek X-Caliber 8 - 2017",
                                    "2": "9",
                                    "3": "2017",
                                    "4": "53"
                                },
                                {
                                    "0": "118",
                                    "1": "Trek X-Caliber 8 - 2018",
                                    "2": "9",
                                    "3": "2018",
                                    "4": "46"
                                },
                                {
                                    "0": "135",
                                    "1": "Trek X-Caliber Frameset - 2018",
                                    "2": "9",
                                    "3": "2018",
                                    "4": "60"
                                },
                                {
                                    "0": "194",
                                    "1": "Trek XM700+ - 2018",
                                    "2": "9",
                                    "3": "2018",
                                    "4": "59"
                                },
                                {
                                    "0": "188",
                                    "1": "Trek XM700+ Lowstep - 2018",
                                    "2": "9",
                                    "3": "2018",
                                    "4": "86"
                                }
                            ]
                        },
                        "text/html": "<table><tr><th>product_id</th><th>product_name</th><th>brand_id</th><th>model_year</th><th>sumOfQuantity</th></tr><tr><td>257</td><td>Electra Amsterdam Fashion 3i Ladies' - 2017/2018</td><td>1</td><td>2018</td><td>47</td></tr><tr><td>81</td><td>Electra Amsterdam Fashion 7i Ladies' - 2017</td><td>1</td><td>2017</td><td>62</td></tr><tr><td>258</td><td>Electra Amsterdam Royal 8i - 2017/2018</td><td>1</td><td>2018</td><td>45</td></tr><tr><td>259</td><td>Electra Amsterdam Royal 8i Ladies - 2018</td><td>1</td><td>2018</td><td>26</td></tr><tr><td>21</td><td>Electra Cruiser 1 (24-Inch) - 2016</td><td>1</td><td>2016</td><td>48</td></tr><tr><td>13</td><td>Electra Cruiser 1 (24-Inch) - 2016</td><td>1</td><td>2016</td><td>33</td></tr><tr><td>213</td><td>Electra Cruiser 1 - 2016/2017/2018</td><td>1</td><td>2018</td><td>34</td></tr><tr><td>222</td><td>Electra Cruiser 1 Tall - 2016/2018</td><td>1</td><td>2018</td><td>54</td></tr><tr><td>227</td><td>Electra Cruiser 7D (24-Inch) Ladies' - 2016/2018</td><td>1</td><td>2018</td><td>53</td></tr><tr><td>218</td><td>Electra Cruiser 7D - 2016/2017/2018</td><td>1</td><td>2018</td><td>74</td></tr><tr><td>221</td><td>Electra Cruiser 7D Ladies' - 2016/2018</td><td>1</td><td>2018</td><td>44</td></tr><tr><td>228</td><td>Electra Cruiser 7D Tall - 2016/2018</td><td>1</td><td>2018</td><td>58</td></tr><tr><td>229</td><td>Electra Cruiser Lux 1 - 2016/2018</td><td>1</td><td>2018</td><td>63</td></tr><tr><td>74</td><td>Electra Cruiser Lux 1 - 2017</td><td>1</td><td>2017</td><td>49</td></tr><tr><td>230</td><td>Electra Cruiser Lux 1 Ladies' - 2018</td><td>1</td><td>2018</td><td>61</td></tr><tr><td>223</td><td>Electra Cruiser Lux 3i - 2018</td><td>1</td><td>2018</td><td>39</td></tr><tr><td>231</td><td>Electra Cruiser Lux 3i Ladies' - 2018</td><td>1</td><td>2018</td><td>39</td></tr><tr><td>224</td><td>Electra Cruiser Lux 7D - 2018</td><td>1</td><td>2018</td><td>43</td></tr><tr><td>232</td><td>Electra Cruiser Lux 7D Ladies' - 2018</td><td>1</td><td>2018</td><td>32</td></tr><tr><td>75</td><td>Electra Cruiser Lux Fat Tire 1 Ladies - 2017</td><td>1</td><td>2017</td><td>63</td></tr><tr><td>233</td><td>Electra Cruiser Lux Fat Tire 7D - 2018</td><td>1</td><td>2018</td><td>39</td></tr><tr><td>282</td><td>Electra Cyclosaurus 1 (16-inch) - Boy's - 2018</td><td>1</td><td>2018</td><td>32</td></tr><tr><td>234</td><td>Electra Daydreamer 3i Ladies' - 2018</td><td>1</td><td>2018</td><td>49</td></tr><tr><td>225</td><td>Electra Delivery 3i - 2016/2017/2018</td><td>1</td><td>2018</td><td>47</td></tr><tr><td>14</td><td>Electra Girl's Hawaii 1 (16-inch) - 2015/2016</td><td>1</td><td>2016</td><td>30</td></tr><tr><td>22</td><td>Electra Girl's Hawaii 1 (16-inch) - 2015/2016</td><td>1</td><td>2016</td><td>49</td></tr><tr><td>23</td><td>Electra Girl's Hawaii 1 (20-inch) - 2015/2016</td><td>1</td><td>2016</td><td>29</td></tr><tr><td>76</td><td>Electra Girl's Hawaii 1 16&quot; - 2017</td><td>1</td><td>2017</td><td>58</td></tr><tr><td>95</td><td>Electra Girl's Hawaii 1 16&quot; - 2017</td><td>1</td><td>2017</td><td>49</td></tr><tr><td>77</td><td>Electra Glam Punk 3i Ladies' - 2017</td><td>1</td><td>2017</td><td>64</td></tr><tr><td>283</td><td>Electra Heartchya 1 (20-inch) - Girl's - 2018</td><td>1</td><td>2018</td><td>39</td></tr><tr><td>191</td><td>Electra Loft Go! 8i - 2018</td><td>1</td><td>2018</td><td>59</td></tr><tr><td>236</td><td>Electra Morningstar 3i Ladies' - 2018</td><td>1</td><td>2018</td><td>28</td></tr><tr><td>15</td><td>Electra Moto 1 - 2016</td><td>1</td><td>2016</td><td>31</td></tr><tr><td>96</td><td>Electra Moto 3i (20-inch) - Boy's - 2017</td><td>1</td><td>2017</td><td>43</td></tr><tr><td>219</td><td>Electra Moto 3i - 2018</td><td>1</td><td>2018</td><td>75</td></tr><tr><td>237</td><td>Electra Relic 3i - 2018</td><td>1</td><td>2018</td><td>72</td></tr><tr><td>284</td><td>Electra Savannah 1 (20-inch) - Girl's - 2018</td><td>1</td><td>2018</td><td>59</td></tr><tr><td>97</td><td>Electra Savannah 3i (20-inch) - Girl's - 2017</td><td>1</td><td>2017</td><td>63</td></tr><tr><td>285</td><td>Electra Soft Serve 1 (16-inch) - Girl's - 2018</td><td>1</td><td>2018</td><td>44</td></tr><tr><td>286</td><td>Electra Starship 1 16&quot; - 2018</td><td>1</td><td>2018</td><td>38</td></tr><tr><td>287</td><td>Electra Straight 8 1 (16-inch) - Boy's - 2018</td><td>1</td><td>2018</td><td>43</td></tr><tr><td>98</td><td>Electra Straight 8 3i (20-inch) - Boy's - 2017</td><td>1</td><td>2017</td><td>47</td></tr><tr><td>217</td><td>Electra Straight 8 3i - 2018</td><td>1</td><td>2018</td><td>37</td></tr><tr><td>99</td><td>Electra Sugar Skulls 1 (20-inch) - Girl's - 2017</td><td>1</td><td>2017</td><td>71</td></tr><tr><td>216</td><td>Electra Super Moto 8i - 2018</td><td>1</td><td>2018</td><td>35</td></tr><tr><td>290</td><td>Electra Superbolt 3i 20&quot; - 2018</td><td>1</td><td>2018</td><td>43</td></tr><tr><td>291</td><td>Electra Sweet Ride 1 (20-inch) - Girl's - 2018</td><td>1</td><td>2018</td><td>41</td></tr><tr><td>292</td><td>Electra Sweet Ride 3i (20-inch) - Girls' - 2018</td><td>1</td><td>2018</td><td>68</td></tr><tr><td>293</td><td>Electra Tiger Shark 1 (20-inch) - Boys' - 2018</td><td>1</td><td>2018</td><td>44</td></tr><tr><td>214</td><td>Electra Tiger Shark 3i - 2018</td><td>1</td><td>2018</td><td>41</td></tr><tr><td>100</td><td>Electra Townie 3i EQ (20-inch) - Boys' - 2017</td><td>1</td><td>2017</td><td>55</td></tr><tr><td>101</td><td>Electra Townie 7D (20-inch) - Boys' - 2017</td><td>1</td><td>2017</td><td>38</td></tr><tr><td>254</td><td>Electra Townie Balloon 3i EQ - 2017/2018</td><td>1</td><td>2018</td><td>35</td></tr><tr><td>305</td><td>Electra Townie Balloon 3i EQ - 2017/2018</td><td>1</td><td>2018</td><td>55</td></tr><tr><td>260</td><td>Electra Townie Balloon 3i EQ Ladies' - 2018</td><td>1</td><td>2018</td><td>45</td></tr><tr><td>261</td><td>Electra Townie Balloon 7i EQ - 2018</td><td>1</td><td>2018</td><td>31</td></tr><tr><td>301</td><td>Electra Townie Balloon 7i EQ - 2018</td><td>1</td><td>2018</td><td>65</td></tr><tr><td>306</td><td>Electra Townie Balloon 7i EQ Ladies' - 2017/2018</td><td>1</td><td>2018</td><td>45</td></tr><tr><td>255</td><td>Electra Townie Balloon 7i EQ Ladies' - 2017/2018</td><td>1</td><td>2018</td><td>42</td></tr><tr><td>307</td><td>Electra Townie Balloon 8D EQ - 2016/2017/2018</td><td>1</td><td>2018</td><td>52</td></tr><tr><td>238</td><td>Electra Townie Balloon 8D EQ - 2016/2017/2018</td><td>1</td><td>2018</td><td>38</td></tr><tr><td>239</td><td>Electra Townie Balloon 8D EQ Ladies' - 2016/2017/2018</td><td>1</td><td>2018</td><td>74</td></tr><tr><td>308</td><td>Electra Townie Balloon 8D EQ Ladies' - 2016/2017/2018</td><td>1</td><td>2018</td><td>47</td></tr><tr><td>309</td><td>Electra Townie Commute 27D - 2018</td><td>1</td><td>2018</td><td>46</td></tr><tr><td>256</td><td>Electra Townie Commute 27D - 2018</td><td>1</td><td>2018</td><td>29</td></tr><tr><td>310</td><td>Electra Townie Commute 27D Ladies - 2018</td><td>1</td><td>2018</td><td>31</td></tr><tr><td>240</td><td>Electra Townie Commute 27D Ladies - 2018</td><td>1</td><td>2018</td><td>62</td></tr><tr><td>241</td><td>Electra Townie Commute 8D - 2018</td><td>1</td><td>2018</td><td>49</td></tr><tr><td>311</td><td>Electra Townie Commute 8D - 2018</td><td>1</td><td>2018</td><td>70</td></tr><tr><td>312</td><td>Electra Townie Commute 8D Ladies' - 2018</td><td>1</td><td>2018</td><td>43</td></tr><tr><td>198</td><td>Electra Townie Commute Go! - 2018</td><td>1</td><td>2018</td><td>28</td></tr><tr><td>252</td><td>Electra Townie Commute Go! Ladies' - 2018</td><td>1</td><td>2018</td><td>75</td></tr><tr><td>250</td><td>Electra Townie Go! 8i - 2017/2018</td><td>1</td><td>2018</td><td>42</td></tr><tr><td>192</td><td>Electra Townie Go! 8i - 2017/2018</td><td>1</td><td>2018</td><td>30</td></tr><tr><td>303</td><td>Electra Townie Go! 8i - 2017/2018</td><td>1</td><td>2018</td><td>48</td></tr><tr><td>195</td><td>Electra Townie Go! 8i Ladies' - 2018</td><td>1</td><td>2018</td><td>40</td></tr><tr><td>253</td><td>Electra Townie Go! 8i Ladies' - 2018</td><td>1</td><td>2018</td><td>60</td></tr><tr><td>313</td><td>Electra Townie Original 1 Ladies' - 2018</td><td>1</td><td>2018</td><td>38</td></tr><tr><td>12</td><td>Electra Townie Original 21D - 2016</td><td>1</td><td>2016</td><td>48</td></tr><tr><td>24</td><td>Electra Townie Original 21D - 2016</td><td>1</td><td>2016</td><td>44</td></tr><tr><td>299</td><td>Electra Townie Original 21D - 2018</td><td>1</td><td>2018</td><td>47</td></tr><tr><td>212</td><td>Electra Townie Original 21D - 2018</td><td>1</td><td>2018</td><td>62</td></tr><tr><td>226</td><td>Electra Townie Original 21D EQ - 2017/2018</td><td>1</td><td>2018</td><td>37</td></tr><tr><td>304</td><td>Electra Townie Original 21D EQ - 2017/2018</td><td>1</td><td>2018</td><td>44</td></tr><tr><td>243</td><td>Electra Townie Original 21D EQ Ladies' - 2018</td><td>1</td><td>2018</td><td>36</td></tr><tr><td>245</td><td>Electra Townie Original 3i EQ - 2017/2018</td><td>1</td><td>2018</td><td>31</td></tr><tr><td>25</td><td>Electra Townie Original 7D - 2015/2016</td><td>1</td><td>2016</td><td>43</td></tr><tr><td>64</td><td>Electra Townie Original 7D - 2017</td><td>1</td><td>2017</td><td>82</td></tr><tr><td>102</td><td>Electra Townie Original 7D - 2017</td><td>1</td><td>2017</td><td>43</td></tr><tr><td>26</td><td>Electra Townie Original 7D EQ - 2016</td><td>1</td><td>2016</td><td>45</td></tr><tr><td>16</td><td>Electra Townie Original 7D EQ - 2016</td><td>1</td><td>2016</td><td>43</td></tr><tr><td>247</td><td>Electra Townie Original 7D EQ - 2018</td><td>1</td><td>2018</td><td>34</td></tr><tr><td>20</td><td>Electra Townie Original 7D EQ - Women's - 2016</td><td>1</td><td>2016</td><td>65</td></tr><tr><td>248</td><td>Electra Townie Original 7D EQ Ladies' - 2017/2018</td><td>1</td><td>2018</td><td>51</td></tr><tr><td>295</td><td>Electra Treasure 1 20&quot; - 2018</td><td>1</td><td>2018</td><td>48</td></tr><tr><td>296</td><td>Electra Treasure 3i 20&quot; - 2018</td><td>1</td><td>2018</td><td>29</td></tr><tr><td>297</td><td>Electra Under-The-Sea 1 16&quot; - 2018</td><td>1</td><td>2018</td><td>51</td></tr><tr><td>298</td><td>Electra Water Lily 1 (16-inch) - Girl's - 2018</td><td>1</td><td>2018</td><td>67</td></tr><tr><td>249</td><td>Electra White Water 3i - 2018</td><td>1</td><td>2018</td><td>43</td></tr><tr><td>85</td><td>Haro Downtown 16 - 2017</td><td>2</td><td>2017</td><td>44</td></tr><tr><td>37</td><td>Haro Flightline One ST - 2017</td><td>2</td><td>2017</td><td>47</td></tr><tr><td>38</td><td>Haro Flightline Two 26 Plus - 2017</td><td>2</td><td>2017</td><td>54</td></tr><tr><td>41</td><td>Haro Shift R3 - 2017</td><td>2</td><td>2017</td><td>41</td></tr><tr><td>92</td><td>Haro Shredder 20 - 2017</td><td>2</td><td>2017</td><td>50</td></tr><tr><td>93</td><td>Haro Shredder 20 Girls - 2017</td><td>2</td><td>2017</td><td>62</td></tr><tr><td>44</td><td>Haro SR 1.1 - 2017</td><td>2</td><td>2017</td><td>51</td></tr><tr><td>45</td><td>Haro SR 1.2 - 2017</td><td>2</td><td>2017</td><td>29</td></tr><tr><td>46</td><td>Haro SR 1.3 - 2017</td><td>2</td><td>2017</td><td>53</td></tr><tr><td>131</td><td>Heller Bloodhound Trail - 2018</td><td>3</td><td>2018</td><td>52</td></tr><tr><td>5</td><td>Heller Shagamaw Frame - 2016</td><td>3</td><td>2016</td><td>26</td></tr><tr><td>137</td><td>Heller Shagamaw GX1 - 2018</td><td>3</td><td>2018</td><td>30</td></tr><tr><td>17</td><td>Pure Cycles Vine 8-Speed - 2016</td><td>4</td><td>2016</td><td>27</td></tr><tr><td>18</td><td>Pure Cycles Western 3-Speed - Women's - 2015/2016</td><td>4</td><td>2016</td><td>34</td></tr><tr><td>19</td><td>Pure Cycles William 3-Speed - 2016</td><td>4</td><td>2016</td><td>43</td></tr><tr><td>2</td><td>Ritchey Timberwolf Frameset - 2016</td><td>5</td><td>2016</td><td>45</td></tr><tr><td>263</td><td>Strider Classic 12 Balance Bike - 2018</td><td>6</td><td>2018</td><td>46</td></tr><tr><td>264</td><td>Strider Sport 16 - 2018</td><td>6</td><td>2018</td><td>36</td></tr><tr><td>265</td><td>Strider Strider 20 Sport - 2018</td><td>6</td><td>2018</td><td>54</td></tr><tr><td>71</td><td>Sun Bicycles Atlas X-Type - 2017</td><td>7</td><td>2017</td><td>68</td></tr><tr><td>78</td><td>Sun Bicycles Biscayne Tandem CB - 2017</td><td>7</td><td>2017</td><td>36</td></tr><tr><td>79</td><td>Sun Bicycles Boardwalk (24-inch Wheels) - 2017</td><td>7</td><td>2017</td><td>71</td></tr><tr><td>73</td><td>Sun Bicycles Brickell Tandem 7 - 2017</td><td>7</td><td>2017</td><td>30</td></tr><tr><td>80</td><td>Sun Bicycles Brickell Tandem CB - 2017</td><td>7</td><td>2017</td><td>60</td></tr><tr><td>68</td><td>Sun Bicycles Cruz 3 - 2017</td><td>7</td><td>2017</td><td>71</td></tr><tr><td>106</td><td>Sun Bicycles Cruz 3 - 2017</td><td>7</td><td>2017</td><td>38</td></tr><tr><td>108</td><td>Sun Bicycles Cruz 3 - Women's - 2017</td><td>7</td><td>2017</td><td>67</td></tr><tr><td>107</td><td>Sun Bicycles Cruz 7 - 2017</td><td>7</td><td>2017</td><td>60</td></tr><tr><td>69</td><td>Sun Bicycles Cruz 7 - 2017</td><td>7</td><td>2017</td><td>55</td></tr><tr><td>109</td><td>Sun Bicycles Cruz 7 - Women's - 2017</td><td>7</td><td>2017</td><td>79</td></tr><tr><td>111</td><td>Sun Bicycles Drifter 7 - Women's - 2017</td><td>7</td><td>2017</td><td>46</td></tr><tr><td>60</td><td>Sun Bicycles ElectroLite - 2017</td><td>7</td><td>2017</td><td>27</td></tr><tr><td>65</td><td>Sun Bicycles Lil Bolt Type-R - 2017</td><td>7</td><td>2017</td><td>27</td></tr><tr><td>84</td><td>Sun Bicycles Lil Kitt'n - 2017</td><td>7</td><td>2017</td><td>48</td></tr><tr><td>66</td><td>Sun Bicycles Revolutions 24 - 2017</td><td>7</td><td>2017</td><td>37</td></tr><tr><td>67</td><td>Sun Bicycles Revolutions 24 - Girl's - 2017</td><td>7</td><td>2017</td><td>33</td></tr><tr><td>35</td><td>Sun Bicycles Spider 3i - 2017</td><td>7</td><td>2017</td><td>46</td></tr><tr><td>104</td><td>Sun Bicycles Streamway - 2017</td><td>7</td><td>2017</td><td>73</td></tr><tr><td>27</td><td>Surly Big Dummy Frameset - 2017</td><td>8</td><td>2017</td><td>52</td></tr><tr><td>126</td><td>Surly Big Fat Dummy Frameset - 2018</td><td>8</td><td>2018</td><td>46</td></tr><tr><td>161</td><td>Surly ECR - 2018</td><td>8</td><td>2018</td><td>37</td></tr><tr><td>128</td><td>Surly ECR 27.5 - 2018</td><td>8</td><td>2018</td><td>59</td></tr><tr><td>167</td><td>Surly ECR Frameset - 2018</td><td>8</td><td>2018</td><td>37</td></tr><tr><td>6</td><td>Surly Ice Cream Truck Frameset - 2016</td><td>8</td><td>2016</td><td>38</td></tr><tr><td>30</td><td>Surly Ice Cream Truck Frameset - 2017</td><td>8</td><td>2017</td><td>70</td></tr><tr><td>28</td><td>Surly Karate Monkey 27.5+ Frameset - 2017</td><td>8</td><td>2017</td><td>65</td></tr><tr><td>124</td><td>Surly Krampus - 2018</td><td>8</td><td>2018</td><td>38</td></tr><tr><td>121</td><td>Surly Krampus Frameset - 2018</td><td>8</td><td>2018</td><td>26</td></tr><tr><td>53</td><td>Surly Ogre Frameset - 2017</td><td>8</td><td>2017</td><td>42</td></tr><tr><td>163</td><td>Surly Pack Rat - 2018</td><td>8</td><td>2018</td><td>41</td></tr><tr><td>127</td><td>Surly Pack Rat Frameset - 2018</td><td>8</td><td>2018</td><td>28</td></tr><tr><td>52</td><td>Surly Steamroller - 2017</td><td>8</td><td>2017</td><td>49</td></tr><tr><td>10</td><td>Surly Straggler - 2016</td><td>8</td><td>2016</td><td>49</td></tr><tr><td>168</td><td>Surly Straggler - 2018</td><td>8</td><td>2018</td><td>52</td></tr><tr><td>210</td><td>Surly Straggler - 2018</td><td>8</td><td>2018</td><td>57</td></tr><tr><td>11</td><td>Surly Straggler 650b - 2016</td><td>8</td><td>2016</td><td>59</td></tr><tr><td>164</td><td>Surly Straggler 650b - 2018</td><td>8</td><td>2018</td><td>42</td></tr><tr><td>36</td><td>Surly Troll Frameset - 2017</td><td>8</td><td>2017</td><td>69</td></tr><tr><td>122</td><td>Surly Troll Frameset - 2018</td><td>8</td><td>2018</td><td>41</td></tr><tr><td>3</td><td>Surly Wednesday Frameset - 2016</td><td>8</td><td>2016</td><td>34</td></tr><tr><td>33</td><td>Surly Wednesday Frameset - 2017</td><td>8</td><td>2017</td><td>32</td></tr><tr><td>165</td><td>Trek 1120 - 2018</td><td>9</td><td>2018</td><td>41</td></tr><tr><td>1</td><td>Trek 820 - 2016</td><td>9</td><td>2016</td><td>55</td></tr><tr><td>112</td><td>Trek 820 - 2018</td><td>9</td><td>2018</td><td>42</td></tr><tr><td>206</td><td>Trek Boone 5 Disc - 2018</td><td>9</td><td>2018</td><td>48</td></tr><tr><td>62</td><td>Trek Boone 7 - 2017</td><td>9</td><td>2017</td><td>29</td></tr><tr><td>207</td><td>Trek Boone 7 Disc - 2018</td><td>9</td><td>2018</td><td>64</td></tr><tr><td>83</td><td>Trek Boy's Kickster - 2015/2017</td><td>9</td><td>2017</td><td>57</td></tr><tr><td>9</td><td>Trek Conduit+ - 2016</td><td>9</td><td>2016</td><td>51</td></tr><tr><td>208</td><td>Trek Crockett 5 Disc - 2018</td><td>9</td><td>2018</td><td>37</td></tr><tr><td>209</td><td>Trek Crockett 7 Disc - 2018</td><td>9</td><td>2018</td><td>34</td></tr><tr><td>158</td><td>Trek CrossRip 1 - 2018</td><td>9</td><td>2018</td><td>28</td></tr><tr><td>170</td><td>Trek CrossRip 2 - 2018</td><td>9</td><td>2018</td><td>29</td></tr><tr><td>186</td><td>Trek CrossRip+ - 2018</td><td>9</td><td>2018</td><td>47</td></tr><tr><td>178</td><td>Trek Domane AL 2 - 2018</td><td>9</td><td>2018</td><td>36</td></tr><tr><td>166</td><td>Trek Domane AL 2 Women's - 2018</td><td>9</td><td>2018</td><td>77</td></tr><tr><td>179</td><td>Trek Domane AL 3 - 2018</td><td>9</td><td>2018</td><td>52</td></tr><tr><td>143</td><td>Trek Domane ALR 3 - 2018</td><td>9</td><td>2018</td><td>40</td></tr><tr><td>151</td><td>Trek Domane ALR 4 Disc Women's - 2018</td><td>9</td><td>2018</td><td>27</td></tr><tr><td>145</td><td>Trek Domane ALR 5 Disc - 2018</td><td>9</td><td>2018</td><td>39</td></tr><tr><td>172</td><td>Trek Domane ALR Disc Frameset - 2018</td><td>9</td><td>2018</td><td>41</td></tr><tr><td>173</td><td>Trek Domane ALR Frameset - 2018</td><td>9</td><td>2018</td><td>34</td></tr><tr><td>59</td><td>Trek Domane S 5 Disc - 2017</td><td>9</td><td>2017</td><td>39</td></tr><tr><td>181</td><td>Trek Domane SL 5 - 2018</td><td>9</td><td>2018</td><td>56</td></tr><tr><td>182</td><td>Trek Domane SL 5 Disc - 2018</td><td>9</td><td>2018</td><td>77</td></tr><tr><td>152</td><td>Trek Domane SL 5 Disc Women's - 2018</td><td>9</td><td>2018</td><td>34</td></tr><tr><td>183</td><td>Trek Domane SL 5 Women's - 2018</td><td>9</td><td>2018</td><td>63</td></tr><tr><td>171</td><td>Trek Domane SL 6 - 2018</td><td>9</td><td>2018</td><td>42</td></tr><tr><td>153</td><td>Trek Domane SL 7 Women's - 2018</td><td>9</td><td>2018</td><td>53</td></tr><tr><td>148</td><td>Trek Domane SL 8 Disc - 2018</td><td>9</td><td>2018</td><td>39</td></tr><tr><td>54</td><td>Trek Domane SL Disc Frameset - 2017</td><td>9</td><td>2017</td><td>30</td></tr><tr><td>156</td><td>Trek Domane SL Frameset - 2018</td><td>9</td><td>2018</td><td>35</td></tr><tr><td>157</td><td>Trek Domane SL Frameset Women's - 2018</td><td>9</td><td>2018</td><td>65</td></tr><tr><td>56</td><td>Trek Domane SLR 6 Disc - 2017</td><td>9</td><td>2017</td><td>54</td></tr><tr><td>177</td><td>Trek Domane SLR 6 Disc - 2018</td><td>9</td><td>2018</td><td>30</td></tr><tr><td>154</td><td>Trek Domane SLR 6 Disc Women's - 2018</td><td>9</td><td>2018</td><td>44</td></tr><tr><td>155</td><td>Trek Domane SLR 9 Disc - 2018</td><td>9</td><td>2018</td><td>54</td></tr><tr><td>174</td><td>Trek Domane SLR Disc Frameset - 2018</td><td>9</td><td>2018</td><td>35</td></tr><tr><td>190</td><td>Trek Dual Sport+ - 2018</td><td>9</td><td>2018</td><td>59</td></tr><tr><td>159</td><td>Trek Emonda ALR 6 - 2018</td><td>9</td><td>2018</td><td>54</td></tr><tr><td>48</td><td>Trek Emonda S 4 - 2017</td><td>9</td><td>2017</td><td>27</td></tr><tr><td>57</td><td>Trek Emonda S 5 - 2017</td><td>9</td><td>2017</td><td>37</td></tr><tr><td>162</td><td>Trek Emonda SL 6 Disc - 2018</td><td>9</td><td>2018</td><td>43</td></tr><tr><td>150</td><td>Trek Emonda SL 7 - 2018</td><td>9</td><td>2018</td><td>50</td></tr><tr><td>160</td><td>Trek Emonda SLR 6 - 2018</td><td>9</td><td>2018</td><td>31</td></tr><tr><td>169</td><td>Trek Emonda SLR 8 - 2018</td><td>9</td><td>2018</td><td>29</td></tr><tr><td>32</td><td>Trek Farley Alloy Frameset - 2017</td><td>9</td><td>2017</td><td>27</td></tr><tr><td>123</td><td>Trek Farley Carbon Frameset - 2018</td><td>9</td><td>2018</td><td>41</td></tr><tr><td>138</td><td>Trek Fuel EX 5 Plus - 2018</td><td>9</td><td>2018</td><td>39</td></tr><tr><td>120</td><td>Trek Fuel EX 7 29 - 2018</td><td>9</td><td>2018</td><td>64</td></tr><tr><td>4</td><td>Trek Fuel EX 8 29 - 2016</td><td>9</td><td>2016</td><td>36</td></tr><tr><td>115</td><td>Trek Fuel EX 8 29 - 2018</td><td>9</td><td>2018</td><td>54</td></tr><tr><td>142</td><td>Trek Fuel EX 8 29 XT - 2018</td><td>9</td><td>2018</td><td>75</td></tr><tr><td>43</td><td>Trek Fuel EX 9.8 27.5 Plus - 2017</td><td>9</td><td>2017</td><td>30</td></tr><tr><td>40</td><td>Trek Fuel EX 9.8 29 - 2017</td><td>9</td><td>2017</td><td>41</td></tr><tr><td>86</td><td>Trek Girl's Kickster - 2017</td><td>9</td><td>2017</td><td>70</td></tr><tr><td>268</td><td>Trek Kickster - 2018</td><td>9</td><td>2018</td><td>43</td></tr><tr><td>125</td><td>Trek Kids' Dual Sport - 2018</td><td>9</td><td>2018</td><td>34</td></tr><tr><td>119</td><td>Trek Kids' Neko - 2018</td><td>9</td><td>2018</td><td>69</td></tr><tr><td>193</td><td>Trek Lift+ - 2018</td><td>9</td><td>2018</td><td>56</td></tr><tr><td>189</td><td>Trek Lift+ Lowstep - 2018</td><td>9</td><td>2018</td><td>39</td></tr><tr><td>176</td><td>Trek Madone 9 Frameset - 2018</td><td>9</td><td>2018</td><td>43</td></tr><tr><td>58</td><td>Trek Madone 9.2 - 2017</td><td>9</td><td>2017</td><td>43</td></tr><tr><td>113</td><td>Trek Marlin 5 - 2018</td><td>9</td><td>2018</td><td>54</td></tr><tr><td>114</td><td>Trek Marlin 6 - 2018</td><td>9</td><td>2018</td><td>27</td></tr><tr><td>116</td><td>Trek Marlin 7 - 2017/2018</td><td>9</td><td>2018</td><td>71</td></tr><tr><td>262</td><td>Trek MT 201 - 2018</td><td>9</td><td>2018</td><td>43</td></tr><tr><td>187</td><td>Trek Neko+ - 2018</td><td>9</td><td>2018</td><td>28</td></tr><tr><td>200</td><td>Trek Powerfly 5 - 2018</td><td>9</td><td>2018</td><td>67</td></tr><tr><td>201</td><td>Trek Powerfly 5 FS - 2018</td><td>9</td><td>2018</td><td>70</td></tr><tr><td>61</td><td>Trek Powerfly 8 FS Plus - 2017</td><td>9</td><td>2017</td><td>78</td></tr><tr><td>269</td><td>Trek Precaliber 12 Boy's - 2018</td><td>9</td><td>2018</td><td>52</td></tr><tr><td>87</td><td>Trek Precaliber 12 Boys - 2017</td><td>9</td><td>2017</td><td>57</td></tr><tr><td>267</td><td>Trek Precaliber 12 Girl's - 2018</td><td>9</td><td>2018</td><td>60</td></tr><tr><td>88</td><td>Trek Precaliber 12 Girls - 2017</td><td>9</td><td>2017</td><td>43</td></tr><tr><td>270</td><td>Trek Precaliber 16 Boy's - 2018</td><td>9</td><td>2018</td><td>37</td></tr><tr><td>89</td><td>Trek Precaliber 16 Boys - 2017</td><td>9</td><td>2017</td><td>39</td></tr><tr><td>271</td><td>Trek Precaliber 16 Girl's - 2018</td><td>9</td><td>2018</td><td>55</td></tr><tr><td>90</td><td>Trek Precaliber 16 Girls - 2017</td><td>9</td><td>2017</td><td>39</td></tr><tr><td>272</td><td>Trek Precaliber 20 6-speed Boy's - 2018</td><td>9</td><td>2018</td><td>27</td></tr><tr><td>273</td><td>Trek Precaliber 20 6-speed Girl's - 2018</td><td>9</td><td>2018</td><td>67</td></tr><tr><td>274</td><td>Trek Precaliber 20 Boy's - 2018</td><td>9</td><td>2018</td><td>41</td></tr><tr><td>275</td><td>Trek Precaliber 20 Girl's - 2018</td><td>9</td><td>2018</td><td>54</td></tr><tr><td>276</td><td>Trek Precaliber 24 (7-Speed) - Boys - 2018</td><td>9</td><td>2018</td><td>30</td></tr><tr><td>277</td><td>Trek Precaliber 24 21-speed Boy's - 2018</td><td>9</td><td>2018</td><td>43</td></tr><tr><td>278</td><td>Trek Precaliber 24 21-speed Girl's - 2018</td><td>9</td><td>2018</td><td>40</td></tr><tr><td>279</td><td>Trek Precaliber 24 7-speed Girl's - 2018</td><td>9</td><td>2018</td><td>50</td></tr><tr><td>133</td><td>Trek Procaliber Frameset - 2018</td><td>9</td><td>2018</td><td>53</td></tr><tr><td>134</td><td>Trek Remedy 27.5 C Frameset - 2018</td><td>9</td><td>2018</td><td>56</td></tr><tr><td>139</td><td>Trek Remedy 7 27.5 - 2018</td><td>9</td><td>2018</td><td>62</td></tr><tr><td>47</td><td>Trek Remedy 9.8 - 2017</td><td>9</td><td>2017</td><td>35</td></tr><tr><td>34</td><td>Trek Session DH 27.5 Carbon Frameset - 2017</td><td>9</td><td>2017</td><td>32</td></tr><tr><td>50</td><td>Trek Silque SLR 7 Women's - 2017</td><td>9</td><td>2017</td><td>61</td></tr><tr><td>7</td><td>Trek Slash 8 27.5 - 2016</td><td>9</td><td>2016</td><td>28</td></tr><tr><td>39</td><td>Trek Stache 5 - 2017</td><td>9</td><td>2017</td><td>52</td></tr><tr><td>141</td><td>Trek Stache 5 - 2018</td><td>9</td><td>2018</td><td>53</td></tr><tr><td>130</td><td>Trek Stache Carbon Frameset - 2018</td><td>9</td><td>2018</td><td>59</td></tr><tr><td>204</td><td>Trek Super Commuter+ 7 - 2018</td><td>9</td><td>2018</td><td>64</td></tr><tr><td>266</td><td>Trek Superfly 20 - 2018</td><td>9</td><td>2018</td><td>37</td></tr><tr><td>280</td><td>Trek Superfly 24 - 2017/2018</td><td>9</td><td>2018</td><td>35</td></tr><tr><td>117</td><td>Trek Ticket S Frame - 2018</td><td>9</td><td>2018</td><td>56</td></tr><tr><td>196</td><td>Trek Verve+ - 2018</td><td>9</td><td>2018</td><td>79</td></tr><tr><td>197</td><td>Trek Verve+ Lowstep - 2018</td><td>9</td><td>2018</td><td>40</td></tr><tr><td>129</td><td>Trek X-Caliber 7 - 2018</td><td>9</td><td>2018</td><td>52</td></tr><tr><td>29</td><td>Trek X-Caliber 8 - 2017</td><td>9</td><td>2017</td><td>53</td></tr><tr><td>118</td><td>Trek X-Caliber 8 - 2018</td><td>9</td><td>2018</td><td>46</td></tr><tr><td>135</td><td>Trek X-Caliber Frameset - 2018</td><td>9</td><td>2018</td><td>60</td></tr><tr><td>194</td><td>Trek XM700+ - 2018</td><td>9</td><td>2018</td><td>59</td></tr><tr><td>188</td><td>Trek XM700+ Lowstep - 2018</td><td>9</td><td>2018</td><td>86</td></tr></table>"
                    },
                    "metadata": {}
                }
            ],
            "execution_count": 5
        },
        {
            "cell_type": "code",
            "source": [
                "/*\r\n",
                "(10p) Soru 5: Rowlett Bikes mağazasındaki(stores) stoklarda(stocks) bulunan ürünlerden(products) isminin ikinci harfi 'a' olan ürünleri aşağıdaki şekilde listeleyen saklı yordam kodunu yazınız.\r\n",
                "            - Mağaza adı, stok miktarı, ürün adı ve fiyatı sayısı çıktı olarak verilmelidir.\r\n",
                "            - Parametre değeri olarak Rowlett Bikes kullanılacaktır. (Parametre değeri çalışmayan uygulamalar değerlendirilmeyecektir!)\r\n",
                "*/\r\n",
                "\r\n",
                "CREATE PROCEDURE getProductsinStore\r\n",
                "    @storeNameValue NVARCHAR(50)\r\n",
                "AS\r\n",
                "    SELECT store_name, quantity, product_name, list_price FROM stores, stocks, products WHERE stores.store_id = stocks.store_id AND stocks.product_id = products.product_id AND product_name\r\n",
                "    LIKE '_a%' AND store_name = @storeNameValue\r\n",
                "GO\r\n",
                "\r\n",
                "EXEC getProductsinStore 'Rowlett Bikes'\r\n",
                "\r\n",
                "/*\r\n",
                "YORUMLARINIZI YAZINIZ\r\n",
                ".\r\n",
                ".\r\n",
                ".\r\n",
                "*/"
            ],
            "metadata": {
                "azdata_cell_guid": "511881ff-baf4-4291-9acd-d844e7f5b35a"
            },
            "outputs": [
                {
                    "output_type": "error",
                    "ename": "",
                    "evalue": "Msg 2714, Level 16, State 3, Procedure getProductsinStore, Line 7\r\nThere is already an object named 'getProductsinStore' in the database.",
                    "traceback": []
                },
                {
                    "output_type": "display_data",
                    "data": {
                        "text/html": "(10 rows affected)"
                    },
                    "metadata": {}
                },
                {
                    "output_type": "display_data",
                    "data": {
                        "text/html": "Total execution time: 00:00:00.023"
                    },
                    "metadata": {}
                },
                {
                    "output_type": "execute_result",
                    "execution_count": 6,
                    "data": {
                        "application/vnd.dataresource+json": {
                            "schema": {
                                "fields": [
                                    {
                                        "name": "store_name"
                                    },
                                    {
                                        "name": "quantity"
                                    },
                                    {
                                        "name": "product_name"
                                    },
                                    {
                                        "name": "list_price"
                                    }
                                ]
                            },
                            "data": [
                                {
                                    "0": "Rowlett Bikes",
                                    "1": "30",
                                    "2": "Haro Flightline One ST - 2017",
                                    "3": "379.99"
                                },
                                {
                                    "0": "Rowlett Bikes",
                                    "1": "23",
                                    "2": "Haro Flightline Two 26 Plus - 2017",
                                    "3": "549.99"
                                },
                                {
                                    "0": "Rowlett Bikes",
                                    "1": "25",
                                    "2": "Haro Shift R3 - 2017",
                                    "3": "1469.99"
                                },
                                {
                                    "0": "Rowlett Bikes",
                                    "1": "26",
                                    "2": "Haro SR 1.1 - 2017",
                                    "3": "539.99"
                                },
                                {
                                    "0": "Rowlett Bikes",
                                    "1": "1",
                                    "2": "Haro SR 1.2 - 2017",
                                    "3": "869.99"
                                },
                                {
                                    "0": "Rowlett Bikes",
                                    "1": "16",
                                    "2": "Haro SR 1.3 - 2017",
                                    "3": "1409.99"
                                },
                                {
                                    "0": "Rowlett Bikes",
                                    "1": "15",
                                    "2": "Haro Downtown 16 - 2017",
                                    "3": "329.99"
                                },
                                {
                                    "0": "Rowlett Bikes",
                                    "1": "28",
                                    "2": "Haro Shredder 20 - 2017",
                                    "3": "209.99"
                                },
                                {
                                    "0": "Rowlett Bikes",
                                    "1": "18",
                                    "2": "Haro Shredder 20 Girls - 2017",
                                    "3": "209.99"
                                },
                                {
                                    "0": "Rowlett Bikes",
                                    "1": "15",
                                    "2": "Haro Shredder Pro 20 - 2017",
                                    "3": "249.99"
                                }
                            ]
                        },
                        "text/html": "<table><tr><th>store_name</th><th>quantity</th><th>product_name</th><th>list_price</th></tr><tr><td>Rowlett Bikes</td><td>30</td><td>Haro Flightline One ST - 2017</td><td>379.99</td></tr><tr><td>Rowlett Bikes</td><td>23</td><td>Haro Flightline Two 26 Plus - 2017</td><td>549.99</td></tr><tr><td>Rowlett Bikes</td><td>25</td><td>Haro Shift R3 - 2017</td><td>1469.99</td></tr><tr><td>Rowlett Bikes</td><td>26</td><td>Haro SR 1.1 - 2017</td><td>539.99</td></tr><tr><td>Rowlett Bikes</td><td>1</td><td>Haro SR 1.2 - 2017</td><td>869.99</td></tr><tr><td>Rowlett Bikes</td><td>16</td><td>Haro SR 1.3 - 2017</td><td>1409.99</td></tr><tr><td>Rowlett Bikes</td><td>15</td><td>Haro Downtown 16 - 2017</td><td>329.99</td></tr><tr><td>Rowlett Bikes</td><td>28</td><td>Haro Shredder 20 - 2017</td><td>209.99</td></tr><tr><td>Rowlett Bikes</td><td>18</td><td>Haro Shredder 20 Girls - 2017</td><td>209.99</td></tr><tr><td>Rowlett Bikes</td><td>15</td><td>Haro Shredder Pro 20 - 2017</td><td>249.99</td></tr></table>"
                    },
                    "metadata": {}
                }
            ],
            "execution_count": 6
        },
        {
            "cell_type": "code",
            "source": [
                "/*\r\n",
                "(10p) Soru 6: Mağazalardaki(stores) bulunan ürünlerden(products), stok(stocks) miktarı 15'ten büyük olanların stok sayısını, maksimum fiyatını ve minimum fiyatını aşağıdaki şekilde listeleyen saklı yordam kodunu yazınız.\r\n",
                "            - Mağaza adı, toplam ürün sayısı as (totalCount), maksimum fiyat değeri as (maxPrice) ve minimum fiyat as (minPrice) değeri çıktı olarak verilmelidir.\r\n",
                "            - Parametre değeri olarak 15 kullanılacaktır. (Parametre değeri çalışmayan uygulamalar değerlendirilmeyecektir!)\r\n",
                "*/\r\n",
                "\r\n",
                "CREATE PROCEDURE getProductDetailsinStores\r\n",
                "    @quantityValue INTEGER\r\n",
                "AS\r\n",
                "    SELECT store_name, COUNT(*), MAX(list_price), MIN(list_price) FROM stores, stocks, products WHERE stores.store_id = stocks.store_id AND stocks.product_id = products.product_id\r\n",
                "    AND quantity > @quantityValue GROUP BY store_name\r\n",
                "GO\r\n",
                "\r\n",
                "EXEC getProductDetailsinStores 15\r\n",
                "\r\n",
                "/*\r\n",
                "YORUMLARINIZI YAZINIZ\r\n",
                ".\r\n",
                ".\r\n",
                ".\r\n",
                "*/"
            ],
            "metadata": {
                "azdata_cell_guid": "c61597af-9eb5-4bba-8106-a5df1092d260"
            },
            "outputs": [
                {
                    "output_type": "error",
                    "ename": "",
                    "evalue": "Msg 2714, Level 16, State 3, Procedure getProductDetailsinStores, Line 7\r\nThere is already an object named 'getProductDetailsinStores' in the database.",
                    "traceback": []
                },
                {
                    "output_type": "display_data",
                    "data": {
                        "text/html": "(3 rows affected)"
                    },
                    "metadata": {}
                },
                {
                    "output_type": "display_data",
                    "data": {
                        "text/html": "Total execution time: 00:00:00.012"
                    },
                    "metadata": {}
                },
                {
                    "output_type": "execute_result",
                    "execution_count": 7,
                    "data": {
                        "application/vnd.dataresource+json": {
                            "schema": {
                                "fields": [
                                    {
                                        "name": "store_name"
                                    },
                                    {
                                        "name": "(No column name)"
                                    },
                                    {
                                        "name": "(No column name)"
                                    },
                                    {
                                        "name": "(No column name)"
                                    }
                                ]
                            },
                            "data": [
                                {
                                    "0": "Baldwin Bikes",
                                    "1": "136",
                                    "2": "11999.99",
                                    "3": "109.99"
                                },
                                {
                                    "0": "Rowlett Bikes",
                                    "1": "145",
                                    "2": "11999.99",
                                    "3": "89.99"
                                },
                                {
                                    "0": "Santa Cruz Bikes",
                                    "1": "147",
                                    "2": "6499.99",
                                    "3": "89.99"
                                }
                            ]
                        },
                        "text/html": "<table><tr><th>store_name</th><th>(No column name)</th><th>(No column name)</th><th>(No column name)</th></tr><tr><td>Baldwin Bikes</td><td>136</td><td>11999.99</td><td>109.99</td></tr><tr><td>Rowlett Bikes</td><td>145</td><td>11999.99</td><td>89.99</td></tr><tr><td>Santa Cruz Bikes</td><td>147</td><td>6499.99</td><td>89.99</td></tr></table>"
                    },
                    "metadata": {}
                }
            ],
            "execution_count": 7
        },
        {
            "cell_type": "code",
            "source": [
                "/*\r\n",
                "(10p) Soru 7: Baldwin Bikes mağazasında(store) çalışan personel(staffs) sayısını aşağıdaki şekilde listeleyen saklı yordam kodunu yazınız.\r\n",
                "            - Çalışan sayısı as (countofStaffs) çıktı olarak verilmelidir.\r\n",
                "            - Parametre değeri olarak Baldwin Bikes kullanılacaktır. (Parametre değeri çalışmayan uygulamalar değerlendirilmeyecektir!)\r\n",
                "*/\r\n",
                "\r\n",
                "CREATE PROCEDURE getCountofStaffs\r\n",
                "    @storeNameValue NVARCHAR(50)\r\n",
                "AS\r\n",
                "    SELECT COUNT(*) as count_of_baldwin_staffs FROM BikeStores.dbo.staffs as s, BikeStores.dbo.stores as m WHERE s.store_id=m.store_id and m.store_name = @storeNameValue\r\n",
                "GO\r\n",
                "\r\n",
                "EXEC getCountofStaffs 'Baldwin Bikes'\r\n",
                "\r\n",
                "/*\r\n",
                "YORUMLARINIZI YAZINIZ\r\n",
                ".\r\n",
                ".\r\n",
                ".\r\n",
                "*/"
            ],
            "metadata": {
                "azdata_cell_guid": "7806b393-f895-45f5-866b-79c03b57fd87"
            },
            "outputs": [
                {
                    "output_type": "error",
                    "ename": "",
                    "evalue": "Msg 2714, Level 16, State 3, Procedure getCountofStaffs, Line 7\r\nThere is already an object named 'getCountofStaffs' in the database.",
                    "traceback": []
                },
                {
                    "output_type": "display_data",
                    "data": {
                        "text/html": "(1 row affected)"
                    },
                    "metadata": {}
                },
                {
                    "output_type": "display_data",
                    "data": {
                        "text/html": "Total execution time: 00:00:00.007"
                    },
                    "metadata": {}
                },
                {
                    "output_type": "execute_result",
                    "execution_count": 8,
                    "data": {
                        "application/vnd.dataresource+json": {
                            "schema": {
                                "fields": [
                                    {
                                        "name": "count_of_baldwin_staffs"
                                    }
                                ]
                            },
                            "data": [
                                {
                                    "0": "3"
                                }
                            ]
                        },
                        "text/html": "<table><tr><th>count_of_baldwin_staffs</th></tr><tr><td>3</td></tr></table>"
                    },
                    "metadata": {}
                }
            ],
            "execution_count": 8
        },
        {
            "cell_type": "code",
            "source": [
                "/*\r\n",
                "(10p) Soru 8: Markası(brand), Trek olan ürünlerin(product) toplam liste fiyatını(list_price) aşağıdaki şekilde listeleyen saklı yordam kodunu yazınız.\r\n",
                "            - Liste fiyatının toplamı as (sumofListPrices) çıktı olarak verilmelidir.\r\n",
                "            - Parametre değeri olarak Trek kullanılacaktır. (Parametre değeri çalışmayan uygulamalar değerlendirilmeyecektir!)\r\n",
                "*/\r\n",
                "\r\n",
                "CREATE PROCEDURE getSumofPrices\r\n",
                "    @brandNameValue NVARCHAR(50)\r\n",
                "AS\r\n",
                "    SELECT SUM(p.list_price) as sumofListPrices FROM BikeStores.dbo.brands as b, BikeStores.dbo.products as p WHERE b.brand_id=p.brand_id AND b.brand_name = @brandNameValue\r\n",
                "GO\r\n",
                "\r\n",
                "EXEC getSumofPrices 'Trek'\r\n",
                "\r\n",
                "/*\r\n",
                "YORUMLARINIZI YAZINIZ\r\n",
                ".\r\n",
                ".\r\n",
                ".\r\n",
                "*/"
            ],
            "metadata": {
                "azdata_cell_guid": "b04fb583-37d2-4039-b768-6aee54560076"
            },
            "outputs": [
                {
                    "output_type": "error",
                    "ename": "",
                    "evalue": "Msg 2714, Level 16, State 3, Procedure getSumofPrices, Line 7\r\nThere is already an object named 'getSumofPrices' in the database.",
                    "traceback": []
                },
                {
                    "output_type": "display_data",
                    "data": {
                        "text/html": "(1 row affected)"
                    },
                    "metadata": {}
                },
                {
                    "output_type": "display_data",
                    "data": {
                        "text/html": "Total execution time: 00:00:00.135"
                    },
                    "metadata": {}
                },
                {
                    "output_type": "execute_result",
                    "execution_count": 9,
                    "data": {
                        "application/vnd.dataresource+json": {
                            "schema": {
                                "fields": [
                                    {
                                        "name": "sumofListPrices"
                                    }
                                ]
                            },
                            "data": [
                                {
                                    "0": "337508.65"
                                }
                            ]
                        },
                        "text/html": "<table><tr><th>sumofListPrices</th></tr><tr><td>337508.65</td></tr></table>"
                    },
                    "metadata": {}
                }
            ],
            "execution_count": 9
        },
        {
            "cell_type": "code",
            "source": [
                "/*\r\n",
                "(10p) Soru 9: Adı Jone olan müşteriye(customer) ait tüm siparişler için sipariş(orders) tarihini aşağıdaki şekilde listeleyen saklı yordam kodunu yazınız.\r\n",
                "            - Müşteri Adı, müşteri soyadı ve sipariş tarihi çıktı olarak verilmelidir.\r\n",
                "            - Parametre değeri olarak Jone kullanılacaktır. (Parametre değeri çalışmayan uygulamalar değerlendirilmeyecektir!)\r\n",
                "*/\r\n",
                "\r\n",
                "CREATE PROCEDURE getCustomerOrdersDetails\r\n",
                "    @customerNameValue NVARCHAR(50)\r\n",
                "AS\r\n",
                "    SELECT c.first_name,c.last_name,c.customer_id, o.order_date FROM BikeStores.dbo.customers as c, BikeStores.dbo.orders as o WHERE o.customer_id=c.customer_id and c.first_name = @customerNameValue\r\n",
                "GO\r\n",
                "\r\n",
                "EXEC getCustomerOrdersDetails 'Jone'\r\n",
                "\r\n",
                "/*\r\n",
                "YORUMLARINIZI YAZINIZ\r\n",
                ".\r\n",
                ".\r\n",
                ".\r\n",
                "*/"
            ],
            "metadata": {
                "azdata_cell_guid": "183c44fe-3687-41cf-bb0d-4108f7144632"
            },
            "outputs": [
                {
                    "output_type": "error",
                    "ename": "",
                    "evalue": "Msg 2714, Level 16, State 3, Procedure getCustomerOrdersDetails, Line 7\r\nThere is already an object named 'getCustomerOrdersDetails' in the database.",
                    "traceback": []
                },
                {
                    "output_type": "display_data",
                    "data": {
                        "text/html": "(2 rows affected)"
                    },
                    "metadata": {}
                },
                {
                    "output_type": "display_data",
                    "data": {
                        "text/html": "Total execution time: 00:00:00.018"
                    },
                    "metadata": {}
                },
                {
                    "output_type": "execute_result",
                    "execution_count": 10,
                    "data": {
                        "application/vnd.dataresource+json": {
                            "schema": {
                                "fields": [
                                    {
                                        "name": "first_name"
                                    },
                                    {
                                        "name": "last_name"
                                    },
                                    {
                                        "name": "customer_id"
                                    },
                                    {
                                        "name": "order_date"
                                    }
                                ]
                            },
                            "data": [
                                {
                                    "0": "Jone",
                                    "1": "Bernard",
                                    "2": "138",
                                    "3": "2017-06-14"
                                },
                                {
                                    "0": "Jone",
                                    "1": "Bernard",
                                    "2": "138",
                                    "3": "2018-04-27"
                                }
                            ]
                        },
                        "text/html": "<table><tr><th>first_name</th><th>last_name</th><th>customer_id</th><th>order_date</th></tr><tr><td>Jone</td><td>Bernard</td><td>138</td><td>2017-06-14</td></tr><tr><td>Jone</td><td>Bernard</td><td>138</td><td>2018-04-27</td></tr></table>"
                    },
                    "metadata": {}
                }
            ],
            "execution_count": 10
        },
        {
            "cell_type": "code",
            "source": [
                "/*\r\n",
                "(10p) Soru 10: Stok(stocks) miktarı 19'dan az ve liste fiyatı 2500'den fazla olan ürünleri(products) aşağıdaki şekilde listeleyen saklı yordam kodunu yazınız.\r\n",
                "             - Mağaza ID, ürün ID, ürün adı, stok miktarı ve liste fiyatı çıktı olarak verilmelidir.\r\n",
                "             - Parametre değeri olarak 19 ve 2500 kullanılacaktır. (Parametre değeri çalışmayan uygulamalar değerlendirilmeyecektir!)\r\n",
                "*/\r\n",
                "\r\n",
                "CREATE PROCEDURE getProducts\r\n",
                "    @quantityValue INTEGER,\r\n",
                "    @priceValue INTEGER\r\n",
                "AS\r\n",
                "    SELECT st.store_id, p.product_id, p.product_name, st.quantity, p.list_price FROM BikeStores.dbo.stocks as st, BikeStores.dbo.products as p\r\n",
                "    WHERE st.product_id=p.product_id and st.quantity < @quantityValue and p.list_price > @priceValue\r\n",
                "GO\r\n",
                "\r\n",
                "EXEC getProducts 19, 2500\r\n",
                "\r\n",
                "/*\r\n",
                "YORUMLARINIZI YAZINIZ\r\n",
                ".\r\n",
                ".\r\n",
                ".\r\n",
                "*/"
            ],
            "metadata": {
                "azdata_cell_guid": "10db3cc1-b203-47b4-be84-6b50a7f3db26"
            },
            "outputs": [
                {
                    "output_type": "error",
                    "ename": "",
                    "evalue": "Msg 2714, Level 16, State 3, Procedure getProducts, Line 7\r\nThere is already an object named 'getProducts' in the database.",
                    "traceback": []
                },
                {
                    "output_type": "display_data",
                    "data": {
                        "text/html": "(134 rows affected)"
                    },
                    "metadata": {}
                },
                {
                    "output_type": "display_data",
                    "data": {
                        "text/html": "Total execution time: 00:00:00.019"
                    },
                    "metadata": {}
                },
                {
                    "output_type": "execute_result",
                    "execution_count": 11,
                    "data": {
                        "application/vnd.dataresource+json": {
                            "schema": {
                                "fields": [
                                    {
                                        "name": "store_id"
                                    },
                                    {
                                        "name": "product_id"
                                    },
                                    {
                                        "name": "product_name"
                                    },
                                    {
                                        "name": "quantity"
                                    },
                                    {
                                        "name": "list_price"
                                    }
                                ]
                            },
                            "data": [
                                {
                                    "0": "1",
                                    "1": "7",
                                    "2": "Trek Slash 8 27.5 - 2016",
                                    "3": "8",
                                    "4": "3999.99"
                                },
                                {
                                    "0": "1",
                                    "1": "9",
                                    "2": "Trek Conduit+ - 2016",
                                    "3": "11",
                                    "4": "2999.99"
                                },
                                {
                                    "0": "1",
                                    "1": "43",
                                    "2": "Trek Fuel EX 9.8 27.5 Plus - 2017",
                                    "3": "2",
                                    "4": "5299.99"
                                },
                                {
                                    "0": "1",
                                    "1": "49",
                                    "2": "Trek Domane SL 6 - 2017",
                                    "3": "8",
                                    "4": "3499.99"
                                },
                                {
                                    "0": "1",
                                    "1": "51",
                                    "2": "Trek Silque SLR 8 Women's - 2017",
                                    "3": "2",
                                    "4": "6499.99"
                                },
                                {
                                    "0": "1",
                                    "1": "54",
                                    "2": "Trek Domane SL Disc Frameset - 2017",
                                    "3": "11",
                                    "4": "3199.99"
                                },
                                {
                                    "0": "1",
                                    "1": "55",
                                    "2": "Trek Domane S 6 - 2017",
                                    "3": "11",
                                    "4": "2699.99"
                                },
                                {
                                    "0": "1",
                                    "1": "56",
                                    "2": "Trek Domane SLR 6 Disc - 2017",
                                    "3": "15",
                                    "4": "5499.99"
                                },
                                {
                                    "0": "1",
                                    "1": "58",
                                    "2": "Trek Madone 9.2 - 2017",
                                    "3": "1",
                                    "4": "4999.99"
                                },
                                {
                                    "0": "1",
                                    "1": "63",
                                    "2": "Trek Boone Race Shop Limited - 2017",
                                    "3": "4",
                                    "4": "3499.99"
                                },
                                {
                                    "0": "1",
                                    "1": "115",
                                    "2": "Trek Fuel EX 8 29 - 2018",
                                    "3": "10",
                                    "4": "3199.99"
                                },
                                {
                                    "0": "1",
                                    "1": "137",
                                    "2": "Heller Shagamaw GX1 - 2018",
                                    "3": "12",
                                    "4": "2599.00"
                                },
                                {
                                    "0": "1",
                                    "1": "139",
                                    "2": "Trek Remedy 7 27.5 - 2018",
                                    "3": "17",
                                    "4": "2999.99"
                                },
                                {
                                    "0": "1",
                                    "1": "140",
                                    "2": "Trek Remedy 9.8 27.5 - 2018",
                                    "3": "3",
                                    "4": "4999.99"
                                },
                                {
                                    "0": "1",
                                    "1": "146",
                                    "2": "Trek Domane SLR 6 - 2018",
                                    "3": "6",
                                    "4": "4999.99"
                                },
                                {
                                    "0": "1",
                                    "1": "148",
                                    "2": "Trek Domane SL 8 Disc - 2018",
                                    "3": "6",
                                    "4": "5499.99"
                                },
                                {
                                    "0": "1",
                                    "1": "149",
                                    "2": "Trek Domane SLR 8 Disc - 2018",
                                    "3": "1",
                                    "4": "7499.99"
                                },
                                {
                                    "0": "1",
                                    "1": "154",
                                    "2": "Trek Domane SLR 6 Disc Women's - 2018",
                                    "3": "13",
                                    "4": "5499.99"
                                },
                                {
                                    "0": "1",
                                    "1": "155",
                                    "2": "Trek Domane SLR 9 Disc - 2018",
                                    "3": "8",
                                    "4": "11999.99"
                                },
                                {
                                    "0": "1",
                                    "1": "156",
                                    "2": "Trek Domane SL Frameset - 2018",
                                    "3": "13",
                                    "4": "6499.99"
                                },
                                {
                                    "0": "1",
                                    "1": "160",
                                    "2": "Trek Emonda SLR 6 - 2018",
                                    "3": "0",
                                    "4": "4499.99"
                                },
                                {
                                    "0": "1",
                                    "1": "162",
                                    "2": "Trek Emonda SL 6 Disc - 2018",
                                    "3": "14",
                                    "4": "2999.99"
                                },
                                {
                                    "0": "1",
                                    "1": "171",
                                    "2": "Trek Domane SL 6 - 2018",
                                    "3": "3",
                                    "4": "3199.99"
                                },
                                {
                                    "0": "1",
                                    "1": "172",
                                    "2": "Trek Domane ALR Disc Frameset - 2018",
                                    "3": "3",
                                    "4": "3199.99"
                                },
                                {
                                    "0": "1",
                                    "1": "173",
                                    "2": "Trek Domane ALR Frameset - 2018",
                                    "3": "2",
                                    "4": "3199.99"
                                },
                                {
                                    "0": "1",
                                    "1": "175",
                                    "2": "Trek Domane SLR Frameset - 2018",
                                    "3": "2",
                                    "4": "3199.99"
                                },
                                {
                                    "0": "1",
                                    "1": "176",
                                    "2": "Trek Madone 9 Frameset - 2018",
                                    "3": "11",
                                    "4": "3199.99"
                                },
                                {
                                    "0": "1",
                                    "1": "184",
                                    "2": "Trek Domane SL 6 Disc - 2018",
                                    "3": "4",
                                    "4": "3499.99"
                                },
                                {
                                    "0": "1",
                                    "1": "185",
                                    "2": "Trek Conduit+ - 2018",
                                    "3": "3",
                                    "4": "2799.99"
                                },
                                {
                                    "0": "1",
                                    "1": "186",
                                    "2": "Trek CrossRip+ - 2018",
                                    "3": "1",
                                    "4": "4499.99"
                                },
                                {
                                    "0": "1",
                                    "1": "187",
                                    "2": "Trek Neko+ - 2018",
                                    "3": "16",
                                    "4": "2799.99"
                                },
                                {
                                    "0": "1",
                                    "1": "189",
                                    "2": "Trek Lift+ Lowstep - 2018",
                                    "3": "6",
                                    "4": "2799.99"
                                },
                                {
                                    "0": "1",
                                    "1": "195",
                                    "2": "Electra Townie Go! 8i Ladies' - 2018",
                                    "3": "1",
                                    "4": "2599.99"
                                },
                                {
                                    "0": "1",
                                    "1": "198",
                                    "2": "Electra Townie Commute Go! - 2018",
                                    "3": "1",
                                    "4": "2999.99"
                                },
                                {
                                    "0": "1",
                                    "1": "199",
                                    "2": "Electra Townie Commute Go! Ladies' - 2018",
                                    "3": "2",
                                    "4": "2999.99"
                                },
                                {
                                    "0": "1",
                                    "1": "201",
                                    "2": "Trek Powerfly 5 FS - 2018",
                                    "3": "16",
                                    "4": "4499.99"
                                },
                                {
                                    "0": "1",
                                    "1": "202",
                                    "2": "Trek Powerfly 5 Women's - 2018",
                                    "3": "5",
                                    "4": "3499.99"
                                },
                                {
                                    "0": "1",
                                    "1": "203",
                                    "2": "Trek Powerfly 7 FS - 2018",
                                    "3": "4",
                                    "4": "4999.99"
                                },
                                {
                                    "0": "1",
                                    "1": "205",
                                    "2": "Trek Super Commuter+ 8S - 2018",
                                    "3": "9",
                                    "4": "4999.99"
                                },
                                {
                                    "0": "1",
                                    "1": "206",
                                    "2": "Trek Boone 5 Disc - 2018",
                                    "3": "10",
                                    "4": "3299.99"
                                },
                                {
                                    "0": "1",
                                    "1": "250",
                                    "2": "Electra Townie Go! 8i - 2017/2018",
                                    "3": "3",
                                    "4": "2599.99"
                                },
                                {
                                    "0": "1",
                                    "1": "251",
                                    "2": "Electra Townie Commute Go! - 2018",
                                    "3": "2",
                                    "4": "2999.99"
                                },
                                {
                                    "0": "1",
                                    "1": "253",
                                    "2": "Electra Townie Go! 8i Ladies' - 2018",
                                    "3": "16",
                                    "4": "2599.99"
                                },
                                {
                                    "0": "1",
                                    "1": "303",
                                    "2": "Electra Townie Go! 8i - 2017/2018",
                                    "3": "12",
                                    "4": "2599.99"
                                },
                                {
                                    "0": "2",
                                    "1": "4",
                                    "2": "Trek Fuel EX 8 29 - 2016",
                                    "3": "2",
                                    "4": "2899.99"
                                },
                                {
                                    "0": "2",
                                    "1": "7",
                                    "2": "Trek Slash 8 27.5 - 2016",
                                    "3": "8",
                                    "4": "3999.99"
                                },
                                {
                                    "0": "2",
                                    "1": "9",
                                    "2": "Trek Conduit+ - 2016",
                                    "3": "17",
                                    "4": "2999.99"
                                },
                                {
                                    "0": "2",
                                    "1": "40",
                                    "2": "Trek Fuel EX 9.8 29 - 2017",
                                    "3": "15",
                                    "4": "4999.99"
                                },
                                {
                                    "0": "2",
                                    "1": "43",
                                    "2": "Trek Fuel EX 9.8 27.5 Plus - 2017",
                                    "3": "2",
                                    "4": "5299.99"
                                },
                                {
                                    "0": "2",
                                    "1": "47",
                                    "2": "Trek Remedy 9.8 - 2017",
                                    "3": "0",
                                    "4": "5299.99"
                                },
                                {
                                    "0": "2",
                                    "1": "49",
                                    "2": "Trek Domane SL 6 - 2017",
                                    "3": "4",
                                    "4": "3499.99"
                                },
                                {
                                    "0": "2",
                                    "1": "50",
                                    "2": "Trek Silque SLR 7 Women's - 2017",
                                    "3": "7",
                                    "4": "5999.99"
                                },
                                {
                                    "0": "2",
                                    "1": "51",
                                    "2": "Trek Silque SLR 8 Women's - 2017",
                                    "3": "8",
                                    "4": "6499.99"
                                },
                                {
                                    "0": "2",
                                    "1": "54",
                                    "2": "Trek Domane SL Disc Frameset - 2017",
                                    "3": "6",
                                    "4": "3199.99"
                                },
                                {
                                    "0": "2",
                                    "1": "55",
                                    "2": "Trek Domane S 6 - 2017",
                                    "3": "5",
                                    "4": "2699.99"
                                },
                                {
                                    "0": "2",
                                    "1": "58",
                                    "2": "Trek Madone 9.2 - 2017",
                                    "3": "15",
                                    "4": "4999.99"
                                },
                                {
                                    "0": "2",
                                    "1": "59",
                                    "2": "Trek Domane S 5 Disc - 2017",
                                    "3": "17",
                                    "4": "2599.99"
                                },
                                {
                                    "0": "2",
                                    "1": "62",
                                    "2": "Trek Boone 7 - 2017",
                                    "3": "4",
                                    "4": "3499.99"
                                },
                                {
                                    "0": "2",
                                    "1": "63",
                                    "2": "Trek Boone Race Shop Limited - 2017",
                                    "3": "5",
                                    "4": "3499.99"
                                },
                                {
                                    "0": "2",
                                    "1": "131",
                                    "2": "Heller Bloodhound Trail - 2018",
                                    "3": "9",
                                    "4": "2599.00"
                                },
                                {
                                    "0": "2",
                                    "1": "137",
                                    "2": "Heller Shagamaw GX1 - 2018",
                                    "3": "1",
                                    "4": "2599.00"
                                },
                                {
                                    "0": "2",
                                    "1": "140",
                                    "2": "Trek Remedy 9.8 27.5 - 2018",
                                    "3": "13",
                                    "4": "4999.99"
                                },
                                {
                                    "0": "2",
                                    "1": "146",
                                    "2": "Trek Domane SLR 6 - 2018",
                                    "3": "3",
                                    "4": "4999.99"
                                },
                                {
                                    "0": "2",
                                    "1": "150",
                                    "2": "Trek Emonda SL 7 - 2018",
                                    "3": "7",
                                    "4": "4499.99"
                                },
                                {
                                    "0": "2",
                                    "1": "154",
                                    "2": "Trek Domane SLR 6 Disc Women's - 2018",
                                    "3": "9",
                                    "4": "5499.99"
                                },
                                {
                                    "0": "2",
                                    "1": "156",
                                    "2": "Trek Domane SL Frameset - 2018",
                                    "3": "8",
                                    "4": "6499.99"
                                },
                                {
                                    "0": "2",
                                    "1": "160",
                                    "2": "Trek Emonda SLR 6 - 2018",
                                    "3": "4",
                                    "4": "4499.99"
                                },
                                {
                                    "0": "2",
                                    "1": "162",
                                    "2": "Trek Emonda SL 6 Disc - 2018",
                                    "3": "18",
                                    "4": "2999.99"
                                },
                                {
                                    "0": "2",
                                    "1": "169",
                                    "2": "Trek Emonda SLR 8 - 2018",
                                    "3": "1",
                                    "4": "6499.99"
                                },
                                {
                                    "0": "2",
                                    "1": "172",
                                    "2": "Trek Domane ALR Disc Frameset - 2018",
                                    "3": "16",
                                    "4": "3199.99"
                                },
                                {
                                    "0": "2",
                                    "1": "173",
                                    "2": "Trek Domane ALR Frameset - 2018",
                                    "3": "17",
                                    "4": "3199.99"
                                },
                                {
                                    "0": "2",
                                    "1": "174",
                                    "2": "Trek Domane SLR Disc Frameset - 2018",
                                    "3": "8",
                                    "4": "3199.99"
                                },
                                {
                                    "0": "2",
                                    "1": "175",
                                    "2": "Trek Domane SLR Frameset - 2018",
                                    "3": "0",
                                    "4": "3199.99"
                                },
                                {
                                    "0": "2",
                                    "1": "177",
                                    "2": "Trek Domane SLR 6 Disc - 2018",
                                    "3": "9",
                                    "4": "5499.99"
                                },
                                {
                                    "0": "2",
                                    "1": "184",
                                    "2": "Trek Domane SL 6 Disc - 2018",
                                    "3": "0",
                                    "4": "3499.99"
                                },
                                {
                                    "0": "2",
                                    "1": "185",
                                    "2": "Trek Conduit+ - 2018",
                                    "3": "4",
                                    "4": "2799.99"
                                },
                                {
                                    "0": "2",
                                    "1": "186",
                                    "2": "Trek CrossRip+ - 2018",
                                    "3": "16",
                                    "4": "4499.99"
                                },
                                {
                                    "0": "2",
                                    "1": "187",
                                    "2": "Trek Neko+ - 2018",
                                    "3": "10",
                                    "4": "2799.99"
                                },
                                {
                                    "0": "2",
                                    "1": "189",
                                    "2": "Trek Lift+ Lowstep - 2018",
                                    "3": "13",
                                    "4": "2799.99"
                                },
                                {
                                    "0": "2",
                                    "1": "190",
                                    "2": "Trek Dual Sport+ - 2018",
                                    "3": "18",
                                    "4": "2799.99"
                                },
                                {
                                    "0": "2",
                                    "1": "191",
                                    "2": "Electra Loft Go! 8i - 2018",
                                    "3": "15",
                                    "4": "2799.99"
                                },
                                {
                                    "0": "2",
                                    "1": "192",
                                    "2": "Electra Townie Go! 8i - 2017/2018",
                                    "3": "0",
                                    "4": "2599.99"
                                },
                                {
                                    "0": "2",
                                    "1": "194",
                                    "2": "Trek XM700+ - 2018",
                                    "3": "15",
                                    "4": "3499.99"
                                },
                                {
                                    "0": "2",
                                    "1": "198",
                                    "2": "Electra Townie Commute Go! - 2018",
                                    "3": "0",
                                    "4": "2999.99"
                                },
                                {
                                    "0": "2",
                                    "1": "199",
                                    "2": "Electra Townie Commute Go! Ladies' - 2018",
                                    "3": "13",
                                    "4": "2999.99"
                                },
                                {
                                    "0": "2",
                                    "1": "200",
                                    "2": "Trek Powerfly 5 - 2018",
                                    "3": "11",
                                    "4": "3499.99"
                                },
                                {
                                    "0": "2",
                                    "1": "202",
                                    "2": "Trek Powerfly 5 Women's - 2018",
                                    "3": "1",
                                    "4": "3499.99"
                                },
                                {
                                    "0": "2",
                                    "1": "203",
                                    "2": "Trek Powerfly 7 FS - 2018",
                                    "3": "7",
                                    "4": "4999.99"
                                },
                                {
                                    "0": "2",
                                    "1": "205",
                                    "2": "Trek Super Commuter+ 8S - 2018",
                                    "3": "13",
                                    "4": "4999.99"
                                },
                                {
                                    "0": "2",
                                    "1": "206",
                                    "2": "Trek Boone 5 Disc - 2018",
                                    "3": "9",
                                    "4": "3299.99"
                                },
                                {
                                    "0": "2",
                                    "1": "207",
                                    "2": "Trek Boone 7 Disc - 2018",
                                    "3": "8",
                                    "4": "3999.99"
                                },
                                {
                                    "0": "2",
                                    "1": "209",
                                    "2": "Trek Crockett 7 Disc - 2018",
                                    "3": "11",
                                    "4": "2999.99"
                                },
                                {
                                    "0": "2",
                                    "1": "251",
                                    "2": "Electra Townie Commute Go! - 2018",
                                    "3": "0",
                                    "4": "2999.99"
                                },
                                {
                                    "0": "3",
                                    "1": "4",
                                    "2": "Trek Fuel EX 8 29 - 2016",
                                    "3": "11",
                                    "4": "2899.99"
                                },
                                {
                                    "0": "3",
                                    "1": "7",
                                    "2": "Trek Slash 8 27.5 - 2016",
                                    "3": "12",
                                    "4": "3999.99"
                                },
                                {
                                    "0": "3",
                                    "1": "40",
                                    "2": "Trek Fuel EX 9.8 29 - 2017",
                                    "3": "2",
                                    "4": "4999.99"
                                },
                                {
                                    "0": "3",
                                    "1": "47",
                                    "2": "Trek Remedy 9.8 - 2017",
                                    "3": "14",
                                    "4": "5299.99"
                                },
                                {
                                    "0": "3",
                                    "1": "49",
                                    "2": "Trek Domane SL 6 - 2017",
                                    "3": "4",
                                    "4": "3499.99"
                                },
                                {
                                    "0": "3",
                                    "1": "51",
                                    "2": "Trek Silque SLR 8 Women's - 2017",
                                    "3": "2",
                                    "4": "6499.99"
                                },
                                {
                                    "0": "3",
                                    "1": "54",
                                    "2": "Trek Domane SL Disc Frameset - 2017",
                                    "3": "13",
                                    "4": "3199.99"
                                },
                                {
                                    "0": "3",
                                    "1": "55",
                                    "2": "Trek Domane S 6 - 2017",
                                    "3": "5",
                                    "4": "2699.99"
                                },
                                {
                                    "0": "3",
                                    "1": "59",
                                    "2": "Trek Domane S 5 Disc - 2017",
                                    "3": "0",
                                    "4": "2599.99"
                                },
                                {
                                    "0": "3",
                                    "1": "62",
                                    "2": "Trek Boone 7 - 2017",
                                    "3": "4",
                                    "4": "3499.99"
                                },
                                {
                                    "0": "3",
                                    "1": "63",
                                    "2": "Trek Boone Race Shop Limited - 2017",
                                    "3": "8",
                                    "4": "3499.99"
                                },
                                {
                                    "0": "3",
                                    "1": "137",
                                    "2": "Heller Shagamaw GX1 - 2018",
                                    "3": "17",
                                    "4": "2599.00"
                                },
                                {
                                    "0": "3",
                                    "1": "140",
                                    "2": "Trek Remedy 9.8 27.5 - 2018",
                                    "3": "3",
                                    "4": "4999.99"
                                },
                                {
                                    "0": "3",
                                    "1": "146",
                                    "2": "Trek Domane SLR 6 - 2018",
                                    "3": "9",
                                    "4": "4999.99"
                                },
                                {
                                    "0": "3",
                                    "1": "148",
                                    "2": "Trek Domane SL 8 Disc - 2018",
                                    "3": "6",
                                    "4": "5499.99"
                                },
                                {
                                    "0": "3",
                                    "1": "149",
                                    "2": "Trek Domane SLR 8 Disc - 2018",
                                    "3": "1",
                                    "4": "7499.99"
                                },
                                {
                                    "0": "3",
                                    "1": "153",
                                    "2": "Trek Domane SL 7 Women's - 2018",
                                    "3": "7",
                                    "4": "4999.99"
                                },
                                {
                                    "0": "3",
                                    "1": "156",
                                    "2": "Trek Domane SL Frameset - 2018",
                                    "3": "14",
                                    "4": "6499.99"
                                },
                                {
                                    "0": "3",
                                    "1": "157",
                                    "2": "Trek Domane SL Frameset Women's - 2018",
                                    "3": "12",
                                    "4": "6499.99"
                                },
                                {
                                    "0": "3",
                                    "1": "162",
                                    "2": "Trek Emonda SL 6 Disc - 2018",
                                    "3": "11",
                                    "4": "2999.99"
                                },
                                {
                                    "0": "3",
                                    "1": "169",
                                    "2": "Trek Emonda SLR 8 - 2018",
                                    "3": "3",
                                    "4": "6499.99"
                                },
                                {
                                    "0": "3",
                                    "1": "171",
                                    "2": "Trek Domane SL 6 - 2018",
                                    "3": "11",
                                    "4": "3199.99"
                                },
                                {
                                    "0": "3",
                                    "1": "173",
                                    "2": "Trek Domane ALR Frameset - 2018",
                                    "3": "15",
                                    "4": "3199.99"
                                },
                                {
                                    "0": "3",
                                    "1": "174",
                                    "2": "Trek Domane SLR Disc Frameset - 2018",
                                    "3": "1",
                                    "4": "3199.99"
                                },
                                {
                                    "0": "3",
                                    "1": "175",
                                    "2": "Trek Domane SLR Frameset - 2018",
                                    "3": "3",
                                    "4": "3199.99"
                                },
                                {
                                    "0": "3",
                                    "1": "176",
                                    "2": "Trek Madone 9 Frameset - 2018",
                                    "3": "6",
                                    "4": "3199.99"
                                },
                                {
                                    "0": "3",
                                    "1": "177",
                                    "2": "Trek Domane SLR 6 Disc - 2018",
                                    "3": "2",
                                    "4": "5499.99"
                                },
                                {
                                    "0": "3",
                                    "1": "185",
                                    "2": "Trek Conduit+ - 2018",
                                    "3": "15",
                                    "4": "2799.99"
                                },
                                {
                                    "0": "3",
                                    "1": "187",
                                    "2": "Trek Neko+ - 2018",
                                    "3": "2",
                                    "4": "2799.99"
                                },
                                {
                                    "0": "3",
                                    "1": "192",
                                    "2": "Electra Townie Go! 8i - 2017/2018",
                                    "3": "10",
                                    "4": "2599.99"
                                },
                                {
                                    "0": "3",
                                    "1": "193",
                                    "2": "Trek Lift+ - 2018",
                                    "3": "5",
                                    "4": "2799.99"
                                },
                                {
                                    "0": "3",
                                    "1": "199",
                                    "2": "Electra Townie Commute Go! Ladies' - 2018",
                                    "3": "5",
                                    "4": "2999.99"
                                },
                                {
                                    "0": "3",
                                    "1": "202",
                                    "2": "Trek Powerfly 5 Women's - 2018",
                                    "3": "11",
                                    "4": "3499.99"
                                },
                                {
                                    "0": "3",
                                    "1": "203",
                                    "2": "Trek Powerfly 7 FS - 2018",
                                    "3": "6",
                                    "4": "4999.99"
                                },
                                {
                                    "0": "3",
                                    "1": "204",
                                    "2": "Trek Super Commuter+ 7 - 2018",
                                    "3": "16",
                                    "4": "3599.99"
                                },
                                {
                                    "0": "3",
                                    "1": "205",
                                    "2": "Trek Super Commuter+ 8S - 2018",
                                    "3": "3",
                                    "4": "4999.99"
                                },
                                {
                                    "0": "3",
                                    "1": "209",
                                    "2": "Trek Crockett 7 Disc - 2018",
                                    "3": "1",
                                    "4": "2999.99"
                                },
                                {
                                    "0": "3",
                                    "1": "250",
                                    "2": "Electra Townie Go! 8i - 2017/2018",
                                    "3": "16",
                                    "4": "2599.99"
                                },
                                {
                                    "0": "3",
                                    "1": "251",
                                    "2": "Electra Townie Commute Go! - 2018",
                                    "3": "10",
                                    "4": "2999.99"
                                },
                                {
                                    "0": "3",
                                    "1": "253",
                                    "2": "Electra Townie Go! 8i Ladies' - 2018",
                                    "3": "15",
                                    "4": "2599.99"
                                },
                                {
                                    "0": "3",
                                    "1": "303",
                                    "2": "Electra Townie Go! 8i - 2017/2018",
                                    "3": "13",
                                    "4": "2599.99"
                                }
                            ]
                        },
                        "text/html": "<table><tr><th>store_id</th><th>product_id</th><th>product_name</th><th>quantity</th><th>list_price</th></tr><tr><td>1</td><td>7</td><td>Trek Slash 8 27.5 - 2016</td><td>8</td><td>3999.99</td></tr><tr><td>1</td><td>9</td><td>Trek Conduit+ - 2016</td><td>11</td><td>2999.99</td></tr><tr><td>1</td><td>43</td><td>Trek Fuel EX 9.8 27.5 Plus - 2017</td><td>2</td><td>5299.99</td></tr><tr><td>1</td><td>49</td><td>Trek Domane SL 6 - 2017</td><td>8</td><td>3499.99</td></tr><tr><td>1</td><td>51</td><td>Trek Silque SLR 8 Women's - 2017</td><td>2</td><td>6499.99</td></tr><tr><td>1</td><td>54</td><td>Trek Domane SL Disc Frameset - 2017</td><td>11</td><td>3199.99</td></tr><tr><td>1</td><td>55</td><td>Trek Domane S 6 - 2017</td><td>11</td><td>2699.99</td></tr><tr><td>1</td><td>56</td><td>Trek Domane SLR 6 Disc - 2017</td><td>15</td><td>5499.99</td></tr><tr><td>1</td><td>58</td><td>Trek Madone 9.2 - 2017</td><td>1</td><td>4999.99</td></tr><tr><td>1</td><td>63</td><td>Trek Boone Race Shop Limited - 2017</td><td>4</td><td>3499.99</td></tr><tr><td>1</td><td>115</td><td>Trek Fuel EX 8 29 - 2018</td><td>10</td><td>3199.99</td></tr><tr><td>1</td><td>137</td><td>Heller Shagamaw GX1 - 2018</td><td>12</td><td>2599.00</td></tr><tr><td>1</td><td>139</td><td>Trek Remedy 7 27.5 - 2018</td><td>17</td><td>2999.99</td></tr><tr><td>1</td><td>140</td><td>Trek Remedy 9.8 27.5 - 2018</td><td>3</td><td>4999.99</td></tr><tr><td>1</td><td>146</td><td>Trek Domane SLR 6 - 2018</td><td>6</td><td>4999.99</td></tr><tr><td>1</td><td>148</td><td>Trek Domane SL 8 Disc - 2018</td><td>6</td><td>5499.99</td></tr><tr><td>1</td><td>149</td><td>Trek Domane SLR 8 Disc - 2018</td><td>1</td><td>7499.99</td></tr><tr><td>1</td><td>154</td><td>Trek Domane SLR 6 Disc Women's - 2018</td><td>13</td><td>5499.99</td></tr><tr><td>1</td><td>155</td><td>Trek Domane SLR 9 Disc - 2018</td><td>8</td><td>11999.99</td></tr><tr><td>1</td><td>156</td><td>Trek Domane SL Frameset - 2018</td><td>13</td><td>6499.99</td></tr><tr><td>1</td><td>160</td><td>Trek Emonda SLR 6 - 2018</td><td>0</td><td>4499.99</td></tr><tr><td>1</td><td>162</td><td>Trek Emonda SL 6 Disc - 2018</td><td>14</td><td>2999.99</td></tr><tr><td>1</td><td>171</td><td>Trek Domane SL 6 - 2018</td><td>3</td><td>3199.99</td></tr><tr><td>1</td><td>172</td><td>Trek Domane ALR Disc Frameset - 2018</td><td>3</td><td>3199.99</td></tr><tr><td>1</td><td>173</td><td>Trek Domane ALR Frameset - 2018</td><td>2</td><td>3199.99</td></tr><tr><td>1</td><td>175</td><td>Trek Domane SLR Frameset - 2018</td><td>2</td><td>3199.99</td></tr><tr><td>1</td><td>176</td><td>Trek Madone 9 Frameset - 2018</td><td>11</td><td>3199.99</td></tr><tr><td>1</td><td>184</td><td>Trek Domane SL 6 Disc - 2018</td><td>4</td><td>3499.99</td></tr><tr><td>1</td><td>185</td><td>Trek Conduit+ - 2018</td><td>3</td><td>2799.99</td></tr><tr><td>1</td><td>186</td><td>Trek CrossRip+ - 2018</td><td>1</td><td>4499.99</td></tr><tr><td>1</td><td>187</td><td>Trek Neko+ - 2018</td><td>16</td><td>2799.99</td></tr><tr><td>1</td><td>189</td><td>Trek Lift+ Lowstep - 2018</td><td>6</td><td>2799.99</td></tr><tr><td>1</td><td>195</td><td>Electra Townie Go! 8i Ladies' - 2018</td><td>1</td><td>2599.99</td></tr><tr><td>1</td><td>198</td><td>Electra Townie Commute Go! - 2018</td><td>1</td><td>2999.99</td></tr><tr><td>1</td><td>199</td><td>Electra Townie Commute Go! Ladies' - 2018</td><td>2</td><td>2999.99</td></tr><tr><td>1</td><td>201</td><td>Trek Powerfly 5 FS - 2018</td><td>16</td><td>4499.99</td></tr><tr><td>1</td><td>202</td><td>Trek Powerfly 5 Women's - 2018</td><td>5</td><td>3499.99</td></tr><tr><td>1</td><td>203</td><td>Trek Powerfly 7 FS - 2018</td><td>4</td><td>4999.99</td></tr><tr><td>1</td><td>205</td><td>Trek Super Commuter+ 8S - 2018</td><td>9</td><td>4999.99</td></tr><tr><td>1</td><td>206</td><td>Trek Boone 5 Disc - 2018</td><td>10</td><td>3299.99</td></tr><tr><td>1</td><td>250</td><td>Electra Townie Go! 8i - 2017/2018</td><td>3</td><td>2599.99</td></tr><tr><td>1</td><td>251</td><td>Electra Townie Commute Go! - 2018</td><td>2</td><td>2999.99</td></tr><tr><td>1</td><td>253</td><td>Electra Townie Go! 8i Ladies' - 2018</td><td>16</td><td>2599.99</td></tr><tr><td>1</td><td>303</td><td>Electra Townie Go! 8i - 2017/2018</td><td>12</td><td>2599.99</td></tr><tr><td>2</td><td>4</td><td>Trek Fuel EX 8 29 - 2016</td><td>2</td><td>2899.99</td></tr><tr><td>2</td><td>7</td><td>Trek Slash 8 27.5 - 2016</td><td>8</td><td>3999.99</td></tr><tr><td>2</td><td>9</td><td>Trek Conduit+ - 2016</td><td>17</td><td>2999.99</td></tr><tr><td>2</td><td>40</td><td>Trek Fuel EX 9.8 29 - 2017</td><td>15</td><td>4999.99</td></tr><tr><td>2</td><td>43</td><td>Trek Fuel EX 9.8 27.5 Plus - 2017</td><td>2</td><td>5299.99</td></tr><tr><td>2</td><td>47</td><td>Trek Remedy 9.8 - 2017</td><td>0</td><td>5299.99</td></tr><tr><td>2</td><td>49</td><td>Trek Domane SL 6 - 2017</td><td>4</td><td>3499.99</td></tr><tr><td>2</td><td>50</td><td>Trek Silque SLR 7 Women's - 2017</td><td>7</td><td>5999.99</td></tr><tr><td>2</td><td>51</td><td>Trek Silque SLR 8 Women's - 2017</td><td>8</td><td>6499.99</td></tr><tr><td>2</td><td>54</td><td>Trek Domane SL Disc Frameset - 2017</td><td>6</td><td>3199.99</td></tr><tr><td>2</td><td>55</td><td>Trek Domane S 6 - 2017</td><td>5</td><td>2699.99</td></tr><tr><td>2</td><td>58</td><td>Trek Madone 9.2 - 2017</td><td>15</td><td>4999.99</td></tr><tr><td>2</td><td>59</td><td>Trek Domane S 5 Disc - 2017</td><td>17</td><td>2599.99</td></tr><tr><td>2</td><td>62</td><td>Trek Boone 7 - 2017</td><td>4</td><td>3499.99</td></tr><tr><td>2</td><td>63</td><td>Trek Boone Race Shop Limited - 2017</td><td>5</td><td>3499.99</td></tr><tr><td>2</td><td>131</td><td>Heller Bloodhound Trail - 2018</td><td>9</td><td>2599.00</td></tr><tr><td>2</td><td>137</td><td>Heller Shagamaw GX1 - 2018</td><td>1</td><td>2599.00</td></tr><tr><td>2</td><td>140</td><td>Trek Remedy 9.8 27.5 - 2018</td><td>13</td><td>4999.99</td></tr><tr><td>2</td><td>146</td><td>Trek Domane SLR 6 - 2018</td><td>3</td><td>4999.99</td></tr><tr><td>2</td><td>150</td><td>Trek Emonda SL 7 - 2018</td><td>7</td><td>4499.99</td></tr><tr><td>2</td><td>154</td><td>Trek Domane SLR 6 Disc Women's - 2018</td><td>9</td><td>5499.99</td></tr><tr><td>2</td><td>156</td><td>Trek Domane SL Frameset - 2018</td><td>8</td><td>6499.99</td></tr><tr><td>2</td><td>160</td><td>Trek Emonda SLR 6 - 2018</td><td>4</td><td>4499.99</td></tr><tr><td>2</td><td>162</td><td>Trek Emonda SL 6 Disc - 2018</td><td>18</td><td>2999.99</td></tr><tr><td>2</td><td>169</td><td>Trek Emonda SLR 8 - 2018</td><td>1</td><td>6499.99</td></tr><tr><td>2</td><td>172</td><td>Trek Domane ALR Disc Frameset - 2018</td><td>16</td><td>3199.99</td></tr><tr><td>2</td><td>173</td><td>Trek Domane ALR Frameset - 2018</td><td>17</td><td>3199.99</td></tr><tr><td>2</td><td>174</td><td>Trek Domane SLR Disc Frameset - 2018</td><td>8</td><td>3199.99</td></tr><tr><td>2</td><td>175</td><td>Trek Domane SLR Frameset - 2018</td><td>0</td><td>3199.99</td></tr><tr><td>2</td><td>177</td><td>Trek Domane SLR 6 Disc - 2018</td><td>9</td><td>5499.99</td></tr><tr><td>2</td><td>184</td><td>Trek Domane SL 6 Disc - 2018</td><td>0</td><td>3499.99</td></tr><tr><td>2</td><td>185</td><td>Trek Conduit+ - 2018</td><td>4</td><td>2799.99</td></tr><tr><td>2</td><td>186</td><td>Trek CrossRip+ - 2018</td><td>16</td><td>4499.99</td></tr><tr><td>2</td><td>187</td><td>Trek Neko+ - 2018</td><td>10</td><td>2799.99</td></tr><tr><td>2</td><td>189</td><td>Trek Lift+ Lowstep - 2018</td><td>13</td><td>2799.99</td></tr><tr><td>2</td><td>190</td><td>Trek Dual Sport+ - 2018</td><td>18</td><td>2799.99</td></tr><tr><td>2</td><td>191</td><td>Electra Loft Go! 8i - 2018</td><td>15</td><td>2799.99</td></tr><tr><td>2</td><td>192</td><td>Electra Townie Go! 8i - 2017/2018</td><td>0</td><td>2599.99</td></tr><tr><td>2</td><td>194</td><td>Trek XM700+ - 2018</td><td>15</td><td>3499.99</td></tr><tr><td>2</td><td>198</td><td>Electra Townie Commute Go! - 2018</td><td>0</td><td>2999.99</td></tr><tr><td>2</td><td>199</td><td>Electra Townie Commute Go! Ladies' - 2018</td><td>13</td><td>2999.99</td></tr><tr><td>2</td><td>200</td><td>Trek Powerfly 5 - 2018</td><td>11</td><td>3499.99</td></tr><tr><td>2</td><td>202</td><td>Trek Powerfly 5 Women's - 2018</td><td>1</td><td>3499.99</td></tr><tr><td>2</td><td>203</td><td>Trek Powerfly 7 FS - 2018</td><td>7</td><td>4999.99</td></tr><tr><td>2</td><td>205</td><td>Trek Super Commuter+ 8S - 2018</td><td>13</td><td>4999.99</td></tr><tr><td>2</td><td>206</td><td>Trek Boone 5 Disc - 2018</td><td>9</td><td>3299.99</td></tr><tr><td>2</td><td>207</td><td>Trek Boone 7 Disc - 2018</td><td>8</td><td>3999.99</td></tr><tr><td>2</td><td>209</td><td>Trek Crockett 7 Disc - 2018</td><td>11</td><td>2999.99</td></tr><tr><td>2</td><td>251</td><td>Electra Townie Commute Go! - 2018</td><td>0</td><td>2999.99</td></tr><tr><td>3</td><td>4</td><td>Trek Fuel EX 8 29 - 2016</td><td>11</td><td>2899.99</td></tr><tr><td>3</td><td>7</td><td>Trek Slash 8 27.5 - 2016</td><td>12</td><td>3999.99</td></tr><tr><td>3</td><td>40</td><td>Trek Fuel EX 9.8 29 - 2017</td><td>2</td><td>4999.99</td></tr><tr><td>3</td><td>47</td><td>Trek Remedy 9.8 - 2017</td><td>14</td><td>5299.99</td></tr><tr><td>3</td><td>49</td><td>Trek Domane SL 6 - 2017</td><td>4</td><td>3499.99</td></tr><tr><td>3</td><td>51</td><td>Trek Silque SLR 8 Women's - 2017</td><td>2</td><td>6499.99</td></tr><tr><td>3</td><td>54</td><td>Trek Domane SL Disc Frameset - 2017</td><td>13</td><td>3199.99</td></tr><tr><td>3</td><td>55</td><td>Trek Domane S 6 - 2017</td><td>5</td><td>2699.99</td></tr><tr><td>3</td><td>59</td><td>Trek Domane S 5 Disc - 2017</td><td>0</td><td>2599.99</td></tr><tr><td>3</td><td>62</td><td>Trek Boone 7 - 2017</td><td>4</td><td>3499.99</td></tr><tr><td>3</td><td>63</td><td>Trek Boone Race Shop Limited - 2017</td><td>8</td><td>3499.99</td></tr><tr><td>3</td><td>137</td><td>Heller Shagamaw GX1 - 2018</td><td>17</td><td>2599.00</td></tr><tr><td>3</td><td>140</td><td>Trek Remedy 9.8 27.5 - 2018</td><td>3</td><td>4999.99</td></tr><tr><td>3</td><td>146</td><td>Trek Domane SLR 6 - 2018</td><td>9</td><td>4999.99</td></tr><tr><td>3</td><td>148</td><td>Trek Domane SL 8 Disc - 2018</td><td>6</td><td>5499.99</td></tr><tr><td>3</td><td>149</td><td>Trek Domane SLR 8 Disc - 2018</td><td>1</td><td>7499.99</td></tr><tr><td>3</td><td>153</td><td>Trek Domane SL 7 Women's - 2018</td><td>7</td><td>4999.99</td></tr><tr><td>3</td><td>156</td><td>Trek Domane SL Frameset - 2018</td><td>14</td><td>6499.99</td></tr><tr><td>3</td><td>157</td><td>Trek Domane SL Frameset Women's - 2018</td><td>12</td><td>6499.99</td></tr><tr><td>3</td><td>162</td><td>Trek Emonda SL 6 Disc - 2018</td><td>11</td><td>2999.99</td></tr><tr><td>3</td><td>169</td><td>Trek Emonda SLR 8 - 2018</td><td>3</td><td>6499.99</td></tr><tr><td>3</td><td>171</td><td>Trek Domane SL 6 - 2018</td><td>11</td><td>3199.99</td></tr><tr><td>3</td><td>173</td><td>Trek Domane ALR Frameset - 2018</td><td>15</td><td>3199.99</td></tr><tr><td>3</td><td>174</td><td>Trek Domane SLR Disc Frameset - 2018</td><td>1</td><td>3199.99</td></tr><tr><td>3</td><td>175</td><td>Trek Domane SLR Frameset - 2018</td><td>3</td><td>3199.99</td></tr><tr><td>3</td><td>176</td><td>Trek Madone 9 Frameset - 2018</td><td>6</td><td>3199.99</td></tr><tr><td>3</td><td>177</td><td>Trek Domane SLR 6 Disc - 2018</td><td>2</td><td>5499.99</td></tr><tr><td>3</td><td>185</td><td>Trek Conduit+ - 2018</td><td>15</td><td>2799.99</td></tr><tr><td>3</td><td>187</td><td>Trek Neko+ - 2018</td><td>2</td><td>2799.99</td></tr><tr><td>3</td><td>192</td><td>Electra Townie Go! 8i - 2017/2018</td><td>10</td><td>2599.99</td></tr><tr><td>3</td><td>193</td><td>Trek Lift+ - 2018</td><td>5</td><td>2799.99</td></tr><tr><td>3</td><td>199</td><td>Electra Townie Commute Go! Ladies' - 2018</td><td>5</td><td>2999.99</td></tr><tr><td>3</td><td>202</td><td>Trek Powerfly 5 Women's - 2018</td><td>11</td><td>3499.99</td></tr><tr><td>3</td><td>203</td><td>Trek Powerfly 7 FS - 2018</td><td>6</td><td>4999.99</td></tr><tr><td>3</td><td>204</td><td>Trek Super Commuter+ 7 - 2018</td><td>16</td><td>3599.99</td></tr><tr><td>3</td><td>205</td><td>Trek Super Commuter+ 8S - 2018</td><td>3</td><td>4999.99</td></tr><tr><td>3</td><td>209</td><td>Trek Crockett 7 Disc - 2018</td><td>1</td><td>2999.99</td></tr><tr><td>3</td><td>250</td><td>Electra Townie Go! 8i - 2017/2018</td><td>16</td><td>2599.99</td></tr><tr><td>3</td><td>251</td><td>Electra Townie Commute Go! - 2018</td><td>10</td><td>2999.99</td></tr><tr><td>3</td><td>253</td><td>Electra Townie Go! 8i Ladies' - 2018</td><td>15</td><td>2599.99</td></tr><tr><td>3</td><td>303</td><td>Electra Townie Go! 8i - 2017/2018</td><td>13</td><td>2599.99</td></tr></table>"
                    },
                    "metadata": {}
                }
            ],
            "execution_count": 11
        }
    ]
}