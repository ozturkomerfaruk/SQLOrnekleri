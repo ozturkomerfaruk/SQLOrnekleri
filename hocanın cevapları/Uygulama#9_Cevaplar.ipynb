{
    "metadata": {
        "kernelspec": {
            "name": "SQL",
            "display_name": "SQL",
            "language": "sql"
        },
        "language_info": {
            "name": "sql",
            "version": ""
        }
    },
    "nbformat_minor": 2,
    "nbformat": 4,
    "cells": [
        {
            "cell_type": "markdown",
            "source": [
                "**VERİ TABANI YÖNETİM SİSTEMLERİ LAB UYGULAMA 9**\n",
                "\n",
                "**Not**: Prelab dokümanında verilen veri tabanını oluşturduktan sonra aşağıda verilen sorulara uygun SQL kodlarını yazınız.  \n",
                "Yazdığınız kodları <u>yorumlarınızla</u> açıklayınız. \n",
                "\n",
                "ESUZEM'de açılan yere bu dosyayı \"OgrNo\\_AdSoyad\\_UygNo.ipynb\" dosya adı ile beraber yükleyiniz.\n",
                "\n",
                "Örnek dosya adı : <span style=\"color:red;font-size:14pt;\">152120181000_ZekeriyyaDemirci_Uyg9.ipynb</span>"
            ],
            "metadata": {
                "azdata_cell_guid": "57161e9c-4158-450a-8a9b-e55e14e1b033"
            },
            "attachments": {}
        },
        {
            "cell_type": "code",
            "source": [
                "/*\r\n",
                "-- SORUYA HAZIRLIK --\r\n",
                "Uygulama 8'de oluşturulan \"VtysLabDB\" veritabanı mevcutta veri tabanınınzda yoksa aşağıdaki gibi oluşturunuz.\r\n",
                "*/\r\n",
                "CREATE DATABASE VtysLabDB"
            ],
            "metadata": {
                "azdata_cell_guid": "55aea5cd-0aab-4276-8ae9-ade2c6811e48",
                "tags": []
            },
            "outputs": [
                {
                    "output_type": "error",
                    "evalue": "Msg 1801, Level 16, State 3, Line 5\r\nDatabase 'VtysLabDB' already exists. Choose a different database name.",
                    "ename": "",
                    "traceback": []
                },
                {
                    "output_type": "display_data",
                    "data": {
                        "text/html": "Total execution time: 00:00:00.001"
                    },
                    "metadata": {}
                }
            ],
            "execution_count": 2
        },
        {
            "cell_type": "code",
            "source": [
                "/*\r\n",
                "-- SORUYA HAZIRLIK --\r\n",
                "VtysLabDB veri tabanında ilgili tabloları oluşturmak için kullanınız.\r\n",
                "*/\r\n",
                "USE VtysLabDB\r\n",
                "\r\n",
                "CREATE TABLE tblCustomer\r\n",
                "(\r\n",
                "    customerID INT IDENTITY PRIMARY KEY,\r\n",
                "    firs_name VARCHAR(20) NOT NULL,\r\n",
                "    last_name VARCHAR(20) DEFAULT 'NotSpecified',\r\n",
                "    age INT NOT NULL,\r\n",
                "    CONSTRAINT CHC_CustomerAge CHECK (age>=18)\r\n",
                ")\r\n",
                "\r\n",
                "INSERT INTO tblCustomer(firs_name,last_name,age) \r\n",
                "VALUES\r\n",
                "('Debra','Burks',24),\r\n",
                "('Kasha','Todd',36),\r\n",
                "('Robby','Sykes',22)\r\n",
                "\r\n",
                "\r\n",
                "CREATE TABLE tblProduct\r\n",
                "(\r\n",
                "    productID INT IDENTITY PRIMARY KEY,\r\n",
                "    product_name VARCHAR(255) NOT NULL,\r\n",
                "    price FLOAT NOT NULL,\r\n",
                "    CONSTRAINT CHC_ProductPrice CHECK (price>0)\r\n",
                ")\r\n",
                "\r\n",
                "INSERT INTO tblProduct (product_name,price)\r\n",
                "VALUES\r\n",
                "('Surly Straggler',12.5),\r\n",
                "('Electra Townie Original',10),\r\n",
                "('Pure Cycles William',5)\r\n",
                "\r\n",
                "\r\n",
                "CREATE TABLE tblOrder\r\n",
                "(\r\n",
                "    orderID INT IDENTITY PRIMARY KEY,\r\n",
                "    productID INT,\r\n",
                "    customerID INT,\r\n",
                "    CONSTRAINT FK_ProductOrder FOREIGN KEY (productID) REFERENCES tblProduct(productID),\r\n",
                "    CONSTRAINT FK_CustomertOrder FOREIGN KEY (customerID) REFERENCES tblCustomer(customerID)\r\n",
                ")\r\n",
                "\r\n",
                ""
            ],
            "metadata": {
                "azdata_cell_guid": "53075f9d-f3a1-4e15-abbb-73d880086e08"
            },
            "outputs": [
                {
                    "output_type": "display_data",
                    "data": {
                        "text/html": "(3 rows affected)"
                    },
                    "metadata": {}
                },
                {
                    "output_type": "display_data",
                    "data": {
                        "text/html": "(3 rows affected)"
                    },
                    "metadata": {}
                },
                {
                    "output_type": "display_data",
                    "data": {
                        "text/html": "Total execution time: 00:00:00.012"
                    },
                    "metadata": {}
                }
            ],
            "execution_count": 3
        },
        {
            "cell_type": "code",
            "source": [
                "/*\r\n",
                "-- SORUYA HAZIRLIK --\r\n",
                "\"tblOrder\" tablosuna aşağıdaki 5 adet kayıt ekleyiniz. \r\n",
                "*/  \r\n",
                "use VtysLabDB\r\n",
                "\r\n",
                "INSERT INTO tblOrder (customerID,productID)\r\n",
                "VALUES\r\n",
                "(1,1),\r\n",
                "(1,2),\r\n",
                "(1,3),\r\n",
                "(2,1),\r\n",
                "(2,2),\r\n",
                "(2,3),\r\n",
                "(3,1),\r\n",
                "(3,2),\r\n",
                "(3,3)"
            ],
            "metadata": {
                "azdata_cell_guid": "8d83caf4-a680-44e0-9560-5072970519b4"
            },
            "outputs": [
                {
                    "output_type": "display_data",
                    "data": {
                        "text/html": "(9 rows affected)"
                    },
                    "metadata": {}
                },
                {
                    "output_type": "display_data",
                    "data": {
                        "text/html": "Total execution time: 00:00:00.015"
                    },
                    "metadata": {}
                }
            ],
            "execution_count": 4
        },
        {
            "cell_type": "code",
            "source": [
                "/*\r\n",
                "(15p) Soru 1 : \"TRG_CustomerCount\" adında bir trigger oluşturunuz. Bu trigger \"tblcustomer\" tablosuna kayıt eklendikten sonra toplam müşteri(customer) sayısı \"countOfCustomer\" adıyla ekrana yazdırsın.\r\n",
                "*/  \r\n",
                "\r\n",
                "CREATE TRIGGER TRG_CustomerCount ON tblCustomer\r\n",
                "AFTER INSERT\r\n",
                "AS \r\n",
                "BEGIN\r\n",
                "SELECT count(*) as countOfCustomer FROM tblCustomer\r\n",
                "END\r\n",
                "\r\n",
                "/* \r\n",
                "YORUMLARINIZI YAZINIZ\r\n",
                ".\r\n",
                ".\r\n",
                ".\r\n",
                "*/"
            ],
            "metadata": {
                "azdata_cell_guid": "c6303b08-0c5f-4796-9edc-e2dca5d45be9"
            },
            "outputs": [
                {
                    "output_type": "display_data",
                    "data": {
                        "text/html": "Commands completed successfully."
                    },
                    "metadata": {}
                },
                {
                    "output_type": "display_data",
                    "data": {
                        "text/html": "Total execution time: 00:00:00.004"
                    },
                    "metadata": {}
                }
            ],
            "execution_count": 5
        },
        {
            "cell_type": "code",
            "source": [
                "/* SORU 1 İLE BAĞIMLIDIR. SORU 1 YAPILMADIĞI TAKTİRDE PUANLAMA OLMAYACAKTIR.\r\n",
                "(5p) Soru 2 : Aşağıda verilen kaydı \"tblCustomer\" tablosuna ekleyiniz. Aldığınız sonucu MUTLAKA açıklayınız.\r\n",
                "*/  \r\n",
                "\r\n",
                "use VtysLabDB\r\n",
                "\r\n",
                "INSERT INTO tblCustomer(firs_name,last_name,age) \r\n",
                "VALUES\r\n",
                "('Melia','Korly',42)\r\n",
                "\r\n",
                "\r\n",
                "/* \r\n",
                "YORUMLARINIZI YAZINIZ\r\n",
                ".\r\n",
                ".\r\n",
                ".\r\n",
                "*/"
            ],
            "metadata": {
                "azdata_cell_guid": "d00a828e-a80d-4682-b4bb-c969d64344ce"
            },
            "outputs": [
                {
                    "output_type": "display_data",
                    "data": {
                        "text/html": "(1 row affected)"
                    },
                    "metadata": {}
                },
                {
                    "output_type": "display_data",
                    "data": {
                        "text/html": "(1 row affected)"
                    },
                    "metadata": {}
                },
                {
                    "output_type": "display_data",
                    "data": {
                        "text/html": "Total execution time: 00:00:00.433"
                    },
                    "metadata": {}
                },
                {
                    "output_type": "execute_result",
                    "metadata": {},
                    "execution_count": 6,
                    "data": {
                        "application/vnd.dataresource+json": {
                            "schema": {
                                "fields": [
                                    {
                                        "name": "countOfCustomer"
                                    }
                                ]
                            },
                            "data": [
                                {
                                    "0": "4"
                                }
                            ]
                        },
                        "text/html": [
                            "<table>",
                            "<tr><th>countOfCustomer</th></tr>",
                            "<tr><td>4</td></tr>",
                            "</table>"
                        ]
                    }
                }
            ],
            "execution_count": 6
        },
        {
            "cell_type": "code",
            "source": [
                "/*\r\n",
                "(15p) Soru 3 : \"TRG_DeletedProduct\" adında bir trigger oluşturunuz. Bu trigger \"tblProduct\" tablosundan bir kayıt silindikten sonra silinen kaydı ekrana yazdırsın.\r\n",
                "*/  \r\n",
                "\r\n",
                "CREATE TRIGGER TRG_DeletedProduct ON tblProduct\r\n",
                "AFTER DELETE\r\n",
                "AS \r\n",
                "BEGIN\r\n",
                "SELECT * FROM DELETED\r\n",
                "END\r\n",
                "\r\n",
                "/* \r\n",
                "YORUMLARINIZI YAZINIZ\r\n",
                ".\r\n",
                ".\r\n",
                ".\r\n",
                "*/"
            ],
            "metadata": {
                "azdata_cell_guid": "bc1c12a0-6562-4295-9b1e-83fd8efa503b"
            },
            "outputs": [
                {
                    "output_type": "display_data",
                    "data": {
                        "text/html": "Commands completed successfully."
                    },
                    "metadata": {}
                },
                {
                    "output_type": "display_data",
                    "data": {
                        "text/html": "Total execution time: 00:00:00.004"
                    },
                    "metadata": {}
                }
            ],
            "execution_count": 7
        },
        {
            "cell_type": "code",
            "source": [
                "/* SORU 3 İLE BAĞIMLIDIR. SORU 3 YAPILMADIĞI TAKTİRDE PUANLAMA OLMAYACAKTIR.\r\n",
                "(25p) Soru 4 : \"tblProduct\" tablosundan sizin belirlediğiniz bir kaydı siliniz. Bu süreçte karşınıza çıkan hatalara uygun çözümler üreterek tablodan kaydı silin. \r\n",
                "                Aldığınız hatayı, nedenini ve çözümünüzü MUTLAKA yorumda yazınız. Aksi halde puan verilmeyecektir.\r\n",
                "\r\n",
                "*/  \r\n",
                "\r\n",
                "ALTER TABLE tblOrder\r\n",
                "DROP CONSTRAINT FK_ProductOrder\r\n",
                "\r\n",
                "ALTER TABLE tblOrder\r\n",
                "ADD CONSTRAINT FK_ProductOrder FOREIGN KEY (productID) REFERENCES tblProduct(productID) ON DELETE CASCADE\r\n",
                "\r\n",
                "DELETE FROM tblProduct WHERE productID=2;\r\n",
                "\r\n",
                "/* \r\n",
                "YORUMLARINIZI YAZINIZ\r\n",
                ".\r\n",
                ".\r\n",
                ".\r\n",
                "*/"
            ],
            "metadata": {
                "azdata_cell_guid": "151fd782-f2c7-4d0e-a485-59e82d8374dc"
            },
            "outputs": [
                {
                    "output_type": "display_data",
                    "data": {
                        "text/html": "(1 row affected)"
                    },
                    "metadata": {}
                },
                {
                    "output_type": "display_data",
                    "data": {
                        "text/html": "(1 row affected)"
                    },
                    "metadata": {}
                },
                {
                    "output_type": "display_data",
                    "data": {
                        "text/html": "Total execution time: 00:00:00.049"
                    },
                    "metadata": {}
                },
                {
                    "output_type": "execute_result",
                    "metadata": {},
                    "execution_count": 8,
                    "data": {
                        "application/vnd.dataresource+json": {
                            "schema": {
                                "fields": [
                                    {
                                        "name": "productID"
                                    },
                                    {
                                        "name": "product_name"
                                    },
                                    {
                                        "name": "price"
                                    }
                                ]
                            },
                            "data": [
                                {
                                    "0": "2",
                                    "1": "Electra Townie Original",
                                    "2": "10"
                                }
                            ]
                        },
                        "text/html": [
                            "<table>",
                            "<tr><th>productID</th><th>product_name</th><th>price</th></tr>",
                            "<tr><td>2</td><td>Electra Townie Original</td><td>10</td></tr>",
                            "</table>"
                        ]
                    }
                }
            ],
            "execution_count": 8
        },
        {
            "cell_type": "code",
            "source": [
                "/*\r\n",
                "-- SORUYA HAZIRLIK --\r\n",
                "Aşağıda verilen şekilde tabloyu oluşturunuz. Bu tabloyu bir sonraki soruda \"silinen siparişleri(order) saklamak için kullanacağız.\"\r\n",
                "         - Tablo adı : tblLoss\r\n",
                "         - Kolonlar  :\r\n",
                "                        - lossID       : Integer veri tipindedir. Primary KEY olarak kullanılacaktır. Otomatik olarak artış gösterir.\r\n",
                "                        - orderID      : Integer veri tipindedir. \r\n",
                "                        - productID    : Integer veri tipindedir.\r\n",
                "                        - product_name : Varchar(255) veri tipindedir. NULL olmasına izin verilmez.\r\n",
                "                        - price        : Float veri tipindedir. NULL olmasına izin verilmez.\r\n",
                "*/  \r\n",
                "\r\n",
                "CREATE TABLE tblLoss\r\n",
                "(\r\n",
                "    lossID INT IDENTITY PRIMARY KEY,\r\n",
                "    orderID INT,\r\n",
                "    productID INT,\r\n",
                "    product_name VARCHAR(255) NOT NULL,\r\n",
                "    price FLOAT NOT NULL\r\n",
                ")"
            ],
            "metadata": {
                "azdata_cell_guid": "1f8a5357-4118-4ef2-aeb8-d8594a743466"
            },
            "outputs": [
                {
                    "output_type": "display_data",
                    "data": {
                        "text/html": "Commands completed successfully."
                    },
                    "metadata": {}
                },
                {
                    "output_type": "display_data",
                    "data": {
                        "text/html": "Total execution time: 00:00:00.004"
                    },
                    "metadata": {}
                }
            ],
            "execution_count": 9
        },
        {
            "cell_type": "code",
            "source": [
                "/*\r\n",
                "(35p) Soru 5 : \"TRG_DeletedOrder\" adında bir trigger oluşturunuz. Bu trigger \"tblOrder\" tablosundan bir kayıt silindikten sonra aşağıda belirtilen görevleri yerine getirmelidir.\r\n",
                "                - \"tblOrder\" tablosundan silinen kaydı \"tblLoss\" tablosuna kaydedecektir. \"tblLoss\" tablosundaki kolonlara dikkat ediniz.\r\n",
                "                - \"tblLoss\"  tablosundaki kayıtların ürün bazında toplam fiyatını(price) \"totalPriceLoss\" adıyla ekrana yazdıracaktır. (Hangi üründen kaç liralık sipariş silinmiştir? )\r\n",
                "*/  \r\n",
                "\r\n",
                "CREATE TRIGGER TRG_DeletedOrder ON tblOrder\r\n",
                "AFTER DELETE\r\n",
                "AS \r\n",
                "BEGIN\r\n",
                "\r\n",
                "DECLARE @oID INT\r\n",
                "DECLARE @pID INT\r\n",
                "DECLARE @pName VARCHAR(255)\r\n",
                "DECLARE @price FLOAT\r\n",
                "\r\n",
                "SELECT @oID=orderID, @pID=productID FROM DELETED\r\n",
                "SELECT @pName=product_name, @price=price FROM tblProduct WHERE productID=@pID\r\n",
                "\r\n",
                "INSERT INTO tblLoss(orderID,productID,product_name,price)\r\n",
                "VALUES (@oID,@pID,@pName,@price)\r\n",
                "\r\n",
                "SELECT SUM(price) as totalPriceLoss FROM tblLoss GROUP BY productID\r\n",
                "\r\n",
                "END\r\n",
                "\r\n",
                "/* \r\n",
                "YORUMLARINIZI YAZINIZ\r\n",
                ".\r\n",
                ".\r\n",
                ".\r\n",
                "*/"
            ],
            "metadata": {
                "azdata_cell_guid": "288c04e8-a19a-4cee-a9ec-a04510bf4b0a"
            },
            "outputs": [
                {
                    "output_type": "display_data",
                    "data": {
                        "text/html": "Commands completed successfully."
                    },
                    "metadata": {}
                },
                {
                    "output_type": "display_data",
                    "data": {
                        "text/html": "Total execution time: 00:00:00.007"
                    },
                    "metadata": {}
                }
            ],
            "execution_count": 10
        },
        {
            "cell_type": "code",
            "source": [
                "/* SORU 5 İLE BAĞIMLIDIR. SORU 5 YAPILMADIĞI TAKTİRDE PUANLAMA OLMAYACAKTIR.\r\n",
                "(5p) Soru 6 : \"tblOrder\" tablosundan sizin belirlediğiniz en az 2 farklı siparişi siliniz. Bu siparişler farklı ürünler için olmalıdır. Sonucu yorumda açıklayınız. \r\n",
                "\r\n",
                "*/\r\n",
                "\r\n",
                "DELETE FROM tblOrder WHERE orderID=1;\r\n",
                "\r\n",
                "/* \r\n",
                "YORUMLARINIZI YAZINIZ\r\n",
                ".\r\n",
                ".\r\n",
                ".\r\n",
                "*/\r\n",
                ""
            ],
            "metadata": {
                "azdata_cell_guid": "9bf059a7-26db-4820-833b-0e57d4dd1e75"
            },
            "outputs": [
                {
                    "output_type": "display_data",
                    "data": {
                        "text/html": "(1 row affected)"
                    },
                    "metadata": {}
                },
                {
                    "output_type": "display_data",
                    "data": {
                        "text/html": "(1 row affected)"
                    },
                    "metadata": {}
                },
                {
                    "output_type": "display_data",
                    "data": {
                        "text/html": "(1 row affected)"
                    },
                    "metadata": {}
                },
                {
                    "output_type": "display_data",
                    "data": {
                        "text/html": "Total execution time: 00:00:00.020"
                    },
                    "metadata": {}
                },
                {
                    "output_type": "execute_result",
                    "metadata": {},
                    "execution_count": 11,
                    "data": {
                        "application/vnd.dataresource+json": {
                            "schema": {
                                "fields": [
                                    {
                                        "name": "totalPriceLoss"
                                    }
                                ]
                            },
                            "data": [
                                {
                                    "0": "12.5"
                                }
                            ]
                        },
                        "text/html": [
                            "<table>",
                            "<tr><th>totalPriceLoss</th></tr>",
                            "<tr><td>12.5</td></tr>",
                            "</table>"
                        ]
                    }
                }
            ],
            "execution_count": 11
        }
    ]
}